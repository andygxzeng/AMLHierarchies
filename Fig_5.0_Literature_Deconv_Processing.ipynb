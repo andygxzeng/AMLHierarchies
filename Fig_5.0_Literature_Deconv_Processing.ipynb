{
 "cells": [
  {
   "cell_type": "markdown",
   "metadata": {},
   "source": [
    "# Literature Deconvolution - Pre-Processing"
   ]
  },
  {
   "cell_type": "code",
   "execution_count": null,
   "metadata": {},
   "outputs": [],
   "source": [
    "import sys \n",
    "%load_ext rpy2.ipython\n",
    "from IPython.core.display import display, HTML\n",
    "display(HTML(\"<style>.container { width:90% !important; }</style>\"))\n",
    "%matplotlib inline\n",
    "import copy\n",
    "import numpy as np\n",
    "import pandas as pd\n",
    "import scanpy as sc\n",
    "import matplotlib.pyplot as plt\n",
    "import anndata as ad\n",
    "import scipy\n",
    "import seaborn as sns\n",
    "sc.set_figure_params(scanpy=True, dpi_save=200)\n",
    "import jenkspy"
   ]
  },
  {
   "cell_type": "code",
   "execution_count": null,
   "metadata": {},
   "outputs": [],
   "source": [
    "def load_fractions(dem_path):\n",
    "    def scale_series(series): \n",
    "        return((series - np.mean(series))/np.std(series))\n",
    "    def scale_series_mad(series): \n",
    "        return((series - np.median(series))/scipy.stats.median_absolute_deviation(series))\n",
    "\n",
    "    # load CIBERSORT output\n",
    "    dat = sc.read_csv(dem_path, first_column_names=True)\n",
    "    dat = dat[:,~dat.var_names.isin(['P-value', 'Correlation', 'RMSE', 'Absolute score (sig.score)'])]\n",
    "    dat.obs.index.rename('Sample', inplace=True)\n",
    "\n",
    "    # add the absolute scores\n",
    "    cell_type_scores = pd.DataFrame(dat.X, index=dat.obs_names, columns=dat.var_names+\"-Absolute\")\n",
    "    # Yields a tuple of column name and series for each column in the dataframe\n",
    "    for (columnName, columnData) in cell_type_scores.iteritems():\n",
    "        cell_type_scores[columnName.replace('Absolute', 'Abs.Category')] = np.where(columnData.values > np.median(columnData.values), \"High\", \"Low\")\n",
    "\n",
    "    dat.obs = dat.obs.merge(cell_type_scores, how = 'left', left_index=True, right_index=True)\n",
    "\n",
    "    # Relative Scores (tumor only)\n",
    "    relative_scores = pd.DataFrame(dat.X, index=dat.obs_names, columns=dat.var_names+\"-Relative\")\n",
    "    relative_scores = (relative_scores.transpose() / relative_scores.sum(axis=1).transpose()).transpose()\n",
    "    for (columnName, columnData) in relative_scores.iteritems():\n",
    "        relative_scores[columnName.replace('Relative', 'Rel.Category')] = np.where(columnData.values > np.median(columnData.values), \"High\", \"Low\")\n",
    "    dat.obs = dat.obs.merge(relative_scores, how = 'left', left_index=True, right_index=True)\n",
    "    \n",
    "    return dat"
   ]
  },
  {
   "cell_type": "code",
   "execution_count": null,
   "metadata": {},
   "outputs": [],
   "source": [
    "def score_lsc_signature(adata, signature, name, scale=False):\n",
    "    def scale_series_mad(series): \n",
    "        return((series - np.median(series))/scipy.stats.median_absolute_deviation(series))\n",
    "\n",
    "    scores=np.zeros(adata.obs.shape[0])\n",
    "    for row in enumerate(signature.Gene): \n",
    "        scores += adata.X[:,adata.var_names==row[1]].flatten() * signature.iloc[row[0],].values[1]\n",
    "\n",
    "    adata.obs[name] = scores\n",
    "    adata.obs[name+'_cat'] = np.where(adata.obs[name] > adata.obs[name].median(), \"High\", \"Low\")\n",
    "    \n",
    "    if scale == True: \n",
    "        adata.obs[name] = scale_series_mad(scores)\n",
    "\n",
    "    return(adata)"
   ]
  },
  {
   "cell_type": "code",
   "execution_count": null,
   "metadata": {},
   "outputs": [],
   "source": [
    "hcat = sc.read(\"Data/Hierarchy_Reference_3Cohorts.h5ad\")\n",
    "hcat"
   ]
  },
  {
   "cell_type": "code",
   "execution_count": null,
   "metadata": {},
   "outputs": [],
   "source": [
    "PC2_loadings = hcat.varm['PCs'][:,1]\n",
    "PC2_loadings = np.array([-0.20023263, -0.08772767, -0.27906924, -0.5126374, 0.7101968, 0.04527085, 0.32419923])"
   ]
  },
  {
   "cell_type": "markdown",
   "metadata": {},
   "source": [
    "## Loading Prediction Output"
   ]
  },
  {
   "cell_type": "code",
   "execution_count": null,
   "metadata": {},
   "outputs": [],
   "source": [
    "def plot_celltype_fractions(adata, group, grouplab, order, boxpairlist, score, score_lab, txtformat = 'simple', save = False): \n",
    "    import os\n",
    "    sns.set_style(\"white\")\n",
    "\n",
    "    tk.violin_category(adata, group, score, order=order, boxpairlist=boxpairlist, \n",
    "                   textformat=txtformat, xlab=grouplab, ylab=score_lab)\n",
    "    \n",
    "    #fig = plt.gcf()\n",
    "    if save == True: \n",
    "        dirName = \"figures/\"\n",
    "        if not os.path.exists(dirName):\n",
    "            os.mkdir(dirName)\n",
    "        fig.savefig(dirName+\"/\"+group+\"_\"+score+\".png\", dpi = 300, bbox_inches='tight')\n",
    "    plt.show()"
   ]
  },
  {
   "cell_type": "code",
   "execution_count": null,
   "metadata": {},
   "outputs": [],
   "source": [
    "def get_ranklist(dat, classification, cluster_A, cluster_B, test='wilcoxon'):\n",
    "    \n",
    "    adata = dat[dat.obs[classification].isin([cluster_A, cluster_B])]\n",
    "\n",
    "    sc.tl.rank_genes_groups(adata, classification, method = test, n_genes=20000)\n",
    "    sam_cat_DE_df = pd.concat(\n",
    "            [pd.DataFrame(adata.uns['rank_genes_groups']['names']),\n",
    "             pd.DataFrame(adata.uns['rank_genes_groups']['scores']),\n",
    "             pd.DataFrame(adata.uns['rank_genes_groups']['logfoldchanges']),\n",
    "             pd.DataFrame(adata.uns['rank_genes_groups']['pvals'])],\n",
    "        keys = ['names','scores','logfoldchanges', 'pvals'],axis=1)\n",
    "\n",
    "    sam_cat_DE_df.columns = sam_cat_DE_df.columns.swaplevel(0, 1)\n",
    "    sam_cat_DE_df.sort_index(axis=1,level=0,inplace=True)\n",
    "    sam_cat_DE_df = sam_cat_DE_df[cluster_A][['names', 'scores', 'logfoldchanges', 'pvals']]\n",
    "\n",
    "    return(sam_cat_DE_df)"
   ]
  },
  {
   "cell_type": "markdown",
   "metadata": {},
   "source": [
    "# Run on Cell Lines"
   ]
  },
  {
   "cell_type": "code",
   "execution_count": null,
   "metadata": {},
   "outputs": [],
   "source": [
    "def get_scores(df, dat, classification, cluster_A, cluster_B, cohort, drug, target):\n",
    "    # Absolute Scores\n",
    "        \n",
    "    ## Wilcox\n",
    "    temp = get_ranklist(dat, classification, cluster_A, cluster_B, test='wilcoxon')\n",
    "    temp['Cohort'] = cohort\n",
    "    temp['Drug'] = drug\n",
    "    temp['Target'] = target\n",
    "    temp['Test'] = 'wilcox'\n",
    "    df = df.append(temp)\n",
    "    \n",
    "    return(df)"
   ]
  },
  {
   "cell_type": "code",
   "execution_count": null,
   "metadata": {},
   "outputs": [],
   "source": [
    "df = pd.DataFrame()"
   ]
  },
  {
   "cell_type": "markdown",
   "metadata": {},
   "source": [
    "### 5 Inhibitor"
   ]
  },
  {
   "cell_type": "code",
   "execution_count": null,
   "metadata": {},
   "outputs": [],
   "source": [
    "dat = load_fractions(\"Data/Fig5_Literature_DrugResponse/Cell_Lines/CIBERSORTx_5inhibitor_AF9.csv\")\n",
    "dat.X = (dat.X.transpose() / dat.X.sum(axis=1)).transpose()\n",
    "dat.obs.index = dat.obs.index.str.replace('.','_')\n",
    "dat.obs['Treatment'] = [x[1] for x in dat.obs.index.str.split('_')]\n",
    "dat.obs['Treatment'] = dat.obs['Treatment'].str.replace('DMSO','Control')\n",
    "dat.obs['Timepoint'] = [x[2] for x in dat.obs.index.str.split('_')]\n",
    "dat.obs['Line'] = [x[0] for x in dat.obs.index.str.split('_')]\n",
    "dat.obs['Cohort'] = \"5_inhibitors\""
   ]
  },
  {
   "cell_type": "markdown",
   "metadata": {},
   "source": [
    "### 5 Inhibitor nonAF9"
   ]
  },
  {
   "cell_type": "code",
   "execution_count": null,
   "metadata": {},
   "outputs": [],
   "source": [
    "dat2 = load_fractions(\"Data/Fig5_Literature_DrugResponse/Cell_Lines/CIBERSORTx_5inhibitor_nonAF9.csv\")\n",
    "dat2.X = (dat2.X.transpose() / dat2.X.sum(axis=1)).transpose()\n",
    "dat2.obs.index = dat2.obs.index.str.replace('.','_')\n",
    "dat2.obs['Treatment'] = [x[1] for x in dat2.obs.index.str.split('_')]\n",
    "dat2.obs['Treatment'] = dat2.obs['Treatment'].str.replace('DMSO','Control')\n",
    "dat2.obs['Timepoint'] = [x[2] for x in dat2.obs.index.str.split('_')]\n",
    "dat2.obs['Line'] = [x[0] for x in dat2.obs.index.str.split('_')]\n",
    "dat2.obs['Cohort'] = \"5_inhibitors\""
   ]
  },
  {
   "cell_type": "code",
   "execution_count": null,
   "metadata": {},
   "outputs": [],
   "source": [
    "dat = dat.concatenate(dat2)\n",
    "del(dat2)"
   ]
  },
  {
   "cell_type": "code",
   "execution_count": null,
   "metadata": {},
   "outputs": [],
   "source": [
    "newdat = dat.to_df()\n",
    "newdat['PC2'] = (dat.to_df() * PC2_loadings).sum(axis=1)\n",
    "dat = ad.AnnData(newdat, dat.obs)\n",
    "del(newdat)"
   ]
  },
  {
   "cell_type": "code",
   "execution_count": null,
   "metadata": {},
   "outputs": [],
   "source": [
    "# MLL-AF9\n",
    "for line in ['MOLM13', 'MOLM14', 'OCIAML2', 'NOMO1']:\n",
    "    df = get_scores(df, dat[(dat.obs.Timepoint == '24h') & (dat.obs.Line == line)], 'Treatment', 'Brequinar', 'Control', line, 'Brequinar', 'DHODH')\n",
    "    df = get_scores(df, dat[(dat.obs.Timepoint == '24h') & (dat.obs.Line == line)], 'Treatment', 'BAY155', 'Control', line, 'BAY155', 'Menin-MLL')\n",
    "    df = get_scores(df, dat[(dat.obs.Timepoint == '96h') & (dat.obs.Line == line)], 'Treatment', 'EPZ5676', 'Control', line, 'EPZ5676', 'DOT1L')\n",
    "    df = get_scores(df, dat[(dat.obs.Timepoint.isin(['8h', '24h'])) & (dat.obs.Line == line)], 'Treatment', 'OTX015', 'Control', line, 'OTX015', 'BET')\n",
    "    df = get_scores(df, dat[(dat.obs.Timepoint.isin(['8h', '24h'])) & (dat.obs.Line == line)], 'Treatment', 'BAY1251152', 'Control', line, 'BAY1251152', 'CDK9')"
   ]
  },
  {
   "cell_type": "code",
   "execution_count": null,
   "metadata": {},
   "outputs": [],
   "source": [
    "# MLL, non-AF9\n",
    "for line in ['ML2', 'MV411']:\n",
    "    df = get_scores(df, dat[(dat.obs.Timepoint == '24h') & (dat.obs.Line == line)], 'Treatment', 'Brequinar', 'Control', line, 'Brequinar', 'DHODH')\n",
    "    df = get_scores(df, dat[(dat.obs.Timepoint == '24h') & (dat.obs.Line == line)], 'Treatment', 'BAY155', 'Control', line, 'BAY155', 'Menin-MLL')\n",
    "    df = get_scores(df, dat[(dat.obs.Timepoint == '96h') & (dat.obs.Line == line)], 'Treatment', 'EPZ5676', 'Control', line, 'EPZ5676', 'DOT1L')\n",
    "    df = get_scores(df, dat[(dat.obs.Timepoint.isin(['8h', '24h'])) & (dat.obs.Line == line)], 'Treatment', 'OTX015', 'Control', line, 'OTX015', 'BET')\n",
    "    df = get_scores(df, dat[(dat.obs.Timepoint.isin(['8h', '24h'])) & (dat.obs.Line == line)], 'Treatment', 'BAY1251152', 'Control', line, 'BAY1251152', 'CDK9')"
   ]
  },
  {
   "cell_type": "code",
   "execution_count": null,
   "metadata": {},
   "outputs": [],
   "source": [
    "# Non-MLL\n",
    "for line in ['OCIAML5', 'HL60', 'OCIAML3']:\n",
    "    df = get_scores(df, dat[(dat.obs.Timepoint == '24h') & (dat.obs.Line == line)], 'Treatment', 'Brequinar', 'Control', line, 'Brequinar', 'DHODH')\n",
    "    df = get_scores(df, dat[(dat.obs.Timepoint == '24h') & (dat.obs.Line == line)], 'Treatment', 'BAY155', 'Control', line, 'BAY155', 'Menin-MLL')\n",
    "    df = get_scores(df, dat[(dat.obs.Timepoint == '96h') & (dat.obs.Line == line)], 'Treatment', 'EPZ5676', 'Control', line, 'EPZ5676', 'DOT1L')\n",
    "    df = get_scores(df, dat[(dat.obs.Timepoint.isin(['8h', '24h'])) & (dat.obs.Line == line)], 'Treatment', 'OTX015', 'Control', line, 'OTX015', 'BET')\n",
    "    df = get_scores(df, dat[(dat.obs.Timepoint.isin(['8h', '24h'])) & (dat.obs.Line == line)], 'Treatment', 'BAY1251152', 'Control', line, 'BAY1251152', 'CDK9')"
   ]
  },
  {
   "cell_type": "markdown",
   "metadata": {},
   "source": [
    "### BET ARV-825 OTX015"
   ]
  },
  {
   "cell_type": "code",
   "execution_count": null,
   "metadata": {},
   "outputs": [],
   "source": [
    "dat = load_fractions(\"Data/Fig5_Literature_DrugResponse/Cell_Lines/CIBERSORTx_ARV825OTX015_BET.csv\")\n",
    "dat.X = (dat.X.transpose() / dat.X.sum(axis=1)).transpose()\n",
    "dat.obs['Treatment'] = np.where(dat.obs.index.str.contains(\"ARV\"), \"ARV-825\", \n",
    "                               np.where(dat.obs.index.str.contains(\"OTX015\"), \"OTX015\", \"Control\"))"
   ]
  },
  {
   "cell_type": "code",
   "execution_count": null,
   "metadata": {},
   "outputs": [],
   "source": [
    "newdat = dat.to_df()\n",
    "newdat['PC2'] = (dat.to_df() * PC2_loadings).sum(axis=1)\n",
    "dat = ad.AnnData(newdat, dat.obs)\n",
    "del(newdat)"
   ]
  },
  {
   "cell_type": "code",
   "execution_count": null,
   "metadata": {},
   "outputs": [],
   "source": [
    "df = get_scores(df, dat, 'Treatment', 'ARV-825', 'Control', \"OCI-AML5\", 'ARV-825', 'BET')"
   ]
  },
  {
   "cell_type": "code",
   "execution_count": null,
   "metadata": {},
   "outputs": [],
   "source": [
    "df = get_scores(df, dat, 'Treatment', 'OTX015', 'Control', \"OCI-AML5\", 'OTX015', 'BET')"
   ]
  },
  {
   "cell_type": "markdown",
   "metadata": {},
   "source": [
    "### YKL Palbociclib BSJ CDK6 Selective"
   ]
  },
  {
   "cell_type": "code",
   "execution_count": null,
   "metadata": {},
   "outputs": [],
   "source": [
    "dat = load_fractions(\"Data/Fig5_Literature_DrugResponse/Cell_Lines/CIBERSORTx_YKL_Palbociclib_BSJ_CDK6_Selective.csv\")\n",
    "dat.X = (dat.X.transpose() / dat.X.sum(axis=1)).transpose()\n",
    "dat.obs['Treatment'] = [x[0] for x in dat.obs.index.str.split('_')]\n",
    "dat.obs['Treatment'] = dat.obs['Treatment'].str.replace('DMSO','Control')"
   ]
  },
  {
   "cell_type": "code",
   "execution_count": null,
   "metadata": {},
   "outputs": [],
   "source": [
    "newdat = dat.to_df()\n",
    "newdat['PC2'] = (dat.to_df() * PC2_loadings).sum(axis=1)\n",
    "dat = ad.AnnData(newdat, dat.obs)\n",
    "del(newdat)"
   ]
  },
  {
   "cell_type": "code",
   "execution_count": null,
   "metadata": {},
   "outputs": [],
   "source": [
    "df = get_scores(df, dat, 'Treatment', 'Palbo', 'Control', \"MV4-11\", 'Palbociclib', 'CDK4/6')"
   ]
  },
  {
   "cell_type": "code",
   "execution_count": null,
   "metadata": {},
   "outputs": [],
   "source": [
    "df = get_scores(df, dat, 'Treatment', 'YKL', 'Control', \"MV4-11\", 'YKL (CDK6/IKZF)', 'CDK6/IKZF')"
   ]
  },
  {
   "cell_type": "code",
   "execution_count": null,
   "metadata": {},
   "outputs": [],
   "source": [
    "df = get_scores(df, dat, 'Treatment', 'BSJ', 'Control', \"MV4-11\", 'BSJ (CDK6 only)', 'CDK6 only')"
   ]
  },
  {
   "cell_type": "markdown",
   "metadata": {},
   "source": [
    "### ASLAN003 DHODH"
   ]
  },
  {
   "cell_type": "code",
   "execution_count": null,
   "metadata": {},
   "outputs": [],
   "source": [
    "dat = load_fractions(\"Data/Fig5_Literature_DrugResponse/Cell_Lines/CIBERSORTx_ASLAN003_DHODH.csv\")\n",
    "dat.X = (dat.X.transpose() / dat.X.sum(axis=1)).transpose()\n",
    "dat.obs.index = dat.obs.index.str.replace('.', '_')\n",
    "dat.obs['Line'] = [x[0] for x in dat.obs.index.str.split('_')]\n",
    "dat.obs['Treatment'] = [x[1] for x in dat.obs.index.str.split('_')]\n",
    "dat.obs['Treatment'] = dat.obs['Treatment'].str.replace('DMSO','Control')"
   ]
  },
  {
   "cell_type": "code",
   "execution_count": null,
   "metadata": {},
   "outputs": [],
   "source": [
    "newdat = dat.to_df()\n",
    "newdat['PC2'] = (dat.to_df() * PC2_loadings).sum(axis=1)\n",
    "dat = ad.AnnData(newdat, dat.obs)\n",
    "del(newdat)"
   ]
  },
  {
   "cell_type": "code",
   "execution_count": null,
   "metadata": {},
   "outputs": [],
   "source": [
    "df = get_scores(df, dat[dat.obs.Line == 'KG1'], 'Treatment', 'ASLAN003', 'Control', \"KG1\", 'ASLAN003', 'DHODH')"
   ]
  },
  {
   "cell_type": "code",
   "execution_count": null,
   "metadata": {},
   "outputs": [],
   "source": [
    "df = get_scores(df, dat[dat.obs.Line == 'MOLM14'], 'Treatment', 'ASLAN003', 'Control', \"MOLM-14\", 'ASLAN003', 'DHODH')"
   ]
  },
  {
   "cell_type": "markdown",
   "metadata": {},
   "source": [
    "### NSC-370284 TET1"
   ]
  },
  {
   "cell_type": "code",
   "execution_count": null,
   "metadata": {},
   "outputs": [],
   "source": [
    "dat = load_fractions(\"Data/Fig5_Literature_DrugResponse/Cell_Lines/CIBERSORTx_NSC370284_TET1.csv\")\n",
    "dat.X = (dat.X.transpose() / dat.X.sum(axis=1)).transpose()\n",
    "dat.obs['Treatment'] = [x[0] for x in dat.obs.index.str.split('-')]\n",
    "dat.obs['Treatment'] = dat.obs['Treatment'].str.replace('Ctrl','Control')"
   ]
  },
  {
   "cell_type": "code",
   "execution_count": null,
   "metadata": {},
   "outputs": [],
   "source": [
    "newdat = dat.to_df()\n",
    "newdat['PC2'] = (dat.to_df() * PC2_loadings).sum(axis=1)\n",
    "dat = ad.AnnData(newdat, dat.obs)\n",
    "del(newdat)"
   ]
  },
  {
   "cell_type": "code",
   "execution_count": null,
   "metadata": {},
   "outputs": [],
   "source": [
    "df = get_scores(df, dat, 'Treatment', 'NSC', 'Control', \"THP-1\", 'NSC-370', 'TET1')"
   ]
  },
  {
   "cell_type": "markdown",
   "metadata": {},
   "source": [
    "### AC-4-130 STAT5"
   ]
  },
  {
   "cell_type": "code",
   "execution_count": null,
   "metadata": {},
   "outputs": [],
   "source": [
    "dat = load_fractions(\"Data/Fig5_Literature_DrugResponse/Cell_Lines/CIBERSORTx_AC4130_STAT5.csv\")\n",
    "dat.X = (dat.X.transpose() / dat.X.sum(axis=1)).transpose()\n",
    "dat.obs['Line'] = [x[1] for x in dat.obs.index.str.split('_')]\n",
    "dat.obs['Treatment'] = [x[3] for x in dat.obs.index.str.split('_')]\n",
    "dat.obs['Treatment'] = dat.obs['Treatment'].str.replace('DMSO','Control')"
   ]
  },
  {
   "cell_type": "code",
   "execution_count": null,
   "metadata": {},
   "outputs": [],
   "source": [
    "newdat = dat.to_df()\n",
    "newdat['PC2'] = (dat.to_df() * PC2_loadings).sum(axis=1)\n",
    "dat = ad.AnnData(newdat, dat.obs)\n",
    "del(newdat)"
   ]
  },
  {
   "cell_type": "code",
   "execution_count": null,
   "metadata": {},
   "outputs": [],
   "source": [
    "df = get_scores(df, dat[dat.obs.Line=='MV4'], 'Treatment', 'AC', 'Control', \"MV4-11\", 'AC-4-130', 'STAT5')"
   ]
  },
  {
   "cell_type": "code",
   "execution_count": null,
   "metadata": {},
   "outputs": [],
   "source": [
    "df = get_scores(df, dat[dat.obs.Line=='MOLM'], 'Treatment', 'AC', 'Control', \"MOLM-13\", 'AC-4-130', 'STAT5')"
   ]
  },
  {
   "cell_type": "markdown",
   "metadata": {},
   "source": [
    "### MitoCopper MitoBlock6"
   ]
  },
  {
   "cell_type": "code",
   "execution_count": null,
   "metadata": {},
   "outputs": [],
   "source": [
    "dat = load_fractions(\"Data/Fig5_Literature_DrugResponse/Cell_Lines/CIBERSORTx_MitoCopper_MitoBlock6.csv\")\n",
    "dat.X = (dat.X.transpose() / dat.X.sum(axis=1)).transpose()\n",
    "dat.obs['Treatment'] = [x[2] for x in dat.obs.index.str.split('_')]\n",
    "dat.obs['Treatment'] = dat.obs['Treatment'].str.replace('ctrl','Control')"
   ]
  },
  {
   "cell_type": "code",
   "execution_count": null,
   "metadata": {},
   "outputs": [],
   "source": [
    "newdat = dat.to_df()\n",
    "newdat['PC2'] = (dat.to_df() * PC2_loadings).sum(axis=1)\n",
    "dat = ad.AnnData(newdat, dat.obs)\n",
    "del(newdat)"
   ]
  },
  {
   "cell_type": "code",
   "execution_count": null,
   "metadata": {},
   "outputs": [],
   "source": [
    "df = get_scores(df, dat, 'Treatment', 'MB6', 'Control', \"OCI-AML2\", 'MitoBlock6', 'Mito Copper')"
   ]
  },
  {
   "cell_type": "markdown",
   "metadata": {},
   "source": [
    "### GSK690 RN-1 KDM1A"
   ]
  },
  {
   "cell_type": "code",
   "execution_count": null,
   "metadata": {},
   "outputs": [],
   "source": [
    "dat = load_fractions(\"Data/Fig5_Literature_DrugResponse/Cell_Lines/CIBERSORTx_GSK690RN-1_KDM1A.csv\")\n",
    "anno = pd.read_csv(\"GSE71740_RNA-seq_sample_annotations.txt\", delimiter='\\t').set_index('Sample')\n",
    "dat.obs = dat.obs.join(anno)\n",
    "dat.X = (dat.X.transpose() / dat.X.sum(axis=1)).transpose()\n",
    "dat.obs['Treatment'] = [x[1] for x in dat.obs.SampleTitle.str.split('_')]\n",
    "dat.obs['Treatment'] = dat.obs['Treatment'].str.replace('DMSO','Control')\n",
    "del(anno)"
   ]
  },
  {
   "cell_type": "code",
   "execution_count": null,
   "metadata": {},
   "outputs": [],
   "source": [
    "newdat = dat.to_df()\n",
    "newdat['PC2'] = (dat.to_df() * PC2_loadings).sum(axis=1)\n",
    "dat = ad.AnnData(newdat, dat.obs)\n",
    "del(newdat)"
   ]
  },
  {
   "cell_type": "code",
   "execution_count": null,
   "metadata": {},
   "outputs": [],
   "source": [
    "df = get_scores(df, dat[(dat.obs.Timepoint==24) & (dat.obs['Cell Line'] == 'SK-NO-1')], 'Treatment', 'GSK690', 'Control', \"SKNO-1\", 'GSK690 (24hr)', 'KDM1A')"
   ]
  },
  {
   "cell_type": "code",
   "execution_count": null,
   "metadata": {},
   "outputs": [],
   "source": [
    "df = get_scores(df, dat[(dat.obs.Timepoint==24) & (dat.obs['Cell Line'] == 'SK-NO-1')], 'Treatment', 'RN-1', 'Control', \"SKNO-1\", 'RN-1 (24hr)', 'KDM1A')"
   ]
  },
  {
   "cell_type": "code",
   "execution_count": null,
   "metadata": {},
   "outputs": [],
   "source": [
    "df = get_scores(df, dat[(dat.obs.Timepoint==24) & (dat.obs['Cell Line'] == 'Kasumi-1')], 'Treatment', 'GSK690', 'Control', \"Kasumi-1\", 'GSK690 (24hr)', 'KDM1A')"
   ]
  },
  {
   "cell_type": "code",
   "execution_count": null,
   "metadata": {},
   "outputs": [],
   "source": [
    "df = get_scores(df, dat[(dat.obs.Timepoint==24) & (dat.obs['Cell Line'] == 'Kasumi-1')], 'Treatment', 'RN-1', 'Control', \"Kasumi-1\", 'RN-1 (24hr)', 'KDM1A')"
   ]
  },
  {
   "cell_type": "code",
   "execution_count": null,
   "metadata": {},
   "outputs": [],
   "source": [
    "df = get_scores(df, dat[(dat.obs.Timepoint==72) & (dat.obs['Cell Line'] == 'SK-NO-1')], 'Treatment', 'GSK690', 'Control', \"SKNO-1\", 'GSK690 (72hr)', 'KDM1A')"
   ]
  },
  {
   "cell_type": "code",
   "execution_count": null,
   "metadata": {},
   "outputs": [],
   "source": [
    "df = get_scores(df, dat[(dat.obs.Timepoint==72) & (dat.obs['Cell Line'] == 'SK-NO-1')], 'Treatment', 'RN-1', 'Control', \"SKNO-1\", 'RN-1 (72hr)', 'KDM1A')"
   ]
  },
  {
   "cell_type": "code",
   "execution_count": null,
   "metadata": {},
   "outputs": [],
   "source": [
    "df = get_scores(df, dat[(dat.obs.Timepoint==72) & (dat.obs['Cell Line'] == 'Kasumi-1')], 'Treatment', 'GSK690', 'Control', \"Kasumi-1\", 'GSK690 (72hr)', 'KDM1A')"
   ]
  },
  {
   "cell_type": "code",
   "execution_count": null,
   "metadata": {},
   "outputs": [],
   "source": [
    "df = get_scores(df, dat[(dat.obs.Timepoint==72) & (dat.obs['Cell Line'] == 'Kasumi-1')], 'Treatment', 'RN-1', 'Control', \"Kasumi-1\", 'RN-1 (72hr)', 'KDM1A')"
   ]
  },
  {
   "cell_type": "markdown",
   "metadata": {},
   "source": [
    "### EPZ004777 DOT1L"
   ]
  },
  {
   "cell_type": "code",
   "execution_count": null,
   "metadata": {},
   "outputs": [],
   "source": [
    "dat = load_fractions(\"Data/Fig5_Literature_DrugResponse/Cell_Lines/CIBERSORTx_EPZ004777_DOT1L.csv\")\n",
    "dat.X = (dat.X.transpose() / dat.X.sum(axis=1)).transpose()\n",
    "dat = dat[dat.obs.index!='Sum']\n",
    "dat.obs['Line'] = [x[0] for x in dat.obs.index.str.split('_')]\n",
    "dat.obs['Treatment'] = [x[1] for x in dat.obs.index.str.split('_')]\n",
    "dat.obs['Treatment'] = dat.obs['Treatment'].str.replace('DMSO','Control').str.replace('DFCI', 'EPZ004777')"
   ]
  },
  {
   "cell_type": "code",
   "execution_count": null,
   "metadata": {},
   "outputs": [],
   "source": [
    "newdat = dat.to_df()\n",
    "newdat['PC2'] = (dat.to_df() * PC2_loadings).sum(axis=1)\n",
    "dat = ad.AnnData(newdat, dat.obs)\n",
    "del(newdat)"
   ]
  },
  {
   "cell_type": "code",
   "execution_count": null,
   "metadata": {},
   "outputs": [],
   "source": [
    "df = get_scores(df, dat[dat.obs.Line == 'OCI2'], 'Treatment', 'EPZ004777', 'Control', \"OCI-AML2\", 'EPZ004777', 'DOT1L')"
   ]
  },
  {
   "cell_type": "code",
   "execution_count": null,
   "metadata": {},
   "outputs": [],
   "source": [
    "df = get_scores(df, dat[dat.obs.Line == 'OCI3'], 'Treatment', 'EPZ004777', 'Control', \"OCI-AML3\", 'EPZ004777', 'DOT1L')"
   ]
  },
  {
   "cell_type": "markdown",
   "metadata": {},
   "source": [
    "### FB23-1 FB23-2 FTO"
   ]
  },
  {
   "cell_type": "code",
   "execution_count": null,
   "metadata": {},
   "outputs": [],
   "source": [
    "dat = load_fractions(\"Data/Fig5_Literature_DrugResponse/Cell_Lines/CIBERSORTx_FB23_FTO.csv\")\n",
    "dat.X = (dat.X.transpose() / dat.X.sum(axis=1)).transpose()\n",
    "dat.obs.index = dat.obs.index.str.replace('.','_')\n",
    "dat.obs['Treatment'] = [x[1] for x in dat.obs.index.str.split('_')]\n",
    "dat.obs['Treatment'] = dat.obs['Treatment'].str.replace('DMSO','Control')"
   ]
  },
  {
   "cell_type": "code",
   "execution_count": null,
   "metadata": {},
   "outputs": [],
   "source": [
    "newdat = dat.to_df()\n",
    "newdat['PC2'] = (dat.to_df() * PC2_loadings).sum(axis=1)\n",
    "dat = ad.AnnData(newdat, dat.obs)\n",
    "del(newdat)"
   ]
  },
  {
   "cell_type": "code",
   "execution_count": null,
   "metadata": {},
   "outputs": [],
   "source": [
    "df = get_scores(df, dat, 'Treatment', '231', 'Control', \"NB-4\", 'FB23-1', 'FTO')"
   ]
  },
  {
   "cell_type": "code",
   "execution_count": null,
   "metadata": {},
   "outputs": [],
   "source": [
    "df = get_scores(df, dat, 'Treatment', '232', 'Control', \"NB-4\", 'FB23-2', 'FTO')"
   ]
  },
  {
   "cell_type": "markdown",
   "metadata": {},
   "source": [
    "### CS1 CS2 FTO"
   ]
  },
  {
   "cell_type": "code",
   "execution_count": null,
   "metadata": {},
   "outputs": [],
   "source": [
    "dat = load_fractions(\"Data/Fig5_Literature_DrugResponse/Cell_Lines/CIBERSORTx_CS_FTO.csv\")\n",
    "dat.X = (dat.X.transpose() / dat.X.sum(axis=1)).transpose()\n",
    "dat.obs.index = dat.obs.index.str.replace('.','_')\n",
    "dat.obs['Treatment'] = [x[0] for x in dat.obs.index.str.split('_')]"
   ]
  },
  {
   "cell_type": "code",
   "execution_count": null,
   "metadata": {},
   "outputs": [],
   "source": [
    "newdat = dat.to_df()\n",
    "newdat['PC2'] = (dat.to_df() * PC2_loadings).sum(axis=1)\n",
    "dat = ad.AnnData(newdat, dat.obs)\n",
    "del(newdat)"
   ]
  },
  {
   "cell_type": "code",
   "execution_count": null,
   "metadata": {},
   "outputs": [],
   "source": [
    "df = get_scores(df, dat, 'Treatment', 'CS1', 'Control', \"NOMO-1\", 'CS1', 'FTO')"
   ]
  },
  {
   "cell_type": "code",
   "execution_count": null,
   "metadata": {},
   "outputs": [],
   "source": [
    "df = get_scores(df, dat, 'Treatment', 'CS2', 'Control', \"NOMO-1\", 'CS2', 'FTO')"
   ]
  },
  {
   "cell_type": "markdown",
   "metadata": {},
   "source": [
    "### OTX015 MTHFR BET"
   ]
  },
  {
   "cell_type": "code",
   "execution_count": null,
   "metadata": {},
   "outputs": [],
   "source": [
    "dat = load_fractions(\"Data/Fig5_Literature_DrugResponse/Cell_Lines/CIBERSORTx_OTX015_MTHFRBET.csv\")\n",
    "dat_IMSM2 = dat[0:12]\n",
    "dat_IMSM2.X = (dat_IMSM2.X.transpose() / dat_IMSM2.X.sum(axis=1)).transpose()\n",
    "dat_IMSM2.obs['Treatment'] = [x[1] for x in dat_IMSM2.obs.index.str.split('_')]\n",
    "dat_IMSM2.obs['Treatment'] = dat_IMSM2.obs['Treatment'].str.replace('DMSO','Control')\n",
    "dat_IMSM2.obs['Treatment'] = dat_IMSM2.obs['Treatment'].str.replace('OTX','OTX015')"
   ]
  },
  {
   "cell_type": "code",
   "execution_count": null,
   "metadata": {},
   "outputs": [],
   "source": [
    "newdat = dat_IMSM2.to_df()\n",
    "newdat['PC2'] = (dat_IMSM2.to_df() * PC2_loadings).sum(axis=1)\n",
    "dat_IMSM2 = ad.AnnData(newdat, dat_IMSM2.obs)\n",
    "del(newdat)"
   ]
  },
  {
   "cell_type": "code",
   "execution_count": null,
   "metadata": {},
   "outputs": [],
   "source": [
    "df = get_scores(df, dat_IMSM2, classification = 'Treatment', cluster_A = 'OTX015', cluster_B = 'Control', cohort = 'IMS-M2', drug = 'OTX015', target = 'BET')"
   ]
  },
  {
   "cell_type": "code",
   "execution_count": null,
   "metadata": {},
   "outputs": [],
   "source": [
    "dat = load_fractions(\"Data/Fig5_Literature_DrugResponse/Cell_Lines/CIBERSORTx_OTX015_MTHFRBET.csv\")\n",
    "dat_U937 = dat[12:]\n",
    "dat_U937.X = (dat_U937.X.transpose() / dat_U937.X.sum(axis=1)).transpose()\n",
    "dat_U937.obs['Treatment'] = [x[1] for x in dat_U937.obs.index.str.split('_')]\n",
    "dat_U937.obs['Treatment'] = dat_U937.obs['Treatment'].str.replace('DMSO','Control')\n",
    "dat_U937.obs['Treatment'] = dat_U937.obs['Treatment'].str.replace('OTX','OTX015')"
   ]
  },
  {
   "cell_type": "code",
   "execution_count": null,
   "metadata": {},
   "outputs": [],
   "source": [
    "newdat = dat_U937.to_df()\n",
    "newdat['PC2'] = (dat_U937.to_df() * PC2_loadings).sum(axis=1)\n",
    "dat_U937 = ad.AnnData(newdat, dat_U937.obs)\n",
    "del(newdat)"
   ]
  },
  {
   "cell_type": "code",
   "execution_count": null,
   "metadata": {},
   "outputs": [],
   "source": [
    "df = get_scores(df, dat_U937, classification = 'Treatment', cluster_A = 'OTX015', cluster_B = 'Control', cohort = 'U-937', drug = 'OTX015', target = 'BET')"
   ]
  },
  {
   "cell_type": "markdown",
   "metadata": {},
   "source": [
    "### MRT199665 Phospho MEF2C"
   ]
  },
  {
   "cell_type": "code",
   "execution_count": null,
   "metadata": {},
   "outputs": [],
   "source": [
    "dat = load_fractions(\"Data/Fig5_Literature_DrugResponse/Cell_Lines/CIBERSORTx_MRT199665_PhosphoMEF2C.csv\")\n",
    "dat.X = (dat.X.transpose() / dat.X.sum(axis=1)).transpose()\n",
    "dat.obs['Treatment'] = [x for x in dat.obs.index]\n",
    "dat.obs['Treatment'] = dat.obs['Treatment'].str.replace('rep','').str.replace('[0-9]', '')"
   ]
  },
  {
   "cell_type": "code",
   "execution_count": null,
   "metadata": {},
   "outputs": [],
   "source": [
    "newdat = dat.to_df()\n",
    "newdat['PC2'] = (dat.to_df() * PC2_loadings).sum(axis=1)\n",
    "dat = ad.AnnData(newdat, dat.obs)\n",
    "del(newdat)"
   ]
  },
  {
   "cell_type": "code",
   "execution_count": null,
   "metadata": {},
   "outputs": [],
   "source": [
    "df = get_scores(df, dat, classification = 'Treatment', cluster_A = 'MRT', cluster_B = 'Control', cohort = 'OCI-AML3', drug = 'MRT199665', target = 'Phospho MEF2C')"
   ]
  },
  {
   "cell_type": "markdown",
   "metadata": {},
   "source": [
    "### I-BET152 BET"
   ]
  },
  {
   "cell_type": "code",
   "execution_count": null,
   "metadata": {},
   "outputs": [],
   "source": [
    "dat = load_fractions(\"Data/Fig5_Literature_DrugResponse/Cell_Lines/CIBERSORTx_IBET152_BET.csv\")\n",
    "dat_K562 = dat[:10]\n",
    "dat_K562.X = (dat_K562.X.transpose() / dat_K562.X.sum(axis=1)).transpose()\n",
    "dat_K562.obs['Treatment'] = [x[1] for x in dat_K562.obs.index.str.split('_')]\n",
    "dat_K562.obs['Treatment'] = dat_K562.obs['Treatment'].str.replace('DMSO', 'Control').str.replace('I5000', 'I-BET152')\n",
    "dat_K562.obs['Treatment'] = dat_K562.obs['Treatment'].str.replace('I500', 'I-BET152')\n",
    "dat_K562.obs['Treatment'] = dat_K562.obs['Treatment'].str.replace('I50', 'I-BET152')"
   ]
  },
  {
   "cell_type": "code",
   "execution_count": null,
   "metadata": {},
   "outputs": [],
   "source": [
    "newdat = dat_K562.to_df()\n",
    "newdat['PC2'] = (dat_K562.to_df() * PC2_loadings).sum(axis=1)\n",
    "dat_K562 = ad.AnnData(newdat, dat_K562.obs)\n",
    "del(newdat)"
   ]
  },
  {
   "cell_type": "code",
   "execution_count": null,
   "metadata": {},
   "outputs": [],
   "source": [
    "df = get_scores(df, dat_K562, classification = 'Treatment', cluster_A = 'I-BET152', cluster_B = 'Control', cohort = 'K-562', drug = 'I-BET152', target = 'BET')"
   ]
  },
  {
   "cell_type": "code",
   "execution_count": null,
   "metadata": {},
   "outputs": [],
   "source": [
    "dat = load_fractions(\"Data/Fig5_Literature_DrugResponse/Cell_Lines/CIBERSORTx_IBET152_BET.csv\")\n",
    "dat_MV411 = dat[10:]\n",
    "dat_MV411.X = (dat_MV411.X.transpose() / dat_MV411.X.sum(axis=1)).transpose()\n",
    "dat_MV411.obs['Treatment'] = [x[1] for x in dat_MV411.obs.index.str.split('_')]\n",
    "dat_MV411.obs['Treatment'] = dat_MV411.obs['Treatment'].str.replace('DMSO', 'Control').str.replace('I5000', 'I-BET152')\n",
    "dat_MV411.obs['Treatment'] = dat_MV411.obs['Treatment'].str.replace('I500', 'I-BET152')\n",
    "dat_MV411.obs['Treatment'] = dat_MV411.obs['Treatment'].str.replace('I50', 'I-BET152')"
   ]
  },
  {
   "cell_type": "code",
   "execution_count": null,
   "metadata": {},
   "outputs": [],
   "source": [
    "newdat = dat_MV411.to_df()\n",
    "newdat['PC2'] = (dat_MV411.to_df() * PC2_loadings).sum(axis=1)\n",
    "dat_MV411 = ad.AnnData(newdat, dat_MV411.obs)\n",
    "del(newdat)"
   ]
  },
  {
   "cell_type": "code",
   "execution_count": null,
   "metadata": {},
   "outputs": [],
   "source": [
    "df = get_scores(df, dat_MV411, classification = 'Treatment', cluster_A = 'I-BET152', cluster_B = 'Control', cohort = 'MV4-11', drug = 'I-BET152', target = 'BET')"
   ]
  },
  {
   "cell_type": "markdown",
   "metadata": {},
   "source": [
    "### ALRN-6924 MDMX/MDM2"
   ]
  },
  {
   "cell_type": "code",
   "execution_count": null,
   "metadata": {},
   "outputs": [],
   "source": [
    "dat = load_fractions(\"Data/Fig5_Literature_DrugResponse/Cell_Lines/CIBERSORTx_ALRN6924_MDMXMDM2.csv\")\n",
    "dat.X = (dat.X.transpose() / dat.X.sum(axis=1)).transpose()\n",
    "dat.obs['Treatment'] = [x[1] for x in dat.obs.index.str.split('_')]\n",
    "dat.obs['Treatment'] = dat.obs['Treatment'].str.replace('Vehicle','Control')"
   ]
  },
  {
   "cell_type": "code",
   "execution_count": null,
   "metadata": {},
   "outputs": [],
   "source": [
    "newdat = dat.to_df()\n",
    "newdat['PC2'] = (dat.to_df() * PC2_loadings).sum(axis=1)\n",
    "dat = ad.AnnData(newdat, dat.obs)\n",
    "del(newdat)"
   ]
  },
  {
   "cell_type": "code",
   "execution_count": null,
   "metadata": {},
   "outputs": [],
   "source": [
    "df = get_scores(df, dat, classification = 'Treatment', cluster_A = 'ALRN-6924', cluster_B = 'Control', cohort = 'MOLM-13', drug = 'Dexamathasone', target = 'MDMX/MDM2')"
   ]
  },
  {
   "cell_type": "markdown",
   "metadata": {},
   "source": [
    "### Dexamethasone Quizartinib FLT3"
   ]
  },
  {
   "cell_type": "code",
   "execution_count": null,
   "metadata": {},
   "outputs": [],
   "source": [
    "dat = load_fractions(\"Data/Fig5_Literature_DrugResponse/Cell_Lines/CIBERSORTx_DexaQuiz_FLT3.csv\")\n",
    "dat.X = (dat.X.transpose() / dat.X.sum(axis=1)).transpose()\n",
    "dat.obs['Treatment'] = [x[0] for x in dat.obs.index.str.split('-')]\n",
    "dat.obs['Treatment'] = dat.obs['Treatment'].str.replace('DMSO','Control').str.replace('Quiz', 'Quizartinib').str.replace('Dex', 'Dexamathasone')"
   ]
  },
  {
   "cell_type": "code",
   "execution_count": null,
   "metadata": {},
   "outputs": [],
   "source": [
    "newdat = dat.to_df()\n",
    "newdat['PC2'] = (dat.to_df() * PC2_loadings).sum(axis=1)\n",
    "dat = ad.AnnData(newdat, dat.obs)\n",
    "del(newdat)"
   ]
  },
  {
   "cell_type": "code",
   "execution_count": null,
   "metadata": {},
   "outputs": [],
   "source": [
    "df = get_scores(df, dat, classification = 'Treatment', cluster_A = 'Dexamathasone', cluster_B = 'Control', cohort = 'MV4-11', drug = 'Dexamathasone', target = 'FLT3')"
   ]
  },
  {
   "cell_type": "code",
   "execution_count": null,
   "metadata": {},
   "outputs": [],
   "source": [
    "df = get_scores(df, dat, classification = 'Treatment', cluster_A = 'Quizartinib', cluster_B = 'Control', cohort = 'MV4-11', drug = 'Quizartinib', target = 'FLT3')"
   ]
  },
  {
   "cell_type": "code",
   "execution_count": null,
   "metadata": {},
   "outputs": [],
   "source": [
    "df = get_scores(df, dat, classification = 'Treatment', cluster_A = 'Quizartinib + Dexamathasone', cluster_B = 'Control', cohort = 'MV4-11', drug = 'Quizartinib + Dexamathasone', target = 'FLT3')"
   ]
  },
  {
   "cell_type": "markdown",
   "metadata": {},
   "source": [
    "### EPZ5676 GSK 126 DOT1L EZH2 (MV4-11)"
   ]
  },
  {
   "cell_type": "code",
   "execution_count": null,
   "metadata": {},
   "outputs": [],
   "source": [
    "dat = load_fractions(\"Data/Fig5_Literature_DrugResponse/Cell_Lines/CIBERSORTx_EPZGSK_DOT1LEZH2_MV411.csv\")\n",
    "dat.X = (dat.X.transpose() / dat.X.sum(axis=1)).transpose()\n",
    "dat.obs['Treatment'] = [x[0] for x in dat.obs.index.str.split('_')]\n",
    "dat.obs['Treatment'] = dat.obs['Treatment'].str.replace('NC', 'Control').str.replace('low', '').str.replace('high', '').str.replace('EZH2', 'GSK126').str.replace('DOT1L', 'EPZ5676').str.replace('Combo', 'GSK126 + EPZ5676')"
   ]
  },
  {
   "cell_type": "code",
   "execution_count": null,
   "metadata": {},
   "outputs": [],
   "source": [
    "newdat = dat.to_df()\n",
    "newdat['PC2'] = (dat.to_df() * PC2_loadings).sum(axis=1)\n",
    "dat = ad.AnnData(newdat, dat.obs)\n",
    "del(newdat)"
   ]
  },
  {
   "cell_type": "code",
   "execution_count": null,
   "metadata": {},
   "outputs": [],
   "source": [
    "df = get_scores(df, dat, classification = 'Treatment', cluster_A = 'GSK126', cluster_B = 'Control', cohort = 'MV4-11', drug = 'GSK126', target = 'EZH2')"
   ]
  },
  {
   "cell_type": "code",
   "execution_count": null,
   "metadata": {},
   "outputs": [],
   "source": [
    "df = get_scores(df, dat, classification = 'Treatment', cluster_A = 'EPZ5676', cluster_B = 'Control', cohort = 'MV4-11', drug = 'EPZ5676', target = 'DOT1L')"
   ]
  },
  {
   "cell_type": "code",
   "execution_count": null,
   "metadata": {},
   "outputs": [],
   "source": [
    "df = get_scores(df, dat, classification = 'Treatment', cluster_A = 'GSK126 + EPZ5676', cluster_B = 'Control', cohort = 'MV4-11', drug = 'EPZ5676 + GSK126', target = 'DOT1L + EZH2')"
   ]
  },
  {
   "cell_type": "markdown",
   "metadata": {},
   "source": [
    "### EPZ5676 GSK 126 DOT1L EZH2 (MOLM-14)"
   ]
  },
  {
   "cell_type": "code",
   "execution_count": null,
   "metadata": {},
   "outputs": [],
   "source": [
    "dat = load_fractions(\"Data/Fig5_Literature_DrugResponse/Cell_Lines/CIBERSORTx_EPZGSK_DOT1LEZH2_MOLM.csv\")\n",
    "dat.X = (dat.X.transpose() / dat.X.sum(axis=1)).transpose()\n",
    "dat.obs['Treatment'] = [x for x in dat.obs.index]\n",
    "dat.obs['Treatment'] = dat.obs['Treatment'].str.replace('Molm', '').str.replace('[0-9]', '').str.replace('DMSO', 'Control').str.replace('DotL', 'EPZ5676').str.replace('Ezh', 'GSK126').str.replace('Combo', 'GSK126 + EPZ5676')"
   ]
  },
  {
   "cell_type": "code",
   "execution_count": null,
   "metadata": {},
   "outputs": [],
   "source": [
    "newdat = dat.to_df()\n",
    "newdat['PC2'] = (dat.to_df() * PC2_loadings).sum(axis=1)\n",
    "dat = ad.AnnData(newdat, dat.obs)\n",
    "del(newdat)"
   ]
  },
  {
   "cell_type": "code",
   "execution_count": null,
   "metadata": {},
   "outputs": [],
   "source": [
    "df = get_scores(df, dat, classification = 'Treatment', cluster_A = 'GSK126', cluster_B = 'Control', cohort = 'MOLM-14', drug = 'GSK126', target = 'EZH2')"
   ]
  },
  {
   "cell_type": "code",
   "execution_count": null,
   "metadata": {},
   "outputs": [],
   "source": [
    "df = get_scores(df, dat, classification = 'Treatment', cluster_A = 'EPZ5676', cluster_B = 'Control', cohort = 'MOLM-14', drug = 'EPZ5676', target = 'DOT1L')"
   ]
  },
  {
   "cell_type": "code",
   "execution_count": null,
   "metadata": {},
   "outputs": [],
   "source": [
    "df = get_scores(df, dat, classification = 'Treatment', cluster_A = 'GSK126 + EPZ5676', cluster_B = 'Control', cohort = 'MOLM-14', drug = 'EPZ5676 + GSK126', target = 'DOT1L + EZH2')"
   ]
  },
  {
   "cell_type": "markdown",
   "metadata": {},
   "source": [
    "###  BRD0705 BRD0320 GSKa/b"
   ]
  },
  {
   "cell_type": "code",
   "execution_count": null,
   "metadata": {},
   "outputs": [],
   "source": [
    "dat = load_fractions(\"Data/Fig5_Literature_DrugResponse/Cell_Lines/CIBERSORTx_BRD_GSK3ab.csv\")\n",
    "dat.X = (dat.X.transpose() / dat.X.sum(axis=1)).transpose()\n",
    "dat.obs['Treatment'] = [x[1] for x in dat.obs.index.str.split('_')]"
   ]
  },
  {
   "cell_type": "code",
   "execution_count": null,
   "metadata": {},
   "outputs": [],
   "source": [
    "newdat = dat.to_df()\n",
    "newdat['PC2'] = (dat.to_df() * PC2_loadings).sum(axis=1)\n",
    "dat = ad.AnnData(newdat, dat.obs)\n",
    "del(newdat)"
   ]
  },
  {
   "cell_type": "code",
   "execution_count": null,
   "metadata": {},
   "outputs": [],
   "source": [
    "df = get_scores(df, dat, classification = 'Treatment', cluster_A = 'BRD0705', cluster_B = 'Control', cohort = 'U-937', drug = 'BRD0705', target = 'GSK3a')"
   ]
  },
  {
   "cell_type": "code",
   "execution_count": null,
   "metadata": {},
   "outputs": [],
   "source": [
    "df = get_scores(df, dat, classification = 'Treatment', cluster_A = 'BRD0320', cluster_B = 'Control', cohort = 'U-937', drug = 'BRD0320', target = 'GSK3a/b')"
   ]
  },
  {
   "cell_type": "markdown",
   "metadata": {},
   "source": [
    "### CX-5461 I-BET151 Doxorubicin POL-I BET TOPO-II"
   ]
  },
  {
   "cell_type": "code",
   "execution_count": null,
   "metadata": {},
   "outputs": [],
   "source": [
    "dat = load_fractions(\"Data/Fig5_Literature_DrugResponse/Cell_Lines/CIBERSORTx_CX5461IBET151Doxorubicin_POLIBETTOPOII.csv\")\n",
    "dat.X = (dat.X.transpose() / dat.X.sum(axis=1)).transpose()\n",
    "dat.obs['Treatment'] = [x for x in dat.obs.index]\n",
    "dat.obs['Treatment'] = dat.obs['Treatment'].str.replace('\\.[^.]*$', '').str.replace('[0-9]', '').str.replace('.', '_')\n",
    "dat.obs['Treatment'] = dat.obs['Treatment'].str.replace('v', 'Control').str.replace('ib', 'I-BET').str.replace('dox', 'Doxo').str.replace('cx', 'CX')"
   ]
  },
  {
   "cell_type": "code",
   "execution_count": null,
   "metadata": {},
   "outputs": [],
   "source": [
    "newdat = dat.to_df()\n",
    "newdat['PC2'] = (dat.to_df() * PC2_loadings).sum(axis=1)\n",
    "dat = ad.AnnData(newdat, dat.obs)\n",
    "del(newdat)"
   ]
  },
  {
   "cell_type": "code",
   "execution_count": null,
   "metadata": {},
   "outputs": [],
   "source": [
    "df = get_scores(df, dat, classification = 'Treatment', cluster_A = 'CX', cluster_B = 'Control', cohort = 'MV4-11', drug = 'CX-5461', target = 'POL I')"
   ]
  },
  {
   "cell_type": "code",
   "execution_count": null,
   "metadata": {},
   "outputs": [],
   "source": [
    "df = get_scores(df, dat, classification = 'Treatment', cluster_A = 'Doxo', cluster_B = 'Control', cohort = 'MV4-11', drug = 'Doxorubicin', target = 'BET')"
   ]
  },
  {
   "cell_type": "code",
   "execution_count": null,
   "metadata": {},
   "outputs": [],
   "source": [
    "df = get_scores(df, dat, classification = 'Treatment', cluster_A = 'I-BET', cluster_B = 'Control', cohort = 'MV4-11', drug = 'I-BET151', target = 'BET')"
   ]
  },
  {
   "cell_type": "code",
   "execution_count": null,
   "metadata": {},
   "outputs": [],
   "source": [
    "df = get_scores(df, dat, classification = 'Treatment', cluster_A = 'Doxo_I-BET', cluster_B = 'Control', cohort = 'MV4-11', drug = 'Doxorubicin + I-BET151', target = 'BET')"
   ]
  },
  {
   "cell_type": "code",
   "execution_count": null,
   "metadata": {},
   "outputs": [],
   "source": [
    "df = get_scores(df, dat, classification = 'Treatment', cluster_A = 'CX_I-BET', cluster_B = 'Control', cohort = 'MV4-11', drug = 'CX-5461 + I-BET151', target = 'POL I + BET')"
   ]
  },
  {
   "cell_type": "markdown",
   "metadata": {},
   "source": [
    "### VTP-50469 Menin-MLL"
   ]
  },
  {
   "cell_type": "code",
   "execution_count": null,
   "metadata": {},
   "outputs": [],
   "source": [
    "dat = load_fractions(\"Data/Fig5_Literature_DrugResponse/Cell_Lines/CIBERSORTx_VTP50469_MeninMLL.csv\")\n",
    "dat_IMSM2 = dat[:18]\n",
    "dat_IMSM2.X = (dat_IMSM2.X.transpose() / dat_IMSM2.X.sum(axis=1)).transpose()\n",
    "dat_IMSM2.obs['Treatment'] = [x[2] for x in dat_IMSM2.obs.index.str.split('_')]\n",
    "dat_IMSM2.obs['Treatment'] = dat_IMSM2.obs['Treatment'].str.replace('DMSO', 'Control')"
   ]
  },
  {
   "cell_type": "code",
   "execution_count": null,
   "metadata": {},
   "outputs": [],
   "source": [
    "newdat = dat_IMSM2.to_df()\n",
    "newdat['PC2'] = (dat_IMSM2.to_df() * PC2_loadings).sum(axis=1)\n",
    "dat_IMSM2 = ad.AnnData(newdat, dat_IMSM2.obs)\n",
    "del(newdat)"
   ]
  },
  {
   "cell_type": "code",
   "execution_count": null,
   "metadata": {},
   "outputs": [],
   "source": [
    "df = get_scores(df, dat_IMSM2, classification = 'Treatment', cluster_A = 'VTP', cluster_B = 'Control', cohort = 'IMS-M2', drug = 'VTP-50469', target = 'Menin-MLL')"
   ]
  },
  {
   "cell_type": "code",
   "execution_count": null,
   "metadata": {},
   "outputs": [],
   "source": [
    "dat = load_fractions(\"Data/Fig5_Literature_DrugResponse/Cell_Lines/CIBERSORTx_VTP50469_MeninMLL.csv\")\n",
    "dat_OCIAML3 = dat[18:]\n",
    "dat_OCIAML3.X = (dat_OCIAML3.X.transpose() / dat_OCIAML3.X.sum(axis=1)).transpose()\n",
    "dat_OCIAML3.obs['Treatment'] = [x[2] for x in dat_OCIAML3.obs.index.str.split('_')]\n",
    "dat_OCIAML3.obs['Treatment'] = dat_OCIAML3.obs['Treatment'].str.replace('DMSO', 'Control')"
   ]
  },
  {
   "cell_type": "code",
   "execution_count": null,
   "metadata": {},
   "outputs": [],
   "source": [
    "newdat = dat_OCIAML3.to_df()\n",
    "newdat['PC2'] = (dat_OCIAML3.to_df() * PC2_loadings).sum(axis=1)\n",
    "dat_OCIAML3 = ad.AnnData(newdat, dat_OCIAML3.obs)\n",
    "del(newdat)"
   ]
  },
  {
   "cell_type": "code",
   "execution_count": null,
   "metadata": {},
   "outputs": [],
   "source": [
    "df = get_scores(df, dat_OCIAML3, classification = 'Treatment', cluster_A = 'VTP', cluster_B = 'Control', cohort = 'OCI-AML3', drug = 'VTP-50469', target = 'Menin-MLL')"
   ]
  },
  {
   "cell_type": "markdown",
   "metadata": {},
   "source": [
    "### LSD1 MTORC1 OG86/RAD001"
   ]
  },
  {
   "cell_type": "code",
   "execution_count": null,
   "metadata": {},
   "outputs": [],
   "source": [
    "dat = load_fractions(\"Data/Fig5_Literature_DrugResponse/Cell_Lines/CIBERSORTx_OG86RAD001_LSD1MTORC1.csv\")\n",
    "dat.X = (dat.X.transpose() / dat.X.sum(axis=1)).transpose()\n",
    "dat.obs['Treatment'] = [x[0] for x in dat.obs.index.str.split('_')]\n",
    "dat.obs['Treatment'] = dat.obs['Treatment'].str.replace('DMSO', 'Control')"
   ]
  },
  {
   "cell_type": "code",
   "execution_count": null,
   "metadata": {},
   "outputs": [],
   "source": [
    "newdat = dat.to_df()\n",
    "newdat['PC2'] = (dat.to_df() * PC2_loadings).sum(axis=1)\n",
    "dat = ad.AnnData(newdat, dat.obs)\n",
    "del(newdat)"
   ]
  },
  {
   "cell_type": "code",
   "execution_count": null,
   "metadata": {},
   "outputs": [],
   "source": [
    "df = get_scores(df, dat, classification = 'Treatment', cluster_A = 'OG86', cluster_B = 'Control', cohort = 'THP-1', drug = 'OG86', target = 'LSD1')"
   ]
  },
  {
   "cell_type": "code",
   "execution_count": null,
   "metadata": {},
   "outputs": [],
   "source": [
    "df = get_scores(df, dat, classification = 'Treatment', cluster_A = 'RAD001', cluster_B = 'Control', cohort = 'THP-1', drug = 'RAD001', target = 'MTORC1')"
   ]
  },
  {
   "cell_type": "code",
   "execution_count": null,
   "metadata": {},
   "outputs": [],
   "source": [
    "df = get_scores(df, dat, classification = 'Treatment', cluster_A = 'RAD001-OG86', cluster_B = 'Control', cohort = 'THP-1', drug = 'RAD001 + OG86', target = 'LSD1 + MTORC1')"
   ]
  },
  {
   "cell_type": "markdown",
   "metadata": {},
   "source": [
    "### MB3 GSK-LSD1 ATRA GCN5 LSD1 RARA"
   ]
  },
  {
   "cell_type": "code",
   "execution_count": null,
   "metadata": {},
   "outputs": [],
   "source": [
    "dat = load_fractions(\"Data/Fig5_Literature_DrugResponse/Cell_Lines/CIBERSORTx_MB3GSKLSD1ATRA_GCN5LSD1RARA.csv\")\n",
    "dat.X = (dat.X.transpose() / dat.X.sum(axis=1)).transpose()\n",
    "dat.obs['Treatment'] = [x for x in dat.obs.index]\n",
    "dat.obs['Treatment'] = dat.obs['Treatment'].str.replace('untreated', 'Control')\n",
    "dat.obs['Treatment'] = dat.obs['Treatment'].str.replace('^[^_]*_', '').str.replace('_', '-')"
   ]
  },
  {
   "cell_type": "code",
   "execution_count": null,
   "metadata": {},
   "outputs": [],
   "source": [
    "newdat = dat.to_df()\n",
    "newdat['PC2'] = (dat.to_df() * PC2_loadings).sum(axis=1)\n",
    "dat = ad.AnnData(newdat, dat.obs)\n",
    "del(newdat)"
   ]
  },
  {
   "cell_type": "code",
   "execution_count": null,
   "metadata": {},
   "outputs": [],
   "source": [
    "df = get_scores(df, dat, classification = 'Treatment', cluster_A = 'ATRA', cluster_B = 'Control', cohort = 'HL-60', drug = 'ATRA', target = 'RARA')"
   ]
  },
  {
   "cell_type": "code",
   "execution_count": null,
   "metadata": {},
   "outputs": [],
   "source": [
    "df = get_scores(df, dat, classification = 'Treatment', cluster_A = 'MB3', cluster_B = 'Control', cohort = 'HL-60', drug = 'MB3', target = 'GCN5')"
   ]
  },
  {
   "cell_type": "code",
   "execution_count": null,
   "metadata": {},
   "outputs": [],
   "source": [
    "df = get_scores(df, dat, classification = 'Treatment', cluster_A = 'GSK-LSD1', cluster_B = 'Control', cohort = 'HL-60', drug = 'GSK-LSD1', target = 'LSD1')"
   ]
  },
  {
   "cell_type": "code",
   "execution_count": null,
   "metadata": {},
   "outputs": [],
   "source": [
    "df = get_scores(df, dat, classification = 'Treatment', cluster_A = 'ATRA-MB3', cluster_B = 'Control', cohort = 'HL-60', drug = 'ATRA + MB3', target = 'RARA + GCN-5')"
   ]
  },
  {
   "cell_type": "code",
   "execution_count": null,
   "metadata": {},
   "outputs": [],
   "source": [
    "df = get_scores(df, dat, classification = 'Treatment', cluster_A = 'ATRA-GSK-LSD1', cluster_B = 'Control', cohort = 'HL-60', drug = 'ATRA + GSK-LSD1', target = 'RARA + LSD1')"
   ]
  },
  {
   "cell_type": "code",
   "execution_count": null,
   "metadata": {},
   "outputs": [],
   "source": [
    "df = get_scores(df, dat, classification = 'Treatment', cluster_A = 'ATRA-MB3-GSK-LSD1', cluster_B = 'Control', cohort = 'HL-60', drug = 'ATRA + MB3 + GSK-LSD1', target = 'RARA + GCN5 + LSD1')"
   ]
  },
  {
   "cell_type": "markdown",
   "metadata": {},
   "source": [
    "### 22d HDAC8"
   ]
  },
  {
   "cell_type": "code",
   "execution_count": null,
   "metadata": {},
   "outputs": [],
   "source": [
    "dat = load_fractions(\"Data/Fig5_Literature_DrugResponse/Cell_Lines/CIBERSORTx_22d_HDAC8.csv\")\n",
    "dat.X = (dat.X.transpose() / dat.X.sum(axis=1)).transpose()\n",
    "dat.obs['Treatment'] = [x for x in dat.obs.index]\n",
    "dat.obs['Treatment'] = dat.obs['Treatment'].str.replace('[1-3]', '')\n",
    "dat.obs['Treatment'] = dat.obs['Treatment'].str.replace('treat', '22d').str.replace('c', 'C')"
   ]
  },
  {
   "cell_type": "code",
   "execution_count": null,
   "metadata": {},
   "outputs": [],
   "source": [
    "newdat = dat.to_df()\n",
    "newdat['PC2'] = (dat.to_df() * PC2_loadings).sum(axis=1)\n",
    "dat = ad.AnnData(newdat, dat.obs)\n",
    "del(newdat)"
   ]
  },
  {
   "cell_type": "code",
   "execution_count": null,
   "metadata": {},
   "outputs": [],
   "source": [
    "df = get_scores(df, dat, classification = 'Treatment', cluster_A = '22d', cluster_B = 'Control', cohort = 'MV4-11', drug = '22d', target = 'HDAC8')"
   ]
  },
  {
   "cell_type": "markdown",
   "metadata": {},
   "source": [
    "### Entosplentinib SYK"
   ]
  },
  {
   "cell_type": "code",
   "execution_count": null,
   "metadata": {},
   "outputs": [],
   "source": [
    "dat = load_fractions(\"Data/Fig5_Literature_DrugResponse/Cell_Lines/CIBERSORTx_Entosplentinib_SYK.csv\")\n",
    "dat = dat[:12]\n",
    "dat.X = (dat.X.transpose() / dat.X.sum(axis=1)).transpose()\n",
    "dat.obs['Treatment'] = [x[2] for x in dat.obs.index.str.split('_')]\n",
    "dat.obs['Treatment'] = dat.obs['Treatment'].str.replace('DMSO', 'Control')"
   ]
  },
  {
   "cell_type": "code",
   "execution_count": null,
   "metadata": {},
   "outputs": [],
   "source": [
    "newdat = dat.to_df()\n",
    "newdat['PC2'] = (dat.to_df() * PC2_loadings).sum(axis=1)\n",
    "dat = ad.AnnData(newdat, dat.obs)\n",
    "del(newdat)"
   ]
  },
  {
   "cell_type": "code",
   "execution_count": null,
   "metadata": {},
   "outputs": [],
   "source": [
    "df = get_scores(df, dat, classification = 'Treatment', cluster_A = 'Entospletinib', cluster_B = 'Control', cohort = 'MV4-11', drug = 'Entospletinib', target = 'SYK')"
   ]
  },
  {
   "cell_type": "markdown",
   "metadata": {},
   "source": [
    "### Azacitidine Hypometh"
   ]
  },
  {
   "cell_type": "code",
   "execution_count": null,
   "metadata": {},
   "outputs": [],
   "source": [
    "dat = load_fractions(\"Data/Fig5_Literature_DrugResponse/Cell_Lines/CIBERSORTx_Azacytidine_Hypometh.csv\")\n",
    "dat.X = (dat.X.transpose() / dat.X.sum(axis=1)).transpose()\n",
    "dat.obs['Treatment'] = [x[0] for x in dat.obs.index.str.split('_')]"
   ]
  },
  {
   "cell_type": "code",
   "execution_count": null,
   "metadata": {},
   "outputs": [],
   "source": [
    "newdat = dat.to_df()\n",
    "newdat['PC2'] = (dat.to_df() * PC2_loadings).sum(axis=1)\n",
    "dat = ad.AnnData(newdat, dat.obs)\n",
    "del(newdat)"
   ]
  },
  {
   "cell_type": "code",
   "execution_count": null,
   "metadata": {},
   "outputs": [],
   "source": [
    "df = get_scores(df, dat, classification = 'Treatment', cluster_A = 'Azacytidine', cluster_B = 'Control', cohort = 'OCI-AML3', drug = '5-Aza', target = 'Hypometh')"
   ]
  },
  {
   "cell_type": "markdown",
   "metadata": {},
   "source": [
    "### AlCAr Pyrimidine Synthesis"
   ]
  },
  {
   "cell_type": "code",
   "execution_count": null,
   "metadata": {},
   "outputs": [],
   "source": [
    "dat = load_fractions(\"Data/Fig5_Literature_DrugResponse/Cell_Lines/CIBERSORTx_AlCAr_PyrimidineSynthesis.csv\")\n",
    "dat.X = (dat.X.transpose() / dat.X.sum(axis=1)).transpose()\n",
    "dat.obs['Treatment'] = [x[1] for x in dat.obs.index.str.split(' ')]\n",
    "dat.obs['Treatment'] = dat.obs['Treatment'].str.replace('[0-9]','').str.replace('ctrl', 'Control')"
   ]
  },
  {
   "cell_type": "code",
   "execution_count": null,
   "metadata": {},
   "outputs": [],
   "source": [
    "newdat = dat.to_df()\n",
    "newdat['PC2'] = (dat.to_df() * PC2_loadings).sum(axis=1)\n",
    "dat = ad.AnnData(newdat, dat.obs)\n",
    "del(newdat)"
   ]
  },
  {
   "cell_type": "code",
   "execution_count": null,
   "metadata": {},
   "outputs": [],
   "source": [
    "df = get_scores(df, dat, classification = 'Treatment', cluster_A = 'AICAr', cluster_B = 'Control', cohort = 'U-937', drug = 'AlCAr', target = 'Pyrimidine Synthesis')"
   ]
  },
  {
   "cell_type": "markdown",
   "metadata": {},
   "source": [
    "### INCB059872 LSD1"
   ]
  },
  {
   "cell_type": "code",
   "execution_count": null,
   "metadata": {},
   "outputs": [],
   "source": [
    "dat = load_fractions(\"Data/Fig5_Literature_DrugResponse/Cell_Lines/CIBERSORTx_INCB059872_LSD1.csv\")\n",
    "dat.X = (dat.X.transpose() / dat.X.sum(axis=1)).transpose()\n",
    "dat.obs['Treatment'] = [x[0] for x in dat.obs.index.str.split('_')]\n",
    "dat.obs['Treatment'] = dat.obs['Treatment'].str.replace('DMSO', 'Control')"
   ]
  },
  {
   "cell_type": "code",
   "execution_count": null,
   "metadata": {},
   "outputs": [],
   "source": [
    "newdat = dat.to_df()\n",
    "newdat['PC2'] = (dat.to_df() * PC2_loadings).sum(axis=1)\n",
    "dat = ad.AnnData(newdat, dat.obs)\n",
    "del(newdat)"
   ]
  },
  {
   "cell_type": "code",
   "execution_count": null,
   "metadata": {},
   "outputs": [],
   "source": [
    "df = get_scores(df, dat, classification = 'Treatment', cluster_A = 'INCB059872', cluster_B = 'Control', cohort = 'OCI-AML3', drug = 'INCB059872', target = 'LSD1')"
   ]
  },
  {
   "cell_type": "markdown",
   "metadata": {},
   "source": [
    "### AT HA MYB"
   ]
  },
  {
   "cell_type": "code",
   "execution_count": null,
   "metadata": {},
   "outputs": [],
   "source": [
    "dat = load_fractions(\"Data/Fig5_Literature_DrugResponse/Cell_Lines/CIBERSORTx_ATHA_MYB.csv\")\n",
    "dat.X = (dat.X.transpose() / dat.X.sum(axis=1)).transpose()\n",
    "dat.obs['Treatment'] = [x[0] for x in dat.obs.index.str.split('_')]\n",
    "dat.obs['Treatment'] = dat.obs['Treatment'].str.replace('DMSO', 'Control').str.replace('[0-9]', '')"
   ]
  },
  {
   "cell_type": "code",
   "execution_count": null,
   "metadata": {},
   "outputs": [],
   "source": [
    "newdat = dat.to_df()\n",
    "newdat['PC2'] = (dat.to_df() * PC2_loadings).sum(axis=1)\n",
    "dat = ad.AnnData(newdat, dat.obs)\n",
    "del(newdat)"
   ]
  },
  {
   "cell_type": "code",
   "execution_count": null,
   "metadata": {},
   "outputs": [],
   "source": [
    "df = get_scores(df, dat, classification = 'Treatment', cluster_A = 'AT', cluster_B = 'Control', cohort = 'THP-1', drug = 'AT', target = 'MYB')"
   ]
  },
  {
   "cell_type": "code",
   "execution_count": null,
   "metadata": {},
   "outputs": [],
   "source": [
    "df = get_scores(df, dat, classification = 'Treatment', cluster_A = 'HA', cluster_B = 'Control', cohort = 'THP-1', drug = 'HA', target = 'MYB')"
   ]
  },
  {
   "cell_type": "markdown",
   "metadata": {},
   "source": [
    "### GSK3186000A GSK343 PRMT5 EZH2"
   ]
  },
  {
   "cell_type": "code",
   "execution_count": null,
   "metadata": {},
   "outputs": [],
   "source": [
    "dat = load_fractions(\"Data/Fig5_Literature_DrugResponse/Cell_Lines/CIBERSORTx_GSK3186000AGSK343_PRMT5EZH2.csv\")\n",
    "dat.X = (dat.X.transpose() / dat.X.sum(axis=1)).transpose()\n",
    "dat.obs['Treatment'] = [x[0] for x in dat.obs.index.str.split('_')]\n",
    "dat.obs['Treatment'] = dat.obs['Treatment'].str.replace('DMSO', 'Control')"
   ]
  },
  {
   "cell_type": "code",
   "execution_count": null,
   "metadata": {},
   "outputs": [],
   "source": [
    "newdat = dat.to_df()\n",
    "newdat['PC2'] = (dat.to_df() * PC2_loadings).sum(axis=1)\n",
    "dat = ad.AnnData(newdat, dat.obs)\n",
    "del(newdat)"
   ]
  },
  {
   "cell_type": "code",
   "execution_count": null,
   "metadata": {},
   "outputs": [],
   "source": [
    "df = get_scores(df, dat, classification = 'Treatment', cluster_A = 'GSK3186000A', cluster_B = 'Control', cohort = 'MOLM-13', drug = 'GSK3186000A', target = 'PRMT5')"
   ]
  },
  {
   "cell_type": "code",
   "execution_count": null,
   "metadata": {},
   "outputs": [],
   "source": [
    "df = get_scores(df, dat, classification = 'Treatment', cluster_A = 'GSK343', cluster_B = 'Control', cohort = 'MOLM-13', drug = 'GSK343', target = 'EZH2')"
   ]
  },
  {
   "cell_type": "code",
   "execution_count": null,
   "metadata": {},
   "outputs": [],
   "source": [
    "df = get_scores(df, dat, classification = 'Treatment', cluster_A = 'GSK3186000A+GSK343', cluster_B = 'Control', cohort = 'MOLM-13', drug = 'GSK3186000A+GSK343', target = 'PRMT5 + EZH2')"
   ]
  },
  {
   "cell_type": "markdown",
   "metadata": {},
   "source": [
    "### ATRA TSA RARA HDAC"
   ]
  },
  {
   "cell_type": "code",
   "execution_count": null,
   "metadata": {},
   "outputs": [],
   "source": [
    "dat = load_fractions(\"Data/Fig5_Literature_DrugResponse/Cell_Lines/CIBERSORTx_ATRATSA_RARAHDAC.csv\")\n",
    "dat = dat[:12]\n",
    "dat.X = (dat.X.transpose() / dat.X.sum(axis=1)).transpose()\n",
    "dat.obs['Treatment'] = [x[1] for x in dat.obs.index.str.split('_')]\n",
    "dat.obs['Treatment'] = dat.obs['Treatment'].str.replace('DMSO', 'Control')"
   ]
  },
  {
   "cell_type": "code",
   "execution_count": null,
   "metadata": {},
   "outputs": [],
   "source": [
    "newdat = dat.to_df()\n",
    "newdat['PC2'] = (dat.to_df() * PC2_loadings).sum(axis=1)\n",
    "dat = ad.AnnData(newdat, dat.obs)\n",
    "del(newdat)"
   ]
  },
  {
   "cell_type": "code",
   "execution_count": null,
   "metadata": {},
   "outputs": [],
   "source": [
    "df = get_scores(df, dat, classification = 'Treatment', cluster_A = 'ATRA', cluster_B = 'Control', cohort = 'AP-1060', drug = 'ATRA', target = 'RARA')"
   ]
  },
  {
   "cell_type": "code",
   "execution_count": null,
   "metadata": {},
   "outputs": [],
   "source": [
    "df = get_scores(df, dat, classification = 'Treatment', cluster_A = 'TSA', cluster_B = 'Control', cohort = 'AP-1060', drug = 'TSA', target = 'HDAC')"
   ]
  },
  {
   "cell_type": "code",
   "execution_count": null,
   "metadata": {},
   "outputs": [],
   "source": [
    "df = get_scores(df, dat, classification = 'Treatment', cluster_A = 'ATRA+TSA', cluster_B = 'Control', cohort = 'AP-1060', drug = 'ATRA + TSA', target = 'RARA + HDAC')"
   ]
  },
  {
   "cell_type": "code",
   "execution_count": null,
   "metadata": {},
   "outputs": [],
   "source": [
    "dat = load_fractions(\"Data/Fig5_Literature_DrugResponse/Cell_Lines/CIBERSORTx_ATRATSA_RARAHDAC.csv\")\n",
    "dat = dat[12:24]\n",
    "dat.X = (dat.X.transpose() / dat.X.sum(axis=1)).transpose()\n",
    "dat.obs['Treatment'] = [x[1] for x in dat.obs.index.str.split('_')]\n",
    "dat.obs['Treatment'] = dat.obs['Treatment'].str.replace('DMSO', 'Control')"
   ]
  },
  {
   "cell_type": "code",
   "execution_count": null,
   "metadata": {},
   "outputs": [],
   "source": [
    "newdat = dat.to_df()\n",
    "newdat['PC2'] = (dat.to_df() * PC2_loadings).sum(axis=1)\n",
    "dat = ad.AnnData(newdat, dat.obs)\n",
    "del(newdat)"
   ]
  },
  {
   "cell_type": "code",
   "execution_count": null,
   "metadata": {},
   "outputs": [],
   "source": [
    "df = get_scores(df, dat, classification = 'Treatment', cluster_A = 'ATRA', cluster_B = 'Control', cohort = 'HL60', drug = 'ATRA', target = 'RARA')"
   ]
  },
  {
   "cell_type": "code",
   "execution_count": null,
   "metadata": {},
   "outputs": [],
   "source": [
    "df = get_scores(df, dat, classification = 'Treatment', cluster_A = 'TSA', cluster_B = 'Control', cohort = 'HL60', drug = 'TSA', target = 'HDAC')"
   ]
  },
  {
   "cell_type": "code",
   "execution_count": null,
   "metadata": {},
   "outputs": [],
   "source": [
    "df = get_scores(df, dat, classification = 'Treatment', cluster_A = 'ATRA+TSA', cluster_B = 'Control', cohort = 'HL60', drug = 'ATRA + TSA', target = 'RARA + HDAC')"
   ]
  },
  {
   "cell_type": "code",
   "execution_count": null,
   "metadata": {},
   "outputs": [],
   "source": [
    "dat = load_fractions(\"Data/Fig5_Literature_DrugResponse/Cell_Lines/CIBERSORTx_ATRATSA_RARAHDAC.csv\")\n",
    "dat = dat[24:]\n",
    "dat.X = (dat.X.transpose() / dat.X.sum(axis=1)).transpose()\n",
    "dat.obs['Treatment'] = [x[1] for x in dat.obs.index.str.split('_')]\n",
    "dat.obs['Treatment'] = dat.obs['Treatment'].str.replace('DMSO', 'Control')"
   ]
  },
  {
   "cell_type": "code",
   "execution_count": null,
   "metadata": {},
   "outputs": [],
   "source": [
    "newdat = dat.to_df()\n",
    "newdat['PC2'] = (dat.to_df() * PC2_loadings).sum(axis=1)\n",
    "dat = ad.AnnData(newdat, dat.obs)\n",
    "del(newdat)"
   ]
  },
  {
   "cell_type": "code",
   "execution_count": null,
   "metadata": {},
   "outputs": [],
   "source": [
    "df = get_scores(df, dat, classification = 'Treatment', cluster_A = 'ATRA', cluster_B = 'Control', cohort = 'NB-4', drug = 'ATRA', target = 'RARA')"
   ]
  },
  {
   "cell_type": "code",
   "execution_count": null,
   "metadata": {},
   "outputs": [],
   "source": [
    "df = get_scores(df, dat, classification = 'Treatment', cluster_A = 'TSA', cluster_B = 'Control', cohort = 'NB-4', drug = 'TSA', target = 'HDAC')"
   ]
  },
  {
   "cell_type": "code",
   "execution_count": null,
   "metadata": {},
   "outputs": [],
   "source": [
    "df = get_scores(df, dat, classification = 'Treatment', cluster_A = 'ATRA+TSA', cluster_B = 'Control', cohort = 'NB-4', drug = 'ATRA + TSA', target = 'RARA + HDAC')"
   ]
  },
  {
   "cell_type": "markdown",
   "metadata": {},
   "source": [
    "### UNC1999 EZH2/EZH1"
   ]
  },
  {
   "cell_type": "code",
   "execution_count": null,
   "metadata": {},
   "outputs": [],
   "source": [
    "dat = load_fractions(\"Data/Fig5_Literature_DrugResponse/Cell_Lines/CIBERSORTx_UNC1999_EZH.csv\")\n",
    "dat.X = (dat.X.transpose() / dat.X.sum(axis=1)).transpose()\n",
    "dat.obs['Treatment'] = [x[1] for x in dat.obs.index.str.split('_')]\n",
    "dat.obs['Treatment'] = dat.obs['Treatment'].str.replace('DMSO', 'Control')"
   ]
  },
  {
   "cell_type": "code",
   "execution_count": null,
   "metadata": {},
   "outputs": [],
   "source": [
    "newdat = dat.to_df()\n",
    "newdat['PC2'] = (dat.to_df() * PC2_loadings).sum(axis=1)\n",
    "dat = ad.AnnData(newdat, dat.obs)\n",
    "del(newdat)"
   ]
  },
  {
   "cell_type": "code",
   "execution_count": null,
   "metadata": {},
   "outputs": [],
   "source": [
    "df = get_scores(df, dat, classification = 'Treatment', cluster_A = 'UNC1999', cluster_B = 'Control', cohort = 'OCI-AML3', drug = 'UNC1999', target = 'EZH2/EZH1')"
   ]
  },
  {
   "cell_type": "markdown",
   "metadata": {},
   "source": [
    "### Etoposide TOPO II"
   ]
  },
  {
   "cell_type": "code",
   "execution_count": null,
   "metadata": {},
   "outputs": [],
   "source": [
    "dat = load_fractions(\"Data/Fig5_Literature_DrugResponse/Cell_Lines/CIBERSORTx_Etoposide_TOPOII.csv\")\n",
    "dat_F36P = dat[:6]\n",
    "dat_F36P.X = (dat_F36P.X.transpose() / dat_F36P.X.sum(axis=1)).transpose()\n",
    "dat_F36P.obs['Treatment'] = [x[2] for x in dat_F36P.obs.index.str.split('_')]\n",
    "dat_F36P.obs['Treatment'] = dat_F36P.obs['Treatment'].str.replace('VP16','Etoposide').str.replace('CTR', 'Control')"
   ]
  },
  {
   "cell_type": "code",
   "execution_count": null,
   "metadata": {},
   "outputs": [],
   "source": [
    "newdat = dat_F36P.to_df()\n",
    "newdat['PC2'] = (dat_F36P.to_df() * PC2_loadings).sum(axis=1)\n",
    "dat_F36P = ad.AnnData(newdat, dat_F36P.obs)\n",
    "del(newdat)"
   ]
  },
  {
   "cell_type": "code",
   "execution_count": null,
   "metadata": {},
   "outputs": [],
   "source": [
    "df = get_scores(df, dat_F36P, classification = 'Treatment', cluster_A = 'Etoposide', cluster_B = 'Control', cohort = 'F-36P', drug = 'Etoposide', target = 'TOPO II')"
   ]
  },
  {
   "cell_type": "code",
   "execution_count": null,
   "metadata": {},
   "outputs": [],
   "source": [
    "dat = load_fractions(\"Data/Fig5_Literature_DrugResponse/Cell_Lines/CIBERSORTx_Etoposide_TOPOII.csv\")\n",
    "dat_HL60 = dat[6:12]\n",
    "dat_HL60.X = (dat_HL60.X.transpose() / dat_HL60.X.sum(axis=1)).transpose()\n",
    "dat_HL60.obs['Treatment'] = [x[2] for x in dat_HL60.obs.index.str.split('_')]\n",
    "dat_HL60.obs['Treatment'] = dat_HL60.obs['Treatment'].str.replace('VP16','Etoposide').str.replace('CTR', 'Control')"
   ]
  },
  {
   "cell_type": "code",
   "execution_count": null,
   "metadata": {},
   "outputs": [],
   "source": [
    "newdat = dat_HL60.to_df()\n",
    "newdat['PC2'] = (dat_HL60.to_df() * PC2_loadings).sum(axis=1)\n",
    "dat_HL60 = ad.AnnData(newdat, dat_HL60.obs)\n",
    "del(newdat)"
   ]
  },
  {
   "cell_type": "code",
   "execution_count": null,
   "metadata": {},
   "outputs": [],
   "source": [
    "df = get_scores(df, dat_HL60, classification = 'Treatment', cluster_A = 'Etoposide', cluster_B = 'Control', cohort = 'HL-60', drug = 'Etoposide', target = 'TOPO II')"
   ]
  },
  {
   "cell_type": "code",
   "execution_count": null,
   "metadata": {},
   "outputs": [],
   "source": [
    "dat = load_fractions(\"Data/Fig5_Literature_DrugResponse/Cell_Lines/CIBERSORTx_Etoposide_TOPOII.csv\")\n",
    "dat_Kasumi1 = dat[12:18]\n",
    "dat_Kasumi1.X = (dat_Kasumi1.X.transpose() / dat_Kasumi1.X.sum(axis=1)).transpose()\n",
    "dat_Kasumi1.obs['Treatment'] = [x[2] for x in dat_Kasumi1.obs.index.str.split('_')]\n",
    "dat_Kasumi1.obs['Treatment'] = dat_Kasumi1.obs['Treatment'].str.replace('VP16','Etoposide').str.replace('CTR', 'Control')"
   ]
  },
  {
   "cell_type": "code",
   "execution_count": null,
   "metadata": {},
   "outputs": [],
   "source": [
    "newdat = dat_Kasumi1.to_df()\n",
    "newdat['PC2'] = (dat_Kasumi1.to_df() * PC2_loadings).sum(axis=1)\n",
    "dat_Kasumi1 = ad.AnnData(newdat, dat_Kasumi1.obs)\n",
    "del(newdat)"
   ]
  },
  {
   "cell_type": "code",
   "execution_count": null,
   "metadata": {},
   "outputs": [],
   "source": [
    "df = get_scores(df, dat_Kasumi1, classification = 'Treatment', cluster_A = 'Etoposide', cluster_B = 'Control', cohort = 'Kasumi-1', drug = 'Etoposide', target = 'TOPO II')"
   ]
  },
  {
   "cell_type": "code",
   "execution_count": null,
   "metadata": {},
   "outputs": [],
   "source": [
    "dat = load_fractions(\"Data/Fig5_Literature_DrugResponse/Cell_Lines/CIBERSORTx_Etoposide_TOPOII.csv\")\n",
    "dat_MOLM13 = dat[18:24]\n",
    "dat_MOLM13.X = (dat_MOLM13.X.transpose() / dat_MOLM13.X.sum(axis=1)).transpose()\n",
    "dat_MOLM13.obs['Treatment'] = [x[2] for x in dat_MOLM13.obs.index.str.split('_')]\n",
    "dat_MOLM13.obs['Treatment'] = dat_MOLM13.obs['Treatment'].str.replace('VP16','Etoposide').str.replace('CTR', 'Control')"
   ]
  },
  {
   "cell_type": "code",
   "execution_count": null,
   "metadata": {},
   "outputs": [],
   "source": [
    "newdat = dat_MOLM13.to_df()\n",
    "newdat['PC2'] = (dat_MOLM13.to_df() * PC2_loadings).sum(axis=1)\n",
    "dat_MOLM13 = ad.AnnData(newdat, dat_MOLM13.obs)\n",
    "del(newdat)"
   ]
  },
  {
   "cell_type": "code",
   "execution_count": null,
   "metadata": {},
   "outputs": [],
   "source": [
    "df = get_scores(df, dat_MOLM13, classification = 'Treatment', cluster_A = 'Etoposide', cluster_B = 'Control', cohort = 'MOLM-13', drug = 'Etoposide', target = 'TOPO II')"
   ]
  },
  {
   "cell_type": "code",
   "execution_count": null,
   "metadata": {},
   "outputs": [],
   "source": [
    "dat = load_fractions(\"Data/Fig5_Literature_DrugResponse/Cell_Lines/CIBERSORTx_Etoposide_TOPOII.csv\")\n",
    "dat_MonoMac6 = dat[24:30]\n",
    "dat_MonoMac6.X = (dat_MonoMac6.X.transpose() / dat_MonoMac6.X.sum(axis=1)).transpose()\n",
    "dat_MonoMac6.obs['Treatment'] = [x[2] for x in dat_MonoMac6.obs.index.str.split('_')]\n",
    "dat_MonoMac6.obs['Treatment'] = dat_MonoMac6.obs['Treatment'].str.replace('VP16','Etoposide').str.replace('CTR', 'Control')"
   ]
  },
  {
   "cell_type": "code",
   "execution_count": null,
   "metadata": {},
   "outputs": [],
   "source": [
    "newdat = dat_MonoMac6.to_df()\n",
    "newdat['PC2'] = (dat_MonoMac6.to_df() * PC2_loadings).sum(axis=1)\n",
    "dat_MonoMac6 = ad.AnnData(newdat, dat_MonoMac6.obs)\n",
    "del(newdat)"
   ]
  },
  {
   "cell_type": "code",
   "execution_count": null,
   "metadata": {},
   "outputs": [],
   "source": [
    "df = get_scores(df, dat_MonoMac6, classification = 'Treatment', cluster_A = 'Etoposide', cluster_B = 'Control', cohort = 'MonoMac-6', drug = 'Etoposide', target = 'TOPO II')"
   ]
  },
  {
   "cell_type": "code",
   "execution_count": null,
   "metadata": {},
   "outputs": [],
   "source": [
    "dat = load_fractions(\"Data/Fig5_Literature_DrugResponse/Cell_Lines/CIBERSORTx_Etoposide_TOPOII.csv\")\n",
    "dat_MV411 = dat[30:36]\n",
    "dat_MV411.X = (dat_MV411.X.transpose() / dat_MV411.X.sum(axis=1)).transpose()\n",
    "dat_MV411.obs['Treatment'] = [x[2] for x in dat_MV411.obs.index.str.split('_')]\n",
    "dat_MV411.obs['Treatment'] = dat_MV411.obs['Treatment'].str.replace('VP16','Etoposide').str.replace('CTR', 'Control')"
   ]
  },
  {
   "cell_type": "code",
   "execution_count": null,
   "metadata": {},
   "outputs": [],
   "source": [
    "newdat = dat_MV411.to_df()\n",
    "newdat['PC2'] = (dat_MV411.to_df() * PC2_loadings).sum(axis=1)\n",
    "dat_MV411 = ad.AnnData(newdat, dat_MV411.obs)\n",
    "del(newdat)"
   ]
  },
  {
   "cell_type": "code",
   "execution_count": null,
   "metadata": {},
   "outputs": [],
   "source": [
    "df = get_scores(df, dat_MV411, classification = 'Treatment', cluster_A = 'Etoposide', cluster_B = 'Control', cohort = 'MV4-11', drug = 'Etoposide', target = 'TOPO II')"
   ]
  },
  {
   "cell_type": "code",
   "execution_count": null,
   "metadata": {},
   "outputs": [],
   "source": [
    "dat = load_fractions(\"Data/Fig5_Literature_DrugResponse/Cell_Lines/CIBERSORTx_Etoposide_TOPOII.csv\")\n",
    "dat_NB4 = dat[36:42]\n",
    "dat_NB4.X = (dat_NB4.X.transpose() / dat_NB4.X.sum(axis=1)).transpose()\n",
    "dat_NB4.obs['Treatment'] = [x[2] for x in dat_NB4.obs.index.str.split('_')]\n",
    "dat_NB4.obs['Treatment'] = dat_NB4.obs['Treatment'].str.replace('VP16','Etoposide').str.replace('CTR', 'Control')"
   ]
  },
  {
   "cell_type": "code",
   "execution_count": null,
   "metadata": {},
   "outputs": [],
   "source": [
    "newdat = dat_NB4.to_df()\n",
    "newdat['PC2'] = (dat_NB4.to_df() * PC2_loadings).sum(axis=1)\n",
    "dat_NB4 = ad.AnnData(newdat, dat_NB4.obs)\n",
    "del(newdat)"
   ]
  },
  {
   "cell_type": "code",
   "execution_count": null,
   "metadata": {},
   "outputs": [],
   "source": [
    "df = get_scores(df, dat_NB4, classification = 'Treatment', cluster_A = 'Etoposide', cluster_B = 'Control', cohort = 'NB-4', drug = 'Etoposide', target = 'TOPO II')"
   ]
  },
  {
   "cell_type": "code",
   "execution_count": null,
   "metadata": {},
   "outputs": [],
   "source": [
    "dat = load_fractions(\"Data/Fig5_Literature_DrugResponse/Cell_Lines/CIBERSORTx_Etoposide_TOPOII.csv\")\n",
    "dat_NOMO1 = dat[42:48]\n",
    "dat_NOMO1.X = (dat_NOMO1.X.transpose() / dat_NOMO1.X.sum(axis=1)).transpose()\n",
    "dat_NOMO1.obs['Treatment'] = [x[2] for x in dat_NOMO1.obs.index.str.split('_')]\n",
    "dat_NOMO1.obs['Treatment'] = dat_NOMO1.obs['Treatment'].str.replace('VP16','Etoposide').str.replace('CTR', 'Control')"
   ]
  },
  {
   "cell_type": "code",
   "execution_count": null,
   "metadata": {},
   "outputs": [],
   "source": [
    "newdat = dat_NOMO1.to_df()\n",
    "newdat['PC2'] = (dat_NOMO1.to_df() * PC2_loadings).sum(axis=1)\n",
    "dat_NOMO1 = ad.AnnData(newdat, dat_NOMO1.obs)\n",
    "del(newdat)"
   ]
  },
  {
   "cell_type": "code",
   "execution_count": null,
   "metadata": {},
   "outputs": [],
   "source": [
    "df = get_scores(df, dat_NOMO1, classification = 'Treatment', cluster_A = 'Etoposide', cluster_B = 'Control', cohort = 'NOMO-1', drug = 'Etoposide', target = 'TOPO II')"
   ]
  },
  {
   "cell_type": "code",
   "execution_count": null,
   "metadata": {},
   "outputs": [],
   "source": [
    "dat = load_fractions(\"Data/Fig5_Literature_DrugResponse/Cell_Lines/CIBERSORTx_Etoposide_TOPOII.csv\")\n",
    "dat_OCIAML2 = dat[48:54]\n",
    "dat_OCIAML2.X = (dat_OCIAML2.X.transpose() / dat_OCIAML2.X.sum(axis=1)).transpose()\n",
    "dat_OCIAML2.obs['Treatment'] = [x[2] for x in dat_OCIAML2.obs.index.str.split('_')]\n",
    "dat_OCIAML2.obs['Treatment'] = dat_OCIAML2.obs['Treatment'].str.replace('VP16','Etoposide').str.replace('CTR', 'Control')"
   ]
  },
  {
   "cell_type": "code",
   "execution_count": null,
   "metadata": {},
   "outputs": [],
   "source": [
    "newdat = dat_OCIAML2.to_df()\n",
    "newdat['PC2'] = (dat_OCIAML2.to_df() * PC2_loadings).sum(axis=1)\n",
    "dat_OCIAML2 = ad.AnnData(newdat, dat_OCIAML2.obs)\n",
    "del(newdat)"
   ]
  },
  {
   "cell_type": "code",
   "execution_count": null,
   "metadata": {},
   "outputs": [],
   "source": [
    "df = get_scores(df, dat_OCIAML2, classification = 'Treatment', cluster_A = 'Etoposide', cluster_B = 'Control', cohort = 'OCI-AML2', drug = 'Etoposide', target = 'TOPO II')"
   ]
  },
  {
   "cell_type": "code",
   "execution_count": null,
   "metadata": {},
   "outputs": [],
   "source": [
    "dat = load_fractions(\"Data/Fig5_Literature_DrugResponse/Cell_Lines/CIBERSORTx_Etoposide_TOPOII.csv\")\n",
    "dat_OCIAML3 = dat[54:60]\n",
    "dat_OCIAML3.X = (dat_OCIAML3.X.transpose() / dat_OCIAML3.X.sum(axis=1)).transpose()\n",
    "dat_OCIAML3.obs['Treatment'] = [x[2] for x in dat_OCIAML3.obs.index.str.split('_')]\n",
    "dat_OCIAML3.obs['Treatment'] = dat_OCIAML3.obs['Treatment'].str.replace('VP16','Etoposide').str.replace('CTR', 'Control')"
   ]
  },
  {
   "cell_type": "code",
   "execution_count": null,
   "metadata": {},
   "outputs": [],
   "source": [
    "newdat = dat_OCIAML3.to_df()\n",
    "newdat['PC2'] = (dat_OCIAML3.to_df() * PC2_loadings).sum(axis=1)\n",
    "dat_OCIAML3 = ad.AnnData(newdat, dat_OCIAML3.obs)\n",
    "del(newdat)"
   ]
  },
  {
   "cell_type": "code",
   "execution_count": null,
   "metadata": {},
   "outputs": [],
   "source": [
    "df = get_scores(df, dat_OCIAML3, classification = 'Treatment', cluster_A = 'Etoposide', cluster_B = 'Control', cohort = 'OCI-AML3', drug = 'Etoposide', target = 'TOPO II')"
   ]
  },
  {
   "cell_type": "code",
   "execution_count": null,
   "metadata": {},
   "outputs": [],
   "source": [
    "dat = load_fractions(\"Data/Fig5_Literature_DrugResponse/Cell_Lines/CIBERSORTx_Etoposide_TOPOII.csv\")\n",
    "dat_THP1 = dat[60:]\n",
    "dat_THP1.X = (dat_THP1.X.transpose() / dat_THP1.X.sum(axis=1)).transpose()\n",
    "dat_THP1.obs['Treatment'] = [x[2] for x in dat_THP1.obs.index.str.split('_')]\n",
    "dat_THP1.obs['Treatment'] = dat_THP1.obs['Treatment'].str.replace('VP16','Etoposide').str.replace('CTR', 'Control')"
   ]
  },
  {
   "cell_type": "code",
   "execution_count": null,
   "metadata": {},
   "outputs": [],
   "source": [
    "newdat = dat_THP1.to_df()\n",
    "newdat['PC2'] = (dat_THP1.to_df() * PC2_loadings).sum(axis=1)\n",
    "dat_THP1 = ad.AnnData(newdat, dat_THP1.obs)\n",
    "del(newdat)"
   ]
  },
  {
   "cell_type": "code",
   "execution_count": null,
   "metadata": {},
   "outputs": [],
   "source": [
    "df = get_scores(df, dat_THP1, classification = 'Treatment', cluster_A = 'Etoposide', cluster_B = 'Control', cohort = 'THP-1', drug = 'Etoposide', target = 'TOPO II')"
   ]
  },
  {
   "cell_type": "markdown",
   "metadata": {},
   "source": [
    "***"
   ]
  },
  {
   "cell_type": "markdown",
   "metadata": {},
   "source": [
    "## Summarize "
   ]
  },
  {
   "cell_type": "code",
   "execution_count": null,
   "metadata": {},
   "outputs": [],
   "source": [
    "df['CellType'] = df['names'].astype('category').cat.set_categories(['LSPC-Quiescent', 'LSPC-Primed', 'LSPC-Cycle', 'GMP-like', 'ProMono-like', 'Mono-like', 'cDC-like', 'PC2'])"
   ]
  },
  {
   "cell_type": "code",
   "execution_count": null,
   "metadata": {},
   "outputs": [],
   "source": [
    "df['logPval_dir'] = np.where(df['scores'] < 0, np.log(df['pvals']), -np.log(df['pvals']))\n",
    "df['Treatment'] = np.where(df['Cohort']==\"Primary\", df['Drug'], df['Drug'] + \" [\" + df['Cohort'].str.replace('Primary ', '') + \"]\")"
   ]
  },
  {
   "cell_type": "code",
   "execution_count": null,
   "metadata": {},
   "outputs": [],
   "source": [
    "pd.set_option('display.max_rows', 1500)\n",
    "df.CellType = df.names"
   ]
  },
  {
   "cell_type": "code",
   "execution_count": null,
   "metadata": {},
   "outputs": [],
   "source": [
    "df.to_csv('Data/Fig5_Literature_DrugResponse/Drug_Cell_Line_pvalues.csv')"
   ]
  },
  {
   "cell_type": "code",
   "execution_count": null,
   "metadata": {},
   "outputs": [],
   "source": []
  },
  {
   "cell_type": "code",
   "execution_count": null,
   "metadata": {},
   "outputs": [],
   "source": []
  },
  {
   "cell_type": "markdown",
   "metadata": {},
   "source": [
    "# Run on Primary Samples"
   ]
  },
  {
   "cell_type": "code",
   "execution_count": null,
   "metadata": {},
   "outputs": [],
   "source": [
    "def get_scores(df, dat, classification, cluster_A, cluster_B, cohort, drug, target):\n",
    "    # Absolute Scores\n",
    "        \n",
    "    ## Wilcox\n",
    "    temp = get_ranklist(dat, classification, cluster_A, cluster_B, test='wilcoxon')\n",
    "    temp['Cohort'] = cohort\n",
    "    temp['Drug'] = drug\n",
    "    temp['Target'] = target\n",
    "    temp['Test'] = 'wilcox'\n",
    "    temp['CellType'] = temp['names']\n",
    "    temp['logPval_dir'] = np.where(temp['scores'] < 0, np.log(temp['pvals']), -np.log(temp['pvals']))\n",
    "    temp['Treatment'] = np.where(temp['Cohort']==\"Primary\", temp['Drug'], temp['Drug'] + \" [\" + temp['Cohort'].str.replace('Primary ', '') + \"]\")\n",
    "    df = df.append(temp)\n",
    "    \n",
    "    return(df)"
   ]
  },
  {
   "cell_type": "code",
   "execution_count": null,
   "metadata": {},
   "outputs": [],
   "source": [
    "df = pd.DataFrame()"
   ]
  },
  {
   "cell_type": "markdown",
   "metadata": {},
   "source": [
    "### AlCAr Pyrimidine Synthesis"
   ]
  },
  {
   "cell_type": "code",
   "execution_count": null,
   "metadata": {},
   "outputs": [],
   "source": [
    "dat = load_fractions(\"Data/Fig5_Literature_DrugResponse/Primary/CIBERSORTx_AlCAr_PyrimidineSynthesis_Primary.csv\")\n",
    "dat.X = (dat.X.transpose() / dat.X.sum(axis=1)).transpose()\n",
    "dat.obs['Treatment'] = [x[1] for x in dat.obs.index.str.split('_')]\n",
    "dat.obs['Treatment'] = dat.obs['Treatment'].str.replace('[0-9]','').str.replace('ctrl', 'Control')"
   ]
  },
  {
   "cell_type": "code",
   "execution_count": null,
   "metadata": {},
   "outputs": [],
   "source": [
    "newdat = dat.to_df()\n",
    "newdat['PC2'] = (dat.to_df() * PC2_loadings).sum(axis=1)\n",
    "dat = ad.AnnData(newdat, dat.obs)\n",
    "del(newdat)"
   ]
  },
  {
   "cell_type": "code",
   "execution_count": null,
   "metadata": {},
   "outputs": [],
   "source": [
    "df = get_scores(df, dat, 'Treatment', 'AlCAr', 'Control', 'Primary', 'AlCAr', 'Pyrimidine Synthesis')"
   ]
  },
  {
   "cell_type": "markdown",
   "metadata": {},
   "source": [
    "### 5-Aza BAY1436032 IDH"
   ]
  },
  {
   "cell_type": "code",
   "execution_count": null,
   "metadata": {},
   "outputs": [],
   "source": [
    "dat = load_fractions(\"Data/Fig5_Literature_DrugResponse/Primary/CIBERSORTx_AzaBay_HypomethIDH1_Primary.csv\")\n",
    "dat.X = (dat.X.transpose() / dat.X.sum(axis=1)).transpose()\n",
    "dat.obs['Treatment'] = [x[-2] for x in dat.obs.index.str.split('_')]\n",
    "dat.obs['Treatment'] = np.where(dat.obs['Treatment'] == \"AZA-PRL\", \"5-Aza + BAY1436032\", dat.obs['Treatment'])\n",
    "dat.obs['Treatment'] = dat.obs['Treatment'].str.replace(\"Azacitidine\", \"5-Aza\").str.replace(\"PRL\", \"5-Aza + BAY1436032\")"
   ]
  },
  {
   "cell_type": "code",
   "execution_count": null,
   "metadata": {},
   "outputs": [],
   "source": [
    "newdat = dat.to_df()\n",
    "newdat['PC2'] = (dat.to_df() * PC2_loadings).sum(axis=1)\n",
    "dat = ad.AnnData(newdat, dat.obs)\n",
    "del(newdat)"
   ]
  },
  {
   "cell_type": "code",
   "execution_count": null,
   "metadata": {},
   "outputs": [],
   "source": [
    "df = get_scores(df, dat, 'Treatment', 'BAY1436032', 'Control', 'Primary IDH1mut', 'BAY1436032', 'IDH')"
   ]
  },
  {
   "cell_type": "code",
   "execution_count": null,
   "metadata": {},
   "outputs": [],
   "source": [
    "df = get_scores(df, dat, 'Treatment', '5-Aza', 'Control', 'Primary IDH1mut', '5-Aza', 'HMA')"
   ]
  },
  {
   "cell_type": "code",
   "execution_count": null,
   "metadata": {},
   "outputs": [],
   "source": [
    "df = get_scores(df, dat, 'Treatment', '5-Aza + BAY1436032', 'Control', 'Primary IDH1mut', '5-Aza + BAY1436032', 'HMA + IDH')"
   ]
  },
  {
   "cell_type": "markdown",
   "metadata": {},
   "source": [
    "### BCL6 Fx1"
   ]
  },
  {
   "cell_type": "code",
   "execution_count": null,
   "metadata": {},
   "outputs": [],
   "source": [
    "dat = load_fractions(\"Data/Fig5_Literature_DrugResponse/Primary/CIBERSORTx_Fx1_BCL6_Primary.csv\")\n",
    "dat.X = (dat.X.transpose() / dat.X.sum(axis=1)).transpose()\n",
    "dat.obs['Treatment'] = [x[-2] for x in dat.obs.index.str.split('.')]\n",
    "dat.obs['Treatment'] = dat.obs['Treatment'].str.replace('DMSO', 'Control')"
   ]
  },
  {
   "cell_type": "code",
   "execution_count": null,
   "metadata": {},
   "outputs": [],
   "source": [
    "newdat = dat.to_df()\n",
    "newdat['PC2'] = (dat.to_df() * PC2_loadings).sum(axis=1)\n",
    "dat = ad.AnnData(newdat, dat.obs)\n",
    "del(newdat)"
   ]
  },
  {
   "cell_type": "code",
   "execution_count": null,
   "metadata": {},
   "outputs": [],
   "source": [
    "df = get_scores(df, dat, 'Treatment', 'Fx1', 'Control', 'Primary TP53mut', 'Fx1', 'BCL6')"
   ]
  },
  {
   "cell_type": "markdown",
   "metadata": {},
   "source": [
    "### BET CDK9 JQ1 CDKI-73"
   ]
  },
  {
   "cell_type": "code",
   "execution_count": null,
   "metadata": {},
   "outputs": [],
   "source": [
    "dat = load_fractions(\"Data/Fig5_Literature_DrugResponse/Primary/CIBERSORTx_JQ1CDKI-73_BETCDK9_Primary.csv\")\n",
    "dat.X = (dat.X.transpose() / dat.X.sum(axis=1)).transpose()\n",
    "dat.obs['Treatment'] = [x[-1] for x in dat.obs.index.str.split('_')]\n",
    "dat.obs['Treatment'] = dat.obs['Treatment'].str.replace('ctl', 'Control').str.replace('CDKi', 'CDKI-73').str.replace('comb', 'JQ1 + CDKI-73')"
   ]
  },
  {
   "cell_type": "code",
   "execution_count": null,
   "metadata": {},
   "outputs": [],
   "source": [
    "newdat = dat.to_df()\n",
    "newdat['PC2'] = (dat.to_df() * PC2_loadings).sum(axis=1)\n",
    "dat = ad.AnnData(newdat, dat.obs)\n",
    "del(newdat)"
   ]
  },
  {
   "cell_type": "code",
   "execution_count": null,
   "metadata": {},
   "outputs": [],
   "source": [
    "df = get_scores(df, dat, 'Treatment', 'JQ1', 'Control', 'Primary MLL-r', 'JQ1', 'BET')"
   ]
  },
  {
   "cell_type": "code",
   "execution_count": null,
   "metadata": {},
   "outputs": [],
   "source": [
    "df = get_scores(df, dat, 'Treatment', 'CDKI-73', 'Control', 'Primary MLL-r', 'CDKI-73', 'CDK9')"
   ]
  },
  {
   "cell_type": "code",
   "execution_count": null,
   "metadata": {},
   "outputs": [],
   "source": [
    "df = get_scores(df, dat, 'Treatment', 'JQ1 + CDKI-73', 'Control', 'Primary MLL-r', 'JQ1 + CDKI-73', 'BET + CDK9')"
   ]
  },
  {
   "cell_type": "markdown",
   "metadata": {},
   "source": [
    "### HMA LSD1 5-Aza GSK2879552"
   ]
  },
  {
   "cell_type": "code",
   "execution_count": null,
   "metadata": {},
   "outputs": [],
   "source": [
    "dat = load_fractions(\"Data/Fig5_Literature_DrugResponse/Primary/CIBERSORTx_AzaGSK_HMALSD1_Primary.csv\")\n",
    "dat.X = (dat.X.transpose() / dat.X.sum(axis=1)).transpose()\n",
    "dat.obs['Treatment'] = [x[-1] for x in dat.obs.index.str.split('_')]\n",
    "dat.obs['Treatment'] = dat.obs['Treatment'].str.replace('[0-9]','')\n",
    "dat.obs['Treatment'] = dat.obs['Treatment'].str.replace('DMSO', 'Control').str.replace(\"Aza\", \"5-Aza\").str.replace(\"LSDi\", \"GSK2879552\").str.replace(\"GSK2879552plus5-Aza\", \"5-Aza + GSK2879552\")"
   ]
  },
  {
   "cell_type": "code",
   "execution_count": null,
   "metadata": {},
   "outputs": [],
   "source": [
    "newdat = dat.to_df()\n",
    "newdat['PC2'] = (dat.to_df() * PC2_loadings).sum(axis=1)\n",
    "dat = ad.AnnData(newdat, dat.obs)\n",
    "del(newdat)"
   ]
  },
  {
   "cell_type": "code",
   "execution_count": null,
   "metadata": {},
   "outputs": [],
   "source": [
    "df = get_scores(df, dat, 'Treatment', '5-Aza', 'Control', 'Primary TET2mut', '5-Aza', 'HMA')"
   ]
  },
  {
   "cell_type": "code",
   "execution_count": null,
   "metadata": {},
   "outputs": [],
   "source": [
    "df = get_scores(df, dat, 'Treatment', 'GSK2879552', 'Control', 'Primary TET2mut', 'GSK2879552', 'LSD1')"
   ]
  },
  {
   "cell_type": "code",
   "execution_count": null,
   "metadata": {},
   "outputs": [],
   "source": [
    "df = get_scores(df, dat, 'Treatment', '5-Aza + GSK2879552', 'Control', 'Primary TET2mut', '5-Aza + GSK2879552', 'HMA + LSD1')"
   ]
  },
  {
   "cell_type": "markdown",
   "metadata": {},
   "source": [
    "### HMA FLT3 5-Aza Crenolanib"
   ]
  },
  {
   "cell_type": "code",
   "execution_count": null,
   "metadata": {},
   "outputs": [],
   "source": [
    "dat = load_fractions(\"Data/Fig5_Literature_DrugResponse/Primary/CIBERSORTx_CrenolanibAza_FLT3Hypometh_Primary.csv\")\n",
    "dat.X = (dat.X.transpose() / dat.X.sum(axis=1)).transpose()\n",
    "dat.obs['Treatment'] = [x[-2] for x in dat.obs.index.str.split('_')]\n",
    "dat.obs['Treatment'] = dat.obs['Treatment'].str.replace('DMSO', 'Control').str.replace(\"AZA\", \"5-Aza\").str.replace(\"Creno\", \"Crenolanib\").str.replace(\"+\", \" + \")"
   ]
  },
  {
   "cell_type": "code",
   "execution_count": null,
   "metadata": {},
   "outputs": [],
   "source": [
    "newdat = dat.to_df()\n",
    "newdat['PC2'] = (dat.to_df() * PC2_loadings).sum(axis=1)\n",
    "dat = ad.AnnData(newdat, dat.obs)\n",
    "del(newdat)"
   ]
  },
  {
   "cell_type": "code",
   "execution_count": null,
   "metadata": {},
   "outputs": [],
   "source": [
    "df = get_scores(df, dat, 'Treatment', '5-Aza', 'Control', 'Primary FLT3-ITDmut', '5-Aza', 'HMA')"
   ]
  },
  {
   "cell_type": "code",
   "execution_count": null,
   "metadata": {},
   "outputs": [],
   "source": [
    "df = get_scores(df, dat, 'Treatment', 'Crenolanib', 'Control', 'Primary FLT3-ITDmut', 'Crenolanib', 'FLT3')"
   ]
  },
  {
   "cell_type": "code",
   "execution_count": null,
   "metadata": {},
   "outputs": [],
   "source": [
    "df = get_scores(df, dat, 'Treatment', '5-Aza + Crenolanib', 'Control', 'Primary FLT3-ITDmut', '5-Aza + Crenolanib', 'HMA + FLT3')"
   ]
  },
  {
   "cell_type": "markdown",
   "metadata": {},
   "source": [
    "### CD105 TRC105"
   ]
  },
  {
   "cell_type": "code",
   "execution_count": null,
   "metadata": {},
   "outputs": [],
   "source": [
    "dat = load_fractions(\"Data/Fig5_Literature_DrugResponse/Primary/CIBERSORTx_TRC105_CD105_Primary.csv\")\n",
    "dat.X = (dat.X.transpose() / dat.X.sum(axis=1)).transpose()\n",
    "dat.obs['Treatment'] = [x[0] for x in dat.obs.index.str.split('_')]\n",
    "dat.obs['Treatment'] = dat.obs['Treatment'].str.replace('IgG', 'Control')"
   ]
  },
  {
   "cell_type": "code",
   "execution_count": null,
   "metadata": {},
   "outputs": [],
   "source": [
    "newdat = dat.to_df()\n",
    "newdat['PC2'] = (dat.to_df() * PC2_loadings).sum(axis=1)\n",
    "dat = ad.AnnData(newdat, dat.obs)\n",
    "del(newdat)"
   ]
  },
  {
   "cell_type": "code",
   "execution_count": null,
   "metadata": {},
   "outputs": [],
   "source": [
    "df = get_scores(df, dat, 'Treatment', 'TRC105', 'Control', 'Primary', 'TRC105', 'CD105')"
   ]
  },
  {
   "cell_type": "markdown",
   "metadata": {},
   "source": [
    "### XPO1 KPT"
   ]
  },
  {
   "cell_type": "code",
   "execution_count": null,
   "metadata": {},
   "outputs": [],
   "source": [
    "dat = load_fractions(\"Data/Fig5_Literature_DrugResponse/Primary/CIBERSORTx_KPT_XPO1_Primary.csv\")\n",
    "dat.X = (dat.X.transpose() / dat.X.sum(axis=1)).transpose()\n",
    "dat.obs['Treatment'] = [x[-1] for x in dat.obs.index.str.split('_')]\n",
    "dat.obs['Treatment'] = np.where(dat.obs['Treatment'] == 'KPT', 'Selinexor', 'DMSO')\n",
    "dat.obs['Treatment'] = dat.obs['Treatment'].str.replace('DMSO', 'Control')"
   ]
  },
  {
   "cell_type": "code",
   "execution_count": null,
   "metadata": {},
   "outputs": [],
   "source": [
    "newdat = dat.to_df()\n",
    "newdat['PC2'] = (dat.to_df() * PC2_loadings).sum(axis=1)\n",
    "dat = ad.AnnData(newdat, dat.obs)\n",
    "del(newdat)"
   ]
  },
  {
   "cell_type": "code",
   "execution_count": null,
   "metadata": {},
   "outputs": [],
   "source": [
    "df = get_scores(df, dat, 'Treatment', 'Selinexor', 'Control', 'Primary', 'KPT330', 'XPO1')"
   ]
  },
  {
   "cell_type": "markdown",
   "metadata": {},
   "source": [
    "### HDAC/NAMPT AR-42 KPT-9274"
   ]
  },
  {
   "cell_type": "code",
   "execution_count": null,
   "metadata": {},
   "outputs": [],
   "source": [
    "dat = load_fractions(\"Data/Fig5_Literature_DrugResponse/Primary/CIBERSORTx_AR42KPT9274_HDAC8NAMPT_Primary.csv\")\n",
    "dat.X = (dat.X.transpose() / dat.X.sum(axis=1)).transpose()\n",
    "dat.obs['Treatment'] = [x[0] for x in dat.obs.index.str.split('_')]\n",
    "dat.obs['Treatment'] = dat.obs['Treatment'].str.replace('DMSO', 'Control')"
   ]
  },
  {
   "cell_type": "code",
   "execution_count": null,
   "metadata": {},
   "outputs": [],
   "source": [
    "newdat = dat.to_df()\n",
    "newdat['PC2'] = (dat.to_df() * PC2_loadings).sum(axis=1)\n",
    "dat = ad.AnnData(newdat, dat.obs)\n",
    "del(newdat)"
   ]
  },
  {
   "cell_type": "code",
   "execution_count": null,
   "metadata": {},
   "outputs": [],
   "source": [
    "df = get_scores(df, dat, classification = 'Treatment', cluster_A = 'AR-42', cluster_B = 'Control', cohort = 'Primary', drug = 'AR-42', target = 'HDAC8')"
   ]
  },
  {
   "cell_type": "code",
   "execution_count": null,
   "metadata": {},
   "outputs": [],
   "source": [
    "df = get_scores(df, dat, classification = 'Treatment', cluster_A = 'KPT-9274', cluster_B = 'Control', cohort = 'Primary', drug = 'KPT-9274', target = 'NAMPT')"
   ]
  },
  {
   "cell_type": "code",
   "execution_count": null,
   "metadata": {},
   "outputs": [],
   "source": [
    "df = get_scores(df, dat, classification = 'Treatment', cluster_A = 'AR-42+KPT-9274', cluster_B = 'Control', cohort = 'Primary', drug = 'AR-42+KPT-9274', target = 'HDAC8 + NAMPT')"
   ]
  },
  {
   "cell_type": "markdown",
   "metadata": {},
   "source": [
    "# Export Dataframe "
   ]
  },
  {
   "cell_type": "code",
   "execution_count": null,
   "metadata": {},
   "outputs": [],
   "source": [
    "df.to_csv('Data/Fig5_Literature_DrugResponse/Drug_Primary_pvalues.csv')"
   ]
  },
  {
   "cell_type": "code",
   "execution_count": null,
   "metadata": {},
   "outputs": [],
   "source": []
  }
 ],
 "metadata": {
  "kernelspec": {
   "display_name": "Python [conda env:root] *",
   "language": "python",
   "name": "conda-root-py"
  },
  "language_info": {
   "codemirror_mode": {
    "name": "ipython",
    "version": 3
   },
   "file_extension": ".py",
   "mimetype": "text/x-python",
   "name": "python",
   "nbconvert_exporter": "python",
   "pygments_lexer": "ipython3",
   "version": "3.7.6"
  }
 },
 "nbformat": 4,
 "nbformat_minor": 4
}
