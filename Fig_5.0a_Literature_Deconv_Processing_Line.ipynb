{
 "cells": [
  {
   "cell_type": "markdown",
   "metadata": {},
   "source": [
    "# CIBERSORTx Results Analysis"
   ]
  },
  {
   "cell_type": "code",
   "execution_count": 1,
   "metadata": {},
   "outputs": [
    {
     "name": "stderr",
     "output_type": "stream",
     "text": [
      "C:\\Users\\Hp\\Anaconda3\\envs\\single_cell\\lib\\site-packages\\rpy2\\robjects\\packages.py:366: UserWarning: The symbol 'quartz' is not in this R namespace/package.\n",
      "  warnings.warn(\n"
     ]
    },
    {
     "data": {
      "text/html": [
       "<style>.container { width:90% !important; }</style>"
      ],
      "text/plain": [
       "<IPython.core.display.HTML object>"
      ]
     },
     "metadata": {},
     "output_type": "display_data"
    }
   ],
   "source": [
    "import sys \n",
    "%load_ext rpy2.ipython\n",
    "from IPython.core.display import display, HTML\n",
    "display(HTML(\"<style>.container { width:90% !important; }</style>\"))\n",
    "%matplotlib inline\n",
    "import copy\n",
    "import numpy as np\n",
    "import pandas as pd\n",
    "import scanpy as sc\n",
    "import matplotlib.pyplot as plt\n",
    "import anndata as ad\n",
    "import scipy\n",
    "import seaborn as sns\n",
    "sc.set_figure_params(scanpy=True, dpi_save=200)\n",
    "import jenkspy"
   ]
  },
  {
   "cell_type": "code",
   "execution_count": 2,
   "metadata": {},
   "outputs": [],
   "source": [
    "def load_fractions(dem_path):\n",
    "    def scale_series(series): \n",
    "        return((series - np.mean(series))/np.std(series))\n",
    "    def scale_series_mad(series): \n",
    "        return((series - np.median(series))/scipy.stats.median_absolute_deviation(series))\n",
    "\n",
    "    # load CIBERSORT output\n",
    "    dat = sc.read_csv(dem_path, first_column_names=True)\n",
    "    dat = dat[:,~dat.var_names.isin(['P-value', 'Correlation', 'RMSE', 'Absolute score (sig.score)'])]\n",
    "    dat.obs.index.rename('Sample', inplace=True)\n",
    "\n",
    "    # add the absolute scores\n",
    "    cell_type_scores = pd.DataFrame(dat.X, index=dat.obs_names, columns=dat.var_names+\"-Absolute\")\n",
    "    # Yields a tuple of column name and series for each column in the dataframe\n",
    "    for (columnName, columnData) in cell_type_scores.iteritems():\n",
    "        cell_type_scores[columnName.replace('Absolute', 'Abs.Category')] = np.where(columnData.values > np.median(columnData.values), \"High\", \"Low\")\n",
    "\n",
    "    dat.obs = dat.obs.merge(cell_type_scores, how = 'left', left_index=True, right_index=True)\n",
    "\n",
    "    # Relative Scores (tumor only)\n",
    "    relative_scores = pd.DataFrame(dat.X, index=dat.obs_names, columns=dat.var_names+\"-Relative\")\n",
    "    relative_scores = (relative_scores.transpose() / relative_scores.sum(axis=1).transpose()).transpose()\n",
    "    for (columnName, columnData) in relative_scores.iteritems():\n",
    "        relative_scores[columnName.replace('Relative', 'Rel.Category')] = np.where(columnData.values > np.median(columnData.values), \"High\", \"Low\")\n",
    "    dat.obs = dat.obs.merge(relative_scores, how = 'left', left_index=True, right_index=True)\n",
    "    \n",
    "    return dat"
   ]
  },
  {
   "cell_type": "code",
   "execution_count": 5,
   "metadata": {},
   "outputs": [],
   "source": [
    "PC2_loadings = hcat.varm['PCs'][:,1]\n",
    "PC2_loadings = np.array([-0.20023263, -0.08772767, -0.27906924, -0.5126374, 0.7101968, 0.04527085, 0.32419923])"
   ]
  },
  {
   "cell_type": "markdown",
   "metadata": {},
   "source": [
    "## Loading Prediction Output"
   ]
  },
  {
   "cell_type": "code",
   "execution_count": 7,
   "metadata": {},
   "outputs": [],
   "source": [
    "def get_ranklist(dat, classification, cluster_A, cluster_B, test='wilcoxon'):\n",
    "    \n",
    "    adata = dat[dat.obs[classification].isin([cluster_A, cluster_B])]\n",
    "\n",
    "    sc.tl.rank_genes_groups(adata, classification, method = test, n_genes=20000)\n",
    "    sam_cat_DE_df = pd.concat(\n",
    "            [pd.DataFrame(adata.uns['rank_genes_groups']['names']),\n",
    "             pd.DataFrame(adata.uns['rank_genes_groups']['scores']),\n",
    "             pd.DataFrame(adata.uns['rank_genes_groups']['logfoldchanges']),\n",
    "             pd.DataFrame(adata.uns['rank_genes_groups']['pvals'])],\n",
    "        keys = ['names','scores','logfoldchanges', 'pvals'],axis=1)\n",
    "\n",
    "    sam_cat_DE_df.columns = sam_cat_DE_df.columns.swaplevel(0, 1)\n",
    "    sam_cat_DE_df.sort_index(axis=1,level=0,inplace=True)\n",
    "    sam_cat_DE_df = sam_cat_DE_df[cluster_A][['names', 'scores', 'logfoldchanges', 'pvals']]\n",
    "\n",
    "    return(sam_cat_DE_df)"
   ]
  },
  {
   "cell_type": "code",
   "execution_count": 8,
   "metadata": {},
   "outputs": [],
   "source": [
    "def get_scores(df, dat, classification, cluster_A, cluster_B, cohort, drug, target):\n",
    "    # Absolute Scores\n",
    "        \n",
    "    ## Wilcox\n",
    "    temp = get_ranklist(dat, classification, cluster_A, cluster_B, test='wilcoxon')\n",
    "    temp['Cohort'] = cohort\n",
    "    temp['Drug'] = drug\n",
    "    temp['Target'] = target\n",
    "    temp['Test'] = 'wilcox'\n",
    "    df = df.append(temp)\n",
    "    \n",
    "    return(df)"
   ]
  },
  {
   "cell_type": "markdown",
   "metadata": {},
   "source": [
    "# Run on Each Dataset"
   ]
  },
  {
   "cell_type": "code",
   "execution_count": 9,
   "metadata": {},
   "outputs": [],
   "source": [
    "df = pd.DataFrame()"
   ]
  },
  {
   "cell_type": "markdown",
   "metadata": {},
   "source": [
    "## 5 Inhibitor"
   ]
  },
  {
   "cell_type": "code",
   "execution_count": 10,
   "metadata": {},
   "outputs": [],
   "source": [
    "dat = load_fractions(\"Data/Datasets/Cell Lines/CIBERSORTx_Results_5inhibitor_AF9.csv\")\n",
    "dat.X = (dat.X.transpose() / dat.X.sum(axis=1)).transpose()\n",
    "dat.obs.index = dat.obs.index.str.replace('.','_')\n",
    "dat.obs['Treatment'] = [x[1] for x in dat.obs.index.str.split('_')]\n",
    "dat.obs['Treatment'] = dat.obs['Treatment'].str.replace('DMSO','Control')\n",
    "dat.obs['Timepoint'] = [x[2] for x in dat.obs.index.str.split('_')]\n",
    "dat.obs['Line'] = [x[0] for x in dat.obs.index.str.split('_')]\n",
    "dat.obs['Cohort'] = \"5_inhibitors\""
   ]
  },
  {
   "cell_type": "markdown",
   "metadata": {},
   "source": [
    "## 5 Inhibitor nonAF9"
   ]
  },
  {
   "cell_type": "code",
   "execution_count": 11,
   "metadata": {},
   "outputs": [],
   "source": [
    "dat2 = load_fractions(\"Data/Datasets/Cell Lines/CIBERSORTx_Results_5inhibitor_nonAF9.csv\")\n",
    "dat2.X = (dat2.X.transpose() / dat2.X.sum(axis=1)).transpose()\n",
    "dat2.obs.index = dat2.obs.index.str.replace('.','_')\n",
    "dat2.obs['Treatment'] = [x[1] for x in dat2.obs.index.str.split('_')]\n",
    "dat2.obs['Treatment'] = dat2.obs['Treatment'].str.replace('DMSO','Control')\n",
    "dat2.obs['Timepoint'] = [x[2] for x in dat2.obs.index.str.split('_')]\n",
    "dat2.obs['Line'] = [x[0] for x in dat2.obs.index.str.split('_')]\n",
    "dat2.obs['Cohort'] = \"5_inhibitors\""
   ]
  },
  {
   "cell_type": "code",
   "execution_count": 12,
   "metadata": {},
   "outputs": [],
   "source": [
    "dat = dat.concatenate(dat2)\n",
    "del(dat2)"
   ]
  },
  {
   "cell_type": "code",
   "execution_count": 13,
   "metadata": {},
   "outputs": [
    {
     "name": "stderr",
     "output_type": "stream",
     "text": [
      "C:\\Users\\Hp\\Anaconda3\\envs\\single_cell\\lib\\site-packages\\anndata\\utils.py:141: UserWarning: X converted to numpy array with dtype float64\n",
      "  warnings.warn(f\"{name} converted to numpy array with dtype {arr.dtype}\")\n"
     ]
    }
   ],
   "source": [
    "newdat = dat.to_df()\n",
    "newdat['PC2'] = (dat.to_df() * PC2_loadings).sum(axis=1)\n",
    "dat = ad.AnnData(newdat, dat.obs)\n",
    "del(newdat)"
   ]
  },
  {
   "cell_type": "code",
   "execution_count": 14,
   "metadata": {},
   "outputs": [
    {
     "name": "stderr",
     "output_type": "stream",
     "text": [
      "C:\\Users\\Hp\\Anaconda3\\envs\\single_cell\\lib\\site-packages\\anndata\\_core\\anndata.py:1207: ImplicitModificationWarning: Initializing view as actual.\n",
      "  warnings.warn(\n",
      "Trying to set attribute `.obs` of view, copying.\n",
      "... storing 'GMP-like-Abs.Category' as categorical\n",
      "Trying to set attribute `.obs` of view, copying.\n",
      "... storing 'LSPC-Cycle-Abs.Category' as categorical\n",
      "Trying to set attribute `.obs` of view, copying.\n",
      "... storing 'LSPC-Primed-Abs.Category' as categorical\n",
      "Trying to set attribute `.obs` of view, copying.\n",
      "... storing 'LSPC-Quiescent-Abs.Category' as categorical\n",
      "Trying to set attribute `.obs` of view, copying.\n",
      "... storing 'Mono-like-Abs.Category' as categorical\n",
      "Trying to set attribute `.obs` of view, copying.\n",
      "... storing 'ProMono-like-Abs.Category' as categorical\n",
      "Trying to set attribute `.obs` of view, copying.\n",
      "... storing 'cDC-like-Abs.Category' as categorical\n",
      "Trying to set attribute `.obs` of view, copying.\n",
      "... storing 'GMP-like-Rel.Category' as categorical\n",
      "Trying to set attribute `.obs` of view, copying.\n",
      "... storing 'LSPC-Cycle-Rel.Category' as categorical\n",
      "Trying to set attribute `.obs` of view, copying.\n",
      "... storing 'LSPC-Primed-Rel.Category' as categorical\n",
      "Trying to set attribute `.obs` of view, copying.\n",
      "... storing 'LSPC-Quiescent-Rel.Category' as categorical\n",
      "Trying to set attribute `.obs` of view, copying.\n",
      "... storing 'Mono-like-Rel.Category' as categorical\n",
      "Trying to set attribute `.obs` of view, copying.\n",
      "... storing 'ProMono-like-Rel.Category' as categorical\n",
      "Trying to set attribute `.obs` of view, copying.\n",
      "... storing 'cDC-like-Rel.Category' as categorical\n",
      "Trying to set attribute `.obs` of view, copying.\n",
      "... storing 'Treatment' as categorical\n",
      "Trying to set attribute `.obs` of view, copying.\n",
      "... storing 'Timepoint' as categorical\n",
      "Trying to set attribute `.obs` of view, copying.\n",
      "... storing 'Line' as categorical\n",
      "Trying to set attribute `.obs` of view, copying.\n",
      "... storing 'Cohort' as categorical\n",
      "C:\\Users\\Hp\\Anaconda3\\envs\\single_cell\\lib\\site-packages\\scanpy\\tools\\_rank_genes_groups.py:407: RuntimeWarning: invalid value encountered in log2\n",
      "  self.stats[group_name, 'logfoldchanges'] = np.log2(\n",
      "Trying to set attribute `.obs` of view, copying.\n",
      "... storing 'GMP-like-Abs.Category' as categorical\n",
      "Trying to set attribute `.obs` of view, copying.\n",
      "... storing 'LSPC-Cycle-Abs.Category' as categorical\n",
      "Trying to set attribute `.obs` of view, copying.\n",
      "... storing 'LSPC-Primed-Abs.Category' as categorical\n",
      "Trying to set attribute `.obs` of view, copying.\n",
      "... storing 'LSPC-Quiescent-Abs.Category' as categorical\n",
      "Trying to set attribute `.obs` of view, copying.\n",
      "... storing 'Mono-like-Abs.Category' as categorical\n",
      "Trying to set attribute `.obs` of view, copying.\n",
      "... storing 'ProMono-like-Abs.Category' as categorical\n",
      "Trying to set attribute `.obs` of view, copying.\n",
      "... storing 'cDC-like-Abs.Category' as categorical\n",
      "Trying to set attribute `.obs` of view, copying.\n",
      "... storing 'GMP-like-Rel.Category' as categorical\n",
      "Trying to set attribute `.obs` of view, copying.\n",
      "... storing 'LSPC-Cycle-Rel.Category' as categorical\n",
      "Trying to set attribute `.obs` of view, copying.\n",
      "... storing 'LSPC-Primed-Rel.Category' as categorical\n",
      "Trying to set attribute `.obs` of view, copying.\n",
      "... storing 'LSPC-Quiescent-Rel.Category' as categorical\n",
      "Trying to set attribute `.obs` of view, copying.\n",
      "... storing 'Mono-like-Rel.Category' as categorical\n",
      "Trying to set attribute `.obs` of view, copying.\n",
      "... storing 'ProMono-like-Rel.Category' as categorical\n",
      "Trying to set attribute `.obs` of view, copying.\n",
      "... storing 'cDC-like-Rel.Category' as categorical\n",
      "Trying to set attribute `.obs` of view, copying.\n",
      "... storing 'Treatment' as categorical\n",
      "Trying to set attribute `.obs` of view, copying.\n",
      "... storing 'Timepoint' as categorical\n",
      "Trying to set attribute `.obs` of view, copying.\n",
      "... storing 'Line' as categorical\n",
      "Trying to set attribute `.obs` of view, copying.\n",
      "... storing 'Cohort' as categorical\n",
      "Trying to set attribute `.obs` of view, copying.\n",
      "... storing 'GMP-like-Abs.Category' as categorical\n",
      "Trying to set attribute `.obs` of view, copying.\n",
      "... storing 'LSPC-Cycle-Abs.Category' as categorical\n",
      "Trying to set attribute `.obs` of view, copying.\n",
      "... storing 'LSPC-Primed-Abs.Category' as categorical\n",
      "Trying to set attribute `.obs` of view, copying.\n",
      "... storing 'LSPC-Quiescent-Abs.Category' as categorical\n",
      "Trying to set attribute `.obs` of view, copying.\n",
      "... storing 'Mono-like-Abs.Category' as categorical\n",
      "Trying to set attribute `.obs` of view, copying.\n",
      "... storing 'ProMono-like-Abs.Category' as categorical\n",
      "Trying to set attribute `.obs` of view, copying.\n",
      "... storing 'cDC-like-Abs.Category' as categorical\n",
      "Trying to set attribute `.obs` of view, copying.\n",
      "... storing 'GMP-like-Rel.Category' as categorical\n",
      "Trying to set attribute `.obs` of view, copying.\n",
      "... storing 'LSPC-Cycle-Rel.Category' as categorical\n",
      "Trying to set attribute `.obs` of view, copying.\n",
      "... storing 'LSPC-Primed-Rel.Category' as categorical\n",
      "Trying to set attribute `.obs` of view, copying.\n",
      "... storing 'LSPC-Quiescent-Rel.Category' as categorical\n",
      "Trying to set attribute `.obs` of view, copying.\n",
      "... storing 'Mono-like-Rel.Category' as categorical\n",
      "Trying to set attribute `.obs` of view, copying.\n",
      "... storing 'ProMono-like-Rel.Category' as categorical\n",
      "Trying to set attribute `.obs` of view, copying.\n",
      "... storing 'cDC-like-Rel.Category' as categorical\n",
      "Trying to set attribute `.obs` of view, copying.\n",
      "... storing 'Treatment' as categorical\n",
      "Trying to set attribute `.obs` of view, copying.\n",
      "... storing 'Timepoint' as categorical\n",
      "Trying to set attribute `.obs` of view, copying.\n",
      "... storing 'Line' as categorical\n",
      "Trying to set attribute `.obs` of view, copying.\n",
      "... storing 'Cohort' as categorical\n",
      "Trying to set attribute `.obs` of view, copying.\n",
      "... storing 'GMP-like-Abs.Category' as categorical\n",
      "Trying to set attribute `.obs` of view, copying.\n",
      "... storing 'LSPC-Cycle-Abs.Category' as categorical\n",
      "Trying to set attribute `.obs` of view, copying.\n",
      "... storing 'LSPC-Primed-Abs.Category' as categorical\n",
      "Trying to set attribute `.obs` of view, copying.\n",
      "... storing 'LSPC-Quiescent-Abs.Category' as categorical\n",
      "Trying to set attribute `.obs` of view, copying.\n",
      "... storing 'Mono-like-Abs.Category' as categorical\n",
      "Trying to set attribute `.obs` of view, copying.\n",
      "... storing 'ProMono-like-Abs.Category' as categorical\n",
      "Trying to set attribute `.obs` of view, copying.\n",
      "... storing 'cDC-like-Abs.Category' as categorical\n",
      "Trying to set attribute `.obs` of view, copying.\n",
      "... storing 'GMP-like-Rel.Category' as categorical\n",
      "Trying to set attribute `.obs` of view, copying.\n",
      "... storing 'LSPC-Cycle-Rel.Category' as categorical\n",
      "Trying to set attribute `.obs` of view, copying.\n",
      "... storing 'LSPC-Primed-Rel.Category' as categorical\n",
      "Trying to set attribute `.obs` of view, copying.\n",
      "... storing 'LSPC-Quiescent-Rel.Category' as categorical\n",
      "Trying to set attribute `.obs` of view, copying.\n",
      "... storing 'Mono-like-Rel.Category' as categorical\n",
      "Trying to set attribute `.obs` of view, copying.\n",
      "... storing 'ProMono-like-Rel.Category' as categorical\n",
      "Trying to set attribute `.obs` of view, copying.\n",
      "... storing 'cDC-like-Rel.Category' as categorical\n",
      "Trying to set attribute `.obs` of view, copying.\n",
      "... storing 'Treatment' as categorical\n",
      "Trying to set attribute `.obs` of view, copying.\n",
      "... storing 'Timepoint' as categorical\n",
      "Trying to set attribute `.obs` of view, copying.\n",
      "... storing 'Line' as categorical\n",
      "Trying to set attribute `.obs` of view, copying.\n",
      "... storing 'Cohort' as categorical\n",
      "Trying to set attribute `.obs` of view, copying.\n",
      "... storing 'GMP-like-Abs.Category' as categorical\n",
      "Trying to set attribute `.obs` of view, copying.\n",
      "... storing 'LSPC-Cycle-Abs.Category' as categorical\n",
      "Trying to set attribute `.obs` of view, copying.\n",
      "... storing 'LSPC-Primed-Abs.Category' as categorical\n",
      "Trying to set attribute `.obs` of view, copying.\n",
      "... storing 'LSPC-Quiescent-Abs.Category' as categorical\n",
      "Trying to set attribute `.obs` of view, copying.\n",
      "... storing 'Mono-like-Abs.Category' as categorical\n",
      "Trying to set attribute `.obs` of view, copying.\n",
      "... storing 'ProMono-like-Abs.Category' as categorical\n",
      "Trying to set attribute `.obs` of view, copying.\n",
      "... storing 'cDC-like-Abs.Category' as categorical\n",
      "Trying to set attribute `.obs` of view, copying.\n",
      "... storing 'GMP-like-Rel.Category' as categorical\n",
      "Trying to set attribute `.obs` of view, copying.\n",
      "... storing 'LSPC-Cycle-Rel.Category' as categorical\n",
      "Trying to set attribute `.obs` of view, copying.\n",
      "... storing 'LSPC-Primed-Rel.Category' as categorical\n",
      "Trying to set attribute `.obs` of view, copying.\n",
      "... storing 'LSPC-Quiescent-Rel.Category' as categorical\n",
      "Trying to set attribute `.obs` of view, copying.\n",
      "... storing 'Mono-like-Rel.Category' as categorical\n",
      "Trying to set attribute `.obs` of view, copying.\n",
      "... storing 'ProMono-like-Rel.Category' as categorical\n",
      "Trying to set attribute `.obs` of view, copying.\n",
      "... storing 'cDC-like-Rel.Category' as categorical\n",
      "Trying to set attribute `.obs` of view, copying.\n",
      "... storing 'Treatment' as categorical\n",
      "Trying to set attribute `.obs` of view, copying.\n",
      "... storing 'Timepoint' as categorical\n",
      "Trying to set attribute `.obs` of view, copying.\n",
      "... storing 'Line' as categorical\n",
      "Trying to set attribute `.obs` of view, copying.\n",
      "... storing 'Cohort' as categorical\n",
      "Trying to set attribute `.obs` of view, copying.\n",
      "... storing 'GMP-like-Abs.Category' as categorical\n",
      "Trying to set attribute `.obs` of view, copying.\n",
      "... storing 'LSPC-Cycle-Abs.Category' as categorical\n",
      "Trying to set attribute `.obs` of view, copying.\n",
      "... storing 'LSPC-Primed-Abs.Category' as categorical\n",
      "Trying to set attribute `.obs` of view, copying.\n",
      "... storing 'LSPC-Quiescent-Abs.Category' as categorical\n",
      "Trying to set attribute `.obs` of view, copying.\n",
      "... storing 'Mono-like-Abs.Category' as categorical\n",
      "Trying to set attribute `.obs` of view, copying.\n",
      "... storing 'ProMono-like-Abs.Category' as categorical\n",
      "Trying to set attribute `.obs` of view, copying.\n",
      "... storing 'cDC-like-Abs.Category' as categorical\n",
      "Trying to set attribute `.obs` of view, copying.\n",
      "... storing 'GMP-like-Rel.Category' as categorical\n",
      "Trying to set attribute `.obs` of view, copying.\n",
      "... storing 'LSPC-Cycle-Rel.Category' as categorical\n",
      "Trying to set attribute `.obs` of view, copying.\n",
      "... storing 'LSPC-Primed-Rel.Category' as categorical\n",
      "Trying to set attribute `.obs` of view, copying.\n",
      "... storing 'LSPC-Quiescent-Rel.Category' as categorical\n",
      "Trying to set attribute `.obs` of view, copying.\n",
      "... storing 'Mono-like-Rel.Category' as categorical\n",
      "Trying to set attribute `.obs` of view, copying.\n",
      "... storing 'ProMono-like-Rel.Category' as categorical\n",
      "Trying to set attribute `.obs` of view, copying.\n",
      "... storing 'cDC-like-Rel.Category' as categorical\n",
      "Trying to set attribute `.obs` of view, copying.\n",
      "... storing 'Treatment' as categorical\n",
      "Trying to set attribute `.obs` of view, copying.\n",
      "... storing 'Timepoint' as categorical\n",
      "Trying to set attribute `.obs` of view, copying.\n",
      "... storing 'Line' as categorical\n",
      "Trying to set attribute `.obs` of view, copying.\n",
      "... storing 'Cohort' as categorical\n",
      "Trying to set attribute `.obs` of view, copying.\n",
      "... storing 'GMP-like-Abs.Category' as categorical\n",
      "Trying to set attribute `.obs` of view, copying.\n",
      "... storing 'LSPC-Cycle-Abs.Category' as categorical\n",
      "Trying to set attribute `.obs` of view, copying.\n",
      "... storing 'LSPC-Primed-Abs.Category' as categorical\n",
      "Trying to set attribute `.obs` of view, copying.\n",
      "... storing 'LSPC-Quiescent-Abs.Category' as categorical\n",
      "Trying to set attribute `.obs` of view, copying.\n",
      "... storing 'Mono-like-Abs.Category' as categorical\n",
      "Trying to set attribute `.obs` of view, copying.\n",
      "... storing 'ProMono-like-Abs.Category' as categorical\n",
      "Trying to set attribute `.obs` of view, copying.\n",
      "... storing 'cDC-like-Abs.Category' as categorical\n",
      "Trying to set attribute `.obs` of view, copying.\n",
      "... storing 'GMP-like-Rel.Category' as categorical\n",
      "Trying to set attribute `.obs` of view, copying.\n",
      "... storing 'LSPC-Cycle-Rel.Category' as categorical\n",
      "Trying to set attribute `.obs` of view, copying.\n",
      "... storing 'LSPC-Primed-Rel.Category' as categorical\n",
      "Trying to set attribute `.obs` of view, copying.\n",
      "... storing 'LSPC-Quiescent-Rel.Category' as categorical\n",
      "Trying to set attribute `.obs` of view, copying.\n",
      "... storing 'Mono-like-Rel.Category' as categorical\n",
      "Trying to set attribute `.obs` of view, copying.\n",
      "... storing 'ProMono-like-Rel.Category' as categorical\n",
      "Trying to set attribute `.obs` of view, copying.\n",
      "... storing 'cDC-like-Rel.Category' as categorical\n",
      "Trying to set attribute `.obs` of view, copying.\n",
      "... storing 'Treatment' as categorical\n",
      "Trying to set attribute `.obs` of view, copying.\n",
      "... storing 'Timepoint' as categorical\n",
      "Trying to set attribute `.obs` of view, copying.\n",
      "... storing 'Line' as categorical\n",
      "Trying to set attribute `.obs` of view, copying.\n",
      "... storing 'Cohort' as categorical\n",
      "Trying to set attribute `.obs` of view, copying.\n",
      "... storing 'GMP-like-Abs.Category' as categorical\n",
      "Trying to set attribute `.obs` of view, copying.\n",
      "... storing 'LSPC-Cycle-Abs.Category' as categorical\n",
      "Trying to set attribute `.obs` of view, copying.\n",
      "... storing 'LSPC-Primed-Abs.Category' as categorical\n",
      "Trying to set attribute `.obs` of view, copying.\n",
      "... storing 'LSPC-Quiescent-Abs.Category' as categorical\n",
      "Trying to set attribute `.obs` of view, copying.\n",
      "... storing 'Mono-like-Abs.Category' as categorical\n",
      "Trying to set attribute `.obs` of view, copying.\n",
      "... storing 'ProMono-like-Abs.Category' as categorical\n",
      "Trying to set attribute `.obs` of view, copying.\n",
      "... storing 'cDC-like-Abs.Category' as categorical\n",
      "Trying to set attribute `.obs` of view, copying.\n",
      "... storing 'GMP-like-Rel.Category' as categorical\n",
      "Trying to set attribute `.obs` of view, copying.\n",
      "... storing 'LSPC-Cycle-Rel.Category' as categorical\n",
      "Trying to set attribute `.obs` of view, copying.\n",
      "... storing 'LSPC-Primed-Rel.Category' as categorical\n",
      "Trying to set attribute `.obs` of view, copying.\n",
      "... storing 'LSPC-Quiescent-Rel.Category' as categorical\n",
      "Trying to set attribute `.obs` of view, copying.\n",
      "... storing 'Mono-like-Rel.Category' as categorical\n",
      "Trying to set attribute `.obs` of view, copying.\n",
      "... storing 'ProMono-like-Rel.Category' as categorical\n",
      "Trying to set attribute `.obs` of view, copying.\n",
      "... storing 'cDC-like-Rel.Category' as categorical\n",
      "Trying to set attribute `.obs` of view, copying.\n",
      "... storing 'Treatment' as categorical\n",
      "Trying to set attribute `.obs` of view, copying.\n",
      "... storing 'Timepoint' as categorical\n",
      "Trying to set attribute `.obs` of view, copying.\n",
      "... storing 'Line' as categorical\n",
      "Trying to set attribute `.obs` of view, copying.\n",
      "... storing 'Cohort' as categorical\n",
      "Trying to set attribute `.obs` of view, copying.\n",
      "... storing 'GMP-like-Abs.Category' as categorical\n",
      "Trying to set attribute `.obs` of view, copying.\n",
      "... storing 'LSPC-Cycle-Abs.Category' as categorical\n",
      "Trying to set attribute `.obs` of view, copying.\n",
      "... storing 'LSPC-Primed-Abs.Category' as categorical\n",
      "Trying to set attribute `.obs` of view, copying.\n",
      "... storing 'LSPC-Quiescent-Abs.Category' as categorical\n",
      "Trying to set attribute `.obs` of view, copying.\n",
      "... storing 'Mono-like-Abs.Category' as categorical\n",
      "Trying to set attribute `.obs` of view, copying.\n",
      "... storing 'ProMono-like-Abs.Category' as categorical\n",
      "Trying to set attribute `.obs` of view, copying.\n",
      "... storing 'cDC-like-Abs.Category' as categorical\n",
      "Trying to set attribute `.obs` of view, copying.\n",
      "... storing 'GMP-like-Rel.Category' as categorical\n",
      "Trying to set attribute `.obs` of view, copying.\n",
      "... storing 'LSPC-Cycle-Rel.Category' as categorical\n",
      "Trying to set attribute `.obs` of view, copying.\n",
      "... storing 'LSPC-Primed-Rel.Category' as categorical\n",
      "Trying to set attribute `.obs` of view, copying.\n",
      "... storing 'LSPC-Quiescent-Rel.Category' as categorical\n",
      "Trying to set attribute `.obs` of view, copying.\n",
      "... storing 'Mono-like-Rel.Category' as categorical\n",
      "Trying to set attribute `.obs` of view, copying.\n",
      "... storing 'ProMono-like-Rel.Category' as categorical\n",
      "Trying to set attribute `.obs` of view, copying.\n",
      "... storing 'cDC-like-Rel.Category' as categorical\n",
      "Trying to set attribute `.obs` of view, copying.\n",
      "... storing 'Treatment' as categorical\n",
      "Trying to set attribute `.obs` of view, copying.\n",
      "... storing 'Timepoint' as categorical\n",
      "Trying to set attribute `.obs` of view, copying.\n",
      "... storing 'Line' as categorical\n",
      "Trying to set attribute `.obs` of view, copying.\n",
      "... storing 'Cohort' as categorical\n",
      "Trying to set attribute `.obs` of view, copying.\n",
      "... storing 'GMP-like-Abs.Category' as categorical\n",
      "Trying to set attribute `.obs` of view, copying.\n",
      "... storing 'LSPC-Cycle-Abs.Category' as categorical\n",
      "Trying to set attribute `.obs` of view, copying.\n",
      "... storing 'LSPC-Primed-Abs.Category' as categorical\n",
      "Trying to set attribute `.obs` of view, copying.\n",
      "... storing 'LSPC-Quiescent-Abs.Category' as categorical\n",
      "Trying to set attribute `.obs` of view, copying.\n",
      "... storing 'Mono-like-Abs.Category' as categorical\n",
      "Trying to set attribute `.obs` of view, copying.\n",
      "... storing 'ProMono-like-Abs.Category' as categorical\n",
      "Trying to set attribute `.obs` of view, copying.\n",
      "... storing 'cDC-like-Abs.Category' as categorical\n",
      "Trying to set attribute `.obs` of view, copying.\n",
      "... storing 'GMP-like-Rel.Category' as categorical\n",
      "Trying to set attribute `.obs` of view, copying.\n",
      "... storing 'LSPC-Cycle-Rel.Category' as categorical\n",
      "Trying to set attribute `.obs` of view, copying.\n",
      "... storing 'LSPC-Primed-Rel.Category' as categorical\n",
      "Trying to set attribute `.obs` of view, copying.\n",
      "... storing 'LSPC-Quiescent-Rel.Category' as categorical\n",
      "Trying to set attribute `.obs` of view, copying.\n",
      "... storing 'Mono-like-Rel.Category' as categorical\n",
      "Trying to set attribute `.obs` of view, copying.\n",
      "... storing 'ProMono-like-Rel.Category' as categorical\n",
      "Trying to set attribute `.obs` of view, copying.\n",
      "... storing 'cDC-like-Rel.Category' as categorical\n",
      "Trying to set attribute `.obs` of view, copying.\n",
      "... storing 'Treatment' as categorical\n",
      "Trying to set attribute `.obs` of view, copying.\n",
      "... storing 'Timepoint' as categorical\n",
      "Trying to set attribute `.obs` of view, copying.\n",
      "... storing 'Line' as categorical\n",
      "Trying to set attribute `.obs` of view, copying.\n",
      "... storing 'Cohort' as categorical\n",
      "Trying to set attribute `.obs` of view, copying.\n",
      "... storing 'GMP-like-Abs.Category' as categorical\n",
      "Trying to set attribute `.obs` of view, copying.\n",
      "... storing 'LSPC-Cycle-Abs.Category' as categorical\n",
      "Trying to set attribute `.obs` of view, copying.\n",
      "... storing 'LSPC-Primed-Abs.Category' as categorical\n",
      "Trying to set attribute `.obs` of view, copying.\n",
      "... storing 'LSPC-Quiescent-Abs.Category' as categorical\n",
      "Trying to set attribute `.obs` of view, copying.\n",
      "... storing 'Mono-like-Abs.Category' as categorical\n",
      "Trying to set attribute `.obs` of view, copying.\n",
      "... storing 'ProMono-like-Abs.Category' as categorical\n",
      "Trying to set attribute `.obs` of view, copying.\n",
      "... storing 'cDC-like-Abs.Category' as categorical\n",
      "Trying to set attribute `.obs` of view, copying.\n",
      "... storing 'GMP-like-Rel.Category' as categorical\n",
      "Trying to set attribute `.obs` of view, copying.\n",
      "... storing 'LSPC-Cycle-Rel.Category' as categorical\n",
      "Trying to set attribute `.obs` of view, copying.\n",
      "... storing 'LSPC-Primed-Rel.Category' as categorical\n",
      "Trying to set attribute `.obs` of view, copying.\n",
      "... storing 'LSPC-Quiescent-Rel.Category' as categorical\n",
      "Trying to set attribute `.obs` of view, copying.\n",
      "... storing 'Mono-like-Rel.Category' as categorical\n",
      "Trying to set attribute `.obs` of view, copying.\n",
      "... storing 'ProMono-like-Rel.Category' as categorical\n",
      "Trying to set attribute `.obs` of view, copying.\n",
      "... storing 'cDC-like-Rel.Category' as categorical\n",
      "Trying to set attribute `.obs` of view, copying.\n",
      "... storing 'Treatment' as categorical\n",
      "Trying to set attribute `.obs` of view, copying.\n",
      "... storing 'Timepoint' as categorical\n",
      "Trying to set attribute `.obs` of view, copying.\n",
      "... storing 'Line' as categorical\n",
      "Trying to set attribute `.obs` of view, copying.\n",
      "... storing 'Cohort' as categorical\n",
      "Trying to set attribute `.obs` of view, copying.\n",
      "... storing 'GMP-like-Abs.Category' as categorical\n",
      "Trying to set attribute `.obs` of view, copying.\n",
      "... storing 'LSPC-Cycle-Abs.Category' as categorical\n",
      "Trying to set attribute `.obs` of view, copying.\n",
      "... storing 'LSPC-Primed-Abs.Category' as categorical\n",
      "Trying to set attribute `.obs` of view, copying.\n",
      "... storing 'LSPC-Quiescent-Abs.Category' as categorical\n",
      "Trying to set attribute `.obs` of view, copying.\n",
      "... storing 'Mono-like-Abs.Category' as categorical\n",
      "Trying to set attribute `.obs` of view, copying.\n",
      "... storing 'ProMono-like-Abs.Category' as categorical\n",
      "Trying to set attribute `.obs` of view, copying.\n",
      "... storing 'cDC-like-Abs.Category' as categorical\n",
      "Trying to set attribute `.obs` of view, copying.\n",
      "... storing 'GMP-like-Rel.Category' as categorical\n",
      "Trying to set attribute `.obs` of view, copying.\n",
      "... storing 'LSPC-Cycle-Rel.Category' as categorical\n",
      "Trying to set attribute `.obs` of view, copying.\n",
      "... storing 'LSPC-Primed-Rel.Category' as categorical\n",
      "Trying to set attribute `.obs` of view, copying.\n",
      "... storing 'LSPC-Quiescent-Rel.Category' as categorical\n",
      "Trying to set attribute `.obs` of view, copying.\n",
      "... storing 'Mono-like-Rel.Category' as categorical\n",
      "Trying to set attribute `.obs` of view, copying.\n",
      "... storing 'ProMono-like-Rel.Category' as categorical\n",
      "Trying to set attribute `.obs` of view, copying.\n",
      "... storing 'cDC-like-Rel.Category' as categorical\n",
      "Trying to set attribute `.obs` of view, copying.\n",
      "... storing 'Treatment' as categorical\n",
      "Trying to set attribute `.obs` of view, copying.\n",
      "... storing 'Timepoint' as categorical\n",
      "Trying to set attribute `.obs` of view, copying.\n",
      "... storing 'Line' as categorical\n",
      "Trying to set attribute `.obs` of view, copying.\n",
      "... storing 'Cohort' as categorical\n",
      "Trying to set attribute `.obs` of view, copying.\n",
      "... storing 'GMP-like-Abs.Category' as categorical\n",
      "Trying to set attribute `.obs` of view, copying.\n",
      "... storing 'LSPC-Cycle-Abs.Category' as categorical\n",
      "Trying to set attribute `.obs` of view, copying.\n",
      "... storing 'LSPC-Primed-Abs.Category' as categorical\n",
      "Trying to set attribute `.obs` of view, copying.\n",
      "... storing 'LSPC-Quiescent-Abs.Category' as categorical\n",
      "Trying to set attribute `.obs` of view, copying.\n",
      "... storing 'Mono-like-Abs.Category' as categorical\n",
      "Trying to set attribute `.obs` of view, copying.\n",
      "... storing 'ProMono-like-Abs.Category' as categorical\n",
      "Trying to set attribute `.obs` of view, copying.\n",
      "... storing 'cDC-like-Abs.Category' as categorical\n",
      "Trying to set attribute `.obs` of view, copying.\n",
      "... storing 'GMP-like-Rel.Category' as categorical\n",
      "Trying to set attribute `.obs` of view, copying.\n",
      "... storing 'LSPC-Cycle-Rel.Category' as categorical\n",
      "Trying to set attribute `.obs` of view, copying.\n",
      "... storing 'LSPC-Primed-Rel.Category' as categorical\n",
      "Trying to set attribute `.obs` of view, copying.\n",
      "... storing 'LSPC-Quiescent-Rel.Category' as categorical\n",
      "Trying to set attribute `.obs` of view, copying.\n",
      "... storing 'Mono-like-Rel.Category' as categorical\n",
      "Trying to set attribute `.obs` of view, copying.\n",
      "... storing 'ProMono-like-Rel.Category' as categorical\n",
      "Trying to set attribute `.obs` of view, copying.\n",
      "... storing 'cDC-like-Rel.Category' as categorical\n",
      "Trying to set attribute `.obs` of view, copying.\n",
      "... storing 'Treatment' as categorical\n",
      "Trying to set attribute `.obs` of view, copying.\n",
      "... storing 'Timepoint' as categorical\n",
      "Trying to set attribute `.obs` of view, copying.\n",
      "... storing 'Line' as categorical\n",
      "Trying to set attribute `.obs` of view, copying.\n",
      "... storing 'Cohort' as categorical\n",
      "Trying to set attribute `.obs` of view, copying.\n",
      "... storing 'GMP-like-Abs.Category' as categorical\n",
      "Trying to set attribute `.obs` of view, copying.\n",
      "... storing 'LSPC-Cycle-Abs.Category' as categorical\n",
      "Trying to set attribute `.obs` of view, copying.\n",
      "... storing 'LSPC-Primed-Abs.Category' as categorical\n",
      "Trying to set attribute `.obs` of view, copying.\n",
      "... storing 'LSPC-Quiescent-Abs.Category' as categorical\n",
      "Trying to set attribute `.obs` of view, copying.\n",
      "... storing 'Mono-like-Abs.Category' as categorical\n",
      "Trying to set attribute `.obs` of view, copying.\n",
      "... storing 'ProMono-like-Abs.Category' as categorical\n",
      "Trying to set attribute `.obs` of view, copying.\n",
      "... storing 'cDC-like-Abs.Category' as categorical\n",
      "Trying to set attribute `.obs` of view, copying.\n",
      "... storing 'GMP-like-Rel.Category' as categorical\n",
      "Trying to set attribute `.obs` of view, copying.\n",
      "... storing 'LSPC-Cycle-Rel.Category' as categorical\n",
      "Trying to set attribute `.obs` of view, copying.\n",
      "... storing 'LSPC-Primed-Rel.Category' as categorical\n",
      "Trying to set attribute `.obs` of view, copying.\n",
      "... storing 'LSPC-Quiescent-Rel.Category' as categorical\n",
      "Trying to set attribute `.obs` of view, copying.\n",
      "... storing 'Mono-like-Rel.Category' as categorical\n",
      "Trying to set attribute `.obs` of view, copying.\n",
      "... storing 'ProMono-like-Rel.Category' as categorical\n",
      "Trying to set attribute `.obs` of view, copying.\n",
      "... storing 'cDC-like-Rel.Category' as categorical\n",
      "Trying to set attribute `.obs` of view, copying.\n",
      "... storing 'Treatment' as categorical\n",
      "Trying to set attribute `.obs` of view, copying.\n",
      "... storing 'Timepoint' as categorical\n",
      "Trying to set attribute `.obs` of view, copying.\n",
      "... storing 'Line' as categorical\n",
      "Trying to set attribute `.obs` of view, copying.\n",
      "... storing 'Cohort' as categorical\n",
      "Trying to set attribute `.obs` of view, copying.\n",
      "... storing 'GMP-like-Abs.Category' as categorical\n",
      "Trying to set attribute `.obs` of view, copying.\n",
      "... storing 'LSPC-Cycle-Abs.Category' as categorical\n",
      "Trying to set attribute `.obs` of view, copying.\n",
      "... storing 'LSPC-Primed-Abs.Category' as categorical\n",
      "Trying to set attribute `.obs` of view, copying.\n",
      "... storing 'LSPC-Quiescent-Abs.Category' as categorical\n",
      "Trying to set attribute `.obs` of view, copying.\n",
      "... storing 'Mono-like-Abs.Category' as categorical\n",
      "Trying to set attribute `.obs` of view, copying.\n",
      "... storing 'ProMono-like-Abs.Category' as categorical\n",
      "Trying to set attribute `.obs` of view, copying.\n",
      "... storing 'cDC-like-Abs.Category' as categorical\n",
      "Trying to set attribute `.obs` of view, copying.\n",
      "... storing 'GMP-like-Rel.Category' as categorical\n",
      "Trying to set attribute `.obs` of view, copying.\n",
      "... storing 'LSPC-Cycle-Rel.Category' as categorical\n",
      "Trying to set attribute `.obs` of view, copying.\n",
      "... storing 'LSPC-Primed-Rel.Category' as categorical\n",
      "Trying to set attribute `.obs` of view, copying.\n",
      "... storing 'LSPC-Quiescent-Rel.Category' as categorical\n",
      "Trying to set attribute `.obs` of view, copying.\n",
      "... storing 'Mono-like-Rel.Category' as categorical\n",
      "Trying to set attribute `.obs` of view, copying.\n",
      "... storing 'ProMono-like-Rel.Category' as categorical\n",
      "Trying to set attribute `.obs` of view, copying.\n",
      "... storing 'cDC-like-Rel.Category' as categorical\n",
      "Trying to set attribute `.obs` of view, copying.\n",
      "... storing 'Treatment' as categorical\n",
      "Trying to set attribute `.obs` of view, copying.\n",
      "... storing 'Timepoint' as categorical\n",
      "Trying to set attribute `.obs` of view, copying.\n",
      "... storing 'Line' as categorical\n",
      "Trying to set attribute `.obs` of view, copying.\n",
      "... storing 'Cohort' as categorical\n",
      "Trying to set attribute `.obs` of view, copying.\n",
      "... storing 'GMP-like-Abs.Category' as categorical\n",
      "Trying to set attribute `.obs` of view, copying.\n",
      "... storing 'LSPC-Cycle-Abs.Category' as categorical\n",
      "Trying to set attribute `.obs` of view, copying.\n",
      "... storing 'LSPC-Primed-Abs.Category' as categorical\n",
      "Trying to set attribute `.obs` of view, copying.\n",
      "... storing 'LSPC-Quiescent-Abs.Category' as categorical\n",
      "Trying to set attribute `.obs` of view, copying.\n",
      "... storing 'Mono-like-Abs.Category' as categorical\n",
      "Trying to set attribute `.obs` of view, copying.\n",
      "... storing 'ProMono-like-Abs.Category' as categorical\n",
      "Trying to set attribute `.obs` of view, copying.\n",
      "... storing 'cDC-like-Abs.Category' as categorical\n",
      "Trying to set attribute `.obs` of view, copying.\n",
      "... storing 'GMP-like-Rel.Category' as categorical\n",
      "Trying to set attribute `.obs` of view, copying.\n",
      "... storing 'LSPC-Cycle-Rel.Category' as categorical\n",
      "Trying to set attribute `.obs` of view, copying.\n",
      "... storing 'LSPC-Primed-Rel.Category' as categorical\n",
      "Trying to set attribute `.obs` of view, copying.\n",
      "... storing 'LSPC-Quiescent-Rel.Category' as categorical\n",
      "Trying to set attribute `.obs` of view, copying.\n",
      "... storing 'Mono-like-Rel.Category' as categorical\n",
      "Trying to set attribute `.obs` of view, copying.\n",
      "... storing 'ProMono-like-Rel.Category' as categorical\n",
      "Trying to set attribute `.obs` of view, copying.\n",
      "... storing 'cDC-like-Rel.Category' as categorical\n",
      "Trying to set attribute `.obs` of view, copying.\n",
      "... storing 'Treatment' as categorical\n",
      "Trying to set attribute `.obs` of view, copying.\n",
      "... storing 'Timepoint' as categorical\n",
      "Trying to set attribute `.obs` of view, copying.\n",
      "... storing 'Line' as categorical\n",
      "Trying to set attribute `.obs` of view, copying.\n",
      "... storing 'Cohort' as categorical\n",
      "Trying to set attribute `.obs` of view, copying.\n",
      "... storing 'GMP-like-Abs.Category' as categorical\n",
      "Trying to set attribute `.obs` of view, copying.\n",
      "... storing 'LSPC-Cycle-Abs.Category' as categorical\n",
      "Trying to set attribute `.obs` of view, copying.\n",
      "... storing 'LSPC-Primed-Abs.Category' as categorical\n",
      "Trying to set attribute `.obs` of view, copying.\n",
      "... storing 'LSPC-Quiescent-Abs.Category' as categorical\n",
      "Trying to set attribute `.obs` of view, copying.\n",
      "... storing 'Mono-like-Abs.Category' as categorical\n",
      "Trying to set attribute `.obs` of view, copying.\n",
      "... storing 'ProMono-like-Abs.Category' as categorical\n",
      "Trying to set attribute `.obs` of view, copying.\n",
      "... storing 'cDC-like-Abs.Category' as categorical\n",
      "Trying to set attribute `.obs` of view, copying.\n",
      "... storing 'GMP-like-Rel.Category' as categorical\n",
      "Trying to set attribute `.obs` of view, copying.\n",
      "... storing 'LSPC-Cycle-Rel.Category' as categorical\n",
      "Trying to set attribute `.obs` of view, copying.\n",
      "... storing 'LSPC-Primed-Rel.Category' as categorical\n",
      "Trying to set attribute `.obs` of view, copying.\n",
      "... storing 'LSPC-Quiescent-Rel.Category' as categorical\n",
      "Trying to set attribute `.obs` of view, copying.\n",
      "... storing 'Mono-like-Rel.Category' as categorical\n",
      "Trying to set attribute `.obs` of view, copying.\n",
      "... storing 'ProMono-like-Rel.Category' as categorical\n",
      "Trying to set attribute `.obs` of view, copying.\n",
      "... storing 'cDC-like-Rel.Category' as categorical\n",
      "Trying to set attribute `.obs` of view, copying.\n",
      "... storing 'Treatment' as categorical\n",
      "Trying to set attribute `.obs` of view, copying.\n",
      "... storing 'Timepoint' as categorical\n",
      "Trying to set attribute `.obs` of view, copying.\n",
      "... storing 'Line' as categorical\n",
      "Trying to set attribute `.obs` of view, copying.\n",
      "... storing 'Cohort' as categorical\n",
      "Trying to set attribute `.obs` of view, copying.\n",
      "... storing 'GMP-like-Abs.Category' as categorical\n",
      "Trying to set attribute `.obs` of view, copying.\n",
      "... storing 'LSPC-Cycle-Abs.Category' as categorical\n",
      "Trying to set attribute `.obs` of view, copying.\n",
      "... storing 'LSPC-Primed-Abs.Category' as categorical\n",
      "Trying to set attribute `.obs` of view, copying.\n",
      "... storing 'LSPC-Quiescent-Abs.Category' as categorical\n",
      "Trying to set attribute `.obs` of view, copying.\n",
      "... storing 'Mono-like-Abs.Category' as categorical\n",
      "Trying to set attribute `.obs` of view, copying.\n",
      "... storing 'ProMono-like-Abs.Category' as categorical\n",
      "Trying to set attribute `.obs` of view, copying.\n",
      "... storing 'cDC-like-Abs.Category' as categorical\n",
      "Trying to set attribute `.obs` of view, copying.\n",
      "... storing 'GMP-like-Rel.Category' as categorical\n",
      "Trying to set attribute `.obs` of view, copying.\n",
      "... storing 'LSPC-Cycle-Rel.Category' as categorical\n",
      "Trying to set attribute `.obs` of view, copying.\n",
      "... storing 'LSPC-Primed-Rel.Category' as categorical\n",
      "Trying to set attribute `.obs` of view, copying.\n",
      "... storing 'LSPC-Quiescent-Rel.Category' as categorical\n",
      "Trying to set attribute `.obs` of view, copying.\n",
      "... storing 'Mono-like-Rel.Category' as categorical\n",
      "Trying to set attribute `.obs` of view, copying.\n",
      "... storing 'ProMono-like-Rel.Category' as categorical\n",
      "Trying to set attribute `.obs` of view, copying.\n",
      "... storing 'cDC-like-Rel.Category' as categorical\n",
      "Trying to set attribute `.obs` of view, copying.\n",
      "... storing 'Treatment' as categorical\n",
      "Trying to set attribute `.obs` of view, copying.\n",
      "... storing 'Timepoint' as categorical\n",
      "Trying to set attribute `.obs` of view, copying.\n",
      "... storing 'Line' as categorical\n",
      "Trying to set attribute `.obs` of view, copying.\n",
      "... storing 'Cohort' as categorical\n",
      "Trying to set attribute `.obs` of view, copying.\n",
      "... storing 'GMP-like-Abs.Category' as categorical\n",
      "Trying to set attribute `.obs` of view, copying.\n",
      "... storing 'LSPC-Cycle-Abs.Category' as categorical\n",
      "Trying to set attribute `.obs` of view, copying.\n",
      "... storing 'LSPC-Primed-Abs.Category' as categorical\n",
      "Trying to set attribute `.obs` of view, copying.\n",
      "... storing 'LSPC-Quiescent-Abs.Category' as categorical\n",
      "Trying to set attribute `.obs` of view, copying.\n",
      "... storing 'Mono-like-Abs.Category' as categorical\n",
      "Trying to set attribute `.obs` of view, copying.\n",
      "... storing 'ProMono-like-Abs.Category' as categorical\n",
      "Trying to set attribute `.obs` of view, copying.\n",
      "... storing 'cDC-like-Abs.Category' as categorical\n",
      "Trying to set attribute `.obs` of view, copying.\n",
      "... storing 'GMP-like-Rel.Category' as categorical\n",
      "Trying to set attribute `.obs` of view, copying.\n",
      "... storing 'LSPC-Cycle-Rel.Category' as categorical\n",
      "Trying to set attribute `.obs` of view, copying.\n",
      "... storing 'LSPC-Primed-Rel.Category' as categorical\n",
      "Trying to set attribute `.obs` of view, copying.\n",
      "... storing 'LSPC-Quiescent-Rel.Category' as categorical\n",
      "Trying to set attribute `.obs` of view, copying.\n",
      "... storing 'Mono-like-Rel.Category' as categorical\n",
      "Trying to set attribute `.obs` of view, copying.\n",
      "... storing 'ProMono-like-Rel.Category' as categorical\n",
      "Trying to set attribute `.obs` of view, copying.\n",
      "... storing 'cDC-like-Rel.Category' as categorical\n",
      "Trying to set attribute `.obs` of view, copying.\n",
      "... storing 'Treatment' as categorical\n",
      "Trying to set attribute `.obs` of view, copying.\n",
      "... storing 'Timepoint' as categorical\n",
      "Trying to set attribute `.obs` of view, copying.\n",
      "... storing 'Line' as categorical\n",
      "Trying to set attribute `.obs` of view, copying.\n",
      "... storing 'Cohort' as categorical\n",
      "Trying to set attribute `.obs` of view, copying.\n",
      "... storing 'GMP-like-Abs.Category' as categorical\n",
      "Trying to set attribute `.obs` of view, copying.\n",
      "... storing 'LSPC-Cycle-Abs.Category' as categorical\n",
      "Trying to set attribute `.obs` of view, copying.\n",
      "... storing 'LSPC-Primed-Abs.Category' as categorical\n",
      "Trying to set attribute `.obs` of view, copying.\n",
      "... storing 'LSPC-Quiescent-Abs.Category' as categorical\n",
      "Trying to set attribute `.obs` of view, copying.\n",
      "... storing 'Mono-like-Abs.Category' as categorical\n",
      "Trying to set attribute `.obs` of view, copying.\n",
      "... storing 'ProMono-like-Abs.Category' as categorical\n",
      "Trying to set attribute `.obs` of view, copying.\n",
      "... storing 'cDC-like-Abs.Category' as categorical\n",
      "Trying to set attribute `.obs` of view, copying.\n",
      "... storing 'GMP-like-Rel.Category' as categorical\n",
      "Trying to set attribute `.obs` of view, copying.\n",
      "... storing 'LSPC-Cycle-Rel.Category' as categorical\n",
      "Trying to set attribute `.obs` of view, copying.\n",
      "... storing 'LSPC-Primed-Rel.Category' as categorical\n",
      "Trying to set attribute `.obs` of view, copying.\n",
      "... storing 'LSPC-Quiescent-Rel.Category' as categorical\n",
      "Trying to set attribute `.obs` of view, copying.\n",
      "... storing 'Mono-like-Rel.Category' as categorical\n",
      "Trying to set attribute `.obs` of view, copying.\n",
      "... storing 'ProMono-like-Rel.Category' as categorical\n",
      "Trying to set attribute `.obs` of view, copying.\n",
      "... storing 'cDC-like-Rel.Category' as categorical\n",
      "Trying to set attribute `.obs` of view, copying.\n",
      "... storing 'Treatment' as categorical\n",
      "Trying to set attribute `.obs` of view, copying.\n",
      "... storing 'Timepoint' as categorical\n",
      "Trying to set attribute `.obs` of view, copying.\n",
      "... storing 'Line' as categorical\n",
      "Trying to set attribute `.obs` of view, copying.\n",
      "... storing 'Cohort' as categorical\n"
     ]
    }
   ],
   "source": [
    "# MLL-AF9\n",
    "for line in ['MOLM13', 'MOLM14', 'OCIAML2', 'NOMO1']:\n",
    "    df = get_scores(df, dat[(dat.obs.Timepoint == '24h') & (dat.obs.Line == line)], 'Treatment', 'Brequinar', 'Control', line, 'Brequinar', 'DHODH')\n",
    "    df = get_scores(df, dat[(dat.obs.Timepoint == '24h') & (dat.obs.Line == line)], 'Treatment', 'BAY155', 'Control', line, 'BAY155', 'Menin-MLL')\n",
    "    df = get_scores(df, dat[(dat.obs.Timepoint == '96h') & (dat.obs.Line == line)], 'Treatment', 'EPZ5676', 'Control', line, 'EPZ5676', 'DOT1L')\n",
    "    df = get_scores(df, dat[(dat.obs.Timepoint.isin(['8h', '24h'])) & (dat.obs.Line == line)], 'Treatment', 'OTX015', 'Control', line, 'OTX015', 'BET')\n",
    "    df = get_scores(df, dat[(dat.obs.Timepoint.isin(['8h', '24h'])) & (dat.obs.Line == line)], 'Treatment', 'BAY1251152', 'Control', line, 'BAY1251152', 'CDK9')"
   ]
  },
  {
   "cell_type": "code",
   "execution_count": 15,
   "metadata": {},
   "outputs": [
    {
     "name": "stderr",
     "output_type": "stream",
     "text": [
      "Trying to set attribute `.obs` of view, copying.\n",
      "... storing 'GMP-like-Abs.Category' as categorical\n",
      "Trying to set attribute `.obs` of view, copying.\n",
      "... storing 'LSPC-Cycle-Abs.Category' as categorical\n",
      "Trying to set attribute `.obs` of view, copying.\n",
      "... storing 'LSPC-Primed-Abs.Category' as categorical\n",
      "Trying to set attribute `.obs` of view, copying.\n",
      "... storing 'LSPC-Quiescent-Abs.Category' as categorical\n",
      "Trying to set attribute `.obs` of view, copying.\n",
      "... storing 'Mono-like-Abs.Category' as categorical\n",
      "Trying to set attribute `.obs` of view, copying.\n",
      "... storing 'ProMono-like-Abs.Category' as categorical\n",
      "Trying to set attribute `.obs` of view, copying.\n",
      "... storing 'cDC-like-Abs.Category' as categorical\n",
      "Trying to set attribute `.obs` of view, copying.\n",
      "... storing 'GMP-like-Rel.Category' as categorical\n",
      "Trying to set attribute `.obs` of view, copying.\n",
      "... storing 'LSPC-Cycle-Rel.Category' as categorical\n",
      "Trying to set attribute `.obs` of view, copying.\n",
      "... storing 'LSPC-Primed-Rel.Category' as categorical\n",
      "Trying to set attribute `.obs` of view, copying.\n",
      "... storing 'LSPC-Quiescent-Rel.Category' as categorical\n",
      "Trying to set attribute `.obs` of view, copying.\n",
      "... storing 'Mono-like-Rel.Category' as categorical\n",
      "Trying to set attribute `.obs` of view, copying.\n",
      "... storing 'ProMono-like-Rel.Category' as categorical\n",
      "Trying to set attribute `.obs` of view, copying.\n",
      "... storing 'cDC-like-Rel.Category' as categorical\n",
      "Trying to set attribute `.obs` of view, copying.\n",
      "... storing 'Treatment' as categorical\n",
      "Trying to set attribute `.obs` of view, copying.\n",
      "... storing 'Timepoint' as categorical\n",
      "Trying to set attribute `.obs` of view, copying.\n",
      "... storing 'Line' as categorical\n",
      "Trying to set attribute `.obs` of view, copying.\n",
      "... storing 'Cohort' as categorical\n",
      "Trying to set attribute `.obs` of view, copying.\n",
      "... storing 'GMP-like-Abs.Category' as categorical\n",
      "Trying to set attribute `.obs` of view, copying.\n",
      "... storing 'LSPC-Cycle-Abs.Category' as categorical\n",
      "Trying to set attribute `.obs` of view, copying.\n",
      "... storing 'LSPC-Primed-Abs.Category' as categorical\n",
      "Trying to set attribute `.obs` of view, copying.\n",
      "... storing 'LSPC-Quiescent-Abs.Category' as categorical\n",
      "Trying to set attribute `.obs` of view, copying.\n",
      "... storing 'Mono-like-Abs.Category' as categorical\n",
      "Trying to set attribute `.obs` of view, copying.\n",
      "... storing 'ProMono-like-Abs.Category' as categorical\n",
      "Trying to set attribute `.obs` of view, copying.\n",
      "... storing 'cDC-like-Abs.Category' as categorical\n",
      "Trying to set attribute `.obs` of view, copying.\n",
      "... storing 'GMP-like-Rel.Category' as categorical\n",
      "Trying to set attribute `.obs` of view, copying.\n",
      "... storing 'LSPC-Cycle-Rel.Category' as categorical\n",
      "Trying to set attribute `.obs` of view, copying.\n",
      "... storing 'LSPC-Primed-Rel.Category' as categorical\n",
      "Trying to set attribute `.obs` of view, copying.\n",
      "... storing 'LSPC-Quiescent-Rel.Category' as categorical\n",
      "Trying to set attribute `.obs` of view, copying.\n",
      "... storing 'Mono-like-Rel.Category' as categorical\n",
      "Trying to set attribute `.obs` of view, copying.\n",
      "... storing 'ProMono-like-Rel.Category' as categorical\n",
      "Trying to set attribute `.obs` of view, copying.\n",
      "... storing 'cDC-like-Rel.Category' as categorical\n",
      "Trying to set attribute `.obs` of view, copying.\n",
      "... storing 'Treatment' as categorical\n",
      "Trying to set attribute `.obs` of view, copying.\n",
      "... storing 'Timepoint' as categorical\n",
      "Trying to set attribute `.obs` of view, copying.\n",
      "... storing 'Line' as categorical\n",
      "Trying to set attribute `.obs` of view, copying.\n",
      "... storing 'Cohort' as categorical\n",
      "Trying to set attribute `.obs` of view, copying.\n",
      "... storing 'GMP-like-Abs.Category' as categorical\n",
      "Trying to set attribute `.obs` of view, copying.\n",
      "... storing 'LSPC-Cycle-Abs.Category' as categorical\n",
      "Trying to set attribute `.obs` of view, copying.\n",
      "... storing 'LSPC-Primed-Abs.Category' as categorical\n",
      "Trying to set attribute `.obs` of view, copying.\n",
      "... storing 'LSPC-Quiescent-Abs.Category' as categorical\n",
      "Trying to set attribute `.obs` of view, copying.\n",
      "... storing 'Mono-like-Abs.Category' as categorical\n",
      "Trying to set attribute `.obs` of view, copying.\n",
      "... storing 'ProMono-like-Abs.Category' as categorical\n",
      "Trying to set attribute `.obs` of view, copying.\n",
      "... storing 'cDC-like-Abs.Category' as categorical\n",
      "Trying to set attribute `.obs` of view, copying.\n",
      "... storing 'GMP-like-Rel.Category' as categorical\n",
      "Trying to set attribute `.obs` of view, copying.\n",
      "... storing 'LSPC-Cycle-Rel.Category' as categorical\n",
      "Trying to set attribute `.obs` of view, copying.\n",
      "... storing 'LSPC-Primed-Rel.Category' as categorical\n",
      "Trying to set attribute `.obs` of view, copying.\n",
      "... storing 'LSPC-Quiescent-Rel.Category' as categorical\n",
      "Trying to set attribute `.obs` of view, copying.\n",
      "... storing 'Mono-like-Rel.Category' as categorical\n",
      "Trying to set attribute `.obs` of view, copying.\n",
      "... storing 'ProMono-like-Rel.Category' as categorical\n",
      "Trying to set attribute `.obs` of view, copying.\n",
      "... storing 'cDC-like-Rel.Category' as categorical\n",
      "Trying to set attribute `.obs` of view, copying.\n",
      "... storing 'Treatment' as categorical\n",
      "Trying to set attribute `.obs` of view, copying.\n",
      "... storing 'Timepoint' as categorical\n",
      "Trying to set attribute `.obs` of view, copying.\n",
      "... storing 'Line' as categorical\n",
      "Trying to set attribute `.obs` of view, copying.\n",
      "... storing 'Cohort' as categorical\n",
      "Trying to set attribute `.obs` of view, copying.\n",
      "... storing 'GMP-like-Abs.Category' as categorical\n",
      "Trying to set attribute `.obs` of view, copying.\n",
      "... storing 'LSPC-Cycle-Abs.Category' as categorical\n",
      "Trying to set attribute `.obs` of view, copying.\n",
      "... storing 'LSPC-Primed-Abs.Category' as categorical\n",
      "Trying to set attribute `.obs` of view, copying.\n",
      "... storing 'LSPC-Quiescent-Abs.Category' as categorical\n",
      "Trying to set attribute `.obs` of view, copying.\n",
      "... storing 'Mono-like-Abs.Category' as categorical\n",
      "Trying to set attribute `.obs` of view, copying.\n",
      "... storing 'ProMono-like-Abs.Category' as categorical\n",
      "Trying to set attribute `.obs` of view, copying.\n",
      "... storing 'cDC-like-Abs.Category' as categorical\n",
      "Trying to set attribute `.obs` of view, copying.\n",
      "... storing 'GMP-like-Rel.Category' as categorical\n",
      "Trying to set attribute `.obs` of view, copying.\n",
      "... storing 'LSPC-Cycle-Rel.Category' as categorical\n",
      "Trying to set attribute `.obs` of view, copying.\n",
      "... storing 'LSPC-Primed-Rel.Category' as categorical\n",
      "Trying to set attribute `.obs` of view, copying.\n",
      "... storing 'LSPC-Quiescent-Rel.Category' as categorical\n",
      "Trying to set attribute `.obs` of view, copying.\n",
      "... storing 'Mono-like-Rel.Category' as categorical\n",
      "Trying to set attribute `.obs` of view, copying.\n",
      "... storing 'ProMono-like-Rel.Category' as categorical\n",
      "Trying to set attribute `.obs` of view, copying.\n",
      "... storing 'cDC-like-Rel.Category' as categorical\n",
      "Trying to set attribute `.obs` of view, copying.\n",
      "... storing 'Treatment' as categorical\n",
      "Trying to set attribute `.obs` of view, copying.\n",
      "... storing 'Timepoint' as categorical\n",
      "Trying to set attribute `.obs` of view, copying.\n",
      "... storing 'Line' as categorical\n",
      "Trying to set attribute `.obs` of view, copying.\n",
      "... storing 'Cohort' as categorical\n",
      "Trying to set attribute `.obs` of view, copying.\n",
      "... storing 'GMP-like-Abs.Category' as categorical\n",
      "Trying to set attribute `.obs` of view, copying.\n",
      "... storing 'LSPC-Cycle-Abs.Category' as categorical\n",
      "Trying to set attribute `.obs` of view, copying.\n",
      "... storing 'LSPC-Primed-Abs.Category' as categorical\n",
      "Trying to set attribute `.obs` of view, copying.\n",
      "... storing 'LSPC-Quiescent-Abs.Category' as categorical\n",
      "Trying to set attribute `.obs` of view, copying.\n",
      "... storing 'Mono-like-Abs.Category' as categorical\n",
      "Trying to set attribute `.obs` of view, copying.\n",
      "... storing 'ProMono-like-Abs.Category' as categorical\n",
      "Trying to set attribute `.obs` of view, copying.\n",
      "... storing 'cDC-like-Abs.Category' as categorical\n",
      "Trying to set attribute `.obs` of view, copying.\n",
      "... storing 'GMP-like-Rel.Category' as categorical\n",
      "Trying to set attribute `.obs` of view, copying.\n",
      "... storing 'LSPC-Cycle-Rel.Category' as categorical\n",
      "Trying to set attribute `.obs` of view, copying.\n",
      "... storing 'LSPC-Primed-Rel.Category' as categorical\n",
      "Trying to set attribute `.obs` of view, copying.\n",
      "... storing 'LSPC-Quiescent-Rel.Category' as categorical\n",
      "Trying to set attribute `.obs` of view, copying.\n",
      "... storing 'Mono-like-Rel.Category' as categorical\n",
      "Trying to set attribute `.obs` of view, copying.\n",
      "... storing 'ProMono-like-Rel.Category' as categorical\n",
      "Trying to set attribute `.obs` of view, copying.\n",
      "... storing 'cDC-like-Rel.Category' as categorical\n",
      "Trying to set attribute `.obs` of view, copying.\n",
      "... storing 'Treatment' as categorical\n",
      "Trying to set attribute `.obs` of view, copying.\n",
      "... storing 'Timepoint' as categorical\n",
      "Trying to set attribute `.obs` of view, copying.\n",
      "... storing 'Line' as categorical\n",
      "Trying to set attribute `.obs` of view, copying.\n",
      "... storing 'Cohort' as categorical\n",
      "Trying to set attribute `.obs` of view, copying.\n",
      "... storing 'GMP-like-Abs.Category' as categorical\n",
      "Trying to set attribute `.obs` of view, copying.\n",
      "... storing 'LSPC-Cycle-Abs.Category' as categorical\n",
      "Trying to set attribute `.obs` of view, copying.\n",
      "... storing 'LSPC-Primed-Abs.Category' as categorical\n",
      "Trying to set attribute `.obs` of view, copying.\n",
      "... storing 'LSPC-Quiescent-Abs.Category' as categorical\n",
      "Trying to set attribute `.obs` of view, copying.\n",
      "... storing 'Mono-like-Abs.Category' as categorical\n",
      "Trying to set attribute `.obs` of view, copying.\n",
      "... storing 'ProMono-like-Abs.Category' as categorical\n",
      "Trying to set attribute `.obs` of view, copying.\n",
      "... storing 'cDC-like-Abs.Category' as categorical\n",
      "Trying to set attribute `.obs` of view, copying.\n",
      "... storing 'GMP-like-Rel.Category' as categorical\n",
      "Trying to set attribute `.obs` of view, copying.\n",
      "... storing 'LSPC-Cycle-Rel.Category' as categorical\n",
      "Trying to set attribute `.obs` of view, copying.\n",
      "... storing 'LSPC-Primed-Rel.Category' as categorical\n",
      "Trying to set attribute `.obs` of view, copying.\n",
      "... storing 'LSPC-Quiescent-Rel.Category' as categorical\n",
      "Trying to set attribute `.obs` of view, copying.\n",
      "... storing 'Mono-like-Rel.Category' as categorical\n",
      "Trying to set attribute `.obs` of view, copying.\n",
      "... storing 'ProMono-like-Rel.Category' as categorical\n",
      "Trying to set attribute `.obs` of view, copying.\n",
      "... storing 'cDC-like-Rel.Category' as categorical\n",
      "Trying to set attribute `.obs` of view, copying.\n",
      "... storing 'Treatment' as categorical\n",
      "Trying to set attribute `.obs` of view, copying.\n",
      "... storing 'Timepoint' as categorical\n",
      "Trying to set attribute `.obs` of view, copying.\n",
      "... storing 'Line' as categorical\n",
      "Trying to set attribute `.obs` of view, copying.\n",
      "... storing 'Cohort' as categorical\n",
      "Trying to set attribute `.obs` of view, copying.\n",
      "... storing 'GMP-like-Abs.Category' as categorical\n",
      "Trying to set attribute `.obs` of view, copying.\n",
      "... storing 'LSPC-Cycle-Abs.Category' as categorical\n",
      "Trying to set attribute `.obs` of view, copying.\n",
      "... storing 'LSPC-Primed-Abs.Category' as categorical\n",
      "Trying to set attribute `.obs` of view, copying.\n",
      "... storing 'LSPC-Quiescent-Abs.Category' as categorical\n",
      "Trying to set attribute `.obs` of view, copying.\n",
      "... storing 'Mono-like-Abs.Category' as categorical\n",
      "Trying to set attribute `.obs` of view, copying.\n",
      "... storing 'ProMono-like-Abs.Category' as categorical\n",
      "Trying to set attribute `.obs` of view, copying.\n",
      "... storing 'cDC-like-Abs.Category' as categorical\n",
      "Trying to set attribute `.obs` of view, copying.\n",
      "... storing 'GMP-like-Rel.Category' as categorical\n",
      "Trying to set attribute `.obs` of view, copying.\n",
      "... storing 'LSPC-Cycle-Rel.Category' as categorical\n",
      "Trying to set attribute `.obs` of view, copying.\n",
      "... storing 'LSPC-Primed-Rel.Category' as categorical\n",
      "Trying to set attribute `.obs` of view, copying.\n",
      "... storing 'LSPC-Quiescent-Rel.Category' as categorical\n",
      "Trying to set attribute `.obs` of view, copying.\n",
      "... storing 'Mono-like-Rel.Category' as categorical\n",
      "Trying to set attribute `.obs` of view, copying.\n",
      "... storing 'ProMono-like-Rel.Category' as categorical\n",
      "Trying to set attribute `.obs` of view, copying.\n",
      "... storing 'cDC-like-Rel.Category' as categorical\n",
      "Trying to set attribute `.obs` of view, copying.\n",
      "... storing 'Treatment' as categorical\n",
      "Trying to set attribute `.obs` of view, copying.\n",
      "... storing 'Timepoint' as categorical\n",
      "Trying to set attribute `.obs` of view, copying.\n",
      "... storing 'Line' as categorical\n",
      "Trying to set attribute `.obs` of view, copying.\n",
      "... storing 'Cohort' as categorical\n",
      "Trying to set attribute `.obs` of view, copying.\n",
      "... storing 'GMP-like-Abs.Category' as categorical\n",
      "Trying to set attribute `.obs` of view, copying.\n",
      "... storing 'LSPC-Cycle-Abs.Category' as categorical\n",
      "Trying to set attribute `.obs` of view, copying.\n",
      "... storing 'LSPC-Primed-Abs.Category' as categorical\n",
      "Trying to set attribute `.obs` of view, copying.\n",
      "... storing 'LSPC-Quiescent-Abs.Category' as categorical\n",
      "Trying to set attribute `.obs` of view, copying.\n",
      "... storing 'Mono-like-Abs.Category' as categorical\n",
      "Trying to set attribute `.obs` of view, copying.\n",
      "... storing 'ProMono-like-Abs.Category' as categorical\n",
      "Trying to set attribute `.obs` of view, copying.\n",
      "... storing 'cDC-like-Abs.Category' as categorical\n",
      "Trying to set attribute `.obs` of view, copying.\n",
      "... storing 'GMP-like-Rel.Category' as categorical\n",
      "Trying to set attribute `.obs` of view, copying.\n",
      "... storing 'LSPC-Cycle-Rel.Category' as categorical\n",
      "Trying to set attribute `.obs` of view, copying.\n",
      "... storing 'LSPC-Primed-Rel.Category' as categorical\n",
      "Trying to set attribute `.obs` of view, copying.\n",
      "... storing 'LSPC-Quiescent-Rel.Category' as categorical\n",
      "Trying to set attribute `.obs` of view, copying.\n",
      "... storing 'Mono-like-Rel.Category' as categorical\n",
      "Trying to set attribute `.obs` of view, copying.\n",
      "... storing 'ProMono-like-Rel.Category' as categorical\n",
      "Trying to set attribute `.obs` of view, copying.\n",
      "... storing 'cDC-like-Rel.Category' as categorical\n",
      "Trying to set attribute `.obs` of view, copying.\n",
      "... storing 'Treatment' as categorical\n",
      "Trying to set attribute `.obs` of view, copying.\n",
      "... storing 'Timepoint' as categorical\n",
      "Trying to set attribute `.obs` of view, copying.\n",
      "... storing 'Line' as categorical\n",
      "Trying to set attribute `.obs` of view, copying.\n",
      "... storing 'Cohort' as categorical\n",
      "Trying to set attribute `.obs` of view, copying.\n",
      "... storing 'GMP-like-Abs.Category' as categorical\n",
      "Trying to set attribute `.obs` of view, copying.\n",
      "... storing 'LSPC-Cycle-Abs.Category' as categorical\n",
      "Trying to set attribute `.obs` of view, copying.\n",
      "... storing 'LSPC-Primed-Abs.Category' as categorical\n",
      "Trying to set attribute `.obs` of view, copying.\n",
      "... storing 'LSPC-Quiescent-Abs.Category' as categorical\n",
      "Trying to set attribute `.obs` of view, copying.\n",
      "... storing 'Mono-like-Abs.Category' as categorical\n",
      "Trying to set attribute `.obs` of view, copying.\n",
      "... storing 'ProMono-like-Abs.Category' as categorical\n",
      "Trying to set attribute `.obs` of view, copying.\n",
      "... storing 'cDC-like-Abs.Category' as categorical\n",
      "Trying to set attribute `.obs` of view, copying.\n",
      "... storing 'GMP-like-Rel.Category' as categorical\n",
      "Trying to set attribute `.obs` of view, copying.\n",
      "... storing 'LSPC-Cycle-Rel.Category' as categorical\n",
      "Trying to set attribute `.obs` of view, copying.\n",
      "... storing 'LSPC-Primed-Rel.Category' as categorical\n",
      "Trying to set attribute `.obs` of view, copying.\n",
      "... storing 'LSPC-Quiescent-Rel.Category' as categorical\n",
      "Trying to set attribute `.obs` of view, copying.\n",
      "... storing 'Mono-like-Rel.Category' as categorical\n",
      "Trying to set attribute `.obs` of view, copying.\n",
      "... storing 'ProMono-like-Rel.Category' as categorical\n",
      "Trying to set attribute `.obs` of view, copying.\n",
      "... storing 'cDC-like-Rel.Category' as categorical\n",
      "Trying to set attribute `.obs` of view, copying.\n",
      "... storing 'Treatment' as categorical\n",
      "Trying to set attribute `.obs` of view, copying.\n",
      "... storing 'Timepoint' as categorical\n",
      "Trying to set attribute `.obs` of view, copying.\n",
      "... storing 'Line' as categorical\n",
      "Trying to set attribute `.obs` of view, copying.\n",
      "... storing 'Cohort' as categorical\n",
      "Trying to set attribute `.obs` of view, copying.\n",
      "... storing 'GMP-like-Abs.Category' as categorical\n",
      "Trying to set attribute `.obs` of view, copying.\n",
      "... storing 'LSPC-Cycle-Abs.Category' as categorical\n",
      "Trying to set attribute `.obs` of view, copying.\n",
      "... storing 'LSPC-Primed-Abs.Category' as categorical\n",
      "Trying to set attribute `.obs` of view, copying.\n",
      "... storing 'LSPC-Quiescent-Abs.Category' as categorical\n",
      "Trying to set attribute `.obs` of view, copying.\n",
      "... storing 'Mono-like-Abs.Category' as categorical\n",
      "Trying to set attribute `.obs` of view, copying.\n",
      "... storing 'ProMono-like-Abs.Category' as categorical\n",
      "Trying to set attribute `.obs` of view, copying.\n",
      "... storing 'cDC-like-Abs.Category' as categorical\n",
      "Trying to set attribute `.obs` of view, copying.\n",
      "... storing 'GMP-like-Rel.Category' as categorical\n",
      "Trying to set attribute `.obs` of view, copying.\n",
      "... storing 'LSPC-Cycle-Rel.Category' as categorical\n",
      "Trying to set attribute `.obs` of view, copying.\n",
      "... storing 'LSPC-Primed-Rel.Category' as categorical\n",
      "Trying to set attribute `.obs` of view, copying.\n",
      "... storing 'LSPC-Quiescent-Rel.Category' as categorical\n",
      "Trying to set attribute `.obs` of view, copying.\n",
      "... storing 'Mono-like-Rel.Category' as categorical\n",
      "Trying to set attribute `.obs` of view, copying.\n",
      "... storing 'ProMono-like-Rel.Category' as categorical\n",
      "Trying to set attribute `.obs` of view, copying.\n",
      "... storing 'cDC-like-Rel.Category' as categorical\n",
      "Trying to set attribute `.obs` of view, copying.\n",
      "... storing 'Treatment' as categorical\n",
      "Trying to set attribute `.obs` of view, copying.\n",
      "... storing 'Timepoint' as categorical\n",
      "Trying to set attribute `.obs` of view, copying.\n",
      "... storing 'Line' as categorical\n",
      "Trying to set attribute `.obs` of view, copying.\n",
      "... storing 'Cohort' as categorical\n"
     ]
    }
   ],
   "source": [
    "# MLL, non-AF9\n",
    "for line in ['ML2', 'MV411']:\n",
    "    df = get_scores(df, dat[(dat.obs.Timepoint == '24h') & (dat.obs.Line == line)], 'Treatment', 'Brequinar', 'Control', line, 'Brequinar', 'DHODH')\n",
    "    df = get_scores(df, dat[(dat.obs.Timepoint == '24h') & (dat.obs.Line == line)], 'Treatment', 'BAY155', 'Control', line, 'BAY155', 'Menin-MLL')\n",
    "    df = get_scores(df, dat[(dat.obs.Timepoint == '96h') & (dat.obs.Line == line)], 'Treatment', 'EPZ5676', 'Control', line, 'EPZ5676', 'DOT1L')\n",
    "    df = get_scores(df, dat[(dat.obs.Timepoint.isin(['8h', '24h'])) & (dat.obs.Line == line)], 'Treatment', 'OTX015', 'Control', line, 'OTX015', 'BET')\n",
    "    df = get_scores(df, dat[(dat.obs.Timepoint.isin(['8h', '24h'])) & (dat.obs.Line == line)], 'Treatment', 'BAY1251152', 'Control', line, 'BAY1251152', 'CDK9')"
   ]
  },
  {
   "cell_type": "code",
   "execution_count": 16,
   "metadata": {},
   "outputs": [
    {
     "name": "stderr",
     "output_type": "stream",
     "text": [
      "Trying to set attribute `.obs` of view, copying.\n",
      "... storing 'GMP-like-Abs.Category' as categorical\n",
      "Trying to set attribute `.obs` of view, copying.\n",
      "... storing 'LSPC-Cycle-Abs.Category' as categorical\n",
      "Trying to set attribute `.obs` of view, copying.\n",
      "... storing 'LSPC-Primed-Abs.Category' as categorical\n",
      "Trying to set attribute `.obs` of view, copying.\n",
      "... storing 'LSPC-Quiescent-Abs.Category' as categorical\n",
      "Trying to set attribute `.obs` of view, copying.\n",
      "... storing 'Mono-like-Abs.Category' as categorical\n",
      "Trying to set attribute `.obs` of view, copying.\n",
      "... storing 'ProMono-like-Abs.Category' as categorical\n",
      "Trying to set attribute `.obs` of view, copying.\n",
      "... storing 'cDC-like-Abs.Category' as categorical\n",
      "Trying to set attribute `.obs` of view, copying.\n",
      "... storing 'GMP-like-Rel.Category' as categorical\n",
      "Trying to set attribute `.obs` of view, copying.\n",
      "... storing 'LSPC-Cycle-Rel.Category' as categorical\n",
      "Trying to set attribute `.obs` of view, copying.\n",
      "... storing 'LSPC-Primed-Rel.Category' as categorical\n",
      "Trying to set attribute `.obs` of view, copying.\n",
      "... storing 'LSPC-Quiescent-Rel.Category' as categorical\n",
      "Trying to set attribute `.obs` of view, copying.\n",
      "... storing 'Mono-like-Rel.Category' as categorical\n",
      "Trying to set attribute `.obs` of view, copying.\n",
      "... storing 'ProMono-like-Rel.Category' as categorical\n",
      "Trying to set attribute `.obs` of view, copying.\n",
      "... storing 'cDC-like-Rel.Category' as categorical\n",
      "Trying to set attribute `.obs` of view, copying.\n",
      "... storing 'Treatment' as categorical\n",
      "Trying to set attribute `.obs` of view, copying.\n",
      "... storing 'Timepoint' as categorical\n",
      "Trying to set attribute `.obs` of view, copying.\n",
      "... storing 'Line' as categorical\n",
      "Trying to set attribute `.obs` of view, copying.\n",
      "... storing 'Cohort' as categorical\n",
      "Trying to set attribute `.obs` of view, copying.\n",
      "... storing 'GMP-like-Abs.Category' as categorical\n",
      "Trying to set attribute `.obs` of view, copying.\n",
      "... storing 'LSPC-Cycle-Abs.Category' as categorical\n",
      "Trying to set attribute `.obs` of view, copying.\n",
      "... storing 'LSPC-Primed-Abs.Category' as categorical\n",
      "Trying to set attribute `.obs` of view, copying.\n",
      "... storing 'LSPC-Quiescent-Abs.Category' as categorical\n",
      "Trying to set attribute `.obs` of view, copying.\n",
      "... storing 'Mono-like-Abs.Category' as categorical\n",
      "Trying to set attribute `.obs` of view, copying.\n",
      "... storing 'ProMono-like-Abs.Category' as categorical\n",
      "Trying to set attribute `.obs` of view, copying.\n",
      "... storing 'cDC-like-Abs.Category' as categorical\n",
      "Trying to set attribute `.obs` of view, copying.\n",
      "... storing 'GMP-like-Rel.Category' as categorical\n",
      "Trying to set attribute `.obs` of view, copying.\n",
      "... storing 'LSPC-Cycle-Rel.Category' as categorical\n",
      "Trying to set attribute `.obs` of view, copying.\n",
      "... storing 'LSPC-Primed-Rel.Category' as categorical\n",
      "Trying to set attribute `.obs` of view, copying.\n",
      "... storing 'LSPC-Quiescent-Rel.Category' as categorical\n",
      "Trying to set attribute `.obs` of view, copying.\n",
      "... storing 'Mono-like-Rel.Category' as categorical\n",
      "Trying to set attribute `.obs` of view, copying.\n",
      "... storing 'ProMono-like-Rel.Category' as categorical\n",
      "Trying to set attribute `.obs` of view, copying.\n",
      "... storing 'cDC-like-Rel.Category' as categorical\n",
      "Trying to set attribute `.obs` of view, copying.\n",
      "... storing 'Treatment' as categorical\n",
      "Trying to set attribute `.obs` of view, copying.\n",
      "... storing 'Timepoint' as categorical\n",
      "Trying to set attribute `.obs` of view, copying.\n",
      "... storing 'Line' as categorical\n",
      "Trying to set attribute `.obs` of view, copying.\n",
      "... storing 'Cohort' as categorical\n",
      "Trying to set attribute `.obs` of view, copying.\n",
      "... storing 'GMP-like-Abs.Category' as categorical\n",
      "Trying to set attribute `.obs` of view, copying.\n",
      "... storing 'LSPC-Cycle-Abs.Category' as categorical\n",
      "Trying to set attribute `.obs` of view, copying.\n",
      "... storing 'LSPC-Primed-Abs.Category' as categorical\n",
      "Trying to set attribute `.obs` of view, copying.\n",
      "... storing 'LSPC-Quiescent-Abs.Category' as categorical\n",
      "Trying to set attribute `.obs` of view, copying.\n",
      "... storing 'Mono-like-Abs.Category' as categorical\n",
      "Trying to set attribute `.obs` of view, copying.\n",
      "... storing 'ProMono-like-Abs.Category' as categorical\n",
      "Trying to set attribute `.obs` of view, copying.\n",
      "... storing 'cDC-like-Abs.Category' as categorical\n",
      "Trying to set attribute `.obs` of view, copying.\n",
      "... storing 'GMP-like-Rel.Category' as categorical\n",
      "Trying to set attribute `.obs` of view, copying.\n",
      "... storing 'LSPC-Cycle-Rel.Category' as categorical\n",
      "Trying to set attribute `.obs` of view, copying.\n",
      "... storing 'LSPC-Primed-Rel.Category' as categorical\n",
      "Trying to set attribute `.obs` of view, copying.\n",
      "... storing 'LSPC-Quiescent-Rel.Category' as categorical\n",
      "Trying to set attribute `.obs` of view, copying.\n",
      "... storing 'Mono-like-Rel.Category' as categorical\n",
      "Trying to set attribute `.obs` of view, copying.\n",
      "... storing 'ProMono-like-Rel.Category' as categorical\n",
      "Trying to set attribute `.obs` of view, copying.\n",
      "... storing 'cDC-like-Rel.Category' as categorical\n",
      "Trying to set attribute `.obs` of view, copying.\n",
      "... storing 'Treatment' as categorical\n",
      "Trying to set attribute `.obs` of view, copying.\n",
      "... storing 'Timepoint' as categorical\n",
      "Trying to set attribute `.obs` of view, copying.\n",
      "... storing 'Line' as categorical\n",
      "Trying to set attribute `.obs` of view, copying.\n",
      "... storing 'Cohort' as categorical\n",
      "Trying to set attribute `.obs` of view, copying.\n",
      "... storing 'GMP-like-Abs.Category' as categorical\n",
      "Trying to set attribute `.obs` of view, copying.\n",
      "... storing 'LSPC-Cycle-Abs.Category' as categorical\n",
      "Trying to set attribute `.obs` of view, copying.\n",
      "... storing 'LSPC-Primed-Abs.Category' as categorical\n",
      "Trying to set attribute `.obs` of view, copying.\n",
      "... storing 'LSPC-Quiescent-Abs.Category' as categorical\n",
      "Trying to set attribute `.obs` of view, copying.\n",
      "... storing 'Mono-like-Abs.Category' as categorical\n",
      "Trying to set attribute `.obs` of view, copying.\n",
      "... storing 'ProMono-like-Abs.Category' as categorical\n",
      "Trying to set attribute `.obs` of view, copying.\n",
      "... storing 'cDC-like-Abs.Category' as categorical\n",
      "Trying to set attribute `.obs` of view, copying.\n",
      "... storing 'GMP-like-Rel.Category' as categorical\n",
      "Trying to set attribute `.obs` of view, copying.\n",
      "... storing 'LSPC-Cycle-Rel.Category' as categorical\n",
      "Trying to set attribute `.obs` of view, copying.\n",
      "... storing 'LSPC-Primed-Rel.Category' as categorical\n",
      "Trying to set attribute `.obs` of view, copying.\n",
      "... storing 'LSPC-Quiescent-Rel.Category' as categorical\n",
      "Trying to set attribute `.obs` of view, copying.\n",
      "... storing 'Mono-like-Rel.Category' as categorical\n",
      "Trying to set attribute `.obs` of view, copying.\n",
      "... storing 'ProMono-like-Rel.Category' as categorical\n",
      "Trying to set attribute `.obs` of view, copying.\n",
      "... storing 'cDC-like-Rel.Category' as categorical\n",
      "Trying to set attribute `.obs` of view, copying.\n",
      "... storing 'Treatment' as categorical\n",
      "Trying to set attribute `.obs` of view, copying.\n",
      "... storing 'Timepoint' as categorical\n",
      "Trying to set attribute `.obs` of view, copying.\n",
      "... storing 'Line' as categorical\n",
      "Trying to set attribute `.obs` of view, copying.\n",
      "... storing 'Cohort' as categorical\n",
      "Trying to set attribute `.obs` of view, copying.\n",
      "... storing 'GMP-like-Abs.Category' as categorical\n",
      "Trying to set attribute `.obs` of view, copying.\n",
      "... storing 'LSPC-Cycle-Abs.Category' as categorical\n",
      "Trying to set attribute `.obs` of view, copying.\n",
      "... storing 'LSPC-Primed-Abs.Category' as categorical\n",
      "Trying to set attribute `.obs` of view, copying.\n",
      "... storing 'LSPC-Quiescent-Abs.Category' as categorical\n",
      "Trying to set attribute `.obs` of view, copying.\n",
      "... storing 'Mono-like-Abs.Category' as categorical\n",
      "Trying to set attribute `.obs` of view, copying.\n",
      "... storing 'ProMono-like-Abs.Category' as categorical\n",
      "Trying to set attribute `.obs` of view, copying.\n",
      "... storing 'cDC-like-Abs.Category' as categorical\n",
      "Trying to set attribute `.obs` of view, copying.\n",
      "... storing 'GMP-like-Rel.Category' as categorical\n",
      "Trying to set attribute `.obs` of view, copying.\n",
      "... storing 'LSPC-Cycle-Rel.Category' as categorical\n",
      "Trying to set attribute `.obs` of view, copying.\n",
      "... storing 'LSPC-Primed-Rel.Category' as categorical\n",
      "Trying to set attribute `.obs` of view, copying.\n",
      "... storing 'LSPC-Quiescent-Rel.Category' as categorical\n",
      "Trying to set attribute `.obs` of view, copying.\n",
      "... storing 'Mono-like-Rel.Category' as categorical\n",
      "Trying to set attribute `.obs` of view, copying.\n",
      "... storing 'ProMono-like-Rel.Category' as categorical\n",
      "Trying to set attribute `.obs` of view, copying.\n",
      "... storing 'cDC-like-Rel.Category' as categorical\n",
      "Trying to set attribute `.obs` of view, copying.\n",
      "... storing 'Treatment' as categorical\n",
      "Trying to set attribute `.obs` of view, copying.\n",
      "... storing 'Timepoint' as categorical\n",
      "Trying to set attribute `.obs` of view, copying.\n",
      "... storing 'Line' as categorical\n",
      "Trying to set attribute `.obs` of view, copying.\n",
      "... storing 'Cohort' as categorical\n",
      "Trying to set attribute `.obs` of view, copying.\n",
      "... storing 'GMP-like-Abs.Category' as categorical\n",
      "Trying to set attribute `.obs` of view, copying.\n",
      "... storing 'LSPC-Cycle-Abs.Category' as categorical\n",
      "Trying to set attribute `.obs` of view, copying.\n",
      "... storing 'LSPC-Primed-Abs.Category' as categorical\n",
      "Trying to set attribute `.obs` of view, copying.\n",
      "... storing 'LSPC-Quiescent-Abs.Category' as categorical\n",
      "Trying to set attribute `.obs` of view, copying.\n",
      "... storing 'Mono-like-Abs.Category' as categorical\n",
      "Trying to set attribute `.obs` of view, copying.\n",
      "... storing 'ProMono-like-Abs.Category' as categorical\n",
      "Trying to set attribute `.obs` of view, copying.\n",
      "... storing 'cDC-like-Abs.Category' as categorical\n",
      "Trying to set attribute `.obs` of view, copying.\n",
      "... storing 'GMP-like-Rel.Category' as categorical\n",
      "Trying to set attribute `.obs` of view, copying.\n",
      "... storing 'LSPC-Cycle-Rel.Category' as categorical\n",
      "Trying to set attribute `.obs` of view, copying.\n",
      "... storing 'LSPC-Primed-Rel.Category' as categorical\n",
      "Trying to set attribute `.obs` of view, copying.\n",
      "... storing 'LSPC-Quiescent-Rel.Category' as categorical\n",
      "Trying to set attribute `.obs` of view, copying.\n",
      "... storing 'Mono-like-Rel.Category' as categorical\n",
      "Trying to set attribute `.obs` of view, copying.\n",
      "... storing 'ProMono-like-Rel.Category' as categorical\n",
      "Trying to set attribute `.obs` of view, copying.\n",
      "... storing 'cDC-like-Rel.Category' as categorical\n",
      "Trying to set attribute `.obs` of view, copying.\n",
      "... storing 'Treatment' as categorical\n",
      "Trying to set attribute `.obs` of view, copying.\n",
      "... storing 'Timepoint' as categorical\n",
      "Trying to set attribute `.obs` of view, copying.\n",
      "... storing 'Line' as categorical\n",
      "Trying to set attribute `.obs` of view, copying.\n",
      "... storing 'Cohort' as categorical\n",
      "Trying to set attribute `.obs` of view, copying.\n",
      "... storing 'GMP-like-Abs.Category' as categorical\n",
      "Trying to set attribute `.obs` of view, copying.\n",
      "... storing 'LSPC-Cycle-Abs.Category' as categorical\n",
      "Trying to set attribute `.obs` of view, copying.\n",
      "... storing 'LSPC-Primed-Abs.Category' as categorical\n",
      "Trying to set attribute `.obs` of view, copying.\n",
      "... storing 'LSPC-Quiescent-Abs.Category' as categorical\n",
      "Trying to set attribute `.obs` of view, copying.\n",
      "... storing 'Mono-like-Abs.Category' as categorical\n",
      "Trying to set attribute `.obs` of view, copying.\n",
      "... storing 'ProMono-like-Abs.Category' as categorical\n",
      "Trying to set attribute `.obs` of view, copying.\n",
      "... storing 'cDC-like-Abs.Category' as categorical\n",
      "Trying to set attribute `.obs` of view, copying.\n",
      "... storing 'GMP-like-Rel.Category' as categorical\n",
      "Trying to set attribute `.obs` of view, copying.\n",
      "... storing 'LSPC-Cycle-Rel.Category' as categorical\n",
      "Trying to set attribute `.obs` of view, copying.\n",
      "... storing 'LSPC-Primed-Rel.Category' as categorical\n",
      "Trying to set attribute `.obs` of view, copying.\n",
      "... storing 'LSPC-Quiescent-Rel.Category' as categorical\n",
      "Trying to set attribute `.obs` of view, copying.\n",
      "... storing 'Mono-like-Rel.Category' as categorical\n",
      "Trying to set attribute `.obs` of view, copying.\n",
      "... storing 'ProMono-like-Rel.Category' as categorical\n",
      "Trying to set attribute `.obs` of view, copying.\n",
      "... storing 'cDC-like-Rel.Category' as categorical\n",
      "Trying to set attribute `.obs` of view, copying.\n",
      "... storing 'Treatment' as categorical\n",
      "Trying to set attribute `.obs` of view, copying.\n",
      "... storing 'Timepoint' as categorical\n",
      "Trying to set attribute `.obs` of view, copying.\n",
      "... storing 'Line' as categorical\n",
      "Trying to set attribute `.obs` of view, copying.\n",
      "... storing 'Cohort' as categorical\n",
      "Trying to set attribute `.obs` of view, copying.\n",
      "... storing 'GMP-like-Abs.Category' as categorical\n",
      "Trying to set attribute `.obs` of view, copying.\n",
      "... storing 'LSPC-Cycle-Abs.Category' as categorical\n",
      "Trying to set attribute `.obs` of view, copying.\n",
      "... storing 'LSPC-Primed-Abs.Category' as categorical\n",
      "Trying to set attribute `.obs` of view, copying.\n",
      "... storing 'LSPC-Quiescent-Abs.Category' as categorical\n",
      "Trying to set attribute `.obs` of view, copying.\n",
      "... storing 'Mono-like-Abs.Category' as categorical\n",
      "Trying to set attribute `.obs` of view, copying.\n",
      "... storing 'ProMono-like-Abs.Category' as categorical\n",
      "Trying to set attribute `.obs` of view, copying.\n",
      "... storing 'cDC-like-Abs.Category' as categorical\n",
      "Trying to set attribute `.obs` of view, copying.\n",
      "... storing 'GMP-like-Rel.Category' as categorical\n",
      "Trying to set attribute `.obs` of view, copying.\n",
      "... storing 'LSPC-Cycle-Rel.Category' as categorical\n",
      "Trying to set attribute `.obs` of view, copying.\n",
      "... storing 'LSPC-Primed-Rel.Category' as categorical\n",
      "Trying to set attribute `.obs` of view, copying.\n",
      "... storing 'LSPC-Quiescent-Rel.Category' as categorical\n",
      "Trying to set attribute `.obs` of view, copying.\n",
      "... storing 'Mono-like-Rel.Category' as categorical\n",
      "Trying to set attribute `.obs` of view, copying.\n",
      "... storing 'ProMono-like-Rel.Category' as categorical\n",
      "Trying to set attribute `.obs` of view, copying.\n",
      "... storing 'cDC-like-Rel.Category' as categorical\n",
      "Trying to set attribute `.obs` of view, copying.\n",
      "... storing 'Treatment' as categorical\n",
      "Trying to set attribute `.obs` of view, copying.\n",
      "... storing 'Timepoint' as categorical\n",
      "Trying to set attribute `.obs` of view, copying.\n",
      "... storing 'Line' as categorical\n",
      "Trying to set attribute `.obs` of view, copying.\n",
      "... storing 'Cohort' as categorical\n",
      "Trying to set attribute `.obs` of view, copying.\n",
      "... storing 'GMP-like-Abs.Category' as categorical\n",
      "Trying to set attribute `.obs` of view, copying.\n",
      "... storing 'LSPC-Cycle-Abs.Category' as categorical\n",
      "Trying to set attribute `.obs` of view, copying.\n",
      "... storing 'LSPC-Primed-Abs.Category' as categorical\n",
      "Trying to set attribute `.obs` of view, copying.\n",
      "... storing 'LSPC-Quiescent-Abs.Category' as categorical\n",
      "Trying to set attribute `.obs` of view, copying.\n",
      "... storing 'Mono-like-Abs.Category' as categorical\n",
      "Trying to set attribute `.obs` of view, copying.\n",
      "... storing 'ProMono-like-Abs.Category' as categorical\n",
      "Trying to set attribute `.obs` of view, copying.\n",
      "... storing 'cDC-like-Abs.Category' as categorical\n",
      "Trying to set attribute `.obs` of view, copying.\n",
      "... storing 'GMP-like-Rel.Category' as categorical\n",
      "Trying to set attribute `.obs` of view, copying.\n",
      "... storing 'LSPC-Cycle-Rel.Category' as categorical\n",
      "Trying to set attribute `.obs` of view, copying.\n",
      "... storing 'LSPC-Primed-Rel.Category' as categorical\n",
      "Trying to set attribute `.obs` of view, copying.\n",
      "... storing 'LSPC-Quiescent-Rel.Category' as categorical\n",
      "Trying to set attribute `.obs` of view, copying.\n",
      "... storing 'Mono-like-Rel.Category' as categorical\n",
      "Trying to set attribute `.obs` of view, copying.\n",
      "... storing 'ProMono-like-Rel.Category' as categorical\n",
      "Trying to set attribute `.obs` of view, copying.\n",
      "... storing 'cDC-like-Rel.Category' as categorical\n",
      "Trying to set attribute `.obs` of view, copying.\n",
      "... storing 'Treatment' as categorical\n",
      "Trying to set attribute `.obs` of view, copying.\n",
      "... storing 'Timepoint' as categorical\n",
      "Trying to set attribute `.obs` of view, copying.\n",
      "... storing 'Line' as categorical\n",
      "Trying to set attribute `.obs` of view, copying.\n",
      "... storing 'Cohort' as categorical\n",
      "Trying to set attribute `.obs` of view, copying.\n",
      "... storing 'GMP-like-Abs.Category' as categorical\n",
      "Trying to set attribute `.obs` of view, copying.\n",
      "... storing 'LSPC-Cycle-Abs.Category' as categorical\n",
      "Trying to set attribute `.obs` of view, copying.\n",
      "... storing 'LSPC-Primed-Abs.Category' as categorical\n",
      "Trying to set attribute `.obs` of view, copying.\n",
      "... storing 'LSPC-Quiescent-Abs.Category' as categorical\n",
      "Trying to set attribute `.obs` of view, copying.\n",
      "... storing 'Mono-like-Abs.Category' as categorical\n",
      "Trying to set attribute `.obs` of view, copying.\n",
      "... storing 'ProMono-like-Abs.Category' as categorical\n",
      "Trying to set attribute `.obs` of view, copying.\n",
      "... storing 'cDC-like-Abs.Category' as categorical\n",
      "Trying to set attribute `.obs` of view, copying.\n",
      "... storing 'GMP-like-Rel.Category' as categorical\n",
      "Trying to set attribute `.obs` of view, copying.\n",
      "... storing 'LSPC-Cycle-Rel.Category' as categorical\n",
      "Trying to set attribute `.obs` of view, copying.\n",
      "... storing 'LSPC-Primed-Rel.Category' as categorical\n",
      "Trying to set attribute `.obs` of view, copying.\n",
      "... storing 'LSPC-Quiescent-Rel.Category' as categorical\n",
      "Trying to set attribute `.obs` of view, copying.\n",
      "... storing 'Mono-like-Rel.Category' as categorical\n",
      "Trying to set attribute `.obs` of view, copying.\n",
      "... storing 'ProMono-like-Rel.Category' as categorical\n",
      "Trying to set attribute `.obs` of view, copying.\n",
      "... storing 'cDC-like-Rel.Category' as categorical\n",
      "Trying to set attribute `.obs` of view, copying.\n",
      "... storing 'Treatment' as categorical\n",
      "Trying to set attribute `.obs` of view, copying.\n",
      "... storing 'Timepoint' as categorical\n",
      "Trying to set attribute `.obs` of view, copying.\n",
      "... storing 'Line' as categorical\n",
      "Trying to set attribute `.obs` of view, copying.\n",
      "... storing 'Cohort' as categorical\n",
      "Trying to set attribute `.obs` of view, copying.\n",
      "... storing 'GMP-like-Abs.Category' as categorical\n",
      "Trying to set attribute `.obs` of view, copying.\n",
      "... storing 'LSPC-Cycle-Abs.Category' as categorical\n",
      "Trying to set attribute `.obs` of view, copying.\n",
      "... storing 'LSPC-Primed-Abs.Category' as categorical\n",
      "Trying to set attribute `.obs` of view, copying.\n",
      "... storing 'LSPC-Quiescent-Abs.Category' as categorical\n",
      "Trying to set attribute `.obs` of view, copying.\n",
      "... storing 'Mono-like-Abs.Category' as categorical\n",
      "Trying to set attribute `.obs` of view, copying.\n",
      "... storing 'ProMono-like-Abs.Category' as categorical\n",
      "Trying to set attribute `.obs` of view, copying.\n",
      "... storing 'cDC-like-Abs.Category' as categorical\n",
      "Trying to set attribute `.obs` of view, copying.\n",
      "... storing 'GMP-like-Rel.Category' as categorical\n",
      "Trying to set attribute `.obs` of view, copying.\n",
      "... storing 'LSPC-Cycle-Rel.Category' as categorical\n",
      "Trying to set attribute `.obs` of view, copying.\n",
      "... storing 'LSPC-Primed-Rel.Category' as categorical\n",
      "Trying to set attribute `.obs` of view, copying.\n",
      "... storing 'LSPC-Quiescent-Rel.Category' as categorical\n",
      "Trying to set attribute `.obs` of view, copying.\n",
      "... storing 'Mono-like-Rel.Category' as categorical\n",
      "Trying to set attribute `.obs` of view, copying.\n",
      "... storing 'ProMono-like-Rel.Category' as categorical\n",
      "Trying to set attribute `.obs` of view, copying.\n",
      "... storing 'cDC-like-Rel.Category' as categorical\n",
      "Trying to set attribute `.obs` of view, copying.\n",
      "... storing 'Treatment' as categorical\n",
      "Trying to set attribute `.obs` of view, copying.\n",
      "... storing 'Timepoint' as categorical\n",
      "Trying to set attribute `.obs` of view, copying.\n",
      "... storing 'Line' as categorical\n",
      "Trying to set attribute `.obs` of view, copying.\n",
      "... storing 'Cohort' as categorical\n",
      "Trying to set attribute `.obs` of view, copying.\n",
      "... storing 'GMP-like-Abs.Category' as categorical\n",
      "Trying to set attribute `.obs` of view, copying.\n",
      "... storing 'LSPC-Cycle-Abs.Category' as categorical\n",
      "Trying to set attribute `.obs` of view, copying.\n",
      "... storing 'LSPC-Primed-Abs.Category' as categorical\n",
      "Trying to set attribute `.obs` of view, copying.\n",
      "... storing 'LSPC-Quiescent-Abs.Category' as categorical\n",
      "Trying to set attribute `.obs` of view, copying.\n",
      "... storing 'Mono-like-Abs.Category' as categorical\n",
      "Trying to set attribute `.obs` of view, copying.\n",
      "... storing 'ProMono-like-Abs.Category' as categorical\n",
      "Trying to set attribute `.obs` of view, copying.\n",
      "... storing 'cDC-like-Abs.Category' as categorical\n",
      "Trying to set attribute `.obs` of view, copying.\n",
      "... storing 'GMP-like-Rel.Category' as categorical\n",
      "Trying to set attribute `.obs` of view, copying.\n",
      "... storing 'LSPC-Cycle-Rel.Category' as categorical\n",
      "Trying to set attribute `.obs` of view, copying.\n",
      "... storing 'LSPC-Primed-Rel.Category' as categorical\n",
      "Trying to set attribute `.obs` of view, copying.\n",
      "... storing 'LSPC-Quiescent-Rel.Category' as categorical\n",
      "Trying to set attribute `.obs` of view, copying.\n",
      "... storing 'Mono-like-Rel.Category' as categorical\n",
      "Trying to set attribute `.obs` of view, copying.\n",
      "... storing 'ProMono-like-Rel.Category' as categorical\n",
      "Trying to set attribute `.obs` of view, copying.\n",
      "... storing 'cDC-like-Rel.Category' as categorical\n",
      "Trying to set attribute `.obs` of view, copying.\n",
      "... storing 'Treatment' as categorical\n",
      "Trying to set attribute `.obs` of view, copying.\n",
      "... storing 'Timepoint' as categorical\n",
      "Trying to set attribute `.obs` of view, copying.\n",
      "... storing 'Line' as categorical\n",
      "Trying to set attribute `.obs` of view, copying.\n",
      "... storing 'Cohort' as categorical\n",
      "Trying to set attribute `.obs` of view, copying.\n",
      "... storing 'GMP-like-Abs.Category' as categorical\n",
      "Trying to set attribute `.obs` of view, copying.\n",
      "... storing 'LSPC-Cycle-Abs.Category' as categorical\n",
      "Trying to set attribute `.obs` of view, copying.\n",
      "... storing 'LSPC-Primed-Abs.Category' as categorical\n",
      "Trying to set attribute `.obs` of view, copying.\n",
      "... storing 'LSPC-Quiescent-Abs.Category' as categorical\n",
      "Trying to set attribute `.obs` of view, copying.\n",
      "... storing 'Mono-like-Abs.Category' as categorical\n",
      "Trying to set attribute `.obs` of view, copying.\n",
      "... storing 'ProMono-like-Abs.Category' as categorical\n",
      "Trying to set attribute `.obs` of view, copying.\n",
      "... storing 'cDC-like-Abs.Category' as categorical\n",
      "Trying to set attribute `.obs` of view, copying.\n",
      "... storing 'GMP-like-Rel.Category' as categorical\n",
      "Trying to set attribute `.obs` of view, copying.\n",
      "... storing 'LSPC-Cycle-Rel.Category' as categorical\n",
      "Trying to set attribute `.obs` of view, copying.\n",
      "... storing 'LSPC-Primed-Rel.Category' as categorical\n",
      "Trying to set attribute `.obs` of view, copying.\n",
      "... storing 'LSPC-Quiescent-Rel.Category' as categorical\n",
      "Trying to set attribute `.obs` of view, copying.\n",
      "... storing 'Mono-like-Rel.Category' as categorical\n",
      "Trying to set attribute `.obs` of view, copying.\n",
      "... storing 'ProMono-like-Rel.Category' as categorical\n",
      "Trying to set attribute `.obs` of view, copying.\n",
      "... storing 'cDC-like-Rel.Category' as categorical\n",
      "Trying to set attribute `.obs` of view, copying.\n",
      "... storing 'Treatment' as categorical\n",
      "Trying to set attribute `.obs` of view, copying.\n",
      "... storing 'Timepoint' as categorical\n",
      "Trying to set attribute `.obs` of view, copying.\n",
      "... storing 'Line' as categorical\n",
      "Trying to set attribute `.obs` of view, copying.\n",
      "... storing 'Cohort' as categorical\n",
      "Trying to set attribute `.obs` of view, copying.\n",
      "... storing 'GMP-like-Abs.Category' as categorical\n",
      "Trying to set attribute `.obs` of view, copying.\n",
      "... storing 'LSPC-Cycle-Abs.Category' as categorical\n",
      "Trying to set attribute `.obs` of view, copying.\n",
      "... storing 'LSPC-Primed-Abs.Category' as categorical\n",
      "Trying to set attribute `.obs` of view, copying.\n",
      "... storing 'LSPC-Quiescent-Abs.Category' as categorical\n",
      "Trying to set attribute `.obs` of view, copying.\n",
      "... storing 'Mono-like-Abs.Category' as categorical\n",
      "Trying to set attribute `.obs` of view, copying.\n",
      "... storing 'ProMono-like-Abs.Category' as categorical\n",
      "Trying to set attribute `.obs` of view, copying.\n",
      "... storing 'cDC-like-Abs.Category' as categorical\n",
      "Trying to set attribute `.obs` of view, copying.\n",
      "... storing 'GMP-like-Rel.Category' as categorical\n",
      "Trying to set attribute `.obs` of view, copying.\n",
      "... storing 'LSPC-Cycle-Rel.Category' as categorical\n",
      "Trying to set attribute `.obs` of view, copying.\n",
      "... storing 'LSPC-Primed-Rel.Category' as categorical\n",
      "Trying to set attribute `.obs` of view, copying.\n",
      "... storing 'LSPC-Quiescent-Rel.Category' as categorical\n",
      "Trying to set attribute `.obs` of view, copying.\n",
      "... storing 'Mono-like-Rel.Category' as categorical\n",
      "Trying to set attribute `.obs` of view, copying.\n",
      "... storing 'ProMono-like-Rel.Category' as categorical\n",
      "Trying to set attribute `.obs` of view, copying.\n",
      "... storing 'cDC-like-Rel.Category' as categorical\n",
      "Trying to set attribute `.obs` of view, copying.\n",
      "... storing 'Treatment' as categorical\n",
      "Trying to set attribute `.obs` of view, copying.\n",
      "... storing 'Timepoint' as categorical\n",
      "Trying to set attribute `.obs` of view, copying.\n",
      "... storing 'Line' as categorical\n",
      "Trying to set attribute `.obs` of view, copying.\n",
      "... storing 'Cohort' as categorical\n",
      "Trying to set attribute `.obs` of view, copying.\n",
      "... storing 'GMP-like-Abs.Category' as categorical\n",
      "Trying to set attribute `.obs` of view, copying.\n",
      "... storing 'LSPC-Cycle-Abs.Category' as categorical\n",
      "Trying to set attribute `.obs` of view, copying.\n",
      "... storing 'LSPC-Primed-Abs.Category' as categorical\n",
      "Trying to set attribute `.obs` of view, copying.\n",
      "... storing 'LSPC-Quiescent-Abs.Category' as categorical\n",
      "Trying to set attribute `.obs` of view, copying.\n",
      "... storing 'Mono-like-Abs.Category' as categorical\n",
      "Trying to set attribute `.obs` of view, copying.\n",
      "... storing 'ProMono-like-Abs.Category' as categorical\n",
      "Trying to set attribute `.obs` of view, copying.\n",
      "... storing 'cDC-like-Abs.Category' as categorical\n",
      "Trying to set attribute `.obs` of view, copying.\n",
      "... storing 'GMP-like-Rel.Category' as categorical\n",
      "Trying to set attribute `.obs` of view, copying.\n",
      "... storing 'LSPC-Cycle-Rel.Category' as categorical\n",
      "Trying to set attribute `.obs` of view, copying.\n",
      "... storing 'LSPC-Primed-Rel.Category' as categorical\n",
      "Trying to set attribute `.obs` of view, copying.\n",
      "... storing 'LSPC-Quiescent-Rel.Category' as categorical\n",
      "Trying to set attribute `.obs` of view, copying.\n",
      "... storing 'Mono-like-Rel.Category' as categorical\n",
      "Trying to set attribute `.obs` of view, copying.\n",
      "... storing 'ProMono-like-Rel.Category' as categorical\n",
      "Trying to set attribute `.obs` of view, copying.\n",
      "... storing 'cDC-like-Rel.Category' as categorical\n",
      "Trying to set attribute `.obs` of view, copying.\n",
      "... storing 'Treatment' as categorical\n",
      "Trying to set attribute `.obs` of view, copying.\n",
      "... storing 'Timepoint' as categorical\n",
      "Trying to set attribute `.obs` of view, copying.\n",
      "... storing 'Line' as categorical\n",
      "Trying to set attribute `.obs` of view, copying.\n",
      "... storing 'Cohort' as categorical\n"
     ]
    }
   ],
   "source": [
    "# Non-MLL\n",
    "for line in ['OCIAML5', 'HL60', 'OCIAML3']:\n",
    "    df = get_scores(df, dat[(dat.obs.Timepoint == '24h') & (dat.obs.Line == line)], 'Treatment', 'Brequinar', 'Control', line, 'Brequinar', 'DHODH')\n",
    "    df = get_scores(df, dat[(dat.obs.Timepoint == '24h') & (dat.obs.Line == line)], 'Treatment', 'BAY155', 'Control', line, 'BAY155', 'Menin-MLL')\n",
    "    df = get_scores(df, dat[(dat.obs.Timepoint == '96h') & (dat.obs.Line == line)], 'Treatment', 'EPZ5676', 'Control', line, 'EPZ5676', 'DOT1L')\n",
    "    df = get_scores(df, dat[(dat.obs.Timepoint.isin(['8h', '24h'])) & (dat.obs.Line == line)], 'Treatment', 'OTX015', 'Control', line, 'OTX015', 'BET')\n",
    "    df = get_scores(df, dat[(dat.obs.Timepoint.isin(['8h', '24h'])) & (dat.obs.Line == line)], 'Treatment', 'BAY1251152', 'Control', line, 'BAY1251152', 'CDK9')"
   ]
  },
  {
   "cell_type": "markdown",
   "metadata": {},
   "source": [
    "## BET ARV-825 OTX015"
   ]
  },
  {
   "cell_type": "code",
   "execution_count": 17,
   "metadata": {},
   "outputs": [],
   "source": [
    "dat = load_fractions(\"Data/Datasets/Cell Lines/CIBERSORTx_Results_BET_PROTAC_OCIAML5.csv\")\n",
    "dat.X = (dat.X.transpose() / dat.X.sum(axis=1)).transpose()\n",
    "dat.obs['Treatment'] = np.where(dat.obs.index.str.contains(\"ARV\"), \"ARV-825\", \n",
    "                               np.where(dat.obs.index.str.contains(\"OTX015\"), \"OTX015\", \"Control\"))"
   ]
  },
  {
   "cell_type": "code",
   "execution_count": 18,
   "metadata": {},
   "outputs": [],
   "source": [
    "newdat = dat.to_df()\n",
    "newdat['PC2'] = (dat.to_df() * PC2_loadings).sum(axis=1)\n",
    "dat = ad.AnnData(newdat, dat.obs)\n",
    "del(newdat)"
   ]
  },
  {
   "cell_type": "code",
   "execution_count": 19,
   "metadata": {},
   "outputs": [
    {
     "name": "stderr",
     "output_type": "stream",
     "text": [
      "Trying to set attribute `.obs` of view, copying.\n",
      "... storing 'GMP-like-Abs.Category' as categorical\n",
      "Trying to set attribute `.obs` of view, copying.\n",
      "... storing 'LSPC-Cycle-Abs.Category' as categorical\n",
      "Trying to set attribute `.obs` of view, copying.\n",
      "... storing 'LSPC-Primed-Abs.Category' as categorical\n",
      "Trying to set attribute `.obs` of view, copying.\n",
      "... storing 'LSPC-Quiescent-Abs.Category' as categorical\n",
      "Trying to set attribute `.obs` of view, copying.\n",
      "... storing 'Mono-like-Abs.Category' as categorical\n",
      "Trying to set attribute `.obs` of view, copying.\n",
      "... storing 'ProMono-like-Abs.Category' as categorical\n",
      "Trying to set attribute `.obs` of view, copying.\n",
      "... storing 'cDC-like-Abs.Category' as categorical\n",
      "Trying to set attribute `.obs` of view, copying.\n",
      "... storing 'GMP-like-Rel.Category' as categorical\n",
      "Trying to set attribute `.obs` of view, copying.\n",
      "... storing 'LSPC-Cycle-Rel.Category' as categorical\n",
      "Trying to set attribute `.obs` of view, copying.\n",
      "... storing 'LSPC-Primed-Rel.Category' as categorical\n",
      "Trying to set attribute `.obs` of view, copying.\n",
      "... storing 'LSPC-Quiescent-Rel.Category' as categorical\n",
      "Trying to set attribute `.obs` of view, copying.\n",
      "... storing 'Mono-like-Rel.Category' as categorical\n",
      "Trying to set attribute `.obs` of view, copying.\n",
      "... storing 'ProMono-like-Rel.Category' as categorical\n",
      "Trying to set attribute `.obs` of view, copying.\n",
      "... storing 'cDC-like-Rel.Category' as categorical\n",
      "Trying to set attribute `.obs` of view, copying.\n",
      "... storing 'Treatment' as categorical\n"
     ]
    }
   ],
   "source": [
    "df = get_scores(df, dat, 'Treatment', 'ARV-825', 'Control', \"OCI-AML5\", 'ARV-825', 'BET')"
   ]
  },
  {
   "cell_type": "code",
   "execution_count": 20,
   "metadata": {},
   "outputs": [
    {
     "name": "stderr",
     "output_type": "stream",
     "text": [
      "Trying to set attribute `.obs` of view, copying.\n",
      "... storing 'GMP-like-Abs.Category' as categorical\n",
      "Trying to set attribute `.obs` of view, copying.\n",
      "... storing 'LSPC-Cycle-Abs.Category' as categorical\n",
      "Trying to set attribute `.obs` of view, copying.\n",
      "... storing 'LSPC-Primed-Abs.Category' as categorical\n",
      "Trying to set attribute `.obs` of view, copying.\n",
      "... storing 'LSPC-Quiescent-Abs.Category' as categorical\n",
      "Trying to set attribute `.obs` of view, copying.\n",
      "... storing 'Mono-like-Abs.Category' as categorical\n",
      "Trying to set attribute `.obs` of view, copying.\n",
      "... storing 'ProMono-like-Abs.Category' as categorical\n",
      "Trying to set attribute `.obs` of view, copying.\n",
      "... storing 'cDC-like-Abs.Category' as categorical\n",
      "Trying to set attribute `.obs` of view, copying.\n",
      "... storing 'GMP-like-Rel.Category' as categorical\n",
      "Trying to set attribute `.obs` of view, copying.\n",
      "... storing 'LSPC-Cycle-Rel.Category' as categorical\n",
      "Trying to set attribute `.obs` of view, copying.\n",
      "... storing 'LSPC-Primed-Rel.Category' as categorical\n",
      "Trying to set attribute `.obs` of view, copying.\n",
      "... storing 'LSPC-Quiescent-Rel.Category' as categorical\n",
      "Trying to set attribute `.obs` of view, copying.\n",
      "... storing 'Mono-like-Rel.Category' as categorical\n",
      "Trying to set attribute `.obs` of view, copying.\n",
      "... storing 'ProMono-like-Rel.Category' as categorical\n",
      "Trying to set attribute `.obs` of view, copying.\n",
      "... storing 'cDC-like-Rel.Category' as categorical\n",
      "Trying to set attribute `.obs` of view, copying.\n",
      "... storing 'Treatment' as categorical\n"
     ]
    }
   ],
   "source": [
    "df = get_scores(df, dat, 'Treatment', 'OTX015', 'Control', \"OCI-AML5\", 'OTX015', 'BET')"
   ]
  },
  {
   "cell_type": "markdown",
   "metadata": {},
   "source": [
    "## CDK6 Selective"
   ]
  },
  {
   "cell_type": "code",
   "execution_count": 21,
   "metadata": {},
   "outputs": [],
   "source": [
    "dat = load_fractions(\"Data/Datasets/Cell Lines/CIBERSORTx_Results_CDK6_Selective.csv\")\n",
    "dat.X = (dat.X.transpose() / dat.X.sum(axis=1)).transpose()\n",
    "dat.obs['Treatment'] = [x[0] for x in dat.obs.index.str.split('_')]\n",
    "dat.obs['Treatment'] = dat.obs['Treatment'].str.replace('DMSO','Control')"
   ]
  },
  {
   "cell_type": "code",
   "execution_count": 22,
   "metadata": {},
   "outputs": [],
   "source": [
    "newdat = dat.to_df()\n",
    "newdat['PC2'] = (dat.to_df() * PC2_loadings).sum(axis=1)\n",
    "dat = ad.AnnData(newdat, dat.obs)\n",
    "del(newdat)"
   ]
  },
  {
   "cell_type": "code",
   "execution_count": 23,
   "metadata": {},
   "outputs": [
    {
     "name": "stderr",
     "output_type": "stream",
     "text": [
      "Trying to set attribute `.obs` of view, copying.\n",
      "... storing 'GMP-like-Abs.Category' as categorical\n",
      "Trying to set attribute `.obs` of view, copying.\n",
      "... storing 'LSPC-Cycle-Abs.Category' as categorical\n",
      "Trying to set attribute `.obs` of view, copying.\n",
      "... storing 'LSPC-Primed-Abs.Category' as categorical\n",
      "Trying to set attribute `.obs` of view, copying.\n",
      "... storing 'LSPC-Quiescent-Abs.Category' as categorical\n",
      "Trying to set attribute `.obs` of view, copying.\n",
      "... storing 'Mono-like-Abs.Category' as categorical\n",
      "Trying to set attribute `.obs` of view, copying.\n",
      "... storing 'ProMono-like-Abs.Category' as categorical\n",
      "Trying to set attribute `.obs` of view, copying.\n",
      "... storing 'cDC-like-Abs.Category' as categorical\n",
      "Trying to set attribute `.obs` of view, copying.\n",
      "... storing 'GMP-like-Rel.Category' as categorical\n",
      "Trying to set attribute `.obs` of view, copying.\n",
      "... storing 'LSPC-Cycle-Rel.Category' as categorical\n",
      "Trying to set attribute `.obs` of view, copying.\n",
      "... storing 'LSPC-Primed-Rel.Category' as categorical\n",
      "Trying to set attribute `.obs` of view, copying.\n",
      "... storing 'LSPC-Quiescent-Rel.Category' as categorical\n",
      "Trying to set attribute `.obs` of view, copying.\n",
      "... storing 'Mono-like-Rel.Category' as categorical\n",
      "Trying to set attribute `.obs` of view, copying.\n",
      "... storing 'ProMono-like-Rel.Category' as categorical\n",
      "Trying to set attribute `.obs` of view, copying.\n",
      "... storing 'cDC-like-Rel.Category' as categorical\n",
      "Trying to set attribute `.obs` of view, copying.\n",
      "... storing 'Treatment' as categorical\n"
     ]
    }
   ],
   "source": [
    "df = get_scores(df, dat, 'Treatment', 'Palbo', 'Control', \"MV4-11\", 'Palbociclib', 'CDK4/6')"
   ]
  },
  {
   "cell_type": "code",
   "execution_count": 24,
   "metadata": {},
   "outputs": [
    {
     "name": "stderr",
     "output_type": "stream",
     "text": [
      "Trying to set attribute `.obs` of view, copying.\n",
      "... storing 'GMP-like-Abs.Category' as categorical\n",
      "Trying to set attribute `.obs` of view, copying.\n",
      "... storing 'LSPC-Cycle-Abs.Category' as categorical\n",
      "Trying to set attribute `.obs` of view, copying.\n",
      "... storing 'LSPC-Primed-Abs.Category' as categorical\n",
      "Trying to set attribute `.obs` of view, copying.\n",
      "... storing 'LSPC-Quiescent-Abs.Category' as categorical\n",
      "Trying to set attribute `.obs` of view, copying.\n",
      "... storing 'Mono-like-Abs.Category' as categorical\n",
      "Trying to set attribute `.obs` of view, copying.\n",
      "... storing 'ProMono-like-Abs.Category' as categorical\n",
      "Trying to set attribute `.obs` of view, copying.\n",
      "... storing 'cDC-like-Abs.Category' as categorical\n",
      "Trying to set attribute `.obs` of view, copying.\n",
      "... storing 'GMP-like-Rel.Category' as categorical\n",
      "Trying to set attribute `.obs` of view, copying.\n",
      "... storing 'LSPC-Cycle-Rel.Category' as categorical\n",
      "Trying to set attribute `.obs` of view, copying.\n",
      "... storing 'LSPC-Primed-Rel.Category' as categorical\n",
      "Trying to set attribute `.obs` of view, copying.\n",
      "... storing 'LSPC-Quiescent-Rel.Category' as categorical\n",
      "Trying to set attribute `.obs` of view, copying.\n",
      "... storing 'Mono-like-Rel.Category' as categorical\n",
      "Trying to set attribute `.obs` of view, copying.\n",
      "... storing 'ProMono-like-Rel.Category' as categorical\n",
      "Trying to set attribute `.obs` of view, copying.\n",
      "... storing 'cDC-like-Rel.Category' as categorical\n",
      "Trying to set attribute `.obs` of view, copying.\n",
      "... storing 'Treatment' as categorical\n"
     ]
    }
   ],
   "source": [
    "df = get_scores(df, dat, 'Treatment', 'YKL', 'Control', \"MV4-11\", 'YKL (CDK6/IKZF)', 'CDK6/IKZF')"
   ]
  },
  {
   "cell_type": "code",
   "execution_count": 25,
   "metadata": {},
   "outputs": [
    {
     "name": "stderr",
     "output_type": "stream",
     "text": [
      "Trying to set attribute `.obs` of view, copying.\n",
      "... storing 'GMP-like-Abs.Category' as categorical\n",
      "Trying to set attribute `.obs` of view, copying.\n",
      "... storing 'LSPC-Cycle-Abs.Category' as categorical\n",
      "Trying to set attribute `.obs` of view, copying.\n",
      "... storing 'LSPC-Primed-Abs.Category' as categorical\n",
      "Trying to set attribute `.obs` of view, copying.\n",
      "... storing 'LSPC-Quiescent-Abs.Category' as categorical\n",
      "Trying to set attribute `.obs` of view, copying.\n",
      "... storing 'Mono-like-Abs.Category' as categorical\n",
      "Trying to set attribute `.obs` of view, copying.\n",
      "... storing 'ProMono-like-Abs.Category' as categorical\n",
      "Trying to set attribute `.obs` of view, copying.\n",
      "... storing 'cDC-like-Abs.Category' as categorical\n",
      "Trying to set attribute `.obs` of view, copying.\n",
      "... storing 'GMP-like-Rel.Category' as categorical\n",
      "Trying to set attribute `.obs` of view, copying.\n",
      "... storing 'LSPC-Cycle-Rel.Category' as categorical\n",
      "Trying to set attribute `.obs` of view, copying.\n",
      "... storing 'LSPC-Primed-Rel.Category' as categorical\n",
      "Trying to set attribute `.obs` of view, copying.\n",
      "... storing 'LSPC-Quiescent-Rel.Category' as categorical\n",
      "Trying to set attribute `.obs` of view, copying.\n",
      "... storing 'Mono-like-Rel.Category' as categorical\n",
      "Trying to set attribute `.obs` of view, copying.\n",
      "... storing 'ProMono-like-Rel.Category' as categorical\n",
      "Trying to set attribute `.obs` of view, copying.\n",
      "... storing 'cDC-like-Rel.Category' as categorical\n",
      "Trying to set attribute `.obs` of view, copying.\n",
      "... storing 'Treatment' as categorical\n"
     ]
    }
   ],
   "source": [
    "df = get_scores(df, dat, 'Treatment', 'BSJ', 'Control', \"MV4-11\", 'BSJ (CDK6 only)', 'CDK6 only')"
   ]
  },
  {
   "cell_type": "markdown",
   "metadata": {},
   "source": [
    "## DHODH 2 Lines"
   ]
  },
  {
   "cell_type": "code",
   "execution_count": 26,
   "metadata": {},
   "outputs": [],
   "source": [
    "dat = load_fractions(\"Data/Datasets/Cell Lines/CIBERSORTx_Results_DHODH_2Lines.csv\")\n",
    "dat.X = (dat.X.transpose() / dat.X.sum(axis=1)).transpose()\n",
    "dat.obs.index = dat.obs.index.str.replace('.', '_')\n",
    "dat.obs['Line'] = [x[0] for x in dat.obs.index.str.split('_')]\n",
    "dat.obs['Treatment'] = [x[1] for x in dat.obs.index.str.split('_')]\n",
    "dat.obs['Treatment'] = dat.obs['Treatment'].str.replace('DMSO','Control')"
   ]
  },
  {
   "cell_type": "code",
   "execution_count": 27,
   "metadata": {},
   "outputs": [],
   "source": [
    "newdat = dat.to_df()\n",
    "newdat['PC2'] = (dat.to_df() * PC2_loadings).sum(axis=1)\n",
    "dat = ad.AnnData(newdat, dat.obs)\n",
    "del(newdat)"
   ]
  },
  {
   "cell_type": "code",
   "execution_count": 28,
   "metadata": {},
   "outputs": [
    {
     "name": "stderr",
     "output_type": "stream",
     "text": [
      "Trying to set attribute `.obs` of view, copying.\n",
      "... storing 'GMP-like-Abs.Category' as categorical\n",
      "Trying to set attribute `.obs` of view, copying.\n",
      "... storing 'LSPC-Cycle-Abs.Category' as categorical\n",
      "Trying to set attribute `.obs` of view, copying.\n",
      "... storing 'LSPC-Primed-Abs.Category' as categorical\n",
      "Trying to set attribute `.obs` of view, copying.\n",
      "... storing 'LSPC-Quiescent-Abs.Category' as categorical\n",
      "Trying to set attribute `.obs` of view, copying.\n",
      "... storing 'Mono-like-Abs.Category' as categorical\n",
      "Trying to set attribute `.obs` of view, copying.\n",
      "... storing 'ProMono-like-Abs.Category' as categorical\n",
      "Trying to set attribute `.obs` of view, copying.\n",
      "... storing 'cDC-like-Abs.Category' as categorical\n",
      "Trying to set attribute `.obs` of view, copying.\n",
      "... storing 'GMP-like-Rel.Category' as categorical\n",
      "Trying to set attribute `.obs` of view, copying.\n",
      "... storing 'LSPC-Cycle-Rel.Category' as categorical\n",
      "Trying to set attribute `.obs` of view, copying.\n",
      "... storing 'LSPC-Primed-Rel.Category' as categorical\n",
      "Trying to set attribute `.obs` of view, copying.\n",
      "... storing 'LSPC-Quiescent-Rel.Category' as categorical\n",
      "Trying to set attribute `.obs` of view, copying.\n",
      "... storing 'Mono-like-Rel.Category' as categorical\n",
      "Trying to set attribute `.obs` of view, copying.\n",
      "... storing 'ProMono-like-Rel.Category' as categorical\n",
      "Trying to set attribute `.obs` of view, copying.\n",
      "... storing 'cDC-like-Rel.Category' as categorical\n",
      "Trying to set attribute `.obs` of view, copying.\n",
      "... storing 'Line' as categorical\n",
      "Trying to set attribute `.obs` of view, copying.\n",
      "... storing 'Treatment' as categorical\n"
     ]
    }
   ],
   "source": [
    "df = get_scores(df, dat[dat.obs.Line == 'KG1'], 'Treatment', 'ASLAN003', 'Control', \"KG1\", 'ASLAN003', 'DHODH')"
   ]
  },
  {
   "cell_type": "code",
   "execution_count": 29,
   "metadata": {},
   "outputs": [
    {
     "name": "stderr",
     "output_type": "stream",
     "text": [
      "Trying to set attribute `.obs` of view, copying.\n",
      "... storing 'GMP-like-Abs.Category' as categorical\n",
      "Trying to set attribute `.obs` of view, copying.\n",
      "... storing 'LSPC-Cycle-Abs.Category' as categorical\n",
      "Trying to set attribute `.obs` of view, copying.\n",
      "... storing 'LSPC-Primed-Abs.Category' as categorical\n",
      "Trying to set attribute `.obs` of view, copying.\n",
      "... storing 'LSPC-Quiescent-Abs.Category' as categorical\n",
      "Trying to set attribute `.obs` of view, copying.\n",
      "... storing 'Mono-like-Abs.Category' as categorical\n",
      "Trying to set attribute `.obs` of view, copying.\n",
      "... storing 'ProMono-like-Abs.Category' as categorical\n",
      "Trying to set attribute `.obs` of view, copying.\n",
      "... storing 'cDC-like-Abs.Category' as categorical\n",
      "Trying to set attribute `.obs` of view, copying.\n",
      "... storing 'GMP-like-Rel.Category' as categorical\n",
      "Trying to set attribute `.obs` of view, copying.\n",
      "... storing 'LSPC-Cycle-Rel.Category' as categorical\n",
      "Trying to set attribute `.obs` of view, copying.\n",
      "... storing 'LSPC-Primed-Rel.Category' as categorical\n",
      "Trying to set attribute `.obs` of view, copying.\n",
      "... storing 'LSPC-Quiescent-Rel.Category' as categorical\n",
      "Trying to set attribute `.obs` of view, copying.\n",
      "... storing 'Mono-like-Rel.Category' as categorical\n",
      "Trying to set attribute `.obs` of view, copying.\n",
      "... storing 'ProMono-like-Rel.Category' as categorical\n",
      "Trying to set attribute `.obs` of view, copying.\n",
      "... storing 'cDC-like-Rel.Category' as categorical\n",
      "Trying to set attribute `.obs` of view, copying.\n",
      "... storing 'Line' as categorical\n",
      "Trying to set attribute `.obs` of view, copying.\n",
      "... storing 'Treatment' as categorical\n"
     ]
    }
   ],
   "source": [
    "df = get_scores(df, dat[dat.obs.Line == 'MOLM14'], 'Treatment', 'ASLAN003', 'Control', \"MOLM-14\", 'ASLAN003', 'DHODH')"
   ]
  },
  {
   "cell_type": "markdown",
   "metadata": {},
   "source": [
    "## TET1 Inhibitor"
   ]
  },
  {
   "cell_type": "code",
   "execution_count": 30,
   "metadata": {},
   "outputs": [],
   "source": [
    "dat = load_fractions(\"Data/Datasets/Cell Lines/CIBERSORTx_Results_TET1_inhibitor_THP1.csv\")\n",
    "dat.X = (dat.X.transpose() / dat.X.sum(axis=1)).transpose()\n",
    "dat.obs['Treatment'] = [x[0] for x in dat.obs.index.str.split('-')]\n",
    "dat.obs['Treatment'] = dat.obs['Treatment'].str.replace('Ctrl','Control')"
   ]
  },
  {
   "cell_type": "code",
   "execution_count": 31,
   "metadata": {},
   "outputs": [],
   "source": [
    "newdat = dat.to_df()\n",
    "newdat['PC2'] = (dat.to_df() * PC2_loadings).sum(axis=1)\n",
    "dat = ad.AnnData(newdat, dat.obs)\n",
    "del(newdat)"
   ]
  },
  {
   "cell_type": "code",
   "execution_count": 32,
   "metadata": {},
   "outputs": [
    {
     "name": "stderr",
     "output_type": "stream",
     "text": [
      "Trying to set attribute `.obs` of view, copying.\n",
      "... storing 'GMP-like-Abs.Category' as categorical\n",
      "Trying to set attribute `.obs` of view, copying.\n",
      "... storing 'LSPC-Cycle-Abs.Category' as categorical\n",
      "Trying to set attribute `.obs` of view, copying.\n",
      "... storing 'LSPC-Primed-Abs.Category' as categorical\n",
      "Trying to set attribute `.obs` of view, copying.\n",
      "... storing 'LSPC-Quiescent-Abs.Category' as categorical\n",
      "Trying to set attribute `.obs` of view, copying.\n",
      "... storing 'Mono-like-Abs.Category' as categorical\n",
      "Trying to set attribute `.obs` of view, copying.\n",
      "... storing 'ProMono-like-Abs.Category' as categorical\n",
      "Trying to set attribute `.obs` of view, copying.\n",
      "... storing 'cDC-like-Abs.Category' as categorical\n",
      "Trying to set attribute `.obs` of view, copying.\n",
      "... storing 'GMP-like-Rel.Category' as categorical\n",
      "Trying to set attribute `.obs` of view, copying.\n",
      "... storing 'LSPC-Cycle-Rel.Category' as categorical\n",
      "Trying to set attribute `.obs` of view, copying.\n",
      "... storing 'LSPC-Primed-Rel.Category' as categorical\n",
      "Trying to set attribute `.obs` of view, copying.\n",
      "... storing 'LSPC-Quiescent-Rel.Category' as categorical\n",
      "Trying to set attribute `.obs` of view, copying.\n",
      "... storing 'Mono-like-Rel.Category' as categorical\n",
      "Trying to set attribute `.obs` of view, copying.\n",
      "... storing 'ProMono-like-Rel.Category' as categorical\n",
      "Trying to set attribute `.obs` of view, copying.\n",
      "... storing 'cDC-like-Rel.Category' as categorical\n",
      "Trying to set attribute `.obs` of view, copying.\n",
      "... storing 'Treatment' as categorical\n",
      "C:\\Users\\Hp\\Anaconda3\\envs\\single_cell\\lib\\site-packages\\numpy\\core\\fromnumeric.py:3372: RuntimeWarning: Mean of empty slice.\n",
      "  return _methods._mean(a, axis=axis, dtype=dtype,\n",
      "C:\\Users\\Hp\\Anaconda3\\envs\\single_cell\\lib\\site-packages\\numpy\\core\\_methods.py:162: RuntimeWarning: invalid value encountered in true_divide\n",
      "  ret = um.true_divide(\n",
      "C:\\Users\\Hp\\Anaconda3\\envs\\single_cell\\lib\\site-packages\\scanpy\\preprocessing\\_utils.py:11: RuntimeWarning: Mean of empty slice.\n",
      "  mean_sq = np.multiply(X, X).mean(axis=axis, dtype=np.float64)\n",
      "C:\\Users\\Hp\\Anaconda3\\envs\\single_cell\\lib\\site-packages\\scanpy\\tools\\_rank_genes_groups.py:311: RuntimeWarning: invalid value encountered in true_divide\n",
      "  scores[group_index, :] = (\n"
     ]
    }
   ],
   "source": [
    "df = get_scores(df, dat, 'Treatment', 'NSC', 'Control', \"THP-1\", 'NSC-370', 'TET1')"
   ]
  },
  {
   "cell_type": "markdown",
   "metadata": {},
   "source": [
    "## STAT5 Inhibitor"
   ]
  },
  {
   "cell_type": "code",
   "execution_count": 33,
   "metadata": {},
   "outputs": [],
   "source": [
    "dat = load_fractions(\"Data/Datasets/Cell Lines/CIBERSORTx_Results_STAT5_Inhibitor.csv\")\n",
    "dat.X = (dat.X.transpose() / dat.X.sum(axis=1)).transpose()\n",
    "dat.obs['Line'] = [x[1] for x in dat.obs.index.str.split('_')]\n",
    "dat.obs['Treatment'] = [x[3] for x in dat.obs.index.str.split('_')]\n",
    "dat.obs['Treatment'] = dat.obs['Treatment'].str.replace('DMSO','Control')"
   ]
  },
  {
   "cell_type": "code",
   "execution_count": 34,
   "metadata": {},
   "outputs": [],
   "source": [
    "newdat = dat.to_df()\n",
    "newdat['PC2'] = (dat.to_df() * PC2_loadings).sum(axis=1)\n",
    "dat = ad.AnnData(newdat, dat.obs)\n",
    "del(newdat)"
   ]
  },
  {
   "cell_type": "code",
   "execution_count": 35,
   "metadata": {},
   "outputs": [
    {
     "name": "stderr",
     "output_type": "stream",
     "text": [
      "Trying to set attribute `.obs` of view, copying.\n",
      "... storing 'GMP-like-Abs.Category' as categorical\n",
      "Trying to set attribute `.obs` of view, copying.\n",
      "... storing 'LSPC-Cycle-Abs.Category' as categorical\n",
      "Trying to set attribute `.obs` of view, copying.\n",
      "... storing 'LSPC-Primed-Abs.Category' as categorical\n",
      "Trying to set attribute `.obs` of view, copying.\n",
      "... storing 'LSPC-Quiescent-Abs.Category' as categorical\n",
      "Trying to set attribute `.obs` of view, copying.\n",
      "... storing 'Mono-like-Abs.Category' as categorical\n",
      "Trying to set attribute `.obs` of view, copying.\n",
      "... storing 'ProMono-like-Abs.Category' as categorical\n",
      "Trying to set attribute `.obs` of view, copying.\n",
      "... storing 'cDC-like-Abs.Category' as categorical\n",
      "Trying to set attribute `.obs` of view, copying.\n",
      "... storing 'GMP-like-Rel.Category' as categorical\n",
      "Trying to set attribute `.obs` of view, copying.\n",
      "... storing 'LSPC-Cycle-Rel.Category' as categorical\n",
      "Trying to set attribute `.obs` of view, copying.\n",
      "... storing 'LSPC-Primed-Rel.Category' as categorical\n",
      "Trying to set attribute `.obs` of view, copying.\n",
      "... storing 'LSPC-Quiescent-Rel.Category' as categorical\n",
      "Trying to set attribute `.obs` of view, copying.\n",
      "... storing 'Mono-like-Rel.Category' as categorical\n",
      "Trying to set attribute `.obs` of view, copying.\n",
      "... storing 'ProMono-like-Rel.Category' as categorical\n",
      "Trying to set attribute `.obs` of view, copying.\n",
      "... storing 'cDC-like-Rel.Category' as categorical\n",
      "Trying to set attribute `.obs` of view, copying.\n",
      "... storing 'Line' as categorical\n",
      "Trying to set attribute `.obs` of view, copying.\n",
      "... storing 'Treatment' as categorical\n"
     ]
    }
   ],
   "source": [
    "df = get_scores(df, dat[dat.obs.Line=='MV4'], 'Treatment', 'AC', 'Control', \"MV4-11\", 'AC-4-130', 'STAT5')"
   ]
  },
  {
   "cell_type": "code",
   "execution_count": 36,
   "metadata": {},
   "outputs": [
    {
     "name": "stderr",
     "output_type": "stream",
     "text": [
      "Trying to set attribute `.obs` of view, copying.\n",
      "... storing 'GMP-like-Abs.Category' as categorical\n",
      "Trying to set attribute `.obs` of view, copying.\n",
      "... storing 'LSPC-Cycle-Abs.Category' as categorical\n",
      "Trying to set attribute `.obs` of view, copying.\n",
      "... storing 'LSPC-Primed-Abs.Category' as categorical\n",
      "Trying to set attribute `.obs` of view, copying.\n",
      "... storing 'LSPC-Quiescent-Abs.Category' as categorical\n",
      "Trying to set attribute `.obs` of view, copying.\n",
      "... storing 'Mono-like-Abs.Category' as categorical\n",
      "Trying to set attribute `.obs` of view, copying.\n",
      "... storing 'ProMono-like-Abs.Category' as categorical\n",
      "Trying to set attribute `.obs` of view, copying.\n",
      "... storing 'cDC-like-Abs.Category' as categorical\n",
      "Trying to set attribute `.obs` of view, copying.\n",
      "... storing 'GMP-like-Rel.Category' as categorical\n",
      "Trying to set attribute `.obs` of view, copying.\n",
      "... storing 'LSPC-Cycle-Rel.Category' as categorical\n",
      "Trying to set attribute `.obs` of view, copying.\n",
      "... storing 'LSPC-Primed-Rel.Category' as categorical\n",
      "Trying to set attribute `.obs` of view, copying.\n",
      "... storing 'LSPC-Quiescent-Rel.Category' as categorical\n",
      "Trying to set attribute `.obs` of view, copying.\n",
      "... storing 'Mono-like-Rel.Category' as categorical\n",
      "Trying to set attribute `.obs` of view, copying.\n",
      "... storing 'ProMono-like-Rel.Category' as categorical\n",
      "Trying to set attribute `.obs` of view, copying.\n",
      "... storing 'cDC-like-Rel.Category' as categorical\n",
      "Trying to set attribute `.obs` of view, copying.\n",
      "... storing 'Line' as categorical\n",
      "Trying to set attribute `.obs` of view, copying.\n",
      "... storing 'Treatment' as categorical\n"
     ]
    }
   ],
   "source": [
    "df = get_scores(df, dat[dat.obs.Line=='MOLM'], 'Treatment', 'AC', 'Control', \"MOLM-13\", 'AC-4-130', 'STAT5')"
   ]
  },
  {
   "cell_type": "markdown",
   "metadata": {},
   "source": [
    "## MitoBlock6"
   ]
  },
  {
   "cell_type": "code",
   "execution_count": 37,
   "metadata": {},
   "outputs": [],
   "source": [
    "dat = load_fractions(\"Data/Datasets/Cell Lines/CIBERSORTx_Results_copperLSC.csv\")\n",
    "dat.X = (dat.X.transpose() / dat.X.sum(axis=1)).transpose()\n",
    "dat.obs['Treatment'] = [x[2] for x in dat.obs.index.str.split('_')]\n",
    "dat.obs['Treatment'] = dat.obs['Treatment'].str.replace('ctrl','Control')"
   ]
  },
  {
   "cell_type": "code",
   "execution_count": 38,
   "metadata": {},
   "outputs": [],
   "source": [
    "newdat = dat.to_df()\n",
    "newdat['PC2'] = (dat.to_df() * PC2_loadings).sum(axis=1)\n",
    "dat = ad.AnnData(newdat, dat.obs)\n",
    "del(newdat)"
   ]
  },
  {
   "cell_type": "code",
   "execution_count": 39,
   "metadata": {},
   "outputs": [
    {
     "name": "stderr",
     "output_type": "stream",
     "text": [
      "Trying to set attribute `.obs` of view, copying.\n",
      "... storing 'GMP-like-Abs.Category' as categorical\n",
      "Trying to set attribute `.obs` of view, copying.\n",
      "... storing 'LSPC-Cycle-Abs.Category' as categorical\n",
      "Trying to set attribute `.obs` of view, copying.\n",
      "... storing 'LSPC-Primed-Abs.Category' as categorical\n",
      "Trying to set attribute `.obs` of view, copying.\n",
      "... storing 'LSPC-Quiescent-Abs.Category' as categorical\n",
      "Trying to set attribute `.obs` of view, copying.\n",
      "... storing 'Mono-like-Abs.Category' as categorical\n",
      "Trying to set attribute `.obs` of view, copying.\n",
      "... storing 'ProMono-like-Abs.Category' as categorical\n",
      "Trying to set attribute `.obs` of view, copying.\n",
      "... storing 'cDC-like-Abs.Category' as categorical\n",
      "Trying to set attribute `.obs` of view, copying.\n",
      "... storing 'GMP-like-Rel.Category' as categorical\n",
      "Trying to set attribute `.obs` of view, copying.\n",
      "... storing 'LSPC-Cycle-Rel.Category' as categorical\n",
      "Trying to set attribute `.obs` of view, copying.\n",
      "... storing 'LSPC-Primed-Rel.Category' as categorical\n",
      "Trying to set attribute `.obs` of view, copying.\n",
      "... storing 'LSPC-Quiescent-Rel.Category' as categorical\n",
      "Trying to set attribute `.obs` of view, copying.\n",
      "... storing 'Mono-like-Rel.Category' as categorical\n",
      "Trying to set attribute `.obs` of view, copying.\n",
      "... storing 'ProMono-like-Rel.Category' as categorical\n",
      "Trying to set attribute `.obs` of view, copying.\n",
      "... storing 'cDC-like-Rel.Category' as categorical\n",
      "Trying to set attribute `.obs` of view, copying.\n",
      "... storing 'Treatment' as categorical\n"
     ]
    }
   ],
   "source": [
    "df = get_scores(df, dat, 'Treatment', 'MB6', 'Control', \"OCI-AML2\", 'MitoBlock6', 'Mito Copper')"
   ]
  },
  {
   "cell_type": "markdown",
   "metadata": {},
   "source": [
    "## KDM1A"
   ]
  },
  {
   "cell_type": "code",
   "execution_count": 40,
   "metadata": {},
   "outputs": [],
   "source": [
    "dat = load_fractions(\"Data/Datasets/Cell Lines/CIBERSORTx_Results_KDM1A.csv\")\n",
    "anno = pd.read_csv(\"GSE71740_RNA-seq_sample_annotations.txt\", delimiter='\\t').set_index('Sample')\n",
    "dat.obs = dat.obs.join(anno)\n",
    "dat.X = (dat.X.transpose() / dat.X.sum(axis=1)).transpose()\n",
    "dat.obs['Treatment'] = [x[1] for x in dat.obs.SampleTitle.str.split('_')]\n",
    "dat.obs['Treatment'] = dat.obs['Treatment'].str.replace('DMSO','Control')\n",
    "del(anno)"
   ]
  },
  {
   "cell_type": "code",
   "execution_count": 41,
   "metadata": {},
   "outputs": [],
   "source": [
    "newdat = dat.to_df()\n",
    "newdat['PC2'] = (dat.to_df() * PC2_loadings).sum(axis=1)\n",
    "dat = ad.AnnData(newdat, dat.obs)\n",
    "del(newdat)"
   ]
  },
  {
   "cell_type": "code",
   "execution_count": 42,
   "metadata": {},
   "outputs": [
    {
     "name": "stderr",
     "output_type": "stream",
     "text": [
      "C:\\Users\\Hp\\Anaconda3\\envs\\single_cell\\lib\\site-packages\\anndata\\_core\\anndata.py:1207: ImplicitModificationWarning: Initializing view as actual.\n",
      "  warnings.warn(\n",
      "Trying to set attribute `.obs` of view, copying.\n",
      "... storing 'GMP-like-Abs.Category' as categorical\n",
      "Trying to set attribute `.obs` of view, copying.\n",
      "... storing 'LSPC-Cycle-Abs.Category' as categorical\n",
      "Trying to set attribute `.obs` of view, copying.\n",
      "... storing 'LSPC-Primed-Abs.Category' as categorical\n",
      "Trying to set attribute `.obs` of view, copying.\n",
      "... storing 'LSPC-Quiescent-Abs.Category' as categorical\n",
      "Trying to set attribute `.obs` of view, copying.\n",
      "... storing 'Mono-like-Abs.Category' as categorical\n",
      "Trying to set attribute `.obs` of view, copying.\n",
      "... storing 'ProMono-like-Abs.Category' as categorical\n",
      "Trying to set attribute `.obs` of view, copying.\n",
      "... storing 'cDC-like-Abs.Category' as categorical\n",
      "Trying to set attribute `.obs` of view, copying.\n",
      "... storing 'GMP-like-Rel.Category' as categorical\n",
      "Trying to set attribute `.obs` of view, copying.\n",
      "... storing 'LSPC-Cycle-Rel.Category' as categorical\n",
      "Trying to set attribute `.obs` of view, copying.\n",
      "... storing 'LSPC-Primed-Rel.Category' as categorical\n",
      "Trying to set attribute `.obs` of view, copying.\n",
      "... storing 'LSPC-Quiescent-Rel.Category' as categorical\n",
      "Trying to set attribute `.obs` of view, copying.\n",
      "... storing 'Mono-like-Rel.Category' as categorical\n",
      "Trying to set attribute `.obs` of view, copying.\n",
      "... storing 'ProMono-like-Rel.Category' as categorical\n",
      "Trying to set attribute `.obs` of view, copying.\n",
      "... storing 'cDC-like-Rel.Category' as categorical\n",
      "Trying to set attribute `.obs` of view, copying.\n",
      "... storing 'Concentration' as categorical\n",
      "Trying to set attribute `.obs` of view, copying.\n",
      "... storing 'SampleTitle' as categorical\n",
      "Trying to set attribute `.obs` of view, copying.\n",
      "... storing 'Cell Line' as categorical\n",
      "Trying to set attribute `.obs` of view, copying.\n",
      "... storing 'Treatment' as categorical\n"
     ]
    }
   ],
   "source": [
    "df = get_scores(df, dat[(dat.obs.Timepoint==24) & (dat.obs['Cell Line'] == 'SK-NO-1')], 'Treatment', 'GSK690', 'Control', \"SKNO-1\", 'GSK690 (24hr)', 'KDM1A')"
   ]
  },
  {
   "cell_type": "code",
   "execution_count": 43,
   "metadata": {},
   "outputs": [
    {
     "name": "stderr",
     "output_type": "stream",
     "text": [
      "C:\\Users\\Hp\\Anaconda3\\envs\\single_cell\\lib\\site-packages\\anndata\\_core\\anndata.py:1207: ImplicitModificationWarning: Initializing view as actual.\n",
      "  warnings.warn(\n",
      "Trying to set attribute `.obs` of view, copying.\n",
      "... storing 'GMP-like-Abs.Category' as categorical\n",
      "Trying to set attribute `.obs` of view, copying.\n",
      "... storing 'LSPC-Cycle-Abs.Category' as categorical\n",
      "Trying to set attribute `.obs` of view, copying.\n",
      "... storing 'LSPC-Primed-Abs.Category' as categorical\n",
      "Trying to set attribute `.obs` of view, copying.\n",
      "... storing 'LSPC-Quiescent-Abs.Category' as categorical\n",
      "Trying to set attribute `.obs` of view, copying.\n",
      "... storing 'Mono-like-Abs.Category' as categorical\n",
      "Trying to set attribute `.obs` of view, copying.\n",
      "... storing 'ProMono-like-Abs.Category' as categorical\n",
      "Trying to set attribute `.obs` of view, copying.\n",
      "... storing 'cDC-like-Abs.Category' as categorical\n",
      "Trying to set attribute `.obs` of view, copying.\n",
      "... storing 'GMP-like-Rel.Category' as categorical\n",
      "Trying to set attribute `.obs` of view, copying.\n",
      "... storing 'LSPC-Cycle-Rel.Category' as categorical\n",
      "Trying to set attribute `.obs` of view, copying.\n",
      "... storing 'LSPC-Primed-Rel.Category' as categorical\n",
      "Trying to set attribute `.obs` of view, copying.\n",
      "... storing 'LSPC-Quiescent-Rel.Category' as categorical\n",
      "Trying to set attribute `.obs` of view, copying.\n",
      "... storing 'Mono-like-Rel.Category' as categorical\n",
      "Trying to set attribute `.obs` of view, copying.\n",
      "... storing 'ProMono-like-Rel.Category' as categorical\n",
      "Trying to set attribute `.obs` of view, copying.\n",
      "... storing 'cDC-like-Rel.Category' as categorical\n",
      "Trying to set attribute `.obs` of view, copying.\n",
      "... storing 'Concentration' as categorical\n",
      "Trying to set attribute `.obs` of view, copying.\n",
      "... storing 'SampleTitle' as categorical\n",
      "Trying to set attribute `.obs` of view, copying.\n",
      "... storing 'Cell Line' as categorical\n",
      "Trying to set attribute `.obs` of view, copying.\n",
      "... storing 'Treatment' as categorical\n"
     ]
    }
   ],
   "source": [
    "df = get_scores(df, dat[(dat.obs.Timepoint==24) & (dat.obs['Cell Line'] == 'SK-NO-1')], 'Treatment', 'RN-1', 'Control', \"SKNO-1\", 'RN-1 (24hr)', 'KDM1A')"
   ]
  },
  {
   "cell_type": "code",
   "execution_count": 44,
   "metadata": {},
   "outputs": [
    {
     "name": "stderr",
     "output_type": "stream",
     "text": [
      "C:\\Users\\Hp\\Anaconda3\\envs\\single_cell\\lib\\site-packages\\anndata\\_core\\anndata.py:1207: ImplicitModificationWarning: Initializing view as actual.\n",
      "  warnings.warn(\n",
      "Trying to set attribute `.obs` of view, copying.\n",
      "... storing 'GMP-like-Abs.Category' as categorical\n",
      "Trying to set attribute `.obs` of view, copying.\n",
      "... storing 'LSPC-Cycle-Abs.Category' as categorical\n",
      "Trying to set attribute `.obs` of view, copying.\n",
      "... storing 'LSPC-Primed-Abs.Category' as categorical\n",
      "Trying to set attribute `.obs` of view, copying.\n",
      "... storing 'LSPC-Quiescent-Abs.Category' as categorical\n",
      "Trying to set attribute `.obs` of view, copying.\n",
      "... storing 'Mono-like-Abs.Category' as categorical\n",
      "Trying to set attribute `.obs` of view, copying.\n",
      "... storing 'ProMono-like-Abs.Category' as categorical\n",
      "Trying to set attribute `.obs` of view, copying.\n",
      "... storing 'cDC-like-Abs.Category' as categorical\n",
      "Trying to set attribute `.obs` of view, copying.\n",
      "... storing 'GMP-like-Rel.Category' as categorical\n",
      "Trying to set attribute `.obs` of view, copying.\n",
      "... storing 'LSPC-Cycle-Rel.Category' as categorical\n",
      "Trying to set attribute `.obs` of view, copying.\n",
      "... storing 'LSPC-Primed-Rel.Category' as categorical\n",
      "Trying to set attribute `.obs` of view, copying.\n",
      "... storing 'LSPC-Quiescent-Rel.Category' as categorical\n",
      "Trying to set attribute `.obs` of view, copying.\n",
      "... storing 'Mono-like-Rel.Category' as categorical\n",
      "Trying to set attribute `.obs` of view, copying.\n",
      "... storing 'ProMono-like-Rel.Category' as categorical\n",
      "Trying to set attribute `.obs` of view, copying.\n",
      "... storing 'cDC-like-Rel.Category' as categorical\n",
      "Trying to set attribute `.obs` of view, copying.\n",
      "... storing 'Concentration' as categorical\n",
      "Trying to set attribute `.obs` of view, copying.\n",
      "... storing 'SampleTitle' as categorical\n",
      "Trying to set attribute `.obs` of view, copying.\n",
      "... storing 'Cell Line' as categorical\n",
      "Trying to set attribute `.obs` of view, copying.\n",
      "... storing 'Treatment' as categorical\n"
     ]
    }
   ],
   "source": [
    "df = get_scores(df, dat[(dat.obs.Timepoint==24) & (dat.obs['Cell Line'] == 'Kasumi-1')], 'Treatment', 'GSK690', 'Control', \"Kasumi-1\", 'GSK690 (24hr)', 'KDM1A')"
   ]
  },
  {
   "cell_type": "code",
   "execution_count": 45,
   "metadata": {},
   "outputs": [
    {
     "name": "stderr",
     "output_type": "stream",
     "text": [
      "C:\\Users\\Hp\\Anaconda3\\envs\\single_cell\\lib\\site-packages\\anndata\\_core\\anndata.py:1207: ImplicitModificationWarning: Initializing view as actual.\n",
      "  warnings.warn(\n",
      "Trying to set attribute `.obs` of view, copying.\n",
      "... storing 'GMP-like-Abs.Category' as categorical\n",
      "Trying to set attribute `.obs` of view, copying.\n",
      "... storing 'LSPC-Cycle-Abs.Category' as categorical\n",
      "Trying to set attribute `.obs` of view, copying.\n",
      "... storing 'LSPC-Primed-Abs.Category' as categorical\n",
      "Trying to set attribute `.obs` of view, copying.\n",
      "... storing 'LSPC-Quiescent-Abs.Category' as categorical\n",
      "Trying to set attribute `.obs` of view, copying.\n",
      "... storing 'Mono-like-Abs.Category' as categorical\n",
      "Trying to set attribute `.obs` of view, copying.\n",
      "... storing 'ProMono-like-Abs.Category' as categorical\n",
      "Trying to set attribute `.obs` of view, copying.\n",
      "... storing 'cDC-like-Abs.Category' as categorical\n",
      "Trying to set attribute `.obs` of view, copying.\n",
      "... storing 'GMP-like-Rel.Category' as categorical\n",
      "Trying to set attribute `.obs` of view, copying.\n",
      "... storing 'LSPC-Cycle-Rel.Category' as categorical\n",
      "Trying to set attribute `.obs` of view, copying.\n",
      "... storing 'LSPC-Primed-Rel.Category' as categorical\n",
      "Trying to set attribute `.obs` of view, copying.\n",
      "... storing 'LSPC-Quiescent-Rel.Category' as categorical\n",
      "Trying to set attribute `.obs` of view, copying.\n",
      "... storing 'Mono-like-Rel.Category' as categorical\n",
      "Trying to set attribute `.obs` of view, copying.\n",
      "... storing 'ProMono-like-Rel.Category' as categorical\n",
      "Trying to set attribute `.obs` of view, copying.\n",
      "... storing 'cDC-like-Rel.Category' as categorical\n",
      "Trying to set attribute `.obs` of view, copying.\n",
      "... storing 'Concentration' as categorical\n",
      "Trying to set attribute `.obs` of view, copying.\n",
      "... storing 'SampleTitle' as categorical\n",
      "Trying to set attribute `.obs` of view, copying.\n",
      "... storing 'Cell Line' as categorical\n",
      "Trying to set attribute `.obs` of view, copying.\n",
      "... storing 'Treatment' as categorical\n",
      "C:\\Users\\Hp\\Anaconda3\\envs\\single_cell\\lib\\site-packages\\scanpy\\tools\\_rank_genes_groups.py:407: RuntimeWarning: invalid value encountered in log2\n",
      "  self.stats[group_name, 'logfoldchanges'] = np.log2(\n"
     ]
    }
   ],
   "source": [
    "df = get_scores(df, dat[(dat.obs.Timepoint==24) & (dat.obs['Cell Line'] == 'Kasumi-1')], 'Treatment', 'RN-1', 'Control', \"Kasumi-1\", 'RN-1 (24hr)', 'KDM1A')"
   ]
  },
  {
   "cell_type": "code",
   "execution_count": 46,
   "metadata": {},
   "outputs": [
    {
     "name": "stderr",
     "output_type": "stream",
     "text": [
      "C:\\Users\\Hp\\Anaconda3\\envs\\single_cell\\lib\\site-packages\\anndata\\_core\\anndata.py:1207: ImplicitModificationWarning: Initializing view as actual.\n",
      "  warnings.warn(\n",
      "Trying to set attribute `.obs` of view, copying.\n",
      "... storing 'GMP-like-Abs.Category' as categorical\n",
      "Trying to set attribute `.obs` of view, copying.\n",
      "... storing 'LSPC-Cycle-Abs.Category' as categorical\n",
      "Trying to set attribute `.obs` of view, copying.\n",
      "... storing 'LSPC-Primed-Abs.Category' as categorical\n",
      "Trying to set attribute `.obs` of view, copying.\n",
      "... storing 'LSPC-Quiescent-Abs.Category' as categorical\n",
      "Trying to set attribute `.obs` of view, copying.\n",
      "... storing 'Mono-like-Abs.Category' as categorical\n",
      "Trying to set attribute `.obs` of view, copying.\n",
      "... storing 'ProMono-like-Abs.Category' as categorical\n",
      "Trying to set attribute `.obs` of view, copying.\n",
      "... storing 'cDC-like-Abs.Category' as categorical\n",
      "Trying to set attribute `.obs` of view, copying.\n",
      "... storing 'GMP-like-Rel.Category' as categorical\n",
      "Trying to set attribute `.obs` of view, copying.\n",
      "... storing 'LSPC-Cycle-Rel.Category' as categorical\n",
      "Trying to set attribute `.obs` of view, copying.\n",
      "... storing 'LSPC-Primed-Rel.Category' as categorical\n",
      "Trying to set attribute `.obs` of view, copying.\n",
      "... storing 'LSPC-Quiescent-Rel.Category' as categorical\n",
      "Trying to set attribute `.obs` of view, copying.\n",
      "... storing 'Mono-like-Rel.Category' as categorical\n",
      "Trying to set attribute `.obs` of view, copying.\n",
      "... storing 'ProMono-like-Rel.Category' as categorical\n",
      "Trying to set attribute `.obs` of view, copying.\n",
      "... storing 'cDC-like-Rel.Category' as categorical\n",
      "Trying to set attribute `.obs` of view, copying.\n",
      "... storing 'Concentration' as categorical\n",
      "Trying to set attribute `.obs` of view, copying.\n",
      "... storing 'SampleTitle' as categorical\n",
      "Trying to set attribute `.obs` of view, copying.\n",
      "... storing 'Cell Line' as categorical\n",
      "Trying to set attribute `.obs` of view, copying.\n",
      "... storing 'Treatment' as categorical\n",
      "C:\\Users\\Hp\\Anaconda3\\envs\\single_cell\\lib\\site-packages\\scanpy\\tools\\_rank_genes_groups.py:407: RuntimeWarning: invalid value encountered in log2\n",
      "  self.stats[group_name, 'logfoldchanges'] = np.log2(\n"
     ]
    }
   ],
   "source": [
    "df = get_scores(df, dat[(dat.obs.Timepoint==72) & (dat.obs['Cell Line'] == 'SK-NO-1')], 'Treatment', 'GSK690', 'Control', \"SKNO-1\", 'GSK690 (72hr)', 'KDM1A')"
   ]
  },
  {
   "cell_type": "code",
   "execution_count": 47,
   "metadata": {},
   "outputs": [
    {
     "name": "stderr",
     "output_type": "stream",
     "text": [
      "C:\\Users\\Hp\\Anaconda3\\envs\\single_cell\\lib\\site-packages\\anndata\\_core\\anndata.py:1207: ImplicitModificationWarning: Initializing view as actual.\n",
      "  warnings.warn(\n",
      "Trying to set attribute `.obs` of view, copying.\n",
      "... storing 'GMP-like-Abs.Category' as categorical\n",
      "Trying to set attribute `.obs` of view, copying.\n",
      "... storing 'LSPC-Cycle-Abs.Category' as categorical\n",
      "Trying to set attribute `.obs` of view, copying.\n",
      "... storing 'LSPC-Primed-Abs.Category' as categorical\n",
      "Trying to set attribute `.obs` of view, copying.\n",
      "... storing 'LSPC-Quiescent-Abs.Category' as categorical\n",
      "Trying to set attribute `.obs` of view, copying.\n",
      "... storing 'Mono-like-Abs.Category' as categorical\n",
      "Trying to set attribute `.obs` of view, copying.\n",
      "... storing 'ProMono-like-Abs.Category' as categorical\n",
      "Trying to set attribute `.obs` of view, copying.\n",
      "... storing 'cDC-like-Abs.Category' as categorical\n",
      "Trying to set attribute `.obs` of view, copying.\n",
      "... storing 'GMP-like-Rel.Category' as categorical\n",
      "Trying to set attribute `.obs` of view, copying.\n",
      "... storing 'LSPC-Cycle-Rel.Category' as categorical\n",
      "Trying to set attribute `.obs` of view, copying.\n",
      "... storing 'LSPC-Primed-Rel.Category' as categorical\n",
      "Trying to set attribute `.obs` of view, copying.\n",
      "... storing 'LSPC-Quiescent-Rel.Category' as categorical\n",
      "Trying to set attribute `.obs` of view, copying.\n",
      "... storing 'Mono-like-Rel.Category' as categorical\n",
      "Trying to set attribute `.obs` of view, copying.\n",
      "... storing 'ProMono-like-Rel.Category' as categorical\n",
      "Trying to set attribute `.obs` of view, copying.\n",
      "... storing 'cDC-like-Rel.Category' as categorical\n",
      "Trying to set attribute `.obs` of view, copying.\n",
      "... storing 'Concentration' as categorical\n",
      "Trying to set attribute `.obs` of view, copying.\n",
      "... storing 'SampleTitle' as categorical\n",
      "Trying to set attribute `.obs` of view, copying.\n",
      "... storing 'Cell Line' as categorical\n",
      "Trying to set attribute `.obs` of view, copying.\n",
      "... storing 'Treatment' as categorical\n"
     ]
    }
   ],
   "source": [
    "df = get_scores(df, dat[(dat.obs.Timepoint==72) & (dat.obs['Cell Line'] == 'SK-NO-1')], 'Treatment', 'RN-1', 'Control', \"SKNO-1\", 'RN-1 (72hr)', 'KDM1A')"
   ]
  },
  {
   "cell_type": "code",
   "execution_count": 48,
   "metadata": {},
   "outputs": [
    {
     "name": "stderr",
     "output_type": "stream",
     "text": [
      "C:\\Users\\Hp\\Anaconda3\\envs\\single_cell\\lib\\site-packages\\anndata\\_core\\anndata.py:1207: ImplicitModificationWarning: Initializing view as actual.\n",
      "  warnings.warn(\n",
      "Trying to set attribute `.obs` of view, copying.\n",
      "... storing 'GMP-like-Abs.Category' as categorical\n",
      "Trying to set attribute `.obs` of view, copying.\n",
      "... storing 'LSPC-Cycle-Abs.Category' as categorical\n",
      "Trying to set attribute `.obs` of view, copying.\n",
      "... storing 'LSPC-Primed-Abs.Category' as categorical\n",
      "Trying to set attribute `.obs` of view, copying.\n",
      "... storing 'LSPC-Quiescent-Abs.Category' as categorical\n",
      "Trying to set attribute `.obs` of view, copying.\n",
      "... storing 'Mono-like-Abs.Category' as categorical\n",
      "Trying to set attribute `.obs` of view, copying.\n",
      "... storing 'ProMono-like-Abs.Category' as categorical\n",
      "Trying to set attribute `.obs` of view, copying.\n",
      "... storing 'cDC-like-Abs.Category' as categorical\n",
      "Trying to set attribute `.obs` of view, copying.\n",
      "... storing 'GMP-like-Rel.Category' as categorical\n",
      "Trying to set attribute `.obs` of view, copying.\n",
      "... storing 'LSPC-Cycle-Rel.Category' as categorical\n",
      "Trying to set attribute `.obs` of view, copying.\n",
      "... storing 'LSPC-Primed-Rel.Category' as categorical\n",
      "Trying to set attribute `.obs` of view, copying.\n",
      "... storing 'LSPC-Quiescent-Rel.Category' as categorical\n",
      "Trying to set attribute `.obs` of view, copying.\n",
      "... storing 'Mono-like-Rel.Category' as categorical\n",
      "Trying to set attribute `.obs` of view, copying.\n",
      "... storing 'ProMono-like-Rel.Category' as categorical\n",
      "Trying to set attribute `.obs` of view, copying.\n",
      "... storing 'cDC-like-Rel.Category' as categorical\n",
      "Trying to set attribute `.obs` of view, copying.\n",
      "... storing 'Concentration' as categorical\n",
      "Trying to set attribute `.obs` of view, copying.\n",
      "... storing 'SampleTitle' as categorical\n",
      "Trying to set attribute `.obs` of view, copying.\n",
      "... storing 'Cell Line' as categorical\n",
      "Trying to set attribute `.obs` of view, copying.\n",
      "... storing 'Treatment' as categorical\n"
     ]
    }
   ],
   "source": [
    "df = get_scores(df, dat[(dat.obs.Timepoint==72) & (dat.obs['Cell Line'] == 'Kasumi-1')], 'Treatment', 'GSK690', 'Control', \"Kasumi-1\", 'GSK690 (72hr)', 'KDM1A')"
   ]
  },
  {
   "cell_type": "code",
   "execution_count": 49,
   "metadata": {},
   "outputs": [
    {
     "name": "stderr",
     "output_type": "stream",
     "text": [
      "C:\\Users\\Hp\\Anaconda3\\envs\\single_cell\\lib\\site-packages\\anndata\\_core\\anndata.py:1207: ImplicitModificationWarning: Initializing view as actual.\n",
      "  warnings.warn(\n",
      "Trying to set attribute `.obs` of view, copying.\n",
      "... storing 'GMP-like-Abs.Category' as categorical\n",
      "Trying to set attribute `.obs` of view, copying.\n",
      "... storing 'LSPC-Cycle-Abs.Category' as categorical\n",
      "Trying to set attribute `.obs` of view, copying.\n",
      "... storing 'LSPC-Primed-Abs.Category' as categorical\n",
      "Trying to set attribute `.obs` of view, copying.\n",
      "... storing 'LSPC-Quiescent-Abs.Category' as categorical\n",
      "Trying to set attribute `.obs` of view, copying.\n",
      "... storing 'Mono-like-Abs.Category' as categorical\n",
      "Trying to set attribute `.obs` of view, copying.\n",
      "... storing 'ProMono-like-Abs.Category' as categorical\n",
      "Trying to set attribute `.obs` of view, copying.\n",
      "... storing 'cDC-like-Abs.Category' as categorical\n",
      "Trying to set attribute `.obs` of view, copying.\n",
      "... storing 'GMP-like-Rel.Category' as categorical\n",
      "Trying to set attribute `.obs` of view, copying.\n",
      "... storing 'LSPC-Cycle-Rel.Category' as categorical\n",
      "Trying to set attribute `.obs` of view, copying.\n",
      "... storing 'LSPC-Primed-Rel.Category' as categorical\n",
      "Trying to set attribute `.obs` of view, copying.\n",
      "... storing 'LSPC-Quiescent-Rel.Category' as categorical\n",
      "Trying to set attribute `.obs` of view, copying.\n",
      "... storing 'Mono-like-Rel.Category' as categorical\n",
      "Trying to set attribute `.obs` of view, copying.\n",
      "... storing 'ProMono-like-Rel.Category' as categorical\n",
      "Trying to set attribute `.obs` of view, copying.\n",
      "... storing 'cDC-like-Rel.Category' as categorical\n",
      "Trying to set attribute `.obs` of view, copying.\n",
      "... storing 'Concentration' as categorical\n",
      "Trying to set attribute `.obs` of view, copying.\n",
      "... storing 'SampleTitle' as categorical\n",
      "Trying to set attribute `.obs` of view, copying.\n",
      "... storing 'Cell Line' as categorical\n",
      "Trying to set attribute `.obs` of view, copying.\n",
      "... storing 'Treatment' as categorical\n"
     ]
    }
   ],
   "source": [
    "df = get_scores(df, dat[(dat.obs.Timepoint==72) & (dat.obs['Cell Line'] == 'Kasumi-1')], 'Treatment', 'RN-1', 'Control', \"Kasumi-1\", 'RN-1 (72hr)', 'KDM1A')"
   ]
  },
  {
   "cell_type": "markdown",
   "metadata": {},
   "source": [
    "## DOT1L and EPZ004777"
   ]
  },
  {
   "cell_type": "code",
   "execution_count": 50,
   "metadata": {},
   "outputs": [
    {
     "name": "stderr",
     "output_type": "stream",
     "text": [
      "Trying to set attribute `.obs` of view, copying.\n"
     ]
    }
   ],
   "source": [
    "dat = load_fractions(\"Data/Datasets/Cell Lines/CIBERSORTx_Results_MeninMLL.csv\")\n",
    "dat.X = (dat.X.transpose() / dat.X.sum(axis=1)).transpose()\n",
    "dat = dat[dat.obs.index!='Sum']\n",
    "dat.obs['Line'] = [x[0] for x in dat.obs.index.str.split('_')]\n",
    "dat.obs['Treatment'] = [x[1] for x in dat.obs.index.str.split('_')]\n",
    "dat.obs['Treatment'] = dat.obs['Treatment'].str.replace('DMSO','Control').str.replace('DFCI', 'EPZ004777')"
   ]
  },
  {
   "cell_type": "code",
   "execution_count": 51,
   "metadata": {},
   "outputs": [
    {
     "name": "stderr",
     "output_type": "stream",
     "text": [
      "C:\\Users\\Hp\\Anaconda3\\envs\\single_cell\\lib\\site-packages\\anndata\\utils.py:141: UserWarning: X converted to numpy array with dtype float64\n",
      "  warnings.warn(f\"{name} converted to numpy array with dtype {arr.dtype}\")\n"
     ]
    }
   ],
   "source": [
    "newdat = dat.to_df()\n",
    "newdat['PC2'] = (dat.to_df() * PC2_loadings).sum(axis=1)\n",
    "dat = ad.AnnData(newdat, dat.obs)\n",
    "del(newdat)"
   ]
  },
  {
   "cell_type": "code",
   "execution_count": 52,
   "metadata": {},
   "outputs": [
    {
     "name": "stderr",
     "output_type": "stream",
     "text": [
      "Trying to set attribute `.obs` of view, copying.\n",
      "... storing 'GMP-like-Abs.Category' as categorical\n",
      "Trying to set attribute `.obs` of view, copying.\n",
      "... storing 'LSPC-Cycle-Abs.Category' as categorical\n",
      "Trying to set attribute `.obs` of view, copying.\n",
      "... storing 'LSPC-Primed-Abs.Category' as categorical\n",
      "Trying to set attribute `.obs` of view, copying.\n",
      "... storing 'LSPC-Quiescent-Abs.Category' as categorical\n",
      "Trying to set attribute `.obs` of view, copying.\n",
      "... storing 'Mono-like-Abs.Category' as categorical\n",
      "Trying to set attribute `.obs` of view, copying.\n",
      "... storing 'ProMono-like-Abs.Category' as categorical\n",
      "Trying to set attribute `.obs` of view, copying.\n",
      "... storing 'cDC-like-Abs.Category' as categorical\n",
      "Trying to set attribute `.obs` of view, copying.\n",
      "... storing 'GMP-like-Rel.Category' as categorical\n",
      "Trying to set attribute `.obs` of view, copying.\n",
      "... storing 'LSPC-Cycle-Rel.Category' as categorical\n",
      "Trying to set attribute `.obs` of view, copying.\n",
      "... storing 'LSPC-Primed-Rel.Category' as categorical\n",
      "Trying to set attribute `.obs` of view, copying.\n",
      "... storing 'LSPC-Quiescent-Rel.Category' as categorical\n",
      "Trying to set attribute `.obs` of view, copying.\n",
      "... storing 'Mono-like-Rel.Category' as categorical\n",
      "Trying to set attribute `.obs` of view, copying.\n",
      "... storing 'ProMono-like-Rel.Category' as categorical\n",
      "Trying to set attribute `.obs` of view, copying.\n",
      "... storing 'cDC-like-Rel.Category' as categorical\n",
      "Trying to set attribute `.obs` of view, copying.\n",
      "... storing 'Line' as categorical\n",
      "Trying to set attribute `.obs` of view, copying.\n",
      "... storing 'Treatment' as categorical\n",
      "C:\\Users\\Hp\\Anaconda3\\envs\\single_cell\\lib\\site-packages\\scanpy\\tools\\_rank_genes_groups.py:407: RuntimeWarning: invalid value encountered in log2\n",
      "  self.stats[group_name, 'logfoldchanges'] = np.log2(\n"
     ]
    }
   ],
   "source": [
    "df = get_scores(df, dat[dat.obs.Line == 'OCI2'], 'Treatment', 'EPZ004777', 'Control', \"OCI-AML2\", 'EPZ004777', 'DOT1L')"
   ]
  },
  {
   "cell_type": "code",
   "execution_count": 53,
   "metadata": {},
   "outputs": [
    {
     "name": "stderr",
     "output_type": "stream",
     "text": [
      "Trying to set attribute `.obs` of view, copying.\n",
      "... storing 'GMP-like-Abs.Category' as categorical\n",
      "Trying to set attribute `.obs` of view, copying.\n",
      "... storing 'LSPC-Cycle-Abs.Category' as categorical\n",
      "Trying to set attribute `.obs` of view, copying.\n",
      "... storing 'LSPC-Primed-Abs.Category' as categorical\n",
      "Trying to set attribute `.obs` of view, copying.\n",
      "... storing 'LSPC-Quiescent-Abs.Category' as categorical\n",
      "Trying to set attribute `.obs` of view, copying.\n",
      "... storing 'Mono-like-Abs.Category' as categorical\n",
      "Trying to set attribute `.obs` of view, copying.\n",
      "... storing 'ProMono-like-Abs.Category' as categorical\n",
      "Trying to set attribute `.obs` of view, copying.\n",
      "... storing 'cDC-like-Abs.Category' as categorical\n",
      "Trying to set attribute `.obs` of view, copying.\n",
      "... storing 'GMP-like-Rel.Category' as categorical\n",
      "Trying to set attribute `.obs` of view, copying.\n",
      "... storing 'LSPC-Cycle-Rel.Category' as categorical\n",
      "Trying to set attribute `.obs` of view, copying.\n",
      "... storing 'LSPC-Primed-Rel.Category' as categorical\n",
      "Trying to set attribute `.obs` of view, copying.\n",
      "... storing 'LSPC-Quiescent-Rel.Category' as categorical\n",
      "Trying to set attribute `.obs` of view, copying.\n",
      "... storing 'Mono-like-Rel.Category' as categorical\n",
      "Trying to set attribute `.obs` of view, copying.\n",
      "... storing 'ProMono-like-Rel.Category' as categorical\n",
      "Trying to set attribute `.obs` of view, copying.\n",
      "... storing 'cDC-like-Rel.Category' as categorical\n",
      "Trying to set attribute `.obs` of view, copying.\n",
      "... storing 'Line' as categorical\n",
      "Trying to set attribute `.obs` of view, copying.\n",
      "... storing 'Treatment' as categorical\n"
     ]
    }
   ],
   "source": [
    "df = get_scores(df, dat[dat.obs.Line == 'OCI3'], 'Treatment', 'EPZ004777', 'Control', \"OCI-AML3\", 'EPZ004777', 'DOT1L')"
   ]
  },
  {
   "cell_type": "markdown",
   "metadata": {},
   "source": [
    "## FTO Inhibitor NB4"
   ]
  },
  {
   "cell_type": "code",
   "execution_count": 54,
   "metadata": {},
   "outputs": [],
   "source": [
    "dat = load_fractions(\"Data/Datasets/Cell Lines/CIBERSORTx_Results_FTO_KD_Inhibitor_NB4.csv\")\n",
    "dat.X = (dat.X.transpose() / dat.X.sum(axis=1)).transpose()\n",
    "dat.obs.index = dat.obs.index.str.replace('.','_')\n",
    "dat.obs['Treatment'] = [x[1] for x in dat.obs.index.str.split('_')]\n",
    "dat.obs['Treatment'] = dat.obs['Treatment'].str.replace('DMSO','Control')"
   ]
  },
  {
   "cell_type": "code",
   "execution_count": 55,
   "metadata": {},
   "outputs": [],
   "source": [
    "newdat = dat.to_df()\n",
    "newdat['PC2'] = (dat.to_df() * PC2_loadings).sum(axis=1)\n",
    "dat = ad.AnnData(newdat, dat.obs)\n",
    "del(newdat)"
   ]
  },
  {
   "cell_type": "code",
   "execution_count": 56,
   "metadata": {},
   "outputs": [
    {
     "name": "stderr",
     "output_type": "stream",
     "text": [
      "Trying to set attribute `.obs` of view, copying.\n",
      "... storing 'GMP-like-Abs.Category' as categorical\n",
      "Trying to set attribute `.obs` of view, copying.\n",
      "... storing 'LSPC-Cycle-Abs.Category' as categorical\n",
      "Trying to set attribute `.obs` of view, copying.\n",
      "... storing 'LSPC-Primed-Abs.Category' as categorical\n",
      "Trying to set attribute `.obs` of view, copying.\n",
      "... storing 'LSPC-Quiescent-Abs.Category' as categorical\n",
      "Trying to set attribute `.obs` of view, copying.\n",
      "... storing 'Mono-like-Abs.Category' as categorical\n",
      "Trying to set attribute `.obs` of view, copying.\n",
      "... storing 'ProMono-like-Abs.Category' as categorical\n",
      "Trying to set attribute `.obs` of view, copying.\n",
      "... storing 'cDC-like-Abs.Category' as categorical\n",
      "Trying to set attribute `.obs` of view, copying.\n",
      "... storing 'GMP-like-Rel.Category' as categorical\n",
      "Trying to set attribute `.obs` of view, copying.\n",
      "... storing 'LSPC-Cycle-Rel.Category' as categorical\n",
      "Trying to set attribute `.obs` of view, copying.\n",
      "... storing 'LSPC-Primed-Rel.Category' as categorical\n",
      "Trying to set attribute `.obs` of view, copying.\n",
      "... storing 'LSPC-Quiescent-Rel.Category' as categorical\n",
      "Trying to set attribute `.obs` of view, copying.\n",
      "... storing 'Mono-like-Rel.Category' as categorical\n",
      "Trying to set attribute `.obs` of view, copying.\n",
      "... storing 'ProMono-like-Rel.Category' as categorical\n",
      "Trying to set attribute `.obs` of view, copying.\n",
      "... storing 'cDC-like-Rel.Category' as categorical\n",
      "Trying to set attribute `.obs` of view, copying.\n",
      "... storing 'Treatment' as categorical\n"
     ]
    }
   ],
   "source": [
    "df = get_scores(df, dat, 'Treatment', '231', 'Control', \"NB-4\", 'FB23-1', 'FTO')"
   ]
  },
  {
   "cell_type": "code",
   "execution_count": 57,
   "metadata": {},
   "outputs": [
    {
     "name": "stderr",
     "output_type": "stream",
     "text": [
      "Trying to set attribute `.obs` of view, copying.\n",
      "... storing 'GMP-like-Abs.Category' as categorical\n",
      "Trying to set attribute `.obs` of view, copying.\n",
      "... storing 'LSPC-Cycle-Abs.Category' as categorical\n",
      "Trying to set attribute `.obs` of view, copying.\n",
      "... storing 'LSPC-Primed-Abs.Category' as categorical\n",
      "Trying to set attribute `.obs` of view, copying.\n",
      "... storing 'LSPC-Quiescent-Abs.Category' as categorical\n",
      "Trying to set attribute `.obs` of view, copying.\n",
      "... storing 'Mono-like-Abs.Category' as categorical\n",
      "Trying to set attribute `.obs` of view, copying.\n",
      "... storing 'ProMono-like-Abs.Category' as categorical\n",
      "Trying to set attribute `.obs` of view, copying.\n",
      "... storing 'cDC-like-Abs.Category' as categorical\n",
      "Trying to set attribute `.obs` of view, copying.\n",
      "... storing 'GMP-like-Rel.Category' as categorical\n",
      "Trying to set attribute `.obs` of view, copying.\n",
      "... storing 'LSPC-Cycle-Rel.Category' as categorical\n",
      "Trying to set attribute `.obs` of view, copying.\n",
      "... storing 'LSPC-Primed-Rel.Category' as categorical\n",
      "Trying to set attribute `.obs` of view, copying.\n",
      "... storing 'LSPC-Quiescent-Rel.Category' as categorical\n",
      "Trying to set attribute `.obs` of view, copying.\n",
      "... storing 'Mono-like-Rel.Category' as categorical\n",
      "Trying to set attribute `.obs` of view, copying.\n",
      "... storing 'ProMono-like-Rel.Category' as categorical\n",
      "Trying to set attribute `.obs` of view, copying.\n",
      "... storing 'cDC-like-Rel.Category' as categorical\n",
      "Trying to set attribute `.obs` of view, copying.\n",
      "... storing 'Treatment' as categorical\n"
     ]
    }
   ],
   "source": [
    "df = get_scores(df, dat, 'Treatment', '232', 'Control', \"NB-4\", 'FB23-2', 'FTO')"
   ]
  },
  {
   "cell_type": "markdown",
   "metadata": {},
   "source": [
    "## FTO Inhibitor NOMO"
   ]
  },
  {
   "cell_type": "code",
   "execution_count": 58,
   "metadata": {},
   "outputs": [],
   "source": [
    "dat = load_fractions(\"Data/Datasets/Cell Lines/CIBERSORTx_Results_FTO_KD_Inhibitor_NOMO.csv\")\n",
    "dat.X = (dat.X.transpose() / dat.X.sum(axis=1)).transpose()\n",
    "dat.obs.index = dat.obs.index.str.replace('.','_')\n",
    "dat.obs['Treatment'] = [x[0] for x in dat.obs.index.str.split('_')]"
   ]
  },
  {
   "cell_type": "code",
   "execution_count": 59,
   "metadata": {},
   "outputs": [],
   "source": [
    "newdat = dat.to_df()\n",
    "newdat['PC2'] = (dat.to_df() * PC2_loadings).sum(axis=1)\n",
    "dat = ad.AnnData(newdat, dat.obs)\n",
    "del(newdat)"
   ]
  },
  {
   "cell_type": "code",
   "execution_count": 60,
   "metadata": {},
   "outputs": [
    {
     "name": "stderr",
     "output_type": "stream",
     "text": [
      "Trying to set attribute `.obs` of view, copying.\n",
      "... storing 'GMP-like-Abs.Category' as categorical\n",
      "Trying to set attribute `.obs` of view, copying.\n",
      "... storing 'LSPC-Cycle-Abs.Category' as categorical\n",
      "Trying to set attribute `.obs` of view, copying.\n",
      "... storing 'LSPC-Primed-Abs.Category' as categorical\n",
      "Trying to set attribute `.obs` of view, copying.\n",
      "... storing 'LSPC-Quiescent-Abs.Category' as categorical\n",
      "Trying to set attribute `.obs` of view, copying.\n",
      "... storing 'Mono-like-Abs.Category' as categorical\n",
      "Trying to set attribute `.obs` of view, copying.\n",
      "... storing 'ProMono-like-Abs.Category' as categorical\n",
      "Trying to set attribute `.obs` of view, copying.\n",
      "... storing 'cDC-like-Abs.Category' as categorical\n",
      "Trying to set attribute `.obs` of view, copying.\n",
      "... storing 'GMP-like-Rel.Category' as categorical\n",
      "Trying to set attribute `.obs` of view, copying.\n",
      "... storing 'LSPC-Cycle-Rel.Category' as categorical\n",
      "Trying to set attribute `.obs` of view, copying.\n",
      "... storing 'LSPC-Primed-Rel.Category' as categorical\n",
      "Trying to set attribute `.obs` of view, copying.\n",
      "... storing 'LSPC-Quiescent-Rel.Category' as categorical\n",
      "Trying to set attribute `.obs` of view, copying.\n",
      "... storing 'Mono-like-Rel.Category' as categorical\n",
      "Trying to set attribute `.obs` of view, copying.\n",
      "... storing 'ProMono-like-Rel.Category' as categorical\n",
      "Trying to set attribute `.obs` of view, copying.\n",
      "... storing 'cDC-like-Rel.Category' as categorical\n",
      "Trying to set attribute `.obs` of view, copying.\n",
      "... storing 'Treatment' as categorical\n",
      "C:\\Users\\Hp\\Anaconda3\\envs\\single_cell\\lib\\site-packages\\numpy\\core\\fromnumeric.py:3372: RuntimeWarning: Mean of empty slice.\n",
      "  return _methods._mean(a, axis=axis, dtype=dtype,\n",
      "C:\\Users\\Hp\\Anaconda3\\envs\\single_cell\\lib\\site-packages\\numpy\\core\\_methods.py:162: RuntimeWarning: invalid value encountered in true_divide\n",
      "  ret = um.true_divide(\n",
      "C:\\Users\\Hp\\Anaconda3\\envs\\single_cell\\lib\\site-packages\\scanpy\\preprocessing\\_utils.py:11: RuntimeWarning: Mean of empty slice.\n",
      "  mean_sq = np.multiply(X, X).mean(axis=axis, dtype=np.float64)\n",
      "C:\\Users\\Hp\\Anaconda3\\envs\\single_cell\\lib\\site-packages\\scanpy\\tools\\_rank_genes_groups.py:311: RuntimeWarning: invalid value encountered in true_divide\n",
      "  scores[group_index, :] = (\n"
     ]
    }
   ],
   "source": [
    "df = get_scores(df, dat, 'Treatment', 'CS1', 'Control', \"NOMO-1\", 'CS1', 'FTO')"
   ]
  },
  {
   "cell_type": "code",
   "execution_count": 61,
   "metadata": {},
   "outputs": [
    {
     "name": "stderr",
     "output_type": "stream",
     "text": [
      "Trying to set attribute `.obs` of view, copying.\n",
      "... storing 'GMP-like-Abs.Category' as categorical\n",
      "Trying to set attribute `.obs` of view, copying.\n",
      "... storing 'LSPC-Cycle-Abs.Category' as categorical\n",
      "Trying to set attribute `.obs` of view, copying.\n",
      "... storing 'LSPC-Primed-Abs.Category' as categorical\n",
      "Trying to set attribute `.obs` of view, copying.\n",
      "... storing 'LSPC-Quiescent-Abs.Category' as categorical\n",
      "Trying to set attribute `.obs` of view, copying.\n",
      "... storing 'Mono-like-Abs.Category' as categorical\n",
      "Trying to set attribute `.obs` of view, copying.\n",
      "... storing 'ProMono-like-Abs.Category' as categorical\n",
      "Trying to set attribute `.obs` of view, copying.\n",
      "... storing 'cDC-like-Abs.Category' as categorical\n",
      "Trying to set attribute `.obs` of view, copying.\n",
      "... storing 'GMP-like-Rel.Category' as categorical\n",
      "Trying to set attribute `.obs` of view, copying.\n",
      "... storing 'LSPC-Cycle-Rel.Category' as categorical\n",
      "Trying to set attribute `.obs` of view, copying.\n",
      "... storing 'LSPC-Primed-Rel.Category' as categorical\n",
      "Trying to set attribute `.obs` of view, copying.\n",
      "... storing 'LSPC-Quiescent-Rel.Category' as categorical\n",
      "Trying to set attribute `.obs` of view, copying.\n",
      "... storing 'Mono-like-Rel.Category' as categorical\n",
      "Trying to set attribute `.obs` of view, copying.\n",
      "... storing 'ProMono-like-Rel.Category' as categorical\n",
      "Trying to set attribute `.obs` of view, copying.\n",
      "... storing 'cDC-like-Rel.Category' as categorical\n",
      "Trying to set attribute `.obs` of view, copying.\n",
      "... storing 'Treatment' as categorical\n"
     ]
    }
   ],
   "source": [
    "df = get_scores(df, dat, 'Treatment', 'CS2', 'Control', \"NOMO-1\", 'CS2', 'FTO')"
   ]
  },
  {
   "cell_type": "markdown",
   "metadata": {},
   "source": [
    "## MTHFR BET OTX015"
   ]
  },
  {
   "cell_type": "code",
   "execution_count": 62,
   "metadata": {},
   "outputs": [
    {
     "name": "stderr",
     "output_type": "stream",
     "text": [
      "Trying to set attribute `.obs` of view, copying.\n"
     ]
    }
   ],
   "source": [
    "dat = load_fractions(\"Data/Datasets/Cell Lines/CIBERSORTx_MTHFR_Results.csv\")\n",
    "dat_IMSM2 = dat[0:12]\n",
    "dat_IMSM2.X = (dat_IMSM2.X.transpose() / dat_IMSM2.X.sum(axis=1)).transpose()\n",
    "dat_IMSM2.obs['Treatment'] = [x[1] for x in dat_IMSM2.obs.index.str.split('_')]\n",
    "dat_IMSM2.obs['Treatment'] = dat_IMSM2.obs['Treatment'].str.replace('DMSO','Control')\n",
    "dat_IMSM2.obs['Treatment'] = dat_IMSM2.obs['Treatment'].str.replace('OTX','OTX015')"
   ]
  },
  {
   "cell_type": "code",
   "execution_count": 63,
   "metadata": {},
   "outputs": [],
   "source": [
    "newdat = dat_IMSM2.to_df()\n",
    "newdat['PC2'] = (dat_IMSM2.to_df() * PC2_loadings).sum(axis=1)\n",
    "dat_IMSM2 = ad.AnnData(newdat, dat_IMSM2.obs)\n",
    "del(newdat)"
   ]
  },
  {
   "cell_type": "code",
   "execution_count": 64,
   "metadata": {},
   "outputs": [
    {
     "name": "stderr",
     "output_type": "stream",
     "text": [
      "Trying to set attribute `.obs` of view, copying.\n",
      "... storing 'GMP-like-Abs.Category' as categorical\n",
      "Trying to set attribute `.obs` of view, copying.\n",
      "... storing 'LSPC-Cycle-Abs.Category' as categorical\n",
      "Trying to set attribute `.obs` of view, copying.\n",
      "... storing 'LSPC-Primed-Abs.Category' as categorical\n",
      "Trying to set attribute `.obs` of view, copying.\n",
      "... storing 'LSPC-Quiescent-Abs.Category' as categorical\n",
      "Trying to set attribute `.obs` of view, copying.\n",
      "... storing 'Mono-like-Abs.Category' as categorical\n",
      "Trying to set attribute `.obs` of view, copying.\n",
      "... storing 'ProMono-like-Abs.Category' as categorical\n",
      "Trying to set attribute `.obs` of view, copying.\n",
      "... storing 'cDC-like-Abs.Category' as categorical\n",
      "Trying to set attribute `.obs` of view, copying.\n",
      "... storing 'GMP-like-Rel.Category' as categorical\n",
      "Trying to set attribute `.obs` of view, copying.\n",
      "... storing 'LSPC-Cycle-Rel.Category' as categorical\n",
      "Trying to set attribute `.obs` of view, copying.\n",
      "... storing 'LSPC-Primed-Rel.Category' as categorical\n",
      "Trying to set attribute `.obs` of view, copying.\n",
      "... storing 'LSPC-Quiescent-Rel.Category' as categorical\n",
      "Trying to set attribute `.obs` of view, copying.\n",
      "... storing 'Mono-like-Rel.Category' as categorical\n",
      "Trying to set attribute `.obs` of view, copying.\n",
      "... storing 'ProMono-like-Rel.Category' as categorical\n",
      "Trying to set attribute `.obs` of view, copying.\n",
      "... storing 'cDC-like-Rel.Category' as categorical\n",
      "Trying to set attribute `.obs` of view, copying.\n",
      "... storing 'Treatment' as categorical\n"
     ]
    }
   ],
   "source": [
    "df = get_scores(df, dat_IMSM2, classification = 'Treatment', cluster_A = 'OTX015', cluster_B = 'Control', cohort = 'IMS-M2', drug = 'OTX015', target = 'BET')"
   ]
  },
  {
   "cell_type": "code",
   "execution_count": 65,
   "metadata": {},
   "outputs": [
    {
     "name": "stderr",
     "output_type": "stream",
     "text": [
      "Trying to set attribute `.obs` of view, copying.\n"
     ]
    }
   ],
   "source": [
    "dat = load_fractions(\"Data/Datasets/Cell Lines/CIBERSORTx_MTHFR_Results.csv\")\n",
    "dat_U937 = dat[12:]\n",
    "dat_U937.X = (dat_U937.X.transpose() / dat_U937.X.sum(axis=1)).transpose()\n",
    "dat_U937.obs['Treatment'] = [x[1] for x in dat_U937.obs.index.str.split('_')]\n",
    "dat_U937.obs['Treatment'] = dat_U937.obs['Treatment'].str.replace('DMSO','Control')\n",
    "dat_U937.obs['Treatment'] = dat_U937.obs['Treatment'].str.replace('OTX','OTX015')"
   ]
  },
  {
   "cell_type": "code",
   "execution_count": 66,
   "metadata": {},
   "outputs": [],
   "source": [
    "newdat = dat_U937.to_df()\n",
    "newdat['PC2'] = (dat_U937.to_df() * PC2_loadings).sum(axis=1)\n",
    "dat_U937 = ad.AnnData(newdat, dat_U937.obs)\n",
    "del(newdat)"
   ]
  },
  {
   "cell_type": "code",
   "execution_count": 67,
   "metadata": {},
   "outputs": [
    {
     "name": "stderr",
     "output_type": "stream",
     "text": [
      "Trying to set attribute `.obs` of view, copying.\n",
      "... storing 'GMP-like-Abs.Category' as categorical\n",
      "Trying to set attribute `.obs` of view, copying.\n",
      "... storing 'LSPC-Cycle-Abs.Category' as categorical\n",
      "Trying to set attribute `.obs` of view, copying.\n",
      "... storing 'LSPC-Primed-Abs.Category' as categorical\n",
      "Trying to set attribute `.obs` of view, copying.\n",
      "... storing 'LSPC-Quiescent-Abs.Category' as categorical\n",
      "Trying to set attribute `.obs` of view, copying.\n",
      "... storing 'Mono-like-Abs.Category' as categorical\n",
      "Trying to set attribute `.obs` of view, copying.\n",
      "... storing 'ProMono-like-Abs.Category' as categorical\n",
      "Trying to set attribute `.obs` of view, copying.\n",
      "... storing 'cDC-like-Abs.Category' as categorical\n",
      "Trying to set attribute `.obs` of view, copying.\n",
      "... storing 'GMP-like-Rel.Category' as categorical\n",
      "Trying to set attribute `.obs` of view, copying.\n",
      "... storing 'LSPC-Cycle-Rel.Category' as categorical\n",
      "Trying to set attribute `.obs` of view, copying.\n",
      "... storing 'LSPC-Primed-Rel.Category' as categorical\n",
      "Trying to set attribute `.obs` of view, copying.\n",
      "... storing 'LSPC-Quiescent-Rel.Category' as categorical\n",
      "Trying to set attribute `.obs` of view, copying.\n",
      "... storing 'Mono-like-Rel.Category' as categorical\n",
      "Trying to set attribute `.obs` of view, copying.\n",
      "... storing 'ProMono-like-Rel.Category' as categorical\n",
      "Trying to set attribute `.obs` of view, copying.\n",
      "... storing 'cDC-like-Rel.Category' as categorical\n",
      "Trying to set attribute `.obs` of view, copying.\n",
      "... storing 'Treatment' as categorical\n"
     ]
    }
   ],
   "source": [
    "df = get_scores(df, dat_U937, classification = 'Treatment', cluster_A = 'OTX015', cluster_B = 'Control', cohort = 'U-937', drug = 'OTX015', target = 'BET')"
   ]
  },
  {
   "cell_type": "markdown",
   "metadata": {},
   "source": [
    "## Phospho MEF2C MRT199665"
   ]
  },
  {
   "cell_type": "code",
   "execution_count": 68,
   "metadata": {},
   "outputs": [],
   "source": [
    "dat = load_fractions(\"Data/Datasets/Cell Lines/CIBERSORTx_MEF2C_MARK_Results.csv\")\n",
    "dat.X = (dat.X.transpose() / dat.X.sum(axis=1)).transpose()\n",
    "dat.obs['Treatment'] = [x for x in dat.obs.index]\n",
    "dat.obs['Treatment'] = dat.obs['Treatment'].str.replace('rep','').str.replace('[0-9]', '')"
   ]
  },
  {
   "cell_type": "code",
   "execution_count": 69,
   "metadata": {},
   "outputs": [],
   "source": [
    "newdat = dat.to_df()\n",
    "newdat['PC2'] = (dat.to_df() * PC2_loadings).sum(axis=1)\n",
    "dat = ad.AnnData(newdat, dat.obs)\n",
    "del(newdat)"
   ]
  },
  {
   "cell_type": "code",
   "execution_count": 70,
   "metadata": {},
   "outputs": [
    {
     "name": "stderr",
     "output_type": "stream",
     "text": [
      "Trying to set attribute `.obs` of view, copying.\n",
      "... storing 'GMP-like-Abs.Category' as categorical\n",
      "Trying to set attribute `.obs` of view, copying.\n",
      "... storing 'LSPC-Cycle-Abs.Category' as categorical\n",
      "Trying to set attribute `.obs` of view, copying.\n",
      "... storing 'LSPC-Primed-Abs.Category' as categorical\n",
      "Trying to set attribute `.obs` of view, copying.\n",
      "... storing 'LSPC-Quiescent-Abs.Category' as categorical\n",
      "Trying to set attribute `.obs` of view, copying.\n",
      "... storing 'Mono-like-Abs.Category' as categorical\n",
      "Trying to set attribute `.obs` of view, copying.\n",
      "... storing 'ProMono-like-Abs.Category' as categorical\n",
      "Trying to set attribute `.obs` of view, copying.\n",
      "... storing 'cDC-like-Abs.Category' as categorical\n",
      "Trying to set attribute `.obs` of view, copying.\n",
      "... storing 'GMP-like-Rel.Category' as categorical\n",
      "Trying to set attribute `.obs` of view, copying.\n",
      "... storing 'LSPC-Cycle-Rel.Category' as categorical\n",
      "Trying to set attribute `.obs` of view, copying.\n",
      "... storing 'LSPC-Primed-Rel.Category' as categorical\n",
      "Trying to set attribute `.obs` of view, copying.\n",
      "... storing 'LSPC-Quiescent-Rel.Category' as categorical\n",
      "Trying to set attribute `.obs` of view, copying.\n",
      "... storing 'Mono-like-Rel.Category' as categorical\n",
      "Trying to set attribute `.obs` of view, copying.\n",
      "... storing 'ProMono-like-Rel.Category' as categorical\n",
      "Trying to set attribute `.obs` of view, copying.\n",
      "... storing 'cDC-like-Rel.Category' as categorical\n",
      "Trying to set attribute `.obs` of view, copying.\n",
      "... storing 'Treatment' as categorical\n"
     ]
    }
   ],
   "source": [
    "df = get_scores(df, dat, classification = 'Treatment', cluster_A = 'MRT', cluster_B = 'Control', cohort = 'OCI-AML3', drug = 'MRT199665', target = 'Phospho MEF2C')"
   ]
  },
  {
   "cell_type": "markdown",
   "metadata": {},
   "source": [
    "## I-BET152"
   ]
  },
  {
   "cell_type": "code",
   "execution_count": 71,
   "metadata": {},
   "outputs": [
    {
     "name": "stderr",
     "output_type": "stream",
     "text": [
      "Trying to set attribute `.obs` of view, copying.\n"
     ]
    }
   ],
   "source": [
    "dat = load_fractions(\"Data/Datasets/Cell Lines/CIBERSORTx_I_BET152_Results.csv\")\n",
    "dat_K562 = dat[:10]\n",
    "dat_K562.X = (dat_K562.X.transpose() / dat_K562.X.sum(axis=1)).transpose()\n",
    "dat_K562.obs['Treatment'] = [x[1] for x in dat_K562.obs.index.str.split('_')]\n",
    "dat_K562.obs['Treatment'] = dat_K562.obs['Treatment'].str.replace('DMSO', 'Control').str.replace('I5000', 'I-BET152')\n",
    "dat_K562.obs['Treatment'] = dat_K562.obs['Treatment'].str.replace('I500', 'I-BET152')\n",
    "dat_K562.obs['Treatment'] = dat_K562.obs['Treatment'].str.replace('I50', 'I-BET152')"
   ]
  },
  {
   "cell_type": "code",
   "execution_count": 72,
   "metadata": {},
   "outputs": [],
   "source": [
    "newdat = dat_K562.to_df()\n",
    "newdat['PC2'] = (dat_K562.to_df() * PC2_loadings).sum(axis=1)\n",
    "dat_K562 = ad.AnnData(newdat, dat_K562.obs)\n",
    "del(newdat)"
   ]
  },
  {
   "cell_type": "code",
   "execution_count": 73,
   "metadata": {},
   "outputs": [
    {
     "name": "stderr",
     "output_type": "stream",
     "text": [
      "Trying to set attribute `.obs` of view, copying.\n",
      "... storing 'GMP-like-Abs.Category' as categorical\n",
      "Trying to set attribute `.obs` of view, copying.\n",
      "... storing 'LSPC-Cycle-Abs.Category' as categorical\n",
      "Trying to set attribute `.obs` of view, copying.\n",
      "... storing 'LSPC-Primed-Abs.Category' as categorical\n",
      "Trying to set attribute `.obs` of view, copying.\n",
      "... storing 'LSPC-Quiescent-Abs.Category' as categorical\n",
      "Trying to set attribute `.obs` of view, copying.\n",
      "... storing 'Mono-like-Abs.Category' as categorical\n",
      "Trying to set attribute `.obs` of view, copying.\n",
      "... storing 'ProMono-like-Abs.Category' as categorical\n",
      "Trying to set attribute `.obs` of view, copying.\n",
      "... storing 'cDC-like-Abs.Category' as categorical\n",
      "Trying to set attribute `.obs` of view, copying.\n",
      "... storing 'GMP-like-Rel.Category' as categorical\n",
      "Trying to set attribute `.obs` of view, copying.\n",
      "... storing 'LSPC-Cycle-Rel.Category' as categorical\n",
      "Trying to set attribute `.obs` of view, copying.\n",
      "... storing 'LSPC-Primed-Rel.Category' as categorical\n",
      "Trying to set attribute `.obs` of view, copying.\n",
      "... storing 'LSPC-Quiescent-Rel.Category' as categorical\n",
      "Trying to set attribute `.obs` of view, copying.\n",
      "... storing 'Mono-like-Rel.Category' as categorical\n",
      "Trying to set attribute `.obs` of view, copying.\n",
      "... storing 'ProMono-like-Rel.Category' as categorical\n",
      "Trying to set attribute `.obs` of view, copying.\n",
      "... storing 'cDC-like-Rel.Category' as categorical\n",
      "Trying to set attribute `.obs` of view, copying.\n",
      "... storing 'Treatment' as categorical\n"
     ]
    }
   ],
   "source": [
    "df = get_scores(df, dat_K562, classification = 'Treatment', cluster_A = 'I-BET152', cluster_B = 'Control', cohort = 'K-562', drug = 'I-BET152', target = 'BET')"
   ]
  },
  {
   "cell_type": "code",
   "execution_count": 74,
   "metadata": {},
   "outputs": [
    {
     "name": "stderr",
     "output_type": "stream",
     "text": [
      "Trying to set attribute `.obs` of view, copying.\n"
     ]
    }
   ],
   "source": [
    "dat = load_fractions(\"Data/Datasets/Cell Lines/CIBERSORTx_I_BET152_Results.csv\")\n",
    "dat_MV411 = dat[10:]\n",
    "dat_MV411.X = (dat_MV411.X.transpose() / dat_MV411.X.sum(axis=1)).transpose()\n",
    "dat_MV411.obs['Treatment'] = [x[1] for x in dat_MV411.obs.index.str.split('_')]\n",
    "dat_MV411.obs['Treatment'] = dat_MV411.obs['Treatment'].str.replace('DMSO', 'Control').str.replace('I5000', 'I-BET152')\n",
    "dat_MV411.obs['Treatment'] = dat_MV411.obs['Treatment'].str.replace('I500', 'I-BET152')\n",
    "dat_MV411.obs['Treatment'] = dat_MV411.obs['Treatment'].str.replace('I50', 'I-BET152')"
   ]
  },
  {
   "cell_type": "code",
   "execution_count": 75,
   "metadata": {},
   "outputs": [],
   "source": [
    "newdat = dat_MV411.to_df()\n",
    "newdat['PC2'] = (dat_MV411.to_df() * PC2_loadings).sum(axis=1)\n",
    "dat_MV411 = ad.AnnData(newdat, dat_MV411.obs)\n",
    "del(newdat)"
   ]
  },
  {
   "cell_type": "code",
   "execution_count": 76,
   "metadata": {},
   "outputs": [
    {
     "name": "stderr",
     "output_type": "stream",
     "text": [
      "Trying to set attribute `.obs` of view, copying.\n",
      "... storing 'GMP-like-Abs.Category' as categorical\n",
      "Trying to set attribute `.obs` of view, copying.\n",
      "... storing 'LSPC-Cycle-Abs.Category' as categorical\n",
      "Trying to set attribute `.obs` of view, copying.\n",
      "... storing 'LSPC-Primed-Abs.Category' as categorical\n",
      "Trying to set attribute `.obs` of view, copying.\n",
      "... storing 'LSPC-Quiescent-Abs.Category' as categorical\n",
      "Trying to set attribute `.obs` of view, copying.\n",
      "... storing 'Mono-like-Abs.Category' as categorical\n",
      "Trying to set attribute `.obs` of view, copying.\n",
      "... storing 'ProMono-like-Abs.Category' as categorical\n",
      "Trying to set attribute `.obs` of view, copying.\n",
      "... storing 'cDC-like-Abs.Category' as categorical\n",
      "Trying to set attribute `.obs` of view, copying.\n",
      "... storing 'GMP-like-Rel.Category' as categorical\n",
      "Trying to set attribute `.obs` of view, copying.\n",
      "... storing 'LSPC-Cycle-Rel.Category' as categorical\n",
      "Trying to set attribute `.obs` of view, copying.\n",
      "... storing 'LSPC-Primed-Rel.Category' as categorical\n",
      "Trying to set attribute `.obs` of view, copying.\n",
      "... storing 'LSPC-Quiescent-Rel.Category' as categorical\n",
      "Trying to set attribute `.obs` of view, copying.\n",
      "... storing 'Mono-like-Rel.Category' as categorical\n",
      "Trying to set attribute `.obs` of view, copying.\n",
      "... storing 'ProMono-like-Rel.Category' as categorical\n",
      "Trying to set attribute `.obs` of view, copying.\n",
      "... storing 'cDC-like-Rel.Category' as categorical\n",
      "Trying to set attribute `.obs` of view, copying.\n",
      "... storing 'Treatment' as categorical\n"
     ]
    }
   ],
   "source": [
    "df = get_scores(df, dat_MV411, classification = 'Treatment', cluster_A = 'I-BET152', cluster_B = 'Control', cohort = 'MV4-11', drug = 'I-BET152', target = 'BET')"
   ]
  },
  {
   "cell_type": "markdown",
   "metadata": {},
   "source": [
    "## MDMX/MDM2 ALRN-6924"
   ]
  },
  {
   "cell_type": "code",
   "execution_count": 77,
   "metadata": {},
   "outputs": [],
   "source": [
    "dat = load_fractions(\"Data/Datasets/Cell Lines/CIBERSORTx_MDMX_MDM2_Results.csv\")\n",
    "dat.X = (dat.X.transpose() / dat.X.sum(axis=1)).transpose()\n",
    "dat.obs['Treatment'] = [x[1] for x in dat.obs.index.str.split('_')]\n",
    "dat.obs['Treatment'] = dat.obs['Treatment'].str.replace('Vehicle','Control')"
   ]
  },
  {
   "cell_type": "code",
   "execution_count": 78,
   "metadata": {},
   "outputs": [],
   "source": [
    "newdat = dat.to_df()\n",
    "newdat['PC2'] = (dat.to_df() * PC2_loadings).sum(axis=1)\n",
    "dat = ad.AnnData(newdat, dat.obs)\n",
    "del(newdat)"
   ]
  },
  {
   "cell_type": "code",
   "execution_count": 79,
   "metadata": {},
   "outputs": [
    {
     "name": "stderr",
     "output_type": "stream",
     "text": [
      "Trying to set attribute `.obs` of view, copying.\n",
      "... storing 'GMP-like-Abs.Category' as categorical\n",
      "Trying to set attribute `.obs` of view, copying.\n",
      "... storing 'LSPC-Cycle-Abs.Category' as categorical\n",
      "Trying to set attribute `.obs` of view, copying.\n",
      "... storing 'LSPC-Primed-Abs.Category' as categorical\n",
      "Trying to set attribute `.obs` of view, copying.\n",
      "... storing 'LSPC-Quiescent-Abs.Category' as categorical\n",
      "Trying to set attribute `.obs` of view, copying.\n",
      "... storing 'Mono-like-Abs.Category' as categorical\n",
      "Trying to set attribute `.obs` of view, copying.\n",
      "... storing 'ProMono-like-Abs.Category' as categorical\n",
      "Trying to set attribute `.obs` of view, copying.\n",
      "... storing 'cDC-like-Abs.Category' as categorical\n",
      "Trying to set attribute `.obs` of view, copying.\n",
      "... storing 'GMP-like-Rel.Category' as categorical\n",
      "Trying to set attribute `.obs` of view, copying.\n",
      "... storing 'LSPC-Cycle-Rel.Category' as categorical\n",
      "Trying to set attribute `.obs` of view, copying.\n",
      "... storing 'LSPC-Primed-Rel.Category' as categorical\n",
      "Trying to set attribute `.obs` of view, copying.\n",
      "... storing 'LSPC-Quiescent-Rel.Category' as categorical\n",
      "Trying to set attribute `.obs` of view, copying.\n",
      "... storing 'Mono-like-Rel.Category' as categorical\n",
      "Trying to set attribute `.obs` of view, copying.\n",
      "... storing 'ProMono-like-Rel.Category' as categorical\n",
      "Trying to set attribute `.obs` of view, copying.\n",
      "... storing 'cDC-like-Rel.Category' as categorical\n",
      "Trying to set attribute `.obs` of view, copying.\n",
      "... storing 'Treatment' as categorical\n"
     ]
    }
   ],
   "source": [
    "df = get_scores(df, dat, classification = 'Treatment', cluster_A = 'ALRN-6924', cluster_B = 'Control', cohort = 'MOLM-13', drug = 'Dexamathasone', target = 'MDMX/MDM2')"
   ]
  },
  {
   "cell_type": "markdown",
   "metadata": {},
   "source": [
    "## FLT3 + Dexamethasone + Quizartinib"
   ]
  },
  {
   "cell_type": "code",
   "execution_count": 80,
   "metadata": {},
   "outputs": [],
   "source": [
    "dat = load_fractions(\"Data/Datasets/Cell Lines/CIBERSORTx_FLT3_Results.csv\")\n",
    "dat.X = (dat.X.transpose() / dat.X.sum(axis=1)).transpose()\n",
    "dat.obs['Treatment'] = [x[0] for x in dat.obs.index.str.split('-')]\n",
    "dat.obs['Treatment'] = dat.obs['Treatment'].str.replace('DMSO','Control').str.replace('Quiz', 'Quizartinib').str.replace('Dex', 'Dexamathasone')"
   ]
  },
  {
   "cell_type": "code",
   "execution_count": 81,
   "metadata": {},
   "outputs": [],
   "source": [
    "newdat = dat.to_df()\n",
    "newdat['PC2'] = (dat.to_df() * PC2_loadings).sum(axis=1)\n",
    "dat = ad.AnnData(newdat, dat.obs)\n",
    "del(newdat)"
   ]
  },
  {
   "cell_type": "code",
   "execution_count": 82,
   "metadata": {},
   "outputs": [
    {
     "name": "stderr",
     "output_type": "stream",
     "text": [
      "Trying to set attribute `.obs` of view, copying.\n",
      "... storing 'GMP-like-Abs.Category' as categorical\n",
      "Trying to set attribute `.obs` of view, copying.\n",
      "... storing 'LSPC-Cycle-Abs.Category' as categorical\n",
      "Trying to set attribute `.obs` of view, copying.\n",
      "... storing 'LSPC-Primed-Abs.Category' as categorical\n",
      "Trying to set attribute `.obs` of view, copying.\n",
      "... storing 'LSPC-Quiescent-Abs.Category' as categorical\n",
      "Trying to set attribute `.obs` of view, copying.\n",
      "... storing 'Mono-like-Abs.Category' as categorical\n",
      "Trying to set attribute `.obs` of view, copying.\n",
      "... storing 'ProMono-like-Abs.Category' as categorical\n",
      "Trying to set attribute `.obs` of view, copying.\n",
      "... storing 'cDC-like-Abs.Category' as categorical\n",
      "Trying to set attribute `.obs` of view, copying.\n",
      "... storing 'GMP-like-Rel.Category' as categorical\n",
      "Trying to set attribute `.obs` of view, copying.\n",
      "... storing 'LSPC-Cycle-Rel.Category' as categorical\n",
      "Trying to set attribute `.obs` of view, copying.\n",
      "... storing 'LSPC-Primed-Rel.Category' as categorical\n",
      "Trying to set attribute `.obs` of view, copying.\n",
      "... storing 'LSPC-Quiescent-Rel.Category' as categorical\n",
      "Trying to set attribute `.obs` of view, copying.\n",
      "... storing 'Mono-like-Rel.Category' as categorical\n",
      "Trying to set attribute `.obs` of view, copying.\n",
      "... storing 'ProMono-like-Rel.Category' as categorical\n",
      "Trying to set attribute `.obs` of view, copying.\n",
      "... storing 'cDC-like-Rel.Category' as categorical\n",
      "Trying to set attribute `.obs` of view, copying.\n",
      "... storing 'Treatment' as categorical\n"
     ]
    }
   ],
   "source": [
    "df = get_scores(df, dat, classification = 'Treatment', cluster_A = 'Dexamathasone', cluster_B = 'Control', cohort = 'MV4-11', drug = 'Dexamathasone', target = 'FLT3')"
   ]
  },
  {
   "cell_type": "code",
   "execution_count": 83,
   "metadata": {},
   "outputs": [
    {
     "name": "stderr",
     "output_type": "stream",
     "text": [
      "Trying to set attribute `.obs` of view, copying.\n",
      "... storing 'GMP-like-Abs.Category' as categorical\n",
      "Trying to set attribute `.obs` of view, copying.\n",
      "... storing 'LSPC-Cycle-Abs.Category' as categorical\n",
      "Trying to set attribute `.obs` of view, copying.\n",
      "... storing 'LSPC-Primed-Abs.Category' as categorical\n",
      "Trying to set attribute `.obs` of view, copying.\n",
      "... storing 'LSPC-Quiescent-Abs.Category' as categorical\n",
      "Trying to set attribute `.obs` of view, copying.\n",
      "... storing 'Mono-like-Abs.Category' as categorical\n",
      "Trying to set attribute `.obs` of view, copying.\n",
      "... storing 'ProMono-like-Abs.Category' as categorical\n",
      "Trying to set attribute `.obs` of view, copying.\n",
      "... storing 'cDC-like-Abs.Category' as categorical\n",
      "Trying to set attribute `.obs` of view, copying.\n",
      "... storing 'GMP-like-Rel.Category' as categorical\n",
      "Trying to set attribute `.obs` of view, copying.\n",
      "... storing 'LSPC-Cycle-Rel.Category' as categorical\n",
      "Trying to set attribute `.obs` of view, copying.\n",
      "... storing 'LSPC-Primed-Rel.Category' as categorical\n",
      "Trying to set attribute `.obs` of view, copying.\n",
      "... storing 'LSPC-Quiescent-Rel.Category' as categorical\n",
      "Trying to set attribute `.obs` of view, copying.\n",
      "... storing 'Mono-like-Rel.Category' as categorical\n",
      "Trying to set attribute `.obs` of view, copying.\n",
      "... storing 'ProMono-like-Rel.Category' as categorical\n",
      "Trying to set attribute `.obs` of view, copying.\n",
      "... storing 'cDC-like-Rel.Category' as categorical\n",
      "Trying to set attribute `.obs` of view, copying.\n",
      "... storing 'Treatment' as categorical\n"
     ]
    }
   ],
   "source": [
    "df = get_scores(df, dat, classification = 'Treatment', cluster_A = 'Quizartinib', cluster_B = 'Control', cohort = 'MV4-11', drug = 'Quizartinib', target = 'FLT3')"
   ]
  },
  {
   "cell_type": "code",
   "execution_count": 84,
   "metadata": {},
   "outputs": [
    {
     "name": "stderr",
     "output_type": "stream",
     "text": [
      "Trying to set attribute `.obs` of view, copying.\n",
      "... storing 'GMP-like-Abs.Category' as categorical\n",
      "Trying to set attribute `.obs` of view, copying.\n",
      "... storing 'LSPC-Cycle-Abs.Category' as categorical\n",
      "Trying to set attribute `.obs` of view, copying.\n",
      "... storing 'LSPC-Primed-Abs.Category' as categorical\n",
      "Trying to set attribute `.obs` of view, copying.\n",
      "... storing 'LSPC-Quiescent-Abs.Category' as categorical\n",
      "Trying to set attribute `.obs` of view, copying.\n",
      "... storing 'Mono-like-Abs.Category' as categorical\n",
      "Trying to set attribute `.obs` of view, copying.\n",
      "... storing 'ProMono-like-Abs.Category' as categorical\n",
      "Trying to set attribute `.obs` of view, copying.\n",
      "... storing 'cDC-like-Abs.Category' as categorical\n",
      "Trying to set attribute `.obs` of view, copying.\n",
      "... storing 'GMP-like-Rel.Category' as categorical\n",
      "Trying to set attribute `.obs` of view, copying.\n",
      "... storing 'LSPC-Cycle-Rel.Category' as categorical\n",
      "Trying to set attribute `.obs` of view, copying.\n",
      "... storing 'LSPC-Primed-Rel.Category' as categorical\n",
      "Trying to set attribute `.obs` of view, copying.\n",
      "... storing 'LSPC-Quiescent-Rel.Category' as categorical\n",
      "Trying to set attribute `.obs` of view, copying.\n",
      "... storing 'Mono-like-Rel.Category' as categorical\n",
      "Trying to set attribute `.obs` of view, copying.\n",
      "... storing 'ProMono-like-Rel.Category' as categorical\n",
      "Trying to set attribute `.obs` of view, copying.\n",
      "... storing 'cDC-like-Rel.Category' as categorical\n",
      "Trying to set attribute `.obs` of view, copying.\n",
      "... storing 'Treatment' as categorical\n"
     ]
    }
   ],
   "source": [
    "df = get_scores(df, dat, classification = 'Treatment', cluster_A = 'Quizartinib + Dexamathasone', cluster_B = 'Control', cohort = 'MV4-11', drug = 'Quizartinib + Dexamathasone', target = 'FLT3')"
   ]
  },
  {
   "cell_type": "markdown",
   "metadata": {},
   "source": [
    "## DOT1L EZH2"
   ]
  },
  {
   "cell_type": "code",
   "execution_count": 85,
   "metadata": {},
   "outputs": [],
   "source": [
    "dat = load_fractions(\"Data/Datasets/Cell Lines/CIBERSORTx_DOT1LEZH2_MV411_Results.csv\")\n",
    "dat.X = (dat.X.transpose() / dat.X.sum(axis=1)).transpose()\n",
    "dat.obs['Treatment'] = [x[0] for x in dat.obs.index.str.split('_')]\n",
    "dat.obs['Treatment'] = dat.obs['Treatment'].str.replace('NC', 'Control').str.replace('low', '').str.replace('high', '').str.replace('EZH2', 'GSK126').str.replace('DOT1L', 'EPZ5676').str.replace('Combo', 'GSK126 + EPZ5676')"
   ]
  },
  {
   "cell_type": "code",
   "execution_count": 86,
   "metadata": {},
   "outputs": [],
   "source": [
    "newdat = dat.to_df()\n",
    "newdat['PC2'] = (dat.to_df() * PC2_loadings).sum(axis=1)\n",
    "dat = ad.AnnData(newdat, dat.obs)\n",
    "del(newdat)"
   ]
  },
  {
   "cell_type": "code",
   "execution_count": 87,
   "metadata": {},
   "outputs": [
    {
     "name": "stderr",
     "output_type": "stream",
     "text": [
      "Trying to set attribute `.obs` of view, copying.\n",
      "... storing 'GMP-like-Abs.Category' as categorical\n",
      "Trying to set attribute `.obs` of view, copying.\n",
      "... storing 'LSPC-Cycle-Abs.Category' as categorical\n",
      "Trying to set attribute `.obs` of view, copying.\n",
      "... storing 'LSPC-Primed-Abs.Category' as categorical\n",
      "Trying to set attribute `.obs` of view, copying.\n",
      "... storing 'LSPC-Quiescent-Abs.Category' as categorical\n",
      "Trying to set attribute `.obs` of view, copying.\n",
      "... storing 'Mono-like-Abs.Category' as categorical\n",
      "Trying to set attribute `.obs` of view, copying.\n",
      "... storing 'ProMono-like-Abs.Category' as categorical\n",
      "Trying to set attribute `.obs` of view, copying.\n",
      "... storing 'cDC-like-Abs.Category' as categorical\n",
      "Trying to set attribute `.obs` of view, copying.\n",
      "... storing 'GMP-like-Rel.Category' as categorical\n",
      "Trying to set attribute `.obs` of view, copying.\n",
      "... storing 'LSPC-Cycle-Rel.Category' as categorical\n",
      "Trying to set attribute `.obs` of view, copying.\n",
      "... storing 'LSPC-Primed-Rel.Category' as categorical\n",
      "Trying to set attribute `.obs` of view, copying.\n",
      "... storing 'LSPC-Quiescent-Rel.Category' as categorical\n",
      "Trying to set attribute `.obs` of view, copying.\n",
      "... storing 'Mono-like-Rel.Category' as categorical\n",
      "Trying to set attribute `.obs` of view, copying.\n",
      "... storing 'ProMono-like-Rel.Category' as categorical\n",
      "Trying to set attribute `.obs` of view, copying.\n",
      "... storing 'cDC-like-Rel.Category' as categorical\n",
      "Trying to set attribute `.obs` of view, copying.\n",
      "... storing 'Treatment' as categorical\n"
     ]
    }
   ],
   "source": [
    "df = get_scores(df, dat, classification = 'Treatment', cluster_A = 'GSK126', cluster_B = 'Control', cohort = 'MV4-11', drug = 'GSK126', target = 'EZH2')"
   ]
  },
  {
   "cell_type": "code",
   "execution_count": 88,
   "metadata": {},
   "outputs": [
    {
     "name": "stderr",
     "output_type": "stream",
     "text": [
      "Trying to set attribute `.obs` of view, copying.\n",
      "... storing 'GMP-like-Abs.Category' as categorical\n",
      "Trying to set attribute `.obs` of view, copying.\n",
      "... storing 'LSPC-Cycle-Abs.Category' as categorical\n",
      "Trying to set attribute `.obs` of view, copying.\n",
      "... storing 'LSPC-Primed-Abs.Category' as categorical\n",
      "Trying to set attribute `.obs` of view, copying.\n",
      "... storing 'LSPC-Quiescent-Abs.Category' as categorical\n",
      "Trying to set attribute `.obs` of view, copying.\n",
      "... storing 'Mono-like-Abs.Category' as categorical\n",
      "Trying to set attribute `.obs` of view, copying.\n",
      "... storing 'ProMono-like-Abs.Category' as categorical\n",
      "Trying to set attribute `.obs` of view, copying.\n",
      "... storing 'cDC-like-Abs.Category' as categorical\n",
      "Trying to set attribute `.obs` of view, copying.\n",
      "... storing 'GMP-like-Rel.Category' as categorical\n",
      "Trying to set attribute `.obs` of view, copying.\n",
      "... storing 'LSPC-Cycle-Rel.Category' as categorical\n",
      "Trying to set attribute `.obs` of view, copying.\n",
      "... storing 'LSPC-Primed-Rel.Category' as categorical\n",
      "Trying to set attribute `.obs` of view, copying.\n",
      "... storing 'LSPC-Quiescent-Rel.Category' as categorical\n",
      "Trying to set attribute `.obs` of view, copying.\n",
      "... storing 'Mono-like-Rel.Category' as categorical\n",
      "Trying to set attribute `.obs` of view, copying.\n",
      "... storing 'ProMono-like-Rel.Category' as categorical\n",
      "Trying to set attribute `.obs` of view, copying.\n",
      "... storing 'cDC-like-Rel.Category' as categorical\n",
      "Trying to set attribute `.obs` of view, copying.\n",
      "... storing 'Treatment' as categorical\n"
     ]
    }
   ],
   "source": [
    "df = get_scores(df, dat, classification = 'Treatment', cluster_A = 'EPZ5676', cluster_B = 'Control', cohort = 'MV4-11', drug = 'EPZ5676', target = 'DOT1L')"
   ]
  },
  {
   "cell_type": "code",
   "execution_count": 89,
   "metadata": {},
   "outputs": [
    {
     "name": "stderr",
     "output_type": "stream",
     "text": [
      "Trying to set attribute `.obs` of view, copying.\n",
      "... storing 'GMP-like-Abs.Category' as categorical\n",
      "Trying to set attribute `.obs` of view, copying.\n",
      "... storing 'LSPC-Cycle-Abs.Category' as categorical\n",
      "Trying to set attribute `.obs` of view, copying.\n",
      "... storing 'LSPC-Primed-Abs.Category' as categorical\n",
      "Trying to set attribute `.obs` of view, copying.\n",
      "... storing 'LSPC-Quiescent-Abs.Category' as categorical\n",
      "Trying to set attribute `.obs` of view, copying.\n",
      "... storing 'Mono-like-Abs.Category' as categorical\n",
      "Trying to set attribute `.obs` of view, copying.\n",
      "... storing 'ProMono-like-Abs.Category' as categorical\n",
      "Trying to set attribute `.obs` of view, copying.\n",
      "... storing 'cDC-like-Abs.Category' as categorical\n",
      "Trying to set attribute `.obs` of view, copying.\n",
      "... storing 'GMP-like-Rel.Category' as categorical\n",
      "Trying to set attribute `.obs` of view, copying.\n",
      "... storing 'LSPC-Cycle-Rel.Category' as categorical\n",
      "Trying to set attribute `.obs` of view, copying.\n",
      "... storing 'LSPC-Primed-Rel.Category' as categorical\n",
      "Trying to set attribute `.obs` of view, copying.\n",
      "... storing 'LSPC-Quiescent-Rel.Category' as categorical\n",
      "Trying to set attribute `.obs` of view, copying.\n",
      "... storing 'Mono-like-Rel.Category' as categorical\n",
      "Trying to set attribute `.obs` of view, copying.\n",
      "... storing 'ProMono-like-Rel.Category' as categorical\n",
      "Trying to set attribute `.obs` of view, copying.\n",
      "... storing 'cDC-like-Rel.Category' as categorical\n",
      "Trying to set attribute `.obs` of view, copying.\n",
      "... storing 'Treatment' as categorical\n"
     ]
    }
   ],
   "source": [
    "df = get_scores(df, dat, classification = 'Treatment', cluster_A = 'GSK126 + EPZ5676', cluster_B = 'Control', cohort = 'MV4-11', drug = 'EPZ5676 + GSK126', target = 'DOT1L + EZH2')"
   ]
  },
  {
   "cell_type": "code",
   "execution_count": 90,
   "metadata": {},
   "outputs": [],
   "source": [
    "dat = load_fractions(\"Data/Datasets/Cell Lines/CIBERSORTx_DOT1LEZH2_MOLM_Results.csv\")\n",
    "dat.X = (dat.X.transpose() / dat.X.sum(axis=1)).transpose()\n",
    "dat.obs['Treatment'] = [x for x in dat.obs.index]\n",
    "dat.obs['Treatment'] = dat.obs['Treatment'].str.replace('Molm', '').str.replace('[0-9]', '').str.replace('DMSO', 'Control').str.replace('DotL', 'EPZ5676').str.replace('Ezh', 'GSK126').str.replace('Combo', 'GSK126 + EPZ5676')"
   ]
  },
  {
   "cell_type": "code",
   "execution_count": 91,
   "metadata": {},
   "outputs": [],
   "source": [
    "newdat = dat.to_df()\n",
    "newdat['PC2'] = (dat.to_df() * PC2_loadings).sum(axis=1)\n",
    "dat = ad.AnnData(newdat, dat.obs)\n",
    "del(newdat)"
   ]
  },
  {
   "cell_type": "code",
   "execution_count": 92,
   "metadata": {},
   "outputs": [
    {
     "name": "stderr",
     "output_type": "stream",
     "text": [
      "Trying to set attribute `.obs` of view, copying.\n",
      "... storing 'GMP-like-Abs.Category' as categorical\n",
      "Trying to set attribute `.obs` of view, copying.\n",
      "... storing 'LSPC-Cycle-Abs.Category' as categorical\n",
      "Trying to set attribute `.obs` of view, copying.\n",
      "... storing 'LSPC-Primed-Abs.Category' as categorical\n",
      "Trying to set attribute `.obs` of view, copying.\n",
      "... storing 'LSPC-Quiescent-Abs.Category' as categorical\n",
      "Trying to set attribute `.obs` of view, copying.\n",
      "... storing 'Mono-like-Abs.Category' as categorical\n",
      "Trying to set attribute `.obs` of view, copying.\n",
      "... storing 'ProMono-like-Abs.Category' as categorical\n",
      "Trying to set attribute `.obs` of view, copying.\n",
      "... storing 'cDC-like-Abs.Category' as categorical\n",
      "Trying to set attribute `.obs` of view, copying.\n",
      "... storing 'GMP-like-Rel.Category' as categorical\n",
      "Trying to set attribute `.obs` of view, copying.\n",
      "... storing 'LSPC-Cycle-Rel.Category' as categorical\n",
      "Trying to set attribute `.obs` of view, copying.\n",
      "... storing 'LSPC-Primed-Rel.Category' as categorical\n",
      "Trying to set attribute `.obs` of view, copying.\n",
      "... storing 'LSPC-Quiescent-Rel.Category' as categorical\n",
      "Trying to set attribute `.obs` of view, copying.\n",
      "... storing 'Mono-like-Rel.Category' as categorical\n",
      "Trying to set attribute `.obs` of view, copying.\n",
      "... storing 'ProMono-like-Rel.Category' as categorical\n",
      "Trying to set attribute `.obs` of view, copying.\n",
      "... storing 'cDC-like-Rel.Category' as categorical\n",
      "Trying to set attribute `.obs` of view, copying.\n",
      "... storing 'Treatment' as categorical\n"
     ]
    }
   ],
   "source": [
    "df = get_scores(df, dat, classification = 'Treatment', cluster_A = 'GSK126', cluster_B = 'Control', cohort = 'MOLM-14', drug = 'GSK126', target = 'EZH2')"
   ]
  },
  {
   "cell_type": "code",
   "execution_count": 93,
   "metadata": {},
   "outputs": [
    {
     "name": "stderr",
     "output_type": "stream",
     "text": [
      "Trying to set attribute `.obs` of view, copying.\n",
      "... storing 'GMP-like-Abs.Category' as categorical\n",
      "Trying to set attribute `.obs` of view, copying.\n",
      "... storing 'LSPC-Cycle-Abs.Category' as categorical\n",
      "Trying to set attribute `.obs` of view, copying.\n",
      "... storing 'LSPC-Primed-Abs.Category' as categorical\n",
      "Trying to set attribute `.obs` of view, copying.\n",
      "... storing 'LSPC-Quiescent-Abs.Category' as categorical\n",
      "Trying to set attribute `.obs` of view, copying.\n",
      "... storing 'Mono-like-Abs.Category' as categorical\n",
      "Trying to set attribute `.obs` of view, copying.\n",
      "... storing 'ProMono-like-Abs.Category' as categorical\n",
      "Trying to set attribute `.obs` of view, copying.\n",
      "... storing 'cDC-like-Abs.Category' as categorical\n",
      "Trying to set attribute `.obs` of view, copying.\n",
      "... storing 'GMP-like-Rel.Category' as categorical\n",
      "Trying to set attribute `.obs` of view, copying.\n",
      "... storing 'LSPC-Cycle-Rel.Category' as categorical\n",
      "Trying to set attribute `.obs` of view, copying.\n",
      "... storing 'LSPC-Primed-Rel.Category' as categorical\n",
      "Trying to set attribute `.obs` of view, copying.\n",
      "... storing 'LSPC-Quiescent-Rel.Category' as categorical\n",
      "Trying to set attribute `.obs` of view, copying.\n",
      "... storing 'Mono-like-Rel.Category' as categorical\n",
      "Trying to set attribute `.obs` of view, copying.\n",
      "... storing 'ProMono-like-Rel.Category' as categorical\n",
      "Trying to set attribute `.obs` of view, copying.\n",
      "... storing 'cDC-like-Rel.Category' as categorical\n",
      "Trying to set attribute `.obs` of view, copying.\n",
      "... storing 'Treatment' as categorical\n"
     ]
    }
   ],
   "source": [
    "df = get_scores(df, dat, classification = 'Treatment', cluster_A = 'EPZ5676', cluster_B = 'Control', cohort = 'MOLM-14', drug = 'EPZ5676', target = 'DOT1L')"
   ]
  },
  {
   "cell_type": "code",
   "execution_count": 94,
   "metadata": {},
   "outputs": [
    {
     "name": "stderr",
     "output_type": "stream",
     "text": [
      "Trying to set attribute `.obs` of view, copying.\n",
      "... storing 'GMP-like-Abs.Category' as categorical\n",
      "Trying to set attribute `.obs` of view, copying.\n",
      "... storing 'LSPC-Cycle-Abs.Category' as categorical\n",
      "Trying to set attribute `.obs` of view, copying.\n",
      "... storing 'LSPC-Primed-Abs.Category' as categorical\n",
      "Trying to set attribute `.obs` of view, copying.\n",
      "... storing 'LSPC-Quiescent-Abs.Category' as categorical\n",
      "Trying to set attribute `.obs` of view, copying.\n",
      "... storing 'Mono-like-Abs.Category' as categorical\n",
      "Trying to set attribute `.obs` of view, copying.\n",
      "... storing 'ProMono-like-Abs.Category' as categorical\n",
      "Trying to set attribute `.obs` of view, copying.\n",
      "... storing 'cDC-like-Abs.Category' as categorical\n",
      "Trying to set attribute `.obs` of view, copying.\n",
      "... storing 'GMP-like-Rel.Category' as categorical\n",
      "Trying to set attribute `.obs` of view, copying.\n",
      "... storing 'LSPC-Cycle-Rel.Category' as categorical\n",
      "Trying to set attribute `.obs` of view, copying.\n",
      "... storing 'LSPC-Primed-Rel.Category' as categorical\n",
      "Trying to set attribute `.obs` of view, copying.\n",
      "... storing 'LSPC-Quiescent-Rel.Category' as categorical\n",
      "Trying to set attribute `.obs` of view, copying.\n",
      "... storing 'Mono-like-Rel.Category' as categorical\n",
      "Trying to set attribute `.obs` of view, copying.\n",
      "... storing 'ProMono-like-Rel.Category' as categorical\n",
      "Trying to set attribute `.obs` of view, copying.\n",
      "... storing 'cDC-like-Rel.Category' as categorical\n",
      "Trying to set attribute `.obs` of view, copying.\n",
      "... storing 'Treatment' as categorical\n"
     ]
    }
   ],
   "source": [
    "df = get_scores(df, dat, classification = 'Treatment', cluster_A = 'GSK126 + EPZ5676', cluster_B = 'Control', cohort = 'MOLM-14', drug = 'EPZ5676 + GSK126', target = 'DOT1L + EZH2')"
   ]
  },
  {
   "cell_type": "markdown",
   "metadata": {},
   "source": [
    "##  GSK3a/b BRD"
   ]
  },
  {
   "cell_type": "code",
   "execution_count": 95,
   "metadata": {},
   "outputs": [],
   "source": [
    "dat = load_fractions(\"Data/Datasets/Cell Lines/CIBERSORTx_GSK3ab_Results.csv\")\n",
    "dat.X = (dat.X.transpose() / dat.X.sum(axis=1)).transpose()\n",
    "dat.obs['Treatment'] = [x[1] for x in dat.obs.index.str.split('_')]"
   ]
  },
  {
   "cell_type": "code",
   "execution_count": 96,
   "metadata": {},
   "outputs": [],
   "source": [
    "newdat = dat.to_df()\n",
    "newdat['PC2'] = (dat.to_df() * PC2_loadings).sum(axis=1)\n",
    "dat = ad.AnnData(newdat, dat.obs)\n",
    "del(newdat)"
   ]
  },
  {
   "cell_type": "code",
   "execution_count": 97,
   "metadata": {},
   "outputs": [
    {
     "name": "stderr",
     "output_type": "stream",
     "text": [
      "Trying to set attribute `.obs` of view, copying.\n",
      "... storing 'GMP-like-Abs.Category' as categorical\n",
      "Trying to set attribute `.obs` of view, copying.\n",
      "... storing 'LSPC-Cycle-Abs.Category' as categorical\n",
      "Trying to set attribute `.obs` of view, copying.\n",
      "... storing 'LSPC-Primed-Abs.Category' as categorical\n",
      "Trying to set attribute `.obs` of view, copying.\n",
      "... storing 'LSPC-Quiescent-Abs.Category' as categorical\n",
      "Trying to set attribute `.obs` of view, copying.\n",
      "... storing 'Mono-like-Abs.Category' as categorical\n",
      "Trying to set attribute `.obs` of view, copying.\n",
      "... storing 'ProMono-like-Abs.Category' as categorical\n",
      "Trying to set attribute `.obs` of view, copying.\n",
      "... storing 'cDC-like-Abs.Category' as categorical\n",
      "Trying to set attribute `.obs` of view, copying.\n",
      "... storing 'GMP-like-Rel.Category' as categorical\n",
      "Trying to set attribute `.obs` of view, copying.\n",
      "... storing 'LSPC-Cycle-Rel.Category' as categorical\n",
      "Trying to set attribute `.obs` of view, copying.\n",
      "... storing 'LSPC-Primed-Rel.Category' as categorical\n",
      "Trying to set attribute `.obs` of view, copying.\n",
      "... storing 'LSPC-Quiescent-Rel.Category' as categorical\n",
      "Trying to set attribute `.obs` of view, copying.\n",
      "... storing 'Mono-like-Rel.Category' as categorical\n",
      "Trying to set attribute `.obs` of view, copying.\n",
      "... storing 'ProMono-like-Rel.Category' as categorical\n",
      "Trying to set attribute `.obs` of view, copying.\n",
      "... storing 'cDC-like-Rel.Category' as categorical\n",
      "Trying to set attribute `.obs` of view, copying.\n",
      "... storing 'Treatment' as categorical\n"
     ]
    }
   ],
   "source": [
    "df = get_scores(df, dat, classification = 'Treatment', cluster_A = 'BRD0705', cluster_B = 'Control', cohort = 'U-937', drug = 'BRD0705', target = 'GSK3a')"
   ]
  },
  {
   "cell_type": "code",
   "execution_count": 98,
   "metadata": {},
   "outputs": [
    {
     "name": "stderr",
     "output_type": "stream",
     "text": [
      "Trying to set attribute `.obs` of view, copying.\n",
      "... storing 'GMP-like-Abs.Category' as categorical\n",
      "Trying to set attribute `.obs` of view, copying.\n",
      "... storing 'LSPC-Cycle-Abs.Category' as categorical\n",
      "Trying to set attribute `.obs` of view, copying.\n",
      "... storing 'LSPC-Primed-Abs.Category' as categorical\n",
      "Trying to set attribute `.obs` of view, copying.\n",
      "... storing 'LSPC-Quiescent-Abs.Category' as categorical\n",
      "Trying to set attribute `.obs` of view, copying.\n",
      "... storing 'Mono-like-Abs.Category' as categorical\n",
      "Trying to set attribute `.obs` of view, copying.\n",
      "... storing 'ProMono-like-Abs.Category' as categorical\n",
      "Trying to set attribute `.obs` of view, copying.\n",
      "... storing 'cDC-like-Abs.Category' as categorical\n",
      "Trying to set attribute `.obs` of view, copying.\n",
      "... storing 'GMP-like-Rel.Category' as categorical\n",
      "Trying to set attribute `.obs` of view, copying.\n",
      "... storing 'LSPC-Cycle-Rel.Category' as categorical\n",
      "Trying to set attribute `.obs` of view, copying.\n",
      "... storing 'LSPC-Primed-Rel.Category' as categorical\n",
      "Trying to set attribute `.obs` of view, copying.\n",
      "... storing 'LSPC-Quiescent-Rel.Category' as categorical\n",
      "Trying to set attribute `.obs` of view, copying.\n",
      "... storing 'Mono-like-Rel.Category' as categorical\n",
      "Trying to set attribute `.obs` of view, copying.\n",
      "... storing 'ProMono-like-Rel.Category' as categorical\n",
      "Trying to set attribute `.obs` of view, copying.\n",
      "... storing 'cDC-like-Rel.Category' as categorical\n",
      "Trying to set attribute `.obs` of view, copying.\n",
      "... storing 'Treatment' as categorical\n"
     ]
    }
   ],
   "source": [
    "df = get_scores(df, dat, classification = 'Treatment', cluster_A = 'BRD0320', cluster_B = 'Control', cohort = 'U-937', drug = 'BRD0320', target = 'GSK3a/b')"
   ]
  },
  {
   "cell_type": "markdown",
   "metadata": {},
   "source": [
    "## POL I BET CX/I-BET/Doxo"
   ]
  },
  {
   "cell_type": "code",
   "execution_count": 99,
   "metadata": {},
   "outputs": [],
   "source": [
    "dat = load_fractions(\"Data/Datasets/Cell Lines/CIBERSORTx_POL_I_Results.csv\")\n",
    "dat.X = (dat.X.transpose() / dat.X.sum(axis=1)).transpose()\n",
    "dat.obs['Treatment'] = [x for x in dat.obs.index]\n",
    "dat.obs['Treatment'] = dat.obs['Treatment'].str.replace('\\.[^.]*$', '').str.replace('[0-9]', '').str.replace('.', '_')\n",
    "dat.obs['Treatment'] = dat.obs['Treatment'].str.replace('v', 'Control').str.replace('ib', 'I-BET').str.replace('dox', 'Doxo').str.replace('cx', 'CX')"
   ]
  },
  {
   "cell_type": "code",
   "execution_count": 100,
   "metadata": {},
   "outputs": [],
   "source": [
    "newdat = dat.to_df()\n",
    "newdat['PC2'] = (dat.to_df() * PC2_loadings).sum(axis=1)\n",
    "dat = ad.AnnData(newdat, dat.obs)\n",
    "del(newdat)"
   ]
  },
  {
   "cell_type": "code",
   "execution_count": 101,
   "metadata": {},
   "outputs": [
    {
     "name": "stderr",
     "output_type": "stream",
     "text": [
      "Trying to set attribute `.obs` of view, copying.\n",
      "... storing 'GMP-like-Abs.Category' as categorical\n",
      "Trying to set attribute `.obs` of view, copying.\n",
      "... storing 'LSPC-Cycle-Abs.Category' as categorical\n",
      "Trying to set attribute `.obs` of view, copying.\n",
      "... storing 'LSPC-Primed-Abs.Category' as categorical\n",
      "Trying to set attribute `.obs` of view, copying.\n",
      "... storing 'LSPC-Quiescent-Abs.Category' as categorical\n",
      "Trying to set attribute `.obs` of view, copying.\n",
      "... storing 'Mono-like-Abs.Category' as categorical\n",
      "Trying to set attribute `.obs` of view, copying.\n",
      "... storing 'ProMono-like-Abs.Category' as categorical\n",
      "Trying to set attribute `.obs` of view, copying.\n",
      "... storing 'cDC-like-Abs.Category' as categorical\n",
      "Trying to set attribute `.obs` of view, copying.\n",
      "... storing 'GMP-like-Rel.Category' as categorical\n",
      "Trying to set attribute `.obs` of view, copying.\n",
      "... storing 'LSPC-Cycle-Rel.Category' as categorical\n",
      "Trying to set attribute `.obs` of view, copying.\n",
      "... storing 'LSPC-Primed-Rel.Category' as categorical\n",
      "Trying to set attribute `.obs` of view, copying.\n",
      "... storing 'LSPC-Quiescent-Rel.Category' as categorical\n",
      "Trying to set attribute `.obs` of view, copying.\n",
      "... storing 'Mono-like-Rel.Category' as categorical\n",
      "Trying to set attribute `.obs` of view, copying.\n",
      "... storing 'ProMono-like-Rel.Category' as categorical\n",
      "Trying to set attribute `.obs` of view, copying.\n",
      "... storing 'cDC-like-Rel.Category' as categorical\n",
      "Trying to set attribute `.obs` of view, copying.\n",
      "... storing 'Treatment' as categorical\n"
     ]
    }
   ],
   "source": [
    "df = get_scores(df, dat, classification = 'Treatment', cluster_A = 'CX', cluster_B = 'Control', cohort = 'MV4-11', drug = 'CX-5461', target = 'POL I')"
   ]
  },
  {
   "cell_type": "code",
   "execution_count": 102,
   "metadata": {},
   "outputs": [
    {
     "name": "stderr",
     "output_type": "stream",
     "text": [
      "Trying to set attribute `.obs` of view, copying.\n",
      "... storing 'GMP-like-Abs.Category' as categorical\n",
      "Trying to set attribute `.obs` of view, copying.\n",
      "... storing 'LSPC-Cycle-Abs.Category' as categorical\n",
      "Trying to set attribute `.obs` of view, copying.\n",
      "... storing 'LSPC-Primed-Abs.Category' as categorical\n",
      "Trying to set attribute `.obs` of view, copying.\n",
      "... storing 'LSPC-Quiescent-Abs.Category' as categorical\n",
      "Trying to set attribute `.obs` of view, copying.\n",
      "... storing 'Mono-like-Abs.Category' as categorical\n",
      "Trying to set attribute `.obs` of view, copying.\n",
      "... storing 'ProMono-like-Abs.Category' as categorical\n",
      "Trying to set attribute `.obs` of view, copying.\n",
      "... storing 'cDC-like-Abs.Category' as categorical\n",
      "Trying to set attribute `.obs` of view, copying.\n",
      "... storing 'GMP-like-Rel.Category' as categorical\n",
      "Trying to set attribute `.obs` of view, copying.\n",
      "... storing 'LSPC-Cycle-Rel.Category' as categorical\n",
      "Trying to set attribute `.obs` of view, copying.\n",
      "... storing 'LSPC-Primed-Rel.Category' as categorical\n",
      "Trying to set attribute `.obs` of view, copying.\n",
      "... storing 'LSPC-Quiescent-Rel.Category' as categorical\n",
      "Trying to set attribute `.obs` of view, copying.\n",
      "... storing 'Mono-like-Rel.Category' as categorical\n",
      "Trying to set attribute `.obs` of view, copying.\n",
      "... storing 'ProMono-like-Rel.Category' as categorical\n",
      "Trying to set attribute `.obs` of view, copying.\n",
      "... storing 'cDC-like-Rel.Category' as categorical\n",
      "Trying to set attribute `.obs` of view, copying.\n",
      "... storing 'Treatment' as categorical\n"
     ]
    }
   ],
   "source": [
    "df = get_scores(df, dat, classification = 'Treatment', cluster_A = 'Doxo', cluster_B = 'Control', cohort = 'MV4-11', drug = 'Doxorubicin', target = 'BET')"
   ]
  },
  {
   "cell_type": "code",
   "execution_count": 103,
   "metadata": {},
   "outputs": [
    {
     "name": "stderr",
     "output_type": "stream",
     "text": [
      "Trying to set attribute `.obs` of view, copying.\n",
      "... storing 'GMP-like-Abs.Category' as categorical\n",
      "Trying to set attribute `.obs` of view, copying.\n",
      "... storing 'LSPC-Cycle-Abs.Category' as categorical\n",
      "Trying to set attribute `.obs` of view, copying.\n",
      "... storing 'LSPC-Primed-Abs.Category' as categorical\n",
      "Trying to set attribute `.obs` of view, copying.\n",
      "... storing 'LSPC-Quiescent-Abs.Category' as categorical\n",
      "Trying to set attribute `.obs` of view, copying.\n",
      "... storing 'Mono-like-Abs.Category' as categorical\n",
      "Trying to set attribute `.obs` of view, copying.\n",
      "... storing 'ProMono-like-Abs.Category' as categorical\n",
      "Trying to set attribute `.obs` of view, copying.\n",
      "... storing 'cDC-like-Abs.Category' as categorical\n",
      "Trying to set attribute `.obs` of view, copying.\n",
      "... storing 'GMP-like-Rel.Category' as categorical\n",
      "Trying to set attribute `.obs` of view, copying.\n",
      "... storing 'LSPC-Cycle-Rel.Category' as categorical\n",
      "Trying to set attribute `.obs` of view, copying.\n",
      "... storing 'LSPC-Primed-Rel.Category' as categorical\n",
      "Trying to set attribute `.obs` of view, copying.\n",
      "... storing 'LSPC-Quiescent-Rel.Category' as categorical\n",
      "Trying to set attribute `.obs` of view, copying.\n",
      "... storing 'Mono-like-Rel.Category' as categorical\n",
      "Trying to set attribute `.obs` of view, copying.\n",
      "... storing 'ProMono-like-Rel.Category' as categorical\n",
      "Trying to set attribute `.obs` of view, copying.\n",
      "... storing 'cDC-like-Rel.Category' as categorical\n",
      "Trying to set attribute `.obs` of view, copying.\n",
      "... storing 'Treatment' as categorical\n"
     ]
    }
   ],
   "source": [
    "df = get_scores(df, dat, classification = 'Treatment', cluster_A = 'I-BET', cluster_B = 'Control', cohort = 'MV4-11', drug = 'I-BET151', target = 'BET')"
   ]
  },
  {
   "cell_type": "code",
   "execution_count": 104,
   "metadata": {},
   "outputs": [
    {
     "name": "stderr",
     "output_type": "stream",
     "text": [
      "Trying to set attribute `.obs` of view, copying.\n",
      "... storing 'GMP-like-Abs.Category' as categorical\n",
      "Trying to set attribute `.obs` of view, copying.\n",
      "... storing 'LSPC-Cycle-Abs.Category' as categorical\n",
      "Trying to set attribute `.obs` of view, copying.\n",
      "... storing 'LSPC-Primed-Abs.Category' as categorical\n",
      "Trying to set attribute `.obs` of view, copying.\n",
      "... storing 'LSPC-Quiescent-Abs.Category' as categorical\n",
      "Trying to set attribute `.obs` of view, copying.\n",
      "... storing 'Mono-like-Abs.Category' as categorical\n",
      "Trying to set attribute `.obs` of view, copying.\n",
      "... storing 'ProMono-like-Abs.Category' as categorical\n",
      "Trying to set attribute `.obs` of view, copying.\n",
      "... storing 'cDC-like-Abs.Category' as categorical\n",
      "Trying to set attribute `.obs` of view, copying.\n",
      "... storing 'GMP-like-Rel.Category' as categorical\n",
      "Trying to set attribute `.obs` of view, copying.\n",
      "... storing 'LSPC-Cycle-Rel.Category' as categorical\n",
      "Trying to set attribute `.obs` of view, copying.\n",
      "... storing 'LSPC-Primed-Rel.Category' as categorical\n",
      "Trying to set attribute `.obs` of view, copying.\n",
      "... storing 'LSPC-Quiescent-Rel.Category' as categorical\n",
      "Trying to set attribute `.obs` of view, copying.\n",
      "... storing 'Mono-like-Rel.Category' as categorical\n",
      "Trying to set attribute `.obs` of view, copying.\n",
      "... storing 'ProMono-like-Rel.Category' as categorical\n",
      "Trying to set attribute `.obs` of view, copying.\n",
      "... storing 'cDC-like-Rel.Category' as categorical\n",
      "Trying to set attribute `.obs` of view, copying.\n",
      "... storing 'Treatment' as categorical\n"
     ]
    }
   ],
   "source": [
    "df = get_scores(df, dat, classification = 'Treatment', cluster_A = 'Doxo_I-BET', cluster_B = 'Control', cohort = 'MV4-11', drug = 'Doxorubicin + I-BET151', target = 'BET')"
   ]
  },
  {
   "cell_type": "code",
   "execution_count": 105,
   "metadata": {},
   "outputs": [
    {
     "name": "stderr",
     "output_type": "stream",
     "text": [
      "Trying to set attribute `.obs` of view, copying.\n",
      "... storing 'GMP-like-Abs.Category' as categorical\n",
      "Trying to set attribute `.obs` of view, copying.\n",
      "... storing 'LSPC-Cycle-Abs.Category' as categorical\n",
      "Trying to set attribute `.obs` of view, copying.\n",
      "... storing 'LSPC-Primed-Abs.Category' as categorical\n",
      "Trying to set attribute `.obs` of view, copying.\n",
      "... storing 'LSPC-Quiescent-Abs.Category' as categorical\n",
      "Trying to set attribute `.obs` of view, copying.\n",
      "... storing 'Mono-like-Abs.Category' as categorical\n",
      "Trying to set attribute `.obs` of view, copying.\n",
      "... storing 'ProMono-like-Abs.Category' as categorical\n",
      "Trying to set attribute `.obs` of view, copying.\n",
      "... storing 'cDC-like-Abs.Category' as categorical\n",
      "Trying to set attribute `.obs` of view, copying.\n",
      "... storing 'GMP-like-Rel.Category' as categorical\n",
      "Trying to set attribute `.obs` of view, copying.\n",
      "... storing 'LSPC-Cycle-Rel.Category' as categorical\n",
      "Trying to set attribute `.obs` of view, copying.\n",
      "... storing 'LSPC-Primed-Rel.Category' as categorical\n",
      "Trying to set attribute `.obs` of view, copying.\n",
      "... storing 'LSPC-Quiescent-Rel.Category' as categorical\n",
      "Trying to set attribute `.obs` of view, copying.\n",
      "... storing 'Mono-like-Rel.Category' as categorical\n",
      "Trying to set attribute `.obs` of view, copying.\n",
      "... storing 'ProMono-like-Rel.Category' as categorical\n",
      "Trying to set attribute `.obs` of view, copying.\n",
      "... storing 'cDC-like-Rel.Category' as categorical\n",
      "Trying to set attribute `.obs` of view, copying.\n",
      "... storing 'Treatment' as categorical\n"
     ]
    }
   ],
   "source": [
    "df = get_scores(df, dat, classification = 'Treatment', cluster_A = 'CX_I-BET', cluster_B = 'Control', cohort = 'MV4-11', drug = 'CX-5461 + I-BET151', target = 'POL I + BET')"
   ]
  },
  {
   "cell_type": "markdown",
   "metadata": {},
   "source": [
    "## Menin-MLL VTP"
   ]
  },
  {
   "cell_type": "code",
   "execution_count": 106,
   "metadata": {},
   "outputs": [
    {
     "name": "stderr",
     "output_type": "stream",
     "text": [
      "Trying to set attribute `.obs` of view, copying.\n"
     ]
    }
   ],
   "source": [
    "dat = load_fractions(\"Data/Datasets/Cell Lines/CIBERSORTx_Menin_MLL_Results.csv\")\n",
    "dat_IMSM2 = dat[:18]\n",
    "dat_IMSM2.X = (dat_IMSM2.X.transpose() / dat_IMSM2.X.sum(axis=1)).transpose()\n",
    "dat_IMSM2.obs['Treatment'] = [x[2] for x in dat_IMSM2.obs.index.str.split('_')]\n",
    "dat_IMSM2.obs['Treatment'] = dat_IMSM2.obs['Treatment'].str.replace('DMSO', 'Control')"
   ]
  },
  {
   "cell_type": "code",
   "execution_count": 107,
   "metadata": {},
   "outputs": [],
   "source": [
    "newdat = dat_IMSM2.to_df()\n",
    "newdat['PC2'] = (dat_IMSM2.to_df() * PC2_loadings).sum(axis=1)\n",
    "dat_IMSM2 = ad.AnnData(newdat, dat_IMSM2.obs)\n",
    "del(newdat)"
   ]
  },
  {
   "cell_type": "code",
   "execution_count": 108,
   "metadata": {},
   "outputs": [
    {
     "name": "stderr",
     "output_type": "stream",
     "text": [
      "Trying to set attribute `.obs` of view, copying.\n",
      "... storing 'GMP-like-Abs.Category' as categorical\n",
      "Trying to set attribute `.obs` of view, copying.\n",
      "... storing 'LSPC-Cycle-Abs.Category' as categorical\n",
      "Trying to set attribute `.obs` of view, copying.\n",
      "... storing 'LSPC-Primed-Abs.Category' as categorical\n",
      "Trying to set attribute `.obs` of view, copying.\n",
      "... storing 'LSPC-Quiescent-Abs.Category' as categorical\n",
      "Trying to set attribute `.obs` of view, copying.\n",
      "... storing 'Mono-like-Abs.Category' as categorical\n",
      "Trying to set attribute `.obs` of view, copying.\n",
      "... storing 'ProMono-like-Abs.Category' as categorical\n",
      "Trying to set attribute `.obs` of view, copying.\n",
      "... storing 'cDC-like-Abs.Category' as categorical\n",
      "Trying to set attribute `.obs` of view, copying.\n",
      "... storing 'GMP-like-Rel.Category' as categorical\n",
      "Trying to set attribute `.obs` of view, copying.\n",
      "... storing 'LSPC-Cycle-Rel.Category' as categorical\n",
      "Trying to set attribute `.obs` of view, copying.\n",
      "... storing 'LSPC-Primed-Rel.Category' as categorical\n",
      "Trying to set attribute `.obs` of view, copying.\n",
      "... storing 'LSPC-Quiescent-Rel.Category' as categorical\n",
      "Trying to set attribute `.obs` of view, copying.\n",
      "... storing 'Mono-like-Rel.Category' as categorical\n",
      "Trying to set attribute `.obs` of view, copying.\n",
      "... storing 'ProMono-like-Rel.Category' as categorical\n",
      "Trying to set attribute `.obs` of view, copying.\n",
      "... storing 'cDC-like-Rel.Category' as categorical\n",
      "Trying to set attribute `.obs` of view, copying.\n",
      "... storing 'Treatment' as categorical\n"
     ]
    }
   ],
   "source": [
    "df = get_scores(df, dat_IMSM2, classification = 'Treatment', cluster_A = 'VTP', cluster_B = 'Control', cohort = 'IMS-M2', drug = 'VTP-50469', target = 'Menin-MLL')"
   ]
  },
  {
   "cell_type": "code",
   "execution_count": 109,
   "metadata": {},
   "outputs": [
    {
     "name": "stderr",
     "output_type": "stream",
     "text": [
      "Trying to set attribute `.obs` of view, copying.\n"
     ]
    }
   ],
   "source": [
    "dat = load_fractions(\"Data/Datasets/Cell Lines/CIBERSORTx_Menin_MLL_Results.csv\")\n",
    "dat_OCIAML3 = dat[18:]\n",
    "dat_OCIAML3.X = (dat_OCIAML3.X.transpose() / dat_OCIAML3.X.sum(axis=1)).transpose()\n",
    "dat_OCIAML3.obs['Treatment'] = [x[2] for x in dat_OCIAML3.obs.index.str.split('_')]\n",
    "dat_OCIAML3.obs['Treatment'] = dat_OCIAML3.obs['Treatment'].str.replace('DMSO', 'Control')"
   ]
  },
  {
   "cell_type": "code",
   "execution_count": 110,
   "metadata": {},
   "outputs": [],
   "source": [
    "newdat = dat_OCIAML3.to_df()\n",
    "newdat['PC2'] = (dat_OCIAML3.to_df() * PC2_loadings).sum(axis=1)\n",
    "dat_OCIAML3 = ad.AnnData(newdat, dat_OCIAML3.obs)\n",
    "del(newdat)"
   ]
  },
  {
   "cell_type": "code",
   "execution_count": 111,
   "metadata": {},
   "outputs": [
    {
     "name": "stderr",
     "output_type": "stream",
     "text": [
      "Trying to set attribute `.obs` of view, copying.\n",
      "... storing 'GMP-like-Abs.Category' as categorical\n",
      "Trying to set attribute `.obs` of view, copying.\n",
      "... storing 'LSPC-Cycle-Abs.Category' as categorical\n",
      "Trying to set attribute `.obs` of view, copying.\n",
      "... storing 'LSPC-Primed-Abs.Category' as categorical\n",
      "Trying to set attribute `.obs` of view, copying.\n",
      "... storing 'LSPC-Quiescent-Abs.Category' as categorical\n",
      "Trying to set attribute `.obs` of view, copying.\n",
      "... storing 'Mono-like-Abs.Category' as categorical\n",
      "Trying to set attribute `.obs` of view, copying.\n",
      "... storing 'ProMono-like-Abs.Category' as categorical\n",
      "Trying to set attribute `.obs` of view, copying.\n",
      "... storing 'cDC-like-Abs.Category' as categorical\n",
      "Trying to set attribute `.obs` of view, copying.\n",
      "... storing 'GMP-like-Rel.Category' as categorical\n",
      "Trying to set attribute `.obs` of view, copying.\n",
      "... storing 'LSPC-Cycle-Rel.Category' as categorical\n",
      "Trying to set attribute `.obs` of view, copying.\n",
      "... storing 'LSPC-Primed-Rel.Category' as categorical\n",
      "Trying to set attribute `.obs` of view, copying.\n",
      "... storing 'LSPC-Quiescent-Rel.Category' as categorical\n",
      "Trying to set attribute `.obs` of view, copying.\n",
      "... storing 'Mono-like-Rel.Category' as categorical\n",
      "Trying to set attribute `.obs` of view, copying.\n",
      "... storing 'ProMono-like-Rel.Category' as categorical\n",
      "Trying to set attribute `.obs` of view, copying.\n",
      "... storing 'cDC-like-Rel.Category' as categorical\n",
      "Trying to set attribute `.obs` of view, copying.\n",
      "... storing 'Treatment' as categorical\n"
     ]
    }
   ],
   "source": [
    "df = get_scores(df, dat_OCIAML3, classification = 'Treatment', cluster_A = 'VTP', cluster_B = 'Control', cohort = 'OCI-AML3', drug = 'VTP-50469', target = 'Menin-MLL')"
   ]
  },
  {
   "cell_type": "markdown",
   "metadata": {},
   "source": [
    "## LSD1 MTORC1 OG86/RAD001"
   ]
  },
  {
   "cell_type": "code",
   "execution_count": 112,
   "metadata": {},
   "outputs": [],
   "source": [
    "dat = load_fractions(\"Data/Datasets/Cell Lines/CIBERSORTx_LSD1_MTORC1_Results.csv\")\n",
    "dat.X = (dat.X.transpose() / dat.X.sum(axis=1)).transpose()\n",
    "dat.obs['Treatment'] = [x[0] for x in dat.obs.index.str.split('_')]\n",
    "dat.obs['Treatment'] = dat.obs['Treatment'].str.replace('DMSO', 'Control')"
   ]
  },
  {
   "cell_type": "code",
   "execution_count": 113,
   "metadata": {},
   "outputs": [],
   "source": [
    "newdat = dat.to_df()\n",
    "newdat['PC2'] = (dat.to_df() * PC2_loadings).sum(axis=1)\n",
    "dat = ad.AnnData(newdat, dat.obs)\n",
    "del(newdat)"
   ]
  },
  {
   "cell_type": "code",
   "execution_count": 114,
   "metadata": {},
   "outputs": [
    {
     "name": "stderr",
     "output_type": "stream",
     "text": [
      "Trying to set attribute `.obs` of view, copying.\n",
      "... storing 'GMP-like-Abs.Category' as categorical\n",
      "Trying to set attribute `.obs` of view, copying.\n",
      "... storing 'LSPC-Cycle-Abs.Category' as categorical\n",
      "Trying to set attribute `.obs` of view, copying.\n",
      "... storing 'LSPC-Primed-Abs.Category' as categorical\n",
      "Trying to set attribute `.obs` of view, copying.\n",
      "... storing 'LSPC-Quiescent-Abs.Category' as categorical\n",
      "Trying to set attribute `.obs` of view, copying.\n",
      "... storing 'Mono-like-Abs.Category' as categorical\n",
      "Trying to set attribute `.obs` of view, copying.\n",
      "... storing 'ProMono-like-Abs.Category' as categorical\n",
      "Trying to set attribute `.obs` of view, copying.\n",
      "... storing 'cDC-like-Abs.Category' as categorical\n",
      "Trying to set attribute `.obs` of view, copying.\n",
      "... storing 'GMP-like-Rel.Category' as categorical\n",
      "Trying to set attribute `.obs` of view, copying.\n",
      "... storing 'LSPC-Cycle-Rel.Category' as categorical\n",
      "Trying to set attribute `.obs` of view, copying.\n",
      "... storing 'LSPC-Primed-Rel.Category' as categorical\n",
      "Trying to set attribute `.obs` of view, copying.\n",
      "... storing 'LSPC-Quiescent-Rel.Category' as categorical\n",
      "Trying to set attribute `.obs` of view, copying.\n",
      "... storing 'Mono-like-Rel.Category' as categorical\n",
      "Trying to set attribute `.obs` of view, copying.\n",
      "... storing 'ProMono-like-Rel.Category' as categorical\n",
      "Trying to set attribute `.obs` of view, copying.\n",
      "... storing 'cDC-like-Rel.Category' as categorical\n",
      "Trying to set attribute `.obs` of view, copying.\n",
      "... storing 'Treatment' as categorical\n"
     ]
    }
   ],
   "source": [
    "df = get_scores(df, dat, classification = 'Treatment', cluster_A = 'OG86', cluster_B = 'Control', cohort = 'THP-1', drug = 'OG86', target = 'LSD1')"
   ]
  },
  {
   "cell_type": "code",
   "execution_count": 115,
   "metadata": {},
   "outputs": [
    {
     "name": "stderr",
     "output_type": "stream",
     "text": [
      "Trying to set attribute `.obs` of view, copying.\n",
      "... storing 'GMP-like-Abs.Category' as categorical\n",
      "Trying to set attribute `.obs` of view, copying.\n",
      "... storing 'LSPC-Cycle-Abs.Category' as categorical\n",
      "Trying to set attribute `.obs` of view, copying.\n",
      "... storing 'LSPC-Primed-Abs.Category' as categorical\n",
      "Trying to set attribute `.obs` of view, copying.\n",
      "... storing 'LSPC-Quiescent-Abs.Category' as categorical\n",
      "Trying to set attribute `.obs` of view, copying.\n",
      "... storing 'Mono-like-Abs.Category' as categorical\n",
      "Trying to set attribute `.obs` of view, copying.\n",
      "... storing 'ProMono-like-Abs.Category' as categorical\n",
      "Trying to set attribute `.obs` of view, copying.\n",
      "... storing 'cDC-like-Abs.Category' as categorical\n",
      "Trying to set attribute `.obs` of view, copying.\n",
      "... storing 'GMP-like-Rel.Category' as categorical\n",
      "Trying to set attribute `.obs` of view, copying.\n",
      "... storing 'LSPC-Cycle-Rel.Category' as categorical\n",
      "Trying to set attribute `.obs` of view, copying.\n",
      "... storing 'LSPC-Primed-Rel.Category' as categorical\n",
      "Trying to set attribute `.obs` of view, copying.\n",
      "... storing 'LSPC-Quiescent-Rel.Category' as categorical\n",
      "Trying to set attribute `.obs` of view, copying.\n",
      "... storing 'Mono-like-Rel.Category' as categorical\n",
      "Trying to set attribute `.obs` of view, copying.\n",
      "... storing 'ProMono-like-Rel.Category' as categorical\n",
      "Trying to set attribute `.obs` of view, copying.\n",
      "... storing 'cDC-like-Rel.Category' as categorical\n",
      "Trying to set attribute `.obs` of view, copying.\n",
      "... storing 'Treatment' as categorical\n"
     ]
    }
   ],
   "source": [
    "df = get_scores(df, dat, classification = 'Treatment', cluster_A = 'RAD001', cluster_B = 'Control', cohort = 'THP-1', drug = 'RAD001', target = 'MTORC1')"
   ]
  },
  {
   "cell_type": "code",
   "execution_count": 116,
   "metadata": {},
   "outputs": [
    {
     "name": "stderr",
     "output_type": "stream",
     "text": [
      "Trying to set attribute `.obs` of view, copying.\n",
      "... storing 'GMP-like-Abs.Category' as categorical\n",
      "Trying to set attribute `.obs` of view, copying.\n",
      "... storing 'LSPC-Cycle-Abs.Category' as categorical\n",
      "Trying to set attribute `.obs` of view, copying.\n",
      "... storing 'LSPC-Primed-Abs.Category' as categorical\n",
      "Trying to set attribute `.obs` of view, copying.\n",
      "... storing 'LSPC-Quiescent-Abs.Category' as categorical\n",
      "Trying to set attribute `.obs` of view, copying.\n",
      "... storing 'Mono-like-Abs.Category' as categorical\n",
      "Trying to set attribute `.obs` of view, copying.\n",
      "... storing 'ProMono-like-Abs.Category' as categorical\n",
      "Trying to set attribute `.obs` of view, copying.\n",
      "... storing 'cDC-like-Abs.Category' as categorical\n",
      "Trying to set attribute `.obs` of view, copying.\n",
      "... storing 'GMP-like-Rel.Category' as categorical\n",
      "Trying to set attribute `.obs` of view, copying.\n",
      "... storing 'LSPC-Cycle-Rel.Category' as categorical\n",
      "Trying to set attribute `.obs` of view, copying.\n",
      "... storing 'LSPC-Primed-Rel.Category' as categorical\n",
      "Trying to set attribute `.obs` of view, copying.\n",
      "... storing 'LSPC-Quiescent-Rel.Category' as categorical\n",
      "Trying to set attribute `.obs` of view, copying.\n",
      "... storing 'Mono-like-Rel.Category' as categorical\n",
      "Trying to set attribute `.obs` of view, copying.\n",
      "... storing 'ProMono-like-Rel.Category' as categorical\n",
      "Trying to set attribute `.obs` of view, copying.\n",
      "... storing 'cDC-like-Rel.Category' as categorical\n",
      "Trying to set attribute `.obs` of view, copying.\n",
      "... storing 'Treatment' as categorical\n"
     ]
    }
   ],
   "source": [
    "df = get_scores(df, dat, classification = 'Treatment', cluster_A = 'RAD001-OG86', cluster_B = 'Control', cohort = 'THP-1', drug = 'RAD001 + OG86', target = 'LSD1 + MTORC1')"
   ]
  },
  {
   "cell_type": "markdown",
   "metadata": {},
   "source": [
    "## GCN5 LSD1 MB-3/GSK-LSD1/ATRA"
   ]
  },
  {
   "cell_type": "code",
   "execution_count": 117,
   "metadata": {},
   "outputs": [],
   "source": [
    "dat = load_fractions(\"Data/Datasets/Cell Lines/CIBERSORTx_GCN5_LSD1_Results.csv\")\n",
    "dat.X = (dat.X.transpose() / dat.X.sum(axis=1)).transpose()\n",
    "dat.obs['Treatment'] = [x for x in dat.obs.index]\n",
    "dat.obs['Treatment'] = dat.obs['Treatment'].str.replace('untreated', 'Control')\n",
    "dat.obs['Treatment'] = dat.obs['Treatment'].str.replace('^[^_]*_', '').str.replace('_', '-')"
   ]
  },
  {
   "cell_type": "code",
   "execution_count": 118,
   "metadata": {},
   "outputs": [],
   "source": [
    "newdat = dat.to_df()\n",
    "newdat['PC2'] = (dat.to_df() * PC2_loadings).sum(axis=1)\n",
    "dat = ad.AnnData(newdat, dat.obs)\n",
    "del(newdat)"
   ]
  },
  {
   "cell_type": "code",
   "execution_count": 119,
   "metadata": {},
   "outputs": [
    {
     "name": "stderr",
     "output_type": "stream",
     "text": [
      "Trying to set attribute `.obs` of view, copying.\n",
      "... storing 'GMP-like-Abs.Category' as categorical\n",
      "Trying to set attribute `.obs` of view, copying.\n",
      "... storing 'LSPC-Cycle-Abs.Category' as categorical\n",
      "Trying to set attribute `.obs` of view, copying.\n",
      "... storing 'LSPC-Primed-Abs.Category' as categorical\n",
      "Trying to set attribute `.obs` of view, copying.\n",
      "... storing 'LSPC-Quiescent-Abs.Category' as categorical\n",
      "Trying to set attribute `.obs` of view, copying.\n",
      "... storing 'Mono-like-Abs.Category' as categorical\n",
      "Trying to set attribute `.obs` of view, copying.\n",
      "... storing 'ProMono-like-Abs.Category' as categorical\n",
      "Trying to set attribute `.obs` of view, copying.\n",
      "... storing 'cDC-like-Abs.Category' as categorical\n",
      "Trying to set attribute `.obs` of view, copying.\n",
      "... storing 'GMP-like-Rel.Category' as categorical\n",
      "Trying to set attribute `.obs` of view, copying.\n",
      "... storing 'LSPC-Cycle-Rel.Category' as categorical\n",
      "Trying to set attribute `.obs` of view, copying.\n",
      "... storing 'LSPC-Primed-Rel.Category' as categorical\n",
      "Trying to set attribute `.obs` of view, copying.\n",
      "... storing 'LSPC-Quiescent-Rel.Category' as categorical\n",
      "Trying to set attribute `.obs` of view, copying.\n",
      "... storing 'Mono-like-Rel.Category' as categorical\n",
      "Trying to set attribute `.obs` of view, copying.\n",
      "... storing 'ProMono-like-Rel.Category' as categorical\n",
      "Trying to set attribute `.obs` of view, copying.\n",
      "... storing 'cDC-like-Rel.Category' as categorical\n",
      "Trying to set attribute `.obs` of view, copying.\n",
      "... storing 'Treatment' as categorical\n"
     ]
    }
   ],
   "source": [
    "df = get_scores(df, dat, classification = 'Treatment', cluster_A = 'ATRA', cluster_B = 'Control', cohort = 'HL-60', drug = 'ATRA', target = 'RARA')"
   ]
  },
  {
   "cell_type": "code",
   "execution_count": 120,
   "metadata": {},
   "outputs": [
    {
     "name": "stderr",
     "output_type": "stream",
     "text": [
      "Trying to set attribute `.obs` of view, copying.\n",
      "... storing 'GMP-like-Abs.Category' as categorical\n",
      "Trying to set attribute `.obs` of view, copying.\n",
      "... storing 'LSPC-Cycle-Abs.Category' as categorical\n",
      "Trying to set attribute `.obs` of view, copying.\n",
      "... storing 'LSPC-Primed-Abs.Category' as categorical\n",
      "Trying to set attribute `.obs` of view, copying.\n",
      "... storing 'LSPC-Quiescent-Abs.Category' as categorical\n",
      "Trying to set attribute `.obs` of view, copying.\n",
      "... storing 'Mono-like-Abs.Category' as categorical\n",
      "Trying to set attribute `.obs` of view, copying.\n",
      "... storing 'ProMono-like-Abs.Category' as categorical\n",
      "Trying to set attribute `.obs` of view, copying.\n",
      "... storing 'cDC-like-Abs.Category' as categorical\n",
      "Trying to set attribute `.obs` of view, copying.\n",
      "... storing 'GMP-like-Rel.Category' as categorical\n",
      "Trying to set attribute `.obs` of view, copying.\n",
      "... storing 'LSPC-Cycle-Rel.Category' as categorical\n",
      "Trying to set attribute `.obs` of view, copying.\n",
      "... storing 'LSPC-Primed-Rel.Category' as categorical\n",
      "Trying to set attribute `.obs` of view, copying.\n",
      "... storing 'LSPC-Quiescent-Rel.Category' as categorical\n",
      "Trying to set attribute `.obs` of view, copying.\n",
      "... storing 'Mono-like-Rel.Category' as categorical\n",
      "Trying to set attribute `.obs` of view, copying.\n",
      "... storing 'ProMono-like-Rel.Category' as categorical\n",
      "Trying to set attribute `.obs` of view, copying.\n",
      "... storing 'cDC-like-Rel.Category' as categorical\n",
      "Trying to set attribute `.obs` of view, copying.\n",
      "... storing 'Treatment' as categorical\n"
     ]
    }
   ],
   "source": [
    "df = get_scores(df, dat, classification = 'Treatment', cluster_A = 'MB3', cluster_B = 'Control', cohort = 'HL-60', drug = 'MB3', target = 'GCN5')"
   ]
  },
  {
   "cell_type": "code",
   "execution_count": 121,
   "metadata": {},
   "outputs": [
    {
     "name": "stderr",
     "output_type": "stream",
     "text": [
      "Trying to set attribute `.obs` of view, copying.\n",
      "... storing 'GMP-like-Abs.Category' as categorical\n",
      "Trying to set attribute `.obs` of view, copying.\n",
      "... storing 'LSPC-Cycle-Abs.Category' as categorical\n",
      "Trying to set attribute `.obs` of view, copying.\n",
      "... storing 'LSPC-Primed-Abs.Category' as categorical\n",
      "Trying to set attribute `.obs` of view, copying.\n",
      "... storing 'LSPC-Quiescent-Abs.Category' as categorical\n",
      "Trying to set attribute `.obs` of view, copying.\n",
      "... storing 'Mono-like-Abs.Category' as categorical\n",
      "Trying to set attribute `.obs` of view, copying.\n",
      "... storing 'ProMono-like-Abs.Category' as categorical\n",
      "Trying to set attribute `.obs` of view, copying.\n",
      "... storing 'cDC-like-Abs.Category' as categorical\n",
      "Trying to set attribute `.obs` of view, copying.\n",
      "... storing 'GMP-like-Rel.Category' as categorical\n",
      "Trying to set attribute `.obs` of view, copying.\n",
      "... storing 'LSPC-Cycle-Rel.Category' as categorical\n",
      "Trying to set attribute `.obs` of view, copying.\n",
      "... storing 'LSPC-Primed-Rel.Category' as categorical\n",
      "Trying to set attribute `.obs` of view, copying.\n",
      "... storing 'LSPC-Quiescent-Rel.Category' as categorical\n",
      "Trying to set attribute `.obs` of view, copying.\n",
      "... storing 'Mono-like-Rel.Category' as categorical\n",
      "Trying to set attribute `.obs` of view, copying.\n",
      "... storing 'ProMono-like-Rel.Category' as categorical\n",
      "Trying to set attribute `.obs` of view, copying.\n",
      "... storing 'cDC-like-Rel.Category' as categorical\n",
      "Trying to set attribute `.obs` of view, copying.\n",
      "... storing 'Treatment' as categorical\n"
     ]
    }
   ],
   "source": [
    "df = get_scores(df, dat, classification = 'Treatment', cluster_A = 'GSK-LSD1', cluster_B = 'Control', cohort = 'HL-60', drug = 'GSK-LSD1', target = 'LSD1')"
   ]
  },
  {
   "cell_type": "code",
   "execution_count": 122,
   "metadata": {},
   "outputs": [
    {
     "name": "stderr",
     "output_type": "stream",
     "text": [
      "Trying to set attribute `.obs` of view, copying.\n",
      "... storing 'GMP-like-Abs.Category' as categorical\n",
      "Trying to set attribute `.obs` of view, copying.\n",
      "... storing 'LSPC-Cycle-Abs.Category' as categorical\n",
      "Trying to set attribute `.obs` of view, copying.\n",
      "... storing 'LSPC-Primed-Abs.Category' as categorical\n",
      "Trying to set attribute `.obs` of view, copying.\n",
      "... storing 'LSPC-Quiescent-Abs.Category' as categorical\n",
      "Trying to set attribute `.obs` of view, copying.\n",
      "... storing 'Mono-like-Abs.Category' as categorical\n",
      "Trying to set attribute `.obs` of view, copying.\n",
      "... storing 'ProMono-like-Abs.Category' as categorical\n",
      "Trying to set attribute `.obs` of view, copying.\n",
      "... storing 'cDC-like-Abs.Category' as categorical\n",
      "Trying to set attribute `.obs` of view, copying.\n",
      "... storing 'GMP-like-Rel.Category' as categorical\n",
      "Trying to set attribute `.obs` of view, copying.\n",
      "... storing 'LSPC-Cycle-Rel.Category' as categorical\n",
      "Trying to set attribute `.obs` of view, copying.\n",
      "... storing 'LSPC-Primed-Rel.Category' as categorical\n",
      "Trying to set attribute `.obs` of view, copying.\n",
      "... storing 'LSPC-Quiescent-Rel.Category' as categorical\n",
      "Trying to set attribute `.obs` of view, copying.\n",
      "... storing 'Mono-like-Rel.Category' as categorical\n",
      "Trying to set attribute `.obs` of view, copying.\n",
      "... storing 'ProMono-like-Rel.Category' as categorical\n",
      "Trying to set attribute `.obs` of view, copying.\n",
      "... storing 'cDC-like-Rel.Category' as categorical\n",
      "Trying to set attribute `.obs` of view, copying.\n",
      "... storing 'Treatment' as categorical\n"
     ]
    }
   ],
   "source": [
    "df = get_scores(df, dat, classification = 'Treatment', cluster_A = 'ATRA-MB3', cluster_B = 'Control', cohort = 'HL-60', drug = 'ATRA + MB3', target = 'RARA + GCN-5')"
   ]
  },
  {
   "cell_type": "code",
   "execution_count": 123,
   "metadata": {},
   "outputs": [
    {
     "name": "stderr",
     "output_type": "stream",
     "text": [
      "Trying to set attribute `.obs` of view, copying.\n",
      "... storing 'GMP-like-Abs.Category' as categorical\n",
      "Trying to set attribute `.obs` of view, copying.\n",
      "... storing 'LSPC-Cycle-Abs.Category' as categorical\n",
      "Trying to set attribute `.obs` of view, copying.\n",
      "... storing 'LSPC-Primed-Abs.Category' as categorical\n",
      "Trying to set attribute `.obs` of view, copying.\n",
      "... storing 'LSPC-Quiescent-Abs.Category' as categorical\n",
      "Trying to set attribute `.obs` of view, copying.\n",
      "... storing 'Mono-like-Abs.Category' as categorical\n",
      "Trying to set attribute `.obs` of view, copying.\n",
      "... storing 'ProMono-like-Abs.Category' as categorical\n",
      "Trying to set attribute `.obs` of view, copying.\n",
      "... storing 'cDC-like-Abs.Category' as categorical\n",
      "Trying to set attribute `.obs` of view, copying.\n",
      "... storing 'GMP-like-Rel.Category' as categorical\n",
      "Trying to set attribute `.obs` of view, copying.\n",
      "... storing 'LSPC-Cycle-Rel.Category' as categorical\n",
      "Trying to set attribute `.obs` of view, copying.\n",
      "... storing 'LSPC-Primed-Rel.Category' as categorical\n",
      "Trying to set attribute `.obs` of view, copying.\n",
      "... storing 'LSPC-Quiescent-Rel.Category' as categorical\n",
      "Trying to set attribute `.obs` of view, copying.\n",
      "... storing 'Mono-like-Rel.Category' as categorical\n",
      "Trying to set attribute `.obs` of view, copying.\n",
      "... storing 'ProMono-like-Rel.Category' as categorical\n",
      "Trying to set attribute `.obs` of view, copying.\n",
      "... storing 'cDC-like-Rel.Category' as categorical\n",
      "Trying to set attribute `.obs` of view, copying.\n",
      "... storing 'Treatment' as categorical\n"
     ]
    }
   ],
   "source": [
    "df = get_scores(df, dat, classification = 'Treatment', cluster_A = 'ATRA-GSK-LSD1', cluster_B = 'Control', cohort = 'HL-60', drug = 'ATRA + GSK-LSD1', target = 'RARA + LSD1')"
   ]
  },
  {
   "cell_type": "code",
   "execution_count": 124,
   "metadata": {},
   "outputs": [
    {
     "name": "stderr",
     "output_type": "stream",
     "text": [
      "Trying to set attribute `.obs` of view, copying.\n",
      "... storing 'GMP-like-Abs.Category' as categorical\n",
      "Trying to set attribute `.obs` of view, copying.\n",
      "... storing 'LSPC-Cycle-Abs.Category' as categorical\n",
      "Trying to set attribute `.obs` of view, copying.\n",
      "... storing 'LSPC-Primed-Abs.Category' as categorical\n",
      "Trying to set attribute `.obs` of view, copying.\n",
      "... storing 'LSPC-Quiescent-Abs.Category' as categorical\n",
      "Trying to set attribute `.obs` of view, copying.\n",
      "... storing 'Mono-like-Abs.Category' as categorical\n",
      "Trying to set attribute `.obs` of view, copying.\n",
      "... storing 'ProMono-like-Abs.Category' as categorical\n",
      "Trying to set attribute `.obs` of view, copying.\n",
      "... storing 'cDC-like-Abs.Category' as categorical\n",
      "Trying to set attribute `.obs` of view, copying.\n",
      "... storing 'GMP-like-Rel.Category' as categorical\n",
      "Trying to set attribute `.obs` of view, copying.\n",
      "... storing 'LSPC-Cycle-Rel.Category' as categorical\n",
      "Trying to set attribute `.obs` of view, copying.\n",
      "... storing 'LSPC-Primed-Rel.Category' as categorical\n",
      "Trying to set attribute `.obs` of view, copying.\n",
      "... storing 'LSPC-Quiescent-Rel.Category' as categorical\n",
      "Trying to set attribute `.obs` of view, copying.\n",
      "... storing 'Mono-like-Rel.Category' as categorical\n",
      "Trying to set attribute `.obs` of view, copying.\n",
      "... storing 'ProMono-like-Rel.Category' as categorical\n",
      "Trying to set attribute `.obs` of view, copying.\n",
      "... storing 'cDC-like-Rel.Category' as categorical\n",
      "Trying to set attribute `.obs` of view, copying.\n",
      "... storing 'Treatment' as categorical\n"
     ]
    }
   ],
   "source": [
    "df = get_scores(df, dat, classification = 'Treatment', cluster_A = 'ATRA-MB3-GSK-LSD1', cluster_B = 'Control', cohort = 'HL-60', drug = 'ATRA + MB3 + GSK-LSD1', target = 'RARA + GCN5 + LSD1')"
   ]
  },
  {
   "cell_type": "markdown",
   "metadata": {},
   "source": [
    "## HDAC8 22d"
   ]
  },
  {
   "cell_type": "code",
   "execution_count": 125,
   "metadata": {},
   "outputs": [],
   "source": [
    "dat = load_fractions(\"Data/Datasets/Cell Lines/CIBERSORTx_HDAC8_Results.csv\")\n",
    "dat.X = (dat.X.transpose() / dat.X.sum(axis=1)).transpose()\n",
    "dat.obs['Treatment'] = [x for x in dat.obs.index]\n",
    "dat.obs['Treatment'] = dat.obs['Treatment'].str.replace('[1-3]', '')\n",
    "dat.obs['Treatment'] = dat.obs['Treatment'].str.replace('treat', '22d').str.replace('c', 'C')"
   ]
  },
  {
   "cell_type": "code",
   "execution_count": 126,
   "metadata": {},
   "outputs": [],
   "source": [
    "newdat = dat.to_df()\n",
    "newdat['PC2'] = (dat.to_df() * PC2_loadings).sum(axis=1)\n",
    "dat = ad.AnnData(newdat, dat.obs)\n",
    "del(newdat)"
   ]
  },
  {
   "cell_type": "code",
   "execution_count": 127,
   "metadata": {},
   "outputs": [
    {
     "name": "stderr",
     "output_type": "stream",
     "text": [
      "Trying to set attribute `.obs` of view, copying.\n",
      "... storing 'GMP-like-Abs.Category' as categorical\n",
      "Trying to set attribute `.obs` of view, copying.\n",
      "... storing 'LSPC-Cycle-Abs.Category' as categorical\n",
      "Trying to set attribute `.obs` of view, copying.\n",
      "... storing 'LSPC-Primed-Abs.Category' as categorical\n",
      "Trying to set attribute `.obs` of view, copying.\n",
      "... storing 'LSPC-Quiescent-Abs.Category' as categorical\n",
      "Trying to set attribute `.obs` of view, copying.\n",
      "... storing 'Mono-like-Abs.Category' as categorical\n",
      "Trying to set attribute `.obs` of view, copying.\n",
      "... storing 'ProMono-like-Abs.Category' as categorical\n",
      "Trying to set attribute `.obs` of view, copying.\n",
      "... storing 'cDC-like-Abs.Category' as categorical\n",
      "Trying to set attribute `.obs` of view, copying.\n",
      "... storing 'GMP-like-Rel.Category' as categorical\n",
      "Trying to set attribute `.obs` of view, copying.\n",
      "... storing 'LSPC-Cycle-Rel.Category' as categorical\n",
      "Trying to set attribute `.obs` of view, copying.\n",
      "... storing 'LSPC-Primed-Rel.Category' as categorical\n",
      "Trying to set attribute `.obs` of view, copying.\n",
      "... storing 'LSPC-Quiescent-Rel.Category' as categorical\n",
      "Trying to set attribute `.obs` of view, copying.\n",
      "... storing 'Mono-like-Rel.Category' as categorical\n",
      "Trying to set attribute `.obs` of view, copying.\n",
      "... storing 'ProMono-like-Rel.Category' as categorical\n",
      "Trying to set attribute `.obs` of view, copying.\n",
      "... storing 'cDC-like-Rel.Category' as categorical\n",
      "Trying to set attribute `.obs` of view, copying.\n",
      "... storing 'Treatment' as categorical\n"
     ]
    }
   ],
   "source": [
    "df = get_scores(df, dat, classification = 'Treatment', cluster_A = '22d', cluster_B = 'Control', cohort = 'MV4-11', drug = '22d', target = 'HDAC8')"
   ]
  },
  {
   "cell_type": "markdown",
   "metadata": {},
   "source": [
    "## SYK Entosplentinib"
   ]
  },
  {
   "cell_type": "code",
   "execution_count": 128,
   "metadata": {},
   "outputs": [
    {
     "name": "stderr",
     "output_type": "stream",
     "text": [
      "Trying to set attribute `.obs` of view, copying.\n"
     ]
    }
   ],
   "source": [
    "dat = load_fractions(\"Data/Datasets/Cell Lines/CIBERSORTx_SYK_Results.csv\")\n",
    "dat = dat[:12]\n",
    "dat.X = (dat.X.transpose() / dat.X.sum(axis=1)).transpose()\n",
    "dat.obs['Treatment'] = [x[2] for x in dat.obs.index.str.split('_')]\n",
    "dat.obs['Treatment'] = dat.obs['Treatment'].str.replace('DMSO', 'Control')"
   ]
  },
  {
   "cell_type": "code",
   "execution_count": 129,
   "metadata": {},
   "outputs": [],
   "source": [
    "newdat = dat.to_df()\n",
    "newdat['PC2'] = (dat.to_df() * PC2_loadings).sum(axis=1)\n",
    "dat = ad.AnnData(newdat, dat.obs)\n",
    "del(newdat)"
   ]
  },
  {
   "cell_type": "code",
   "execution_count": 130,
   "metadata": {},
   "outputs": [
    {
     "name": "stderr",
     "output_type": "stream",
     "text": [
      "Trying to set attribute `.obs` of view, copying.\n",
      "... storing 'GMP-like-Abs.Category' as categorical\n",
      "Trying to set attribute `.obs` of view, copying.\n",
      "... storing 'LSPC-Cycle-Abs.Category' as categorical\n",
      "Trying to set attribute `.obs` of view, copying.\n",
      "... storing 'LSPC-Primed-Abs.Category' as categorical\n",
      "Trying to set attribute `.obs` of view, copying.\n",
      "... storing 'LSPC-Quiescent-Abs.Category' as categorical\n",
      "Trying to set attribute `.obs` of view, copying.\n",
      "... storing 'Mono-like-Abs.Category' as categorical\n",
      "Trying to set attribute `.obs` of view, copying.\n",
      "... storing 'ProMono-like-Abs.Category' as categorical\n",
      "Trying to set attribute `.obs` of view, copying.\n",
      "... storing 'cDC-like-Abs.Category' as categorical\n",
      "Trying to set attribute `.obs` of view, copying.\n",
      "... storing 'GMP-like-Rel.Category' as categorical\n",
      "Trying to set attribute `.obs` of view, copying.\n",
      "... storing 'LSPC-Cycle-Rel.Category' as categorical\n",
      "Trying to set attribute `.obs` of view, copying.\n",
      "... storing 'LSPC-Primed-Rel.Category' as categorical\n",
      "Trying to set attribute `.obs` of view, copying.\n",
      "... storing 'LSPC-Quiescent-Rel.Category' as categorical\n",
      "Trying to set attribute `.obs` of view, copying.\n",
      "... storing 'Mono-like-Rel.Category' as categorical\n",
      "Trying to set attribute `.obs` of view, copying.\n",
      "... storing 'ProMono-like-Rel.Category' as categorical\n",
      "Trying to set attribute `.obs` of view, copying.\n",
      "... storing 'cDC-like-Rel.Category' as categorical\n",
      "Trying to set attribute `.obs` of view, copying.\n",
      "... storing 'Treatment' as categorical\n"
     ]
    }
   ],
   "source": [
    "df = get_scores(df, dat, classification = 'Treatment', cluster_A = 'Entospletinib', cluster_B = 'Control', cohort = 'MV4-11', drug = 'Entospletinib', target = 'SYK')"
   ]
  },
  {
   "cell_type": "markdown",
   "metadata": {},
   "source": [
    "## Hypometh Azacitidine"
   ]
  },
  {
   "cell_type": "code",
   "execution_count": 131,
   "metadata": {},
   "outputs": [],
   "source": [
    "dat = load_fractions(\"Data/Datasets/Cell Lines/CIBERSORTx_hypometh_azacytidine_Results.csv\")\n",
    "dat.X = (dat.X.transpose() / dat.X.sum(axis=1)).transpose()\n",
    "dat.obs['Treatment'] = [x[0] for x in dat.obs.index.str.split('_')]"
   ]
  },
  {
   "cell_type": "code",
   "execution_count": 132,
   "metadata": {},
   "outputs": [],
   "source": [
    "newdat = dat.to_df()\n",
    "newdat['PC2'] = (dat.to_df() * PC2_loadings).sum(axis=1)\n",
    "dat = ad.AnnData(newdat, dat.obs)\n",
    "del(newdat)"
   ]
  },
  {
   "cell_type": "code",
   "execution_count": 133,
   "metadata": {},
   "outputs": [
    {
     "name": "stderr",
     "output_type": "stream",
     "text": [
      "Trying to set attribute `.obs` of view, copying.\n",
      "... storing 'GMP-like-Abs.Category' as categorical\n",
      "Trying to set attribute `.obs` of view, copying.\n",
      "... storing 'LSPC-Cycle-Abs.Category' as categorical\n",
      "Trying to set attribute `.obs` of view, copying.\n",
      "... storing 'LSPC-Primed-Abs.Category' as categorical\n",
      "Trying to set attribute `.obs` of view, copying.\n",
      "... storing 'LSPC-Quiescent-Abs.Category' as categorical\n",
      "Trying to set attribute `.obs` of view, copying.\n",
      "... storing 'Mono-like-Abs.Category' as categorical\n",
      "Trying to set attribute `.obs` of view, copying.\n",
      "... storing 'ProMono-like-Abs.Category' as categorical\n",
      "Trying to set attribute `.obs` of view, copying.\n",
      "... storing 'cDC-like-Abs.Category' as categorical\n",
      "Trying to set attribute `.obs` of view, copying.\n",
      "... storing 'GMP-like-Rel.Category' as categorical\n",
      "Trying to set attribute `.obs` of view, copying.\n",
      "... storing 'LSPC-Cycle-Rel.Category' as categorical\n",
      "Trying to set attribute `.obs` of view, copying.\n",
      "... storing 'LSPC-Primed-Rel.Category' as categorical\n",
      "Trying to set attribute `.obs` of view, copying.\n",
      "... storing 'LSPC-Quiescent-Rel.Category' as categorical\n",
      "Trying to set attribute `.obs` of view, copying.\n",
      "... storing 'Mono-like-Rel.Category' as categorical\n",
      "Trying to set attribute `.obs` of view, copying.\n",
      "... storing 'ProMono-like-Rel.Category' as categorical\n",
      "Trying to set attribute `.obs` of view, copying.\n",
      "... storing 'cDC-like-Rel.Category' as categorical\n",
      "Trying to set attribute `.obs` of view, copying.\n",
      "... storing 'Treatment' as categorical\n"
     ]
    }
   ],
   "source": [
    "df = get_scores(df, dat, classification = 'Treatment', cluster_A = 'Azacytidine', cluster_B = 'Control', cohort = 'OCI-AML3', drug = '5-Aza', target = 'Hypometh')"
   ]
  },
  {
   "cell_type": "markdown",
   "metadata": {},
   "source": [
    "## Pyrimidine Synthesis AlCAr"
   ]
  },
  {
   "cell_type": "code",
   "execution_count": 134,
   "metadata": {},
   "outputs": [],
   "source": [
    "dat = load_fractions(\"Data/Datasets/Cell Lines/CIBERSORTx_Pyrimidine_Synthesis_Results.csv\")\n",
    "dat.X = (dat.X.transpose() / dat.X.sum(axis=1)).transpose()\n",
    "dat.obs['Treatment'] = [x[1] for x in dat.obs.index.str.split(' ')]\n",
    "dat.obs['Treatment'] = dat.obs['Treatment'].str.replace('[0-9]','').str.replace('ctrl', 'Control')"
   ]
  },
  {
   "cell_type": "code",
   "execution_count": 135,
   "metadata": {},
   "outputs": [],
   "source": [
    "newdat = dat.to_df()\n",
    "newdat['PC2'] = (dat.to_df() * PC2_loadings).sum(axis=1)\n",
    "dat = ad.AnnData(newdat, dat.obs)\n",
    "del(newdat)"
   ]
  },
  {
   "cell_type": "code",
   "execution_count": 136,
   "metadata": {},
   "outputs": [
    {
     "name": "stderr",
     "output_type": "stream",
     "text": [
      "Trying to set attribute `.obs` of view, copying.\n",
      "... storing 'GMP-like-Abs.Category' as categorical\n",
      "Trying to set attribute `.obs` of view, copying.\n",
      "... storing 'LSPC-Cycle-Abs.Category' as categorical\n",
      "Trying to set attribute `.obs` of view, copying.\n",
      "... storing 'LSPC-Primed-Abs.Category' as categorical\n",
      "Trying to set attribute `.obs` of view, copying.\n",
      "... storing 'LSPC-Quiescent-Abs.Category' as categorical\n",
      "Trying to set attribute `.obs` of view, copying.\n",
      "... storing 'Mono-like-Abs.Category' as categorical\n",
      "Trying to set attribute `.obs` of view, copying.\n",
      "... storing 'ProMono-like-Abs.Category' as categorical\n",
      "Trying to set attribute `.obs` of view, copying.\n",
      "... storing 'cDC-like-Abs.Category' as categorical\n",
      "Trying to set attribute `.obs` of view, copying.\n",
      "... storing 'GMP-like-Rel.Category' as categorical\n",
      "Trying to set attribute `.obs` of view, copying.\n",
      "... storing 'LSPC-Cycle-Rel.Category' as categorical\n",
      "Trying to set attribute `.obs` of view, copying.\n",
      "... storing 'LSPC-Primed-Rel.Category' as categorical\n",
      "Trying to set attribute `.obs` of view, copying.\n",
      "... storing 'LSPC-Quiescent-Rel.Category' as categorical\n",
      "Trying to set attribute `.obs` of view, copying.\n",
      "... storing 'Mono-like-Rel.Category' as categorical\n",
      "Trying to set attribute `.obs` of view, copying.\n",
      "... storing 'ProMono-like-Rel.Category' as categorical\n",
      "Trying to set attribute `.obs` of view, copying.\n",
      "... storing 'cDC-like-Rel.Category' as categorical\n",
      "Trying to set attribute `.obs` of view, copying.\n",
      "... storing 'Treatment' as categorical\n"
     ]
    }
   ],
   "source": [
    "df = get_scores(df, dat, classification = 'Treatment', cluster_A = 'AICAr', cluster_B = 'Control', cohort = 'U-937', drug = 'AlCAr', target = 'Pyrimidine Synthesis')"
   ]
  },
  {
   "cell_type": "markdown",
   "metadata": {},
   "source": [
    "## LSD1 INCB059872"
   ]
  },
  {
   "cell_type": "code",
   "execution_count": 137,
   "metadata": {},
   "outputs": [],
   "source": [
    "dat = load_fractions(\"Data/Datasets/Cell Lines/CIBERSORTx_LSD1_INCB059872_Results.csv\")\n",
    "dat.X = (dat.X.transpose() / dat.X.sum(axis=1)).transpose()\n",
    "dat.obs['Treatment'] = [x[0] for x in dat.obs.index.str.split('_')]\n",
    "dat.obs['Treatment'] = dat.obs['Treatment'].str.replace('DMSO', 'Control')"
   ]
  },
  {
   "cell_type": "code",
   "execution_count": 138,
   "metadata": {},
   "outputs": [],
   "source": [
    "newdat = dat.to_df()\n",
    "newdat['PC2'] = (dat.to_df() * PC2_loadings).sum(axis=1)\n",
    "dat = ad.AnnData(newdat, dat.obs)\n",
    "del(newdat)"
   ]
  },
  {
   "cell_type": "code",
   "execution_count": 139,
   "metadata": {},
   "outputs": [
    {
     "name": "stderr",
     "output_type": "stream",
     "text": [
      "Trying to set attribute `.obs` of view, copying.\n",
      "... storing 'GMP-like-Abs.Category' as categorical\n",
      "Trying to set attribute `.obs` of view, copying.\n",
      "... storing 'LSPC-Cycle-Abs.Category' as categorical\n",
      "Trying to set attribute `.obs` of view, copying.\n",
      "... storing 'LSPC-Primed-Abs.Category' as categorical\n",
      "Trying to set attribute `.obs` of view, copying.\n",
      "... storing 'LSPC-Quiescent-Abs.Category' as categorical\n",
      "Trying to set attribute `.obs` of view, copying.\n",
      "... storing 'Mono-like-Abs.Category' as categorical\n",
      "Trying to set attribute `.obs` of view, copying.\n",
      "... storing 'ProMono-like-Abs.Category' as categorical\n",
      "Trying to set attribute `.obs` of view, copying.\n",
      "... storing 'cDC-like-Abs.Category' as categorical\n",
      "Trying to set attribute `.obs` of view, copying.\n",
      "... storing 'GMP-like-Rel.Category' as categorical\n",
      "Trying to set attribute `.obs` of view, copying.\n",
      "... storing 'LSPC-Cycle-Rel.Category' as categorical\n",
      "Trying to set attribute `.obs` of view, copying.\n",
      "... storing 'LSPC-Primed-Rel.Category' as categorical\n",
      "Trying to set attribute `.obs` of view, copying.\n",
      "... storing 'LSPC-Quiescent-Rel.Category' as categorical\n",
      "Trying to set attribute `.obs` of view, copying.\n",
      "... storing 'Mono-like-Rel.Category' as categorical\n",
      "Trying to set attribute `.obs` of view, copying.\n",
      "... storing 'ProMono-like-Rel.Category' as categorical\n",
      "Trying to set attribute `.obs` of view, copying.\n",
      "... storing 'cDC-like-Rel.Category' as categorical\n",
      "Trying to set attribute `.obs` of view, copying.\n",
      "... storing 'Treatment' as categorical\n"
     ]
    }
   ],
   "source": [
    "df = get_scores(df, dat, classification = 'Treatment', cluster_A = 'INCB059872', cluster_B = 'Control', cohort = 'OCI-AML3', drug = 'INCB059872', target = 'LSD1')"
   ]
  },
  {
   "cell_type": "markdown",
   "metadata": {},
   "source": [
    "## MYB AT HA"
   ]
  },
  {
   "cell_type": "code",
   "execution_count": 140,
   "metadata": {},
   "outputs": [],
   "source": [
    "dat = load_fractions(\"Data/Datasets/Cell Lines/CIBERSORTx_MYB_AT_HA_Results.csv\")\n",
    "dat.X = (dat.X.transpose() / dat.X.sum(axis=1)).transpose()\n",
    "dat.obs['Treatment'] = [x[0] for x in dat.obs.index.str.split('_')]\n",
    "dat.obs['Treatment'] = dat.obs['Treatment'].str.replace('DMSO', 'Control').str.replace('[0-9]', '')"
   ]
  },
  {
   "cell_type": "code",
   "execution_count": 141,
   "metadata": {},
   "outputs": [],
   "source": [
    "newdat = dat.to_df()\n",
    "newdat['PC2'] = (dat.to_df() * PC2_loadings).sum(axis=1)\n",
    "dat = ad.AnnData(newdat, dat.obs)\n",
    "del(newdat)"
   ]
  },
  {
   "cell_type": "code",
   "execution_count": 142,
   "metadata": {},
   "outputs": [
    {
     "name": "stderr",
     "output_type": "stream",
     "text": [
      "Trying to set attribute `.obs` of view, copying.\n",
      "... storing 'GMP-like-Abs.Category' as categorical\n",
      "Trying to set attribute `.obs` of view, copying.\n",
      "... storing 'LSPC-Cycle-Abs.Category' as categorical\n",
      "Trying to set attribute `.obs` of view, copying.\n",
      "... storing 'LSPC-Primed-Abs.Category' as categorical\n",
      "Trying to set attribute `.obs` of view, copying.\n",
      "... storing 'LSPC-Quiescent-Abs.Category' as categorical\n",
      "Trying to set attribute `.obs` of view, copying.\n",
      "... storing 'Mono-like-Abs.Category' as categorical\n",
      "Trying to set attribute `.obs` of view, copying.\n",
      "... storing 'ProMono-like-Abs.Category' as categorical\n",
      "Trying to set attribute `.obs` of view, copying.\n",
      "... storing 'cDC-like-Abs.Category' as categorical\n",
      "Trying to set attribute `.obs` of view, copying.\n",
      "... storing 'GMP-like-Rel.Category' as categorical\n",
      "Trying to set attribute `.obs` of view, copying.\n",
      "... storing 'LSPC-Cycle-Rel.Category' as categorical\n",
      "Trying to set attribute `.obs` of view, copying.\n",
      "... storing 'LSPC-Primed-Rel.Category' as categorical\n",
      "Trying to set attribute `.obs` of view, copying.\n",
      "... storing 'LSPC-Quiescent-Rel.Category' as categorical\n",
      "Trying to set attribute `.obs` of view, copying.\n",
      "... storing 'Mono-like-Rel.Category' as categorical\n",
      "Trying to set attribute `.obs` of view, copying.\n",
      "... storing 'ProMono-like-Rel.Category' as categorical\n",
      "Trying to set attribute `.obs` of view, copying.\n",
      "... storing 'cDC-like-Rel.Category' as categorical\n",
      "Trying to set attribute `.obs` of view, copying.\n",
      "... storing 'Treatment' as categorical\n"
     ]
    }
   ],
   "source": [
    "df = get_scores(df, dat, classification = 'Treatment', cluster_A = 'AT', cluster_B = 'Control', cohort = 'THP-1', drug = 'AT', target = 'MYB')"
   ]
  },
  {
   "cell_type": "code",
   "execution_count": 143,
   "metadata": {},
   "outputs": [
    {
     "name": "stderr",
     "output_type": "stream",
     "text": [
      "Trying to set attribute `.obs` of view, copying.\n",
      "... storing 'GMP-like-Abs.Category' as categorical\n",
      "Trying to set attribute `.obs` of view, copying.\n",
      "... storing 'LSPC-Cycle-Abs.Category' as categorical\n",
      "Trying to set attribute `.obs` of view, copying.\n",
      "... storing 'LSPC-Primed-Abs.Category' as categorical\n",
      "Trying to set attribute `.obs` of view, copying.\n",
      "... storing 'LSPC-Quiescent-Abs.Category' as categorical\n",
      "Trying to set attribute `.obs` of view, copying.\n",
      "... storing 'Mono-like-Abs.Category' as categorical\n",
      "Trying to set attribute `.obs` of view, copying.\n",
      "... storing 'ProMono-like-Abs.Category' as categorical\n",
      "Trying to set attribute `.obs` of view, copying.\n",
      "... storing 'cDC-like-Abs.Category' as categorical\n",
      "Trying to set attribute `.obs` of view, copying.\n",
      "... storing 'GMP-like-Rel.Category' as categorical\n",
      "Trying to set attribute `.obs` of view, copying.\n",
      "... storing 'LSPC-Cycle-Rel.Category' as categorical\n",
      "Trying to set attribute `.obs` of view, copying.\n",
      "... storing 'LSPC-Primed-Rel.Category' as categorical\n",
      "Trying to set attribute `.obs` of view, copying.\n",
      "... storing 'LSPC-Quiescent-Rel.Category' as categorical\n",
      "Trying to set attribute `.obs` of view, copying.\n",
      "... storing 'Mono-like-Rel.Category' as categorical\n",
      "Trying to set attribute `.obs` of view, copying.\n",
      "... storing 'ProMono-like-Rel.Category' as categorical\n",
      "Trying to set attribute `.obs` of view, copying.\n",
      "... storing 'cDC-like-Rel.Category' as categorical\n",
      "Trying to set attribute `.obs` of view, copying.\n",
      "... storing 'Treatment' as categorical\n"
     ]
    }
   ],
   "source": [
    "df = get_scores(df, dat, classification = 'Treatment', cluster_A = 'HA', cluster_B = 'Control', cohort = 'THP-1', drug = 'HA', target = 'MYB')"
   ]
  },
  {
   "cell_type": "markdown",
   "metadata": {},
   "source": [
    "## PRMT5 EZH2 GSK"
   ]
  },
  {
   "cell_type": "code",
   "execution_count": 144,
   "metadata": {},
   "outputs": [],
   "source": [
    "dat = load_fractions(\"Data/Datasets/Cell Lines/CIBERSORTx_PRMT5_EZH2_Results.csv\")\n",
    "dat.X = (dat.X.transpose() / dat.X.sum(axis=1)).transpose()\n",
    "dat.obs['Treatment'] = [x[0] for x in dat.obs.index.str.split('_')]\n",
    "dat.obs['Treatment'] = dat.obs['Treatment'].str.replace('DMSO', 'Control')"
   ]
  },
  {
   "cell_type": "code",
   "execution_count": 145,
   "metadata": {},
   "outputs": [],
   "source": [
    "newdat = dat.to_df()\n",
    "newdat['PC2'] = (dat.to_df() * PC2_loadings).sum(axis=1)\n",
    "dat = ad.AnnData(newdat, dat.obs)\n",
    "del(newdat)"
   ]
  },
  {
   "cell_type": "code",
   "execution_count": 146,
   "metadata": {},
   "outputs": [
    {
     "name": "stderr",
     "output_type": "stream",
     "text": [
      "Trying to set attribute `.obs` of view, copying.\n",
      "... storing 'GMP-like-Abs.Category' as categorical\n",
      "Trying to set attribute `.obs` of view, copying.\n",
      "... storing 'LSPC-Cycle-Abs.Category' as categorical\n",
      "Trying to set attribute `.obs` of view, copying.\n",
      "... storing 'LSPC-Primed-Abs.Category' as categorical\n",
      "Trying to set attribute `.obs` of view, copying.\n",
      "... storing 'LSPC-Quiescent-Abs.Category' as categorical\n",
      "Trying to set attribute `.obs` of view, copying.\n",
      "... storing 'Mono-like-Abs.Category' as categorical\n",
      "Trying to set attribute `.obs` of view, copying.\n",
      "... storing 'ProMono-like-Abs.Category' as categorical\n",
      "Trying to set attribute `.obs` of view, copying.\n",
      "... storing 'cDC-like-Abs.Category' as categorical\n",
      "Trying to set attribute `.obs` of view, copying.\n",
      "... storing 'GMP-like-Rel.Category' as categorical\n",
      "Trying to set attribute `.obs` of view, copying.\n",
      "... storing 'LSPC-Cycle-Rel.Category' as categorical\n",
      "Trying to set attribute `.obs` of view, copying.\n",
      "... storing 'LSPC-Primed-Rel.Category' as categorical\n",
      "Trying to set attribute `.obs` of view, copying.\n",
      "... storing 'LSPC-Quiescent-Rel.Category' as categorical\n",
      "Trying to set attribute `.obs` of view, copying.\n",
      "... storing 'Mono-like-Rel.Category' as categorical\n",
      "Trying to set attribute `.obs` of view, copying.\n",
      "... storing 'ProMono-like-Rel.Category' as categorical\n",
      "Trying to set attribute `.obs` of view, copying.\n",
      "... storing 'cDC-like-Rel.Category' as categorical\n",
      "Trying to set attribute `.obs` of view, copying.\n",
      "... storing 'Treatment' as categorical\n"
     ]
    }
   ],
   "source": [
    "df = get_scores(df, dat, classification = 'Treatment', cluster_A = 'GSK3186000A', cluster_B = 'Control', cohort = 'MOLM-13', drug = 'GSK3186000A', target = 'PRMT5')"
   ]
  },
  {
   "cell_type": "code",
   "execution_count": 147,
   "metadata": {},
   "outputs": [
    {
     "name": "stderr",
     "output_type": "stream",
     "text": [
      "Trying to set attribute `.obs` of view, copying.\n",
      "... storing 'GMP-like-Abs.Category' as categorical\n",
      "Trying to set attribute `.obs` of view, copying.\n",
      "... storing 'LSPC-Cycle-Abs.Category' as categorical\n",
      "Trying to set attribute `.obs` of view, copying.\n",
      "... storing 'LSPC-Primed-Abs.Category' as categorical\n",
      "Trying to set attribute `.obs` of view, copying.\n",
      "... storing 'LSPC-Quiescent-Abs.Category' as categorical\n",
      "Trying to set attribute `.obs` of view, copying.\n",
      "... storing 'Mono-like-Abs.Category' as categorical\n",
      "Trying to set attribute `.obs` of view, copying.\n",
      "... storing 'ProMono-like-Abs.Category' as categorical\n",
      "Trying to set attribute `.obs` of view, copying.\n",
      "... storing 'cDC-like-Abs.Category' as categorical\n",
      "Trying to set attribute `.obs` of view, copying.\n",
      "... storing 'GMP-like-Rel.Category' as categorical\n",
      "Trying to set attribute `.obs` of view, copying.\n",
      "... storing 'LSPC-Cycle-Rel.Category' as categorical\n",
      "Trying to set attribute `.obs` of view, copying.\n",
      "... storing 'LSPC-Primed-Rel.Category' as categorical\n",
      "Trying to set attribute `.obs` of view, copying.\n",
      "... storing 'LSPC-Quiescent-Rel.Category' as categorical\n",
      "Trying to set attribute `.obs` of view, copying.\n",
      "... storing 'Mono-like-Rel.Category' as categorical\n",
      "Trying to set attribute `.obs` of view, copying.\n",
      "... storing 'ProMono-like-Rel.Category' as categorical\n",
      "Trying to set attribute `.obs` of view, copying.\n",
      "... storing 'cDC-like-Rel.Category' as categorical\n",
      "Trying to set attribute `.obs` of view, copying.\n",
      "... storing 'Treatment' as categorical\n"
     ]
    }
   ],
   "source": [
    "df = get_scores(df, dat, classification = 'Treatment', cluster_A = 'GSK343', cluster_B = 'Control', cohort = 'MOLM-13', drug = 'GSK343', target = 'EZH2')"
   ]
  },
  {
   "cell_type": "code",
   "execution_count": 148,
   "metadata": {},
   "outputs": [
    {
     "name": "stderr",
     "output_type": "stream",
     "text": [
      "Trying to set attribute `.obs` of view, copying.\n",
      "... storing 'GMP-like-Abs.Category' as categorical\n",
      "Trying to set attribute `.obs` of view, copying.\n",
      "... storing 'LSPC-Cycle-Abs.Category' as categorical\n",
      "Trying to set attribute `.obs` of view, copying.\n",
      "... storing 'LSPC-Primed-Abs.Category' as categorical\n",
      "Trying to set attribute `.obs` of view, copying.\n",
      "... storing 'LSPC-Quiescent-Abs.Category' as categorical\n",
      "Trying to set attribute `.obs` of view, copying.\n",
      "... storing 'Mono-like-Abs.Category' as categorical\n",
      "Trying to set attribute `.obs` of view, copying.\n",
      "... storing 'ProMono-like-Abs.Category' as categorical\n",
      "Trying to set attribute `.obs` of view, copying.\n",
      "... storing 'cDC-like-Abs.Category' as categorical\n",
      "Trying to set attribute `.obs` of view, copying.\n",
      "... storing 'GMP-like-Rel.Category' as categorical\n",
      "Trying to set attribute `.obs` of view, copying.\n",
      "... storing 'LSPC-Cycle-Rel.Category' as categorical\n",
      "Trying to set attribute `.obs` of view, copying.\n",
      "... storing 'LSPC-Primed-Rel.Category' as categorical\n",
      "Trying to set attribute `.obs` of view, copying.\n",
      "... storing 'LSPC-Quiescent-Rel.Category' as categorical\n",
      "Trying to set attribute `.obs` of view, copying.\n",
      "... storing 'Mono-like-Rel.Category' as categorical\n",
      "Trying to set attribute `.obs` of view, copying.\n",
      "... storing 'ProMono-like-Rel.Category' as categorical\n",
      "Trying to set attribute `.obs` of view, copying.\n",
      "... storing 'cDC-like-Rel.Category' as categorical\n",
      "Trying to set attribute `.obs` of view, copying.\n",
      "... storing 'Treatment' as categorical\n"
     ]
    }
   ],
   "source": [
    "df = get_scores(df, dat, classification = 'Treatment', cluster_A = 'GSK3186000A+GSK343', cluster_B = 'Control', cohort = 'MOLM-13', drug = 'GSK3186000A+GSK343', target = 'PRMT5 + EZH2')"
   ]
  },
  {
   "cell_type": "markdown",
   "metadata": {},
   "source": [
    "## HDAC ATRA TSA"
   ]
  },
  {
   "cell_type": "code",
   "execution_count": 149,
   "metadata": {},
   "outputs": [
    {
     "name": "stderr",
     "output_type": "stream",
     "text": [
      "Trying to set attribute `.obs` of view, copying.\n"
     ]
    }
   ],
   "source": [
    "dat = load_fractions(\"Data/Datasets/Cell Lines/CIBERSORTx_HDAC_Results.csv\")\n",
    "dat = dat[:12]\n",
    "dat.X = (dat.X.transpose() / dat.X.sum(axis=1)).transpose()\n",
    "dat.obs['Treatment'] = [x[1] for x in dat.obs.index.str.split('_')]\n",
    "dat.obs['Treatment'] = dat.obs['Treatment'].str.replace('DMSO', 'Control')"
   ]
  },
  {
   "cell_type": "code",
   "execution_count": 150,
   "metadata": {},
   "outputs": [],
   "source": [
    "newdat = dat.to_df()\n",
    "newdat['PC2'] = (dat.to_df() * PC2_loadings).sum(axis=1)\n",
    "dat = ad.AnnData(newdat, dat.obs)\n",
    "del(newdat)"
   ]
  },
  {
   "cell_type": "code",
   "execution_count": 151,
   "metadata": {},
   "outputs": [
    {
     "name": "stderr",
     "output_type": "stream",
     "text": [
      "Trying to set attribute `.obs` of view, copying.\n",
      "... storing 'GMP-like-Abs.Category' as categorical\n",
      "Trying to set attribute `.obs` of view, copying.\n",
      "... storing 'LSPC-Cycle-Abs.Category' as categorical\n",
      "Trying to set attribute `.obs` of view, copying.\n",
      "... storing 'LSPC-Primed-Abs.Category' as categorical\n",
      "Trying to set attribute `.obs` of view, copying.\n",
      "... storing 'LSPC-Quiescent-Abs.Category' as categorical\n",
      "Trying to set attribute `.obs` of view, copying.\n",
      "... storing 'Mono-like-Abs.Category' as categorical\n",
      "Trying to set attribute `.obs` of view, copying.\n",
      "... storing 'ProMono-like-Abs.Category' as categorical\n",
      "Trying to set attribute `.obs` of view, copying.\n",
      "... storing 'cDC-like-Abs.Category' as categorical\n",
      "Trying to set attribute `.obs` of view, copying.\n",
      "... storing 'GMP-like-Rel.Category' as categorical\n",
      "Trying to set attribute `.obs` of view, copying.\n",
      "... storing 'LSPC-Cycle-Rel.Category' as categorical\n",
      "Trying to set attribute `.obs` of view, copying.\n",
      "... storing 'LSPC-Primed-Rel.Category' as categorical\n",
      "Trying to set attribute `.obs` of view, copying.\n",
      "... storing 'LSPC-Quiescent-Rel.Category' as categorical\n",
      "Trying to set attribute `.obs` of view, copying.\n",
      "... storing 'Mono-like-Rel.Category' as categorical\n",
      "Trying to set attribute `.obs` of view, copying.\n",
      "... storing 'ProMono-like-Rel.Category' as categorical\n",
      "Trying to set attribute `.obs` of view, copying.\n",
      "... storing 'cDC-like-Rel.Category' as categorical\n",
      "Trying to set attribute `.obs` of view, copying.\n",
      "... storing 'Treatment' as categorical\n"
     ]
    }
   ],
   "source": [
    "df = get_scores(df, dat, classification = 'Treatment', cluster_A = 'ATRA', cluster_B = 'Control', cohort = 'AP-1060', drug = 'ATRA', target = 'RARA')"
   ]
  },
  {
   "cell_type": "code",
   "execution_count": 152,
   "metadata": {},
   "outputs": [
    {
     "name": "stderr",
     "output_type": "stream",
     "text": [
      "Trying to set attribute `.obs` of view, copying.\n",
      "... storing 'GMP-like-Abs.Category' as categorical\n",
      "Trying to set attribute `.obs` of view, copying.\n",
      "... storing 'LSPC-Cycle-Abs.Category' as categorical\n",
      "Trying to set attribute `.obs` of view, copying.\n",
      "... storing 'LSPC-Primed-Abs.Category' as categorical\n",
      "Trying to set attribute `.obs` of view, copying.\n",
      "... storing 'LSPC-Quiescent-Abs.Category' as categorical\n",
      "Trying to set attribute `.obs` of view, copying.\n",
      "... storing 'Mono-like-Abs.Category' as categorical\n",
      "Trying to set attribute `.obs` of view, copying.\n",
      "... storing 'ProMono-like-Abs.Category' as categorical\n",
      "Trying to set attribute `.obs` of view, copying.\n",
      "... storing 'cDC-like-Abs.Category' as categorical\n",
      "Trying to set attribute `.obs` of view, copying.\n",
      "... storing 'GMP-like-Rel.Category' as categorical\n",
      "Trying to set attribute `.obs` of view, copying.\n",
      "... storing 'LSPC-Cycle-Rel.Category' as categorical\n",
      "Trying to set attribute `.obs` of view, copying.\n",
      "... storing 'LSPC-Primed-Rel.Category' as categorical\n",
      "Trying to set attribute `.obs` of view, copying.\n",
      "... storing 'LSPC-Quiescent-Rel.Category' as categorical\n",
      "Trying to set attribute `.obs` of view, copying.\n",
      "... storing 'Mono-like-Rel.Category' as categorical\n",
      "Trying to set attribute `.obs` of view, copying.\n",
      "... storing 'ProMono-like-Rel.Category' as categorical\n",
      "Trying to set attribute `.obs` of view, copying.\n",
      "... storing 'cDC-like-Rel.Category' as categorical\n",
      "Trying to set attribute `.obs` of view, copying.\n",
      "... storing 'Treatment' as categorical\n"
     ]
    }
   ],
   "source": [
    "df = get_scores(df, dat, classification = 'Treatment', cluster_A = 'TSA', cluster_B = 'Control', cohort = 'AP-1060', drug = 'TSA', target = 'HDAC')"
   ]
  },
  {
   "cell_type": "code",
   "execution_count": 153,
   "metadata": {},
   "outputs": [
    {
     "name": "stderr",
     "output_type": "stream",
     "text": [
      "Trying to set attribute `.obs` of view, copying.\n",
      "... storing 'GMP-like-Abs.Category' as categorical\n",
      "Trying to set attribute `.obs` of view, copying.\n",
      "... storing 'LSPC-Cycle-Abs.Category' as categorical\n",
      "Trying to set attribute `.obs` of view, copying.\n",
      "... storing 'LSPC-Primed-Abs.Category' as categorical\n",
      "Trying to set attribute `.obs` of view, copying.\n",
      "... storing 'LSPC-Quiescent-Abs.Category' as categorical\n",
      "Trying to set attribute `.obs` of view, copying.\n",
      "... storing 'Mono-like-Abs.Category' as categorical\n",
      "Trying to set attribute `.obs` of view, copying.\n",
      "... storing 'ProMono-like-Abs.Category' as categorical\n",
      "Trying to set attribute `.obs` of view, copying.\n",
      "... storing 'cDC-like-Abs.Category' as categorical\n",
      "Trying to set attribute `.obs` of view, copying.\n",
      "... storing 'GMP-like-Rel.Category' as categorical\n",
      "Trying to set attribute `.obs` of view, copying.\n",
      "... storing 'LSPC-Cycle-Rel.Category' as categorical\n",
      "Trying to set attribute `.obs` of view, copying.\n",
      "... storing 'LSPC-Primed-Rel.Category' as categorical\n",
      "Trying to set attribute `.obs` of view, copying.\n",
      "... storing 'LSPC-Quiescent-Rel.Category' as categorical\n",
      "Trying to set attribute `.obs` of view, copying.\n",
      "... storing 'Mono-like-Rel.Category' as categorical\n",
      "Trying to set attribute `.obs` of view, copying.\n",
      "... storing 'ProMono-like-Rel.Category' as categorical\n",
      "Trying to set attribute `.obs` of view, copying.\n",
      "... storing 'cDC-like-Rel.Category' as categorical\n",
      "Trying to set attribute `.obs` of view, copying.\n",
      "... storing 'Treatment' as categorical\n"
     ]
    }
   ],
   "source": [
    "df = get_scores(df, dat, classification = 'Treatment', cluster_A = 'ATRA+TSA', cluster_B = 'Control', cohort = 'AP-1060', drug = 'ATRA + TSA', target = 'RARA + HDAC')"
   ]
  },
  {
   "cell_type": "code",
   "execution_count": 154,
   "metadata": {},
   "outputs": [
    {
     "name": "stderr",
     "output_type": "stream",
     "text": [
      "Trying to set attribute `.obs` of view, copying.\n"
     ]
    }
   ],
   "source": [
    "dat = load_fractions(\"Data/Datasets/Cell Lines/CIBERSORTx_HDAC_Results.csv\")\n",
    "dat = dat[12:24]\n",
    "dat.X = (dat.X.transpose() / dat.X.sum(axis=1)).transpose()\n",
    "dat.obs['Treatment'] = [x[1] for x in dat.obs.index.str.split('_')]\n",
    "dat.obs['Treatment'] = dat.obs['Treatment'].str.replace('DMSO', 'Control')"
   ]
  },
  {
   "cell_type": "code",
   "execution_count": 155,
   "metadata": {},
   "outputs": [],
   "source": [
    "newdat = dat.to_df()\n",
    "newdat['PC2'] = (dat.to_df() * PC2_loadings).sum(axis=1)\n",
    "dat = ad.AnnData(newdat, dat.obs)\n",
    "del(newdat)"
   ]
  },
  {
   "cell_type": "code",
   "execution_count": 156,
   "metadata": {},
   "outputs": [
    {
     "name": "stderr",
     "output_type": "stream",
     "text": [
      "Trying to set attribute `.obs` of view, copying.\n",
      "... storing 'GMP-like-Abs.Category' as categorical\n",
      "Trying to set attribute `.obs` of view, copying.\n",
      "... storing 'LSPC-Cycle-Abs.Category' as categorical\n",
      "Trying to set attribute `.obs` of view, copying.\n",
      "... storing 'LSPC-Primed-Abs.Category' as categorical\n",
      "Trying to set attribute `.obs` of view, copying.\n",
      "... storing 'LSPC-Quiescent-Abs.Category' as categorical\n",
      "Trying to set attribute `.obs` of view, copying.\n",
      "... storing 'Mono-like-Abs.Category' as categorical\n",
      "Trying to set attribute `.obs` of view, copying.\n",
      "... storing 'ProMono-like-Abs.Category' as categorical\n",
      "Trying to set attribute `.obs` of view, copying.\n",
      "... storing 'cDC-like-Abs.Category' as categorical\n",
      "Trying to set attribute `.obs` of view, copying.\n",
      "... storing 'GMP-like-Rel.Category' as categorical\n",
      "Trying to set attribute `.obs` of view, copying.\n",
      "... storing 'LSPC-Cycle-Rel.Category' as categorical\n",
      "Trying to set attribute `.obs` of view, copying.\n",
      "... storing 'LSPC-Primed-Rel.Category' as categorical\n",
      "Trying to set attribute `.obs` of view, copying.\n",
      "... storing 'LSPC-Quiescent-Rel.Category' as categorical\n",
      "Trying to set attribute `.obs` of view, copying.\n",
      "... storing 'Mono-like-Rel.Category' as categorical\n",
      "Trying to set attribute `.obs` of view, copying.\n",
      "... storing 'ProMono-like-Rel.Category' as categorical\n",
      "Trying to set attribute `.obs` of view, copying.\n",
      "... storing 'cDC-like-Rel.Category' as categorical\n",
      "Trying to set attribute `.obs` of view, copying.\n",
      "... storing 'Treatment' as categorical\n"
     ]
    }
   ],
   "source": [
    "df = get_scores(df, dat, classification = 'Treatment', cluster_A = 'ATRA', cluster_B = 'Control', cohort = 'HL60', drug = 'ATRA', target = 'RARA')"
   ]
  },
  {
   "cell_type": "code",
   "execution_count": 157,
   "metadata": {},
   "outputs": [
    {
     "name": "stderr",
     "output_type": "stream",
     "text": [
      "Trying to set attribute `.obs` of view, copying.\n",
      "... storing 'GMP-like-Abs.Category' as categorical\n",
      "Trying to set attribute `.obs` of view, copying.\n",
      "... storing 'LSPC-Cycle-Abs.Category' as categorical\n",
      "Trying to set attribute `.obs` of view, copying.\n",
      "... storing 'LSPC-Primed-Abs.Category' as categorical\n",
      "Trying to set attribute `.obs` of view, copying.\n",
      "... storing 'LSPC-Quiescent-Abs.Category' as categorical\n",
      "Trying to set attribute `.obs` of view, copying.\n",
      "... storing 'Mono-like-Abs.Category' as categorical\n",
      "Trying to set attribute `.obs` of view, copying.\n",
      "... storing 'ProMono-like-Abs.Category' as categorical\n",
      "Trying to set attribute `.obs` of view, copying.\n",
      "... storing 'cDC-like-Abs.Category' as categorical\n",
      "Trying to set attribute `.obs` of view, copying.\n",
      "... storing 'GMP-like-Rel.Category' as categorical\n",
      "Trying to set attribute `.obs` of view, copying.\n",
      "... storing 'LSPC-Cycle-Rel.Category' as categorical\n",
      "Trying to set attribute `.obs` of view, copying.\n",
      "... storing 'LSPC-Primed-Rel.Category' as categorical\n",
      "Trying to set attribute `.obs` of view, copying.\n",
      "... storing 'LSPC-Quiescent-Rel.Category' as categorical\n",
      "Trying to set attribute `.obs` of view, copying.\n",
      "... storing 'Mono-like-Rel.Category' as categorical\n",
      "Trying to set attribute `.obs` of view, copying.\n",
      "... storing 'ProMono-like-Rel.Category' as categorical\n",
      "Trying to set attribute `.obs` of view, copying.\n",
      "... storing 'cDC-like-Rel.Category' as categorical\n",
      "Trying to set attribute `.obs` of view, copying.\n",
      "... storing 'Treatment' as categorical\n"
     ]
    }
   ],
   "source": [
    "df = get_scores(df, dat, classification = 'Treatment', cluster_A = 'TSA', cluster_B = 'Control', cohort = 'HL60', drug = 'TSA', target = 'HDAC')"
   ]
  },
  {
   "cell_type": "code",
   "execution_count": 158,
   "metadata": {},
   "outputs": [
    {
     "name": "stderr",
     "output_type": "stream",
     "text": [
      "Trying to set attribute `.obs` of view, copying.\n",
      "... storing 'GMP-like-Abs.Category' as categorical\n",
      "Trying to set attribute `.obs` of view, copying.\n",
      "... storing 'LSPC-Cycle-Abs.Category' as categorical\n",
      "Trying to set attribute `.obs` of view, copying.\n",
      "... storing 'LSPC-Primed-Abs.Category' as categorical\n",
      "Trying to set attribute `.obs` of view, copying.\n",
      "... storing 'LSPC-Quiescent-Abs.Category' as categorical\n",
      "Trying to set attribute `.obs` of view, copying.\n",
      "... storing 'Mono-like-Abs.Category' as categorical\n",
      "Trying to set attribute `.obs` of view, copying.\n",
      "... storing 'ProMono-like-Abs.Category' as categorical\n",
      "Trying to set attribute `.obs` of view, copying.\n",
      "... storing 'cDC-like-Abs.Category' as categorical\n",
      "Trying to set attribute `.obs` of view, copying.\n",
      "... storing 'GMP-like-Rel.Category' as categorical\n",
      "Trying to set attribute `.obs` of view, copying.\n",
      "... storing 'LSPC-Cycle-Rel.Category' as categorical\n",
      "Trying to set attribute `.obs` of view, copying.\n",
      "... storing 'LSPC-Primed-Rel.Category' as categorical\n",
      "Trying to set attribute `.obs` of view, copying.\n",
      "... storing 'LSPC-Quiescent-Rel.Category' as categorical\n",
      "Trying to set attribute `.obs` of view, copying.\n",
      "... storing 'Mono-like-Rel.Category' as categorical\n",
      "Trying to set attribute `.obs` of view, copying.\n",
      "... storing 'ProMono-like-Rel.Category' as categorical\n",
      "Trying to set attribute `.obs` of view, copying.\n",
      "... storing 'cDC-like-Rel.Category' as categorical\n",
      "Trying to set attribute `.obs` of view, copying.\n",
      "... storing 'Treatment' as categorical\n"
     ]
    }
   ],
   "source": [
    "df = get_scores(df, dat, classification = 'Treatment', cluster_A = 'ATRA+TSA', cluster_B = 'Control', cohort = 'HL60', drug = 'ATRA + TSA', target = 'RARA + HDAC')"
   ]
  },
  {
   "cell_type": "code",
   "execution_count": 159,
   "metadata": {},
   "outputs": [
    {
     "name": "stderr",
     "output_type": "stream",
     "text": [
      "Trying to set attribute `.obs` of view, copying.\n"
     ]
    }
   ],
   "source": [
    "dat = load_fractions(\"Data/Datasets/Cell Lines/CIBERSORTx_HDAC_Results.csv\")\n",
    "dat = dat[24:]\n",
    "dat.X = (dat.X.transpose() / dat.X.sum(axis=1)).transpose()\n",
    "dat.obs['Treatment'] = [x[1] for x in dat.obs.index.str.split('_')]\n",
    "dat.obs['Treatment'] = dat.obs['Treatment'].str.replace('DMSO', 'Control')"
   ]
  },
  {
   "cell_type": "code",
   "execution_count": 160,
   "metadata": {},
   "outputs": [],
   "source": [
    "newdat = dat.to_df()\n",
    "newdat['PC2'] = (dat.to_df() * PC2_loadings).sum(axis=1)\n",
    "dat = ad.AnnData(newdat, dat.obs)\n",
    "del(newdat)"
   ]
  },
  {
   "cell_type": "code",
   "execution_count": 161,
   "metadata": {},
   "outputs": [
    {
     "name": "stderr",
     "output_type": "stream",
     "text": [
      "Trying to set attribute `.obs` of view, copying.\n",
      "... storing 'GMP-like-Abs.Category' as categorical\n",
      "Trying to set attribute `.obs` of view, copying.\n",
      "... storing 'LSPC-Cycle-Abs.Category' as categorical\n",
      "Trying to set attribute `.obs` of view, copying.\n",
      "... storing 'LSPC-Primed-Abs.Category' as categorical\n",
      "Trying to set attribute `.obs` of view, copying.\n",
      "... storing 'LSPC-Quiescent-Abs.Category' as categorical\n",
      "Trying to set attribute `.obs` of view, copying.\n",
      "... storing 'Mono-like-Abs.Category' as categorical\n",
      "Trying to set attribute `.obs` of view, copying.\n",
      "... storing 'ProMono-like-Abs.Category' as categorical\n",
      "Trying to set attribute `.obs` of view, copying.\n",
      "... storing 'cDC-like-Abs.Category' as categorical\n",
      "Trying to set attribute `.obs` of view, copying.\n",
      "... storing 'GMP-like-Rel.Category' as categorical\n",
      "Trying to set attribute `.obs` of view, copying.\n",
      "... storing 'LSPC-Cycle-Rel.Category' as categorical\n",
      "Trying to set attribute `.obs` of view, copying.\n",
      "... storing 'LSPC-Primed-Rel.Category' as categorical\n",
      "Trying to set attribute `.obs` of view, copying.\n",
      "... storing 'LSPC-Quiescent-Rel.Category' as categorical\n",
      "Trying to set attribute `.obs` of view, copying.\n",
      "... storing 'Mono-like-Rel.Category' as categorical\n",
      "Trying to set attribute `.obs` of view, copying.\n",
      "... storing 'ProMono-like-Rel.Category' as categorical\n",
      "Trying to set attribute `.obs` of view, copying.\n",
      "... storing 'cDC-like-Rel.Category' as categorical\n",
      "Trying to set attribute `.obs` of view, copying.\n",
      "... storing 'Treatment' as categorical\n"
     ]
    }
   ],
   "source": [
    "df = get_scores(df, dat, classification = 'Treatment', cluster_A = 'ATRA', cluster_B = 'Control', cohort = 'NB-4', drug = 'ATRA', target = 'RARA')"
   ]
  },
  {
   "cell_type": "code",
   "execution_count": 162,
   "metadata": {},
   "outputs": [
    {
     "name": "stderr",
     "output_type": "stream",
     "text": [
      "Trying to set attribute `.obs` of view, copying.\n",
      "... storing 'GMP-like-Abs.Category' as categorical\n",
      "Trying to set attribute `.obs` of view, copying.\n",
      "... storing 'LSPC-Cycle-Abs.Category' as categorical\n",
      "Trying to set attribute `.obs` of view, copying.\n",
      "... storing 'LSPC-Primed-Abs.Category' as categorical\n",
      "Trying to set attribute `.obs` of view, copying.\n",
      "... storing 'LSPC-Quiescent-Abs.Category' as categorical\n",
      "Trying to set attribute `.obs` of view, copying.\n",
      "... storing 'Mono-like-Abs.Category' as categorical\n",
      "Trying to set attribute `.obs` of view, copying.\n",
      "... storing 'ProMono-like-Abs.Category' as categorical\n",
      "Trying to set attribute `.obs` of view, copying.\n",
      "... storing 'cDC-like-Abs.Category' as categorical\n",
      "Trying to set attribute `.obs` of view, copying.\n",
      "... storing 'GMP-like-Rel.Category' as categorical\n",
      "Trying to set attribute `.obs` of view, copying.\n",
      "... storing 'LSPC-Cycle-Rel.Category' as categorical\n",
      "Trying to set attribute `.obs` of view, copying.\n",
      "... storing 'LSPC-Primed-Rel.Category' as categorical\n",
      "Trying to set attribute `.obs` of view, copying.\n",
      "... storing 'LSPC-Quiescent-Rel.Category' as categorical\n",
      "Trying to set attribute `.obs` of view, copying.\n",
      "... storing 'Mono-like-Rel.Category' as categorical\n",
      "Trying to set attribute `.obs` of view, copying.\n",
      "... storing 'ProMono-like-Rel.Category' as categorical\n",
      "Trying to set attribute `.obs` of view, copying.\n",
      "... storing 'cDC-like-Rel.Category' as categorical\n",
      "Trying to set attribute `.obs` of view, copying.\n",
      "... storing 'Treatment' as categorical\n"
     ]
    }
   ],
   "source": [
    "df = get_scores(df, dat, classification = 'Treatment', cluster_A = 'TSA', cluster_B = 'Control', cohort = 'NB-4', drug = 'TSA', target = 'HDAC')"
   ]
  },
  {
   "cell_type": "code",
   "execution_count": 163,
   "metadata": {},
   "outputs": [
    {
     "name": "stderr",
     "output_type": "stream",
     "text": [
      "Trying to set attribute `.obs` of view, copying.\n",
      "... storing 'GMP-like-Abs.Category' as categorical\n",
      "Trying to set attribute `.obs` of view, copying.\n",
      "... storing 'LSPC-Cycle-Abs.Category' as categorical\n",
      "Trying to set attribute `.obs` of view, copying.\n",
      "... storing 'LSPC-Primed-Abs.Category' as categorical\n",
      "Trying to set attribute `.obs` of view, copying.\n",
      "... storing 'LSPC-Quiescent-Abs.Category' as categorical\n",
      "Trying to set attribute `.obs` of view, copying.\n",
      "... storing 'Mono-like-Abs.Category' as categorical\n",
      "Trying to set attribute `.obs` of view, copying.\n",
      "... storing 'ProMono-like-Abs.Category' as categorical\n",
      "Trying to set attribute `.obs` of view, copying.\n",
      "... storing 'cDC-like-Abs.Category' as categorical\n",
      "Trying to set attribute `.obs` of view, copying.\n",
      "... storing 'GMP-like-Rel.Category' as categorical\n",
      "Trying to set attribute `.obs` of view, copying.\n",
      "... storing 'LSPC-Cycle-Rel.Category' as categorical\n",
      "Trying to set attribute `.obs` of view, copying.\n",
      "... storing 'LSPC-Primed-Rel.Category' as categorical\n",
      "Trying to set attribute `.obs` of view, copying.\n",
      "... storing 'LSPC-Quiescent-Rel.Category' as categorical\n",
      "Trying to set attribute `.obs` of view, copying.\n",
      "... storing 'Mono-like-Rel.Category' as categorical\n",
      "Trying to set attribute `.obs` of view, copying.\n",
      "... storing 'ProMono-like-Rel.Category' as categorical\n",
      "Trying to set attribute `.obs` of view, copying.\n",
      "... storing 'cDC-like-Rel.Category' as categorical\n",
      "Trying to set attribute `.obs` of view, copying.\n",
      "... storing 'Treatment' as categorical\n"
     ]
    }
   ],
   "source": [
    "df = get_scores(df, dat, classification = 'Treatment', cluster_A = 'ATRA+TSA', cluster_B = 'Control', cohort = 'NB-4', drug = 'ATRA + TSA', target = 'RARA + HDAC')"
   ]
  },
  {
   "cell_type": "markdown",
   "metadata": {},
   "source": [
    "## EZH UNC1999"
   ]
  },
  {
   "cell_type": "code",
   "execution_count": 164,
   "metadata": {},
   "outputs": [],
   "source": [
    "dat = load_fractions(\"Data/Datasets/Cell Lines/CIBERSORTx_EZH_Results.csv\")\n",
    "dat.X = (dat.X.transpose() / dat.X.sum(axis=1)).transpose()\n",
    "dat.obs['Treatment'] = [x[1] for x in dat.obs.index.str.split('_')]\n",
    "dat.obs['Treatment'] = dat.obs['Treatment'].str.replace('DMSO', 'Control')"
   ]
  },
  {
   "cell_type": "code",
   "execution_count": 165,
   "metadata": {},
   "outputs": [],
   "source": [
    "newdat = dat.to_df()\n",
    "newdat['PC2'] = (dat.to_df() * PC2_loadings).sum(axis=1)\n",
    "dat = ad.AnnData(newdat, dat.obs)\n",
    "del(newdat)"
   ]
  },
  {
   "cell_type": "code",
   "execution_count": 166,
   "metadata": {},
   "outputs": [
    {
     "name": "stderr",
     "output_type": "stream",
     "text": [
      "Trying to set attribute `.obs` of view, copying.\n",
      "... storing 'GMP-like-Abs.Category' as categorical\n",
      "Trying to set attribute `.obs` of view, copying.\n",
      "... storing 'LSPC-Cycle-Abs.Category' as categorical\n",
      "Trying to set attribute `.obs` of view, copying.\n",
      "... storing 'LSPC-Primed-Abs.Category' as categorical\n",
      "Trying to set attribute `.obs` of view, copying.\n",
      "... storing 'LSPC-Quiescent-Abs.Category' as categorical\n",
      "Trying to set attribute `.obs` of view, copying.\n",
      "... storing 'Mono-like-Abs.Category' as categorical\n",
      "Trying to set attribute `.obs` of view, copying.\n",
      "... storing 'ProMono-like-Abs.Category' as categorical\n",
      "Trying to set attribute `.obs` of view, copying.\n",
      "... storing 'cDC-like-Abs.Category' as categorical\n",
      "Trying to set attribute `.obs` of view, copying.\n",
      "... storing 'GMP-like-Rel.Category' as categorical\n",
      "Trying to set attribute `.obs` of view, copying.\n",
      "... storing 'LSPC-Cycle-Rel.Category' as categorical\n",
      "Trying to set attribute `.obs` of view, copying.\n",
      "... storing 'LSPC-Primed-Rel.Category' as categorical\n",
      "Trying to set attribute `.obs` of view, copying.\n",
      "... storing 'LSPC-Quiescent-Rel.Category' as categorical\n",
      "Trying to set attribute `.obs` of view, copying.\n",
      "... storing 'Mono-like-Rel.Category' as categorical\n",
      "Trying to set attribute `.obs` of view, copying.\n",
      "... storing 'ProMono-like-Rel.Category' as categorical\n",
      "Trying to set attribute `.obs` of view, copying.\n",
      "... storing 'cDC-like-Rel.Category' as categorical\n",
      "Trying to set attribute `.obs` of view, copying.\n",
      "... storing 'Treatment' as categorical\n"
     ]
    }
   ],
   "source": [
    "df = get_scores(df, dat, classification = 'Treatment', cluster_A = 'UNC1999', cluster_B = 'Control', cohort = 'OCI-AML3', drug = 'UNC1999', target = 'EZH2/EZH1')"
   ]
  },
  {
   "cell_type": "markdown",
   "metadata": {},
   "source": [
    "## TOPO II Etoposide"
   ]
  },
  {
   "cell_type": "code",
   "execution_count": 167,
   "metadata": {},
   "outputs": [
    {
     "name": "stderr",
     "output_type": "stream",
     "text": [
      "Trying to set attribute `.obs` of view, copying.\n"
     ]
    }
   ],
   "source": [
    "dat = load_fractions(\"Data/Datasets/Cell Lines/CIBERSORTx_TOPOII_Results.csv\")\n",
    "dat_F36P = dat[:6]\n",
    "dat_F36P.X = (dat_F36P.X.transpose() / dat_F36P.X.sum(axis=1)).transpose()\n",
    "dat_F36P.obs['Treatment'] = [x[2] for x in dat_F36P.obs.index.str.split('_')]\n",
    "dat_F36P.obs['Treatment'] = dat_F36P.obs['Treatment'].str.replace('VP16','Etoposide').str.replace('CTR', 'Control')"
   ]
  },
  {
   "cell_type": "code",
   "execution_count": 168,
   "metadata": {},
   "outputs": [],
   "source": [
    "newdat = dat_F36P.to_df()\n",
    "newdat['PC2'] = (dat_F36P.to_df() * PC2_loadings).sum(axis=1)\n",
    "dat_F36P = ad.AnnData(newdat, dat_F36P.obs)\n",
    "del(newdat)"
   ]
  },
  {
   "cell_type": "code",
   "execution_count": 169,
   "metadata": {},
   "outputs": [
    {
     "name": "stderr",
     "output_type": "stream",
     "text": [
      "Trying to set attribute `.obs` of view, copying.\n",
      "... storing 'GMP-like-Abs.Category' as categorical\n",
      "Trying to set attribute `.obs` of view, copying.\n",
      "... storing 'LSPC-Cycle-Abs.Category' as categorical\n",
      "Trying to set attribute `.obs` of view, copying.\n",
      "... storing 'LSPC-Primed-Abs.Category' as categorical\n",
      "Trying to set attribute `.obs` of view, copying.\n",
      "... storing 'LSPC-Quiescent-Abs.Category' as categorical\n",
      "Trying to set attribute `.obs` of view, copying.\n",
      "... storing 'Mono-like-Abs.Category' as categorical\n",
      "Trying to set attribute `.obs` of view, copying.\n",
      "... storing 'ProMono-like-Abs.Category' as categorical\n",
      "Trying to set attribute `.obs` of view, copying.\n",
      "... storing 'cDC-like-Abs.Category' as categorical\n",
      "Trying to set attribute `.obs` of view, copying.\n",
      "... storing 'GMP-like-Rel.Category' as categorical\n",
      "Trying to set attribute `.obs` of view, copying.\n",
      "... storing 'LSPC-Cycle-Rel.Category' as categorical\n",
      "Trying to set attribute `.obs` of view, copying.\n",
      "... storing 'LSPC-Primed-Rel.Category' as categorical\n",
      "Trying to set attribute `.obs` of view, copying.\n",
      "... storing 'LSPC-Quiescent-Rel.Category' as categorical\n",
      "Trying to set attribute `.obs` of view, copying.\n",
      "... storing 'Mono-like-Rel.Category' as categorical\n",
      "Trying to set attribute `.obs` of view, copying.\n",
      "... storing 'ProMono-like-Rel.Category' as categorical\n",
      "Trying to set attribute `.obs` of view, copying.\n",
      "... storing 'cDC-like-Rel.Category' as categorical\n",
      "Trying to set attribute `.obs` of view, copying.\n",
      "... storing 'Treatment' as categorical\n"
     ]
    }
   ],
   "source": [
    "df = get_scores(df, dat_F36P, classification = 'Treatment', cluster_A = 'Etoposide', cluster_B = 'Control', cohort = 'F-36P', drug = 'Etoposide', target = 'TOPO II')"
   ]
  },
  {
   "cell_type": "code",
   "execution_count": 170,
   "metadata": {},
   "outputs": [
    {
     "name": "stderr",
     "output_type": "stream",
     "text": [
      "Trying to set attribute `.obs` of view, copying.\n"
     ]
    }
   ],
   "source": [
    "dat = load_fractions(\"Data/Datasets/Cell Lines/CIBERSORTx_TOPOII_Results.csv\")\n",
    "dat_HL60 = dat[6:12]\n",
    "dat_HL60.X = (dat_HL60.X.transpose() / dat_HL60.X.sum(axis=1)).transpose()\n",
    "dat_HL60.obs['Treatment'] = [x[2] for x in dat_HL60.obs.index.str.split('_')]\n",
    "dat_HL60.obs['Treatment'] = dat_HL60.obs['Treatment'].str.replace('VP16','Etoposide').str.replace('CTR', 'Control')"
   ]
  },
  {
   "cell_type": "code",
   "execution_count": 171,
   "metadata": {},
   "outputs": [],
   "source": [
    "newdat = dat_HL60.to_df()\n",
    "newdat['PC2'] = (dat_HL60.to_df() * PC2_loadings).sum(axis=1)\n",
    "dat_HL60 = ad.AnnData(newdat, dat_HL60.obs)\n",
    "del(newdat)"
   ]
  },
  {
   "cell_type": "code",
   "execution_count": 172,
   "metadata": {},
   "outputs": [
    {
     "name": "stderr",
     "output_type": "stream",
     "text": [
      "Trying to set attribute `.obs` of view, copying.\n",
      "... storing 'GMP-like-Abs.Category' as categorical\n",
      "Trying to set attribute `.obs` of view, copying.\n",
      "... storing 'LSPC-Cycle-Abs.Category' as categorical\n",
      "Trying to set attribute `.obs` of view, copying.\n",
      "... storing 'LSPC-Primed-Abs.Category' as categorical\n",
      "Trying to set attribute `.obs` of view, copying.\n",
      "... storing 'LSPC-Quiescent-Abs.Category' as categorical\n",
      "Trying to set attribute `.obs` of view, copying.\n",
      "... storing 'Mono-like-Abs.Category' as categorical\n",
      "Trying to set attribute `.obs` of view, copying.\n",
      "... storing 'ProMono-like-Abs.Category' as categorical\n",
      "Trying to set attribute `.obs` of view, copying.\n",
      "... storing 'cDC-like-Abs.Category' as categorical\n",
      "Trying to set attribute `.obs` of view, copying.\n",
      "... storing 'GMP-like-Rel.Category' as categorical\n",
      "Trying to set attribute `.obs` of view, copying.\n",
      "... storing 'LSPC-Cycle-Rel.Category' as categorical\n",
      "Trying to set attribute `.obs` of view, copying.\n",
      "... storing 'LSPC-Primed-Rel.Category' as categorical\n",
      "Trying to set attribute `.obs` of view, copying.\n",
      "... storing 'LSPC-Quiescent-Rel.Category' as categorical\n",
      "Trying to set attribute `.obs` of view, copying.\n",
      "... storing 'Mono-like-Rel.Category' as categorical\n",
      "Trying to set attribute `.obs` of view, copying.\n",
      "... storing 'ProMono-like-Rel.Category' as categorical\n",
      "Trying to set attribute `.obs` of view, copying.\n",
      "... storing 'cDC-like-Rel.Category' as categorical\n",
      "Trying to set attribute `.obs` of view, copying.\n",
      "... storing 'Treatment' as categorical\n"
     ]
    }
   ],
   "source": [
    "df = get_scores(df, dat_HL60, classification = 'Treatment', cluster_A = 'Etoposide', cluster_B = 'Control', cohort = 'HL-60', drug = 'Etoposide', target = 'TOPO II')"
   ]
  },
  {
   "cell_type": "code",
   "execution_count": 173,
   "metadata": {},
   "outputs": [
    {
     "name": "stderr",
     "output_type": "stream",
     "text": [
      "Trying to set attribute `.obs` of view, copying.\n"
     ]
    }
   ],
   "source": [
    "dat = load_fractions(\"Data/Datasets/Cell Lines/CIBERSORTx_TOPOII_Results.csv\")\n",
    "dat_Kasumi1 = dat[12:18]\n",
    "dat_Kasumi1.X = (dat_Kasumi1.X.transpose() / dat_Kasumi1.X.sum(axis=1)).transpose()\n",
    "dat_Kasumi1.obs['Treatment'] = [x[2] for x in dat_Kasumi1.obs.index.str.split('_')]\n",
    "dat_Kasumi1.obs['Treatment'] = dat_Kasumi1.obs['Treatment'].str.replace('VP16','Etoposide').str.replace('CTR', 'Control')"
   ]
  },
  {
   "cell_type": "code",
   "execution_count": 174,
   "metadata": {},
   "outputs": [],
   "source": [
    "newdat = dat_Kasumi1.to_df()\n",
    "newdat['PC2'] = (dat_Kasumi1.to_df() * PC2_loadings).sum(axis=1)\n",
    "dat_Kasumi1 = ad.AnnData(newdat, dat_Kasumi1.obs)\n",
    "del(newdat)"
   ]
  },
  {
   "cell_type": "code",
   "execution_count": 175,
   "metadata": {},
   "outputs": [
    {
     "name": "stderr",
     "output_type": "stream",
     "text": [
      "Trying to set attribute `.obs` of view, copying.\n",
      "... storing 'GMP-like-Abs.Category' as categorical\n",
      "Trying to set attribute `.obs` of view, copying.\n",
      "... storing 'LSPC-Cycle-Abs.Category' as categorical\n",
      "Trying to set attribute `.obs` of view, copying.\n",
      "... storing 'LSPC-Primed-Abs.Category' as categorical\n",
      "Trying to set attribute `.obs` of view, copying.\n",
      "... storing 'LSPC-Quiescent-Abs.Category' as categorical\n",
      "Trying to set attribute `.obs` of view, copying.\n",
      "... storing 'Mono-like-Abs.Category' as categorical\n",
      "Trying to set attribute `.obs` of view, copying.\n",
      "... storing 'ProMono-like-Abs.Category' as categorical\n",
      "Trying to set attribute `.obs` of view, copying.\n",
      "... storing 'cDC-like-Abs.Category' as categorical\n",
      "Trying to set attribute `.obs` of view, copying.\n",
      "... storing 'GMP-like-Rel.Category' as categorical\n",
      "Trying to set attribute `.obs` of view, copying.\n",
      "... storing 'LSPC-Cycle-Rel.Category' as categorical\n",
      "Trying to set attribute `.obs` of view, copying.\n",
      "... storing 'LSPC-Primed-Rel.Category' as categorical\n",
      "Trying to set attribute `.obs` of view, copying.\n",
      "... storing 'LSPC-Quiescent-Rel.Category' as categorical\n",
      "Trying to set attribute `.obs` of view, copying.\n",
      "... storing 'Mono-like-Rel.Category' as categorical\n",
      "Trying to set attribute `.obs` of view, copying.\n",
      "... storing 'ProMono-like-Rel.Category' as categorical\n",
      "Trying to set attribute `.obs` of view, copying.\n",
      "... storing 'cDC-like-Rel.Category' as categorical\n",
      "Trying to set attribute `.obs` of view, copying.\n",
      "... storing 'Treatment' as categorical\n"
     ]
    }
   ],
   "source": [
    "df = get_scores(df, dat_Kasumi1, classification = 'Treatment', cluster_A = 'Etoposide', cluster_B = 'Control', cohort = 'Kasumi-1', drug = 'Etoposide', target = 'TOPO II')"
   ]
  },
  {
   "cell_type": "code",
   "execution_count": 176,
   "metadata": {},
   "outputs": [
    {
     "name": "stderr",
     "output_type": "stream",
     "text": [
      "Trying to set attribute `.obs` of view, copying.\n"
     ]
    }
   ],
   "source": [
    "dat = load_fractions(\"Data/Datasets/Cell Lines/CIBERSORTx_TOPOII_Results.csv\")\n",
    "dat_MOLM13 = dat[18:24]\n",
    "dat_MOLM13.X = (dat_MOLM13.X.transpose() / dat_MOLM13.X.sum(axis=1)).transpose()\n",
    "dat_MOLM13.obs['Treatment'] = [x[2] for x in dat_MOLM13.obs.index.str.split('_')]\n",
    "dat_MOLM13.obs['Treatment'] = dat_MOLM13.obs['Treatment'].str.replace('VP16','Etoposide').str.replace('CTR', 'Control')"
   ]
  },
  {
   "cell_type": "code",
   "execution_count": 177,
   "metadata": {},
   "outputs": [],
   "source": [
    "newdat = dat_MOLM13.to_df()\n",
    "newdat['PC2'] = (dat_MOLM13.to_df() * PC2_loadings).sum(axis=1)\n",
    "dat_MOLM13 = ad.AnnData(newdat, dat_MOLM13.obs)\n",
    "del(newdat)"
   ]
  },
  {
   "cell_type": "code",
   "execution_count": 178,
   "metadata": {},
   "outputs": [
    {
     "name": "stderr",
     "output_type": "stream",
     "text": [
      "Trying to set attribute `.obs` of view, copying.\n",
      "... storing 'GMP-like-Abs.Category' as categorical\n",
      "Trying to set attribute `.obs` of view, copying.\n",
      "... storing 'LSPC-Cycle-Abs.Category' as categorical\n",
      "Trying to set attribute `.obs` of view, copying.\n",
      "... storing 'LSPC-Primed-Abs.Category' as categorical\n",
      "Trying to set attribute `.obs` of view, copying.\n",
      "... storing 'LSPC-Quiescent-Abs.Category' as categorical\n",
      "Trying to set attribute `.obs` of view, copying.\n",
      "... storing 'Mono-like-Abs.Category' as categorical\n",
      "Trying to set attribute `.obs` of view, copying.\n",
      "... storing 'ProMono-like-Abs.Category' as categorical\n",
      "Trying to set attribute `.obs` of view, copying.\n",
      "... storing 'cDC-like-Abs.Category' as categorical\n",
      "Trying to set attribute `.obs` of view, copying.\n",
      "... storing 'GMP-like-Rel.Category' as categorical\n",
      "Trying to set attribute `.obs` of view, copying.\n",
      "... storing 'LSPC-Cycle-Rel.Category' as categorical\n",
      "Trying to set attribute `.obs` of view, copying.\n",
      "... storing 'LSPC-Primed-Rel.Category' as categorical\n",
      "Trying to set attribute `.obs` of view, copying.\n",
      "... storing 'LSPC-Quiescent-Rel.Category' as categorical\n",
      "Trying to set attribute `.obs` of view, copying.\n",
      "... storing 'Mono-like-Rel.Category' as categorical\n",
      "Trying to set attribute `.obs` of view, copying.\n",
      "... storing 'ProMono-like-Rel.Category' as categorical\n",
      "Trying to set attribute `.obs` of view, copying.\n",
      "... storing 'cDC-like-Rel.Category' as categorical\n",
      "Trying to set attribute `.obs` of view, copying.\n",
      "... storing 'Treatment' as categorical\n"
     ]
    }
   ],
   "source": [
    "df = get_scores(df, dat_MOLM13, classification = 'Treatment', cluster_A = 'Etoposide', cluster_B = 'Control', cohort = 'MOLM-13', drug = 'Etoposide', target = 'TOPO II')"
   ]
  },
  {
   "cell_type": "code",
   "execution_count": 179,
   "metadata": {},
   "outputs": [
    {
     "name": "stderr",
     "output_type": "stream",
     "text": [
      "Trying to set attribute `.obs` of view, copying.\n"
     ]
    }
   ],
   "source": [
    "dat = load_fractions(\"Data/Datasets/Cell Lines/CIBERSORTx_TOPOII_Results.csv\")\n",
    "dat_MonoMac6 = dat[24:30]\n",
    "dat_MonoMac6.X = (dat_MonoMac6.X.transpose() / dat_MonoMac6.X.sum(axis=1)).transpose()\n",
    "dat_MonoMac6.obs['Treatment'] = [x[2] for x in dat_MonoMac6.obs.index.str.split('_')]\n",
    "dat_MonoMac6.obs['Treatment'] = dat_MonoMac6.obs['Treatment'].str.replace('VP16','Etoposide').str.replace('CTR', 'Control')"
   ]
  },
  {
   "cell_type": "code",
   "execution_count": 180,
   "metadata": {},
   "outputs": [],
   "source": [
    "newdat = dat_MonoMac6.to_df()\n",
    "newdat['PC2'] = (dat_MonoMac6.to_df() * PC2_loadings).sum(axis=1)\n",
    "dat_MonoMac6 = ad.AnnData(newdat, dat_MonoMac6.obs)\n",
    "del(newdat)"
   ]
  },
  {
   "cell_type": "code",
   "execution_count": 181,
   "metadata": {},
   "outputs": [
    {
     "name": "stderr",
     "output_type": "stream",
     "text": [
      "Trying to set attribute `.obs` of view, copying.\n",
      "... storing 'GMP-like-Abs.Category' as categorical\n",
      "Trying to set attribute `.obs` of view, copying.\n",
      "... storing 'LSPC-Cycle-Abs.Category' as categorical\n",
      "Trying to set attribute `.obs` of view, copying.\n",
      "... storing 'LSPC-Primed-Abs.Category' as categorical\n",
      "Trying to set attribute `.obs` of view, copying.\n",
      "... storing 'LSPC-Quiescent-Abs.Category' as categorical\n",
      "Trying to set attribute `.obs` of view, copying.\n",
      "... storing 'Mono-like-Abs.Category' as categorical\n",
      "Trying to set attribute `.obs` of view, copying.\n",
      "... storing 'ProMono-like-Abs.Category' as categorical\n",
      "Trying to set attribute `.obs` of view, copying.\n",
      "... storing 'cDC-like-Abs.Category' as categorical\n",
      "Trying to set attribute `.obs` of view, copying.\n",
      "... storing 'GMP-like-Rel.Category' as categorical\n",
      "Trying to set attribute `.obs` of view, copying.\n",
      "... storing 'LSPC-Cycle-Rel.Category' as categorical\n",
      "Trying to set attribute `.obs` of view, copying.\n",
      "... storing 'LSPC-Primed-Rel.Category' as categorical\n",
      "Trying to set attribute `.obs` of view, copying.\n",
      "... storing 'LSPC-Quiescent-Rel.Category' as categorical\n",
      "Trying to set attribute `.obs` of view, copying.\n",
      "... storing 'Mono-like-Rel.Category' as categorical\n",
      "Trying to set attribute `.obs` of view, copying.\n",
      "... storing 'ProMono-like-Rel.Category' as categorical\n",
      "Trying to set attribute `.obs` of view, copying.\n",
      "... storing 'cDC-like-Rel.Category' as categorical\n",
      "Trying to set attribute `.obs` of view, copying.\n",
      "... storing 'Treatment' as categorical\n"
     ]
    }
   ],
   "source": [
    "df = get_scores(df, dat_MonoMac6, classification = 'Treatment', cluster_A = 'Etoposide', cluster_B = 'Control', cohort = 'MonoMac-6', drug = 'Etoposide', target = 'TOPO II')"
   ]
  },
  {
   "cell_type": "code",
   "execution_count": 182,
   "metadata": {},
   "outputs": [
    {
     "name": "stderr",
     "output_type": "stream",
     "text": [
      "Trying to set attribute `.obs` of view, copying.\n"
     ]
    }
   ],
   "source": [
    "dat = load_fractions(\"Data/Datasets/Cell Lines/CIBERSORTx_TOPOII_Results.csv\")\n",
    "dat_MV411 = dat[30:36]\n",
    "dat_MV411.X = (dat_MV411.X.transpose() / dat_MV411.X.sum(axis=1)).transpose()\n",
    "dat_MV411.obs['Treatment'] = [x[2] for x in dat_MV411.obs.index.str.split('_')]\n",
    "dat_MV411.obs['Treatment'] = dat_MV411.obs['Treatment'].str.replace('VP16','Etoposide').str.replace('CTR', 'Control')"
   ]
  },
  {
   "cell_type": "code",
   "execution_count": 183,
   "metadata": {},
   "outputs": [],
   "source": [
    "newdat = dat_MV411.to_df()\n",
    "newdat['PC2'] = (dat_MV411.to_df() * PC2_loadings).sum(axis=1)\n",
    "dat_MV411 = ad.AnnData(newdat, dat_MV411.obs)\n",
    "del(newdat)"
   ]
  },
  {
   "cell_type": "code",
   "execution_count": 184,
   "metadata": {},
   "outputs": [
    {
     "name": "stderr",
     "output_type": "stream",
     "text": [
      "Trying to set attribute `.obs` of view, copying.\n",
      "... storing 'GMP-like-Abs.Category' as categorical\n",
      "Trying to set attribute `.obs` of view, copying.\n",
      "... storing 'LSPC-Cycle-Abs.Category' as categorical\n",
      "Trying to set attribute `.obs` of view, copying.\n",
      "... storing 'LSPC-Primed-Abs.Category' as categorical\n",
      "Trying to set attribute `.obs` of view, copying.\n",
      "... storing 'LSPC-Quiescent-Abs.Category' as categorical\n",
      "Trying to set attribute `.obs` of view, copying.\n",
      "... storing 'Mono-like-Abs.Category' as categorical\n",
      "Trying to set attribute `.obs` of view, copying.\n",
      "... storing 'ProMono-like-Abs.Category' as categorical\n",
      "Trying to set attribute `.obs` of view, copying.\n",
      "... storing 'cDC-like-Abs.Category' as categorical\n",
      "Trying to set attribute `.obs` of view, copying.\n",
      "... storing 'GMP-like-Rel.Category' as categorical\n",
      "Trying to set attribute `.obs` of view, copying.\n",
      "... storing 'LSPC-Cycle-Rel.Category' as categorical\n",
      "Trying to set attribute `.obs` of view, copying.\n",
      "... storing 'LSPC-Primed-Rel.Category' as categorical\n",
      "Trying to set attribute `.obs` of view, copying.\n",
      "... storing 'LSPC-Quiescent-Rel.Category' as categorical\n",
      "Trying to set attribute `.obs` of view, copying.\n",
      "... storing 'Mono-like-Rel.Category' as categorical\n",
      "Trying to set attribute `.obs` of view, copying.\n",
      "... storing 'ProMono-like-Rel.Category' as categorical\n",
      "Trying to set attribute `.obs` of view, copying.\n",
      "... storing 'cDC-like-Rel.Category' as categorical\n",
      "Trying to set attribute `.obs` of view, copying.\n",
      "... storing 'Treatment' as categorical\n"
     ]
    }
   ],
   "source": [
    "df = get_scores(df, dat_MV411, classification = 'Treatment', cluster_A = 'Etoposide', cluster_B = 'Control', cohort = 'MV4-11', drug = 'Etoposide', target = 'TOPO II')"
   ]
  },
  {
   "cell_type": "code",
   "execution_count": 185,
   "metadata": {},
   "outputs": [
    {
     "name": "stderr",
     "output_type": "stream",
     "text": [
      "Trying to set attribute `.obs` of view, copying.\n"
     ]
    }
   ],
   "source": [
    "dat = load_fractions(\"Data/Datasets/Cell Lines/CIBERSORTx_TOPOII_Results.csv\")\n",
    "dat_NB4 = dat[36:42]\n",
    "dat_NB4.X = (dat_NB4.X.transpose() / dat_NB4.X.sum(axis=1)).transpose()\n",
    "dat_NB4.obs['Treatment'] = [x[2] for x in dat_NB4.obs.index.str.split('_')]\n",
    "dat_NB4.obs['Treatment'] = dat_NB4.obs['Treatment'].str.replace('VP16','Etoposide').str.replace('CTR', 'Control')"
   ]
  },
  {
   "cell_type": "code",
   "execution_count": 186,
   "metadata": {},
   "outputs": [],
   "source": [
    "newdat = dat_NB4.to_df()\n",
    "newdat['PC2'] = (dat_NB4.to_df() * PC2_loadings).sum(axis=1)\n",
    "dat_NB4 = ad.AnnData(newdat, dat_NB4.obs)\n",
    "del(newdat)"
   ]
  },
  {
   "cell_type": "code",
   "execution_count": 187,
   "metadata": {},
   "outputs": [
    {
     "name": "stderr",
     "output_type": "stream",
     "text": [
      "Trying to set attribute `.obs` of view, copying.\n",
      "... storing 'GMP-like-Abs.Category' as categorical\n",
      "Trying to set attribute `.obs` of view, copying.\n",
      "... storing 'LSPC-Cycle-Abs.Category' as categorical\n",
      "Trying to set attribute `.obs` of view, copying.\n",
      "... storing 'LSPC-Primed-Abs.Category' as categorical\n",
      "Trying to set attribute `.obs` of view, copying.\n",
      "... storing 'LSPC-Quiescent-Abs.Category' as categorical\n",
      "Trying to set attribute `.obs` of view, copying.\n",
      "... storing 'Mono-like-Abs.Category' as categorical\n",
      "Trying to set attribute `.obs` of view, copying.\n",
      "... storing 'ProMono-like-Abs.Category' as categorical\n",
      "Trying to set attribute `.obs` of view, copying.\n",
      "... storing 'cDC-like-Abs.Category' as categorical\n",
      "Trying to set attribute `.obs` of view, copying.\n",
      "... storing 'GMP-like-Rel.Category' as categorical\n",
      "Trying to set attribute `.obs` of view, copying.\n",
      "... storing 'LSPC-Cycle-Rel.Category' as categorical\n",
      "Trying to set attribute `.obs` of view, copying.\n",
      "... storing 'LSPC-Primed-Rel.Category' as categorical\n",
      "Trying to set attribute `.obs` of view, copying.\n",
      "... storing 'LSPC-Quiescent-Rel.Category' as categorical\n",
      "Trying to set attribute `.obs` of view, copying.\n",
      "... storing 'Mono-like-Rel.Category' as categorical\n",
      "Trying to set attribute `.obs` of view, copying.\n",
      "... storing 'ProMono-like-Rel.Category' as categorical\n",
      "Trying to set attribute `.obs` of view, copying.\n",
      "... storing 'cDC-like-Rel.Category' as categorical\n",
      "Trying to set attribute `.obs` of view, copying.\n",
      "... storing 'Treatment' as categorical\n"
     ]
    }
   ],
   "source": [
    "df = get_scores(df, dat_NB4, classification = 'Treatment', cluster_A = 'Etoposide', cluster_B = 'Control', cohort = 'NB-4', drug = 'Etoposide', target = 'TOPO II')"
   ]
  },
  {
   "cell_type": "code",
   "execution_count": 188,
   "metadata": {},
   "outputs": [
    {
     "name": "stderr",
     "output_type": "stream",
     "text": [
      "Trying to set attribute `.obs` of view, copying.\n"
     ]
    }
   ],
   "source": [
    "dat = load_fractions(\"Data/Datasets/Cell Lines/CIBERSORTx_TOPOII_Results.csv\")\n",
    "dat_NOMO1 = dat[42:48]\n",
    "dat_NOMO1.X = (dat_NOMO1.X.transpose() / dat_NOMO1.X.sum(axis=1)).transpose()\n",
    "dat_NOMO1.obs['Treatment'] = [x[2] for x in dat_NOMO1.obs.index.str.split('_')]\n",
    "dat_NOMO1.obs['Treatment'] = dat_NOMO1.obs['Treatment'].str.replace('VP16','Etoposide').str.replace('CTR', 'Control')"
   ]
  },
  {
   "cell_type": "code",
   "execution_count": 189,
   "metadata": {},
   "outputs": [],
   "source": [
    "newdat = dat_NOMO1.to_df()\n",
    "newdat['PC2'] = (dat_NOMO1.to_df() * PC2_loadings).sum(axis=1)\n",
    "dat_NOMO1 = ad.AnnData(newdat, dat_NOMO1.obs)\n",
    "del(newdat)"
   ]
  },
  {
   "cell_type": "code",
   "execution_count": 190,
   "metadata": {},
   "outputs": [
    {
     "name": "stderr",
     "output_type": "stream",
     "text": [
      "Trying to set attribute `.obs` of view, copying.\n",
      "... storing 'GMP-like-Abs.Category' as categorical\n",
      "Trying to set attribute `.obs` of view, copying.\n",
      "... storing 'LSPC-Cycle-Abs.Category' as categorical\n",
      "Trying to set attribute `.obs` of view, copying.\n",
      "... storing 'LSPC-Primed-Abs.Category' as categorical\n",
      "Trying to set attribute `.obs` of view, copying.\n",
      "... storing 'LSPC-Quiescent-Abs.Category' as categorical\n",
      "Trying to set attribute `.obs` of view, copying.\n",
      "... storing 'Mono-like-Abs.Category' as categorical\n",
      "Trying to set attribute `.obs` of view, copying.\n",
      "... storing 'ProMono-like-Abs.Category' as categorical\n",
      "Trying to set attribute `.obs` of view, copying.\n",
      "... storing 'cDC-like-Abs.Category' as categorical\n",
      "Trying to set attribute `.obs` of view, copying.\n",
      "... storing 'GMP-like-Rel.Category' as categorical\n",
      "Trying to set attribute `.obs` of view, copying.\n",
      "... storing 'LSPC-Cycle-Rel.Category' as categorical\n",
      "Trying to set attribute `.obs` of view, copying.\n",
      "... storing 'LSPC-Primed-Rel.Category' as categorical\n",
      "Trying to set attribute `.obs` of view, copying.\n",
      "... storing 'LSPC-Quiescent-Rel.Category' as categorical\n",
      "Trying to set attribute `.obs` of view, copying.\n",
      "... storing 'Mono-like-Rel.Category' as categorical\n",
      "Trying to set attribute `.obs` of view, copying.\n",
      "... storing 'ProMono-like-Rel.Category' as categorical\n",
      "Trying to set attribute `.obs` of view, copying.\n",
      "... storing 'cDC-like-Rel.Category' as categorical\n",
      "Trying to set attribute `.obs` of view, copying.\n",
      "... storing 'Treatment' as categorical\n"
     ]
    }
   ],
   "source": [
    "df = get_scores(df, dat_NOMO1, classification = 'Treatment', cluster_A = 'Etoposide', cluster_B = 'Control', cohort = 'NOMO-1', drug = 'Etoposide', target = 'TOPO II')"
   ]
  },
  {
   "cell_type": "code",
   "execution_count": 191,
   "metadata": {},
   "outputs": [
    {
     "name": "stderr",
     "output_type": "stream",
     "text": [
      "Trying to set attribute `.obs` of view, copying.\n"
     ]
    }
   ],
   "source": [
    "dat = load_fractions(\"Data/Datasets/Cell Lines/CIBERSORTx_TOPOII_Results.csv\")\n",
    "dat_OCIAML2 = dat[48:54]\n",
    "dat_OCIAML2.X = (dat_OCIAML2.X.transpose() / dat_OCIAML2.X.sum(axis=1)).transpose()\n",
    "dat_OCIAML2.obs['Treatment'] = [x[2] for x in dat_OCIAML2.obs.index.str.split('_')]\n",
    "dat_OCIAML2.obs['Treatment'] = dat_OCIAML2.obs['Treatment'].str.replace('VP16','Etoposide').str.replace('CTR', 'Control')"
   ]
  },
  {
   "cell_type": "code",
   "execution_count": 192,
   "metadata": {},
   "outputs": [],
   "source": [
    "newdat = dat_OCIAML2.to_df()\n",
    "newdat['PC2'] = (dat_OCIAML2.to_df() * PC2_loadings).sum(axis=1)\n",
    "dat_OCIAML2 = ad.AnnData(newdat, dat_OCIAML2.obs)\n",
    "del(newdat)"
   ]
  },
  {
   "cell_type": "code",
   "execution_count": 193,
   "metadata": {},
   "outputs": [
    {
     "name": "stderr",
     "output_type": "stream",
     "text": [
      "Trying to set attribute `.obs` of view, copying.\n",
      "... storing 'GMP-like-Abs.Category' as categorical\n",
      "Trying to set attribute `.obs` of view, copying.\n",
      "... storing 'LSPC-Cycle-Abs.Category' as categorical\n",
      "Trying to set attribute `.obs` of view, copying.\n",
      "... storing 'LSPC-Primed-Abs.Category' as categorical\n",
      "Trying to set attribute `.obs` of view, copying.\n",
      "... storing 'LSPC-Quiescent-Abs.Category' as categorical\n",
      "Trying to set attribute `.obs` of view, copying.\n",
      "... storing 'Mono-like-Abs.Category' as categorical\n",
      "Trying to set attribute `.obs` of view, copying.\n",
      "... storing 'ProMono-like-Abs.Category' as categorical\n",
      "Trying to set attribute `.obs` of view, copying.\n",
      "... storing 'cDC-like-Abs.Category' as categorical\n",
      "Trying to set attribute `.obs` of view, copying.\n",
      "... storing 'GMP-like-Rel.Category' as categorical\n",
      "Trying to set attribute `.obs` of view, copying.\n",
      "... storing 'LSPC-Cycle-Rel.Category' as categorical\n",
      "Trying to set attribute `.obs` of view, copying.\n",
      "... storing 'LSPC-Primed-Rel.Category' as categorical\n",
      "Trying to set attribute `.obs` of view, copying.\n",
      "... storing 'LSPC-Quiescent-Rel.Category' as categorical\n",
      "Trying to set attribute `.obs` of view, copying.\n",
      "... storing 'Mono-like-Rel.Category' as categorical\n",
      "Trying to set attribute `.obs` of view, copying.\n",
      "... storing 'ProMono-like-Rel.Category' as categorical\n",
      "Trying to set attribute `.obs` of view, copying.\n",
      "... storing 'cDC-like-Rel.Category' as categorical\n",
      "Trying to set attribute `.obs` of view, copying.\n",
      "... storing 'Treatment' as categorical\n"
     ]
    }
   ],
   "source": [
    "df = get_scores(df, dat_OCIAML2, classification = 'Treatment', cluster_A = 'Etoposide', cluster_B = 'Control', cohort = 'OCI-AML2', drug = 'Etoposide', target = 'TOPO II')"
   ]
  },
  {
   "cell_type": "code",
   "execution_count": 194,
   "metadata": {},
   "outputs": [
    {
     "name": "stderr",
     "output_type": "stream",
     "text": [
      "Trying to set attribute `.obs` of view, copying.\n"
     ]
    }
   ],
   "source": [
    "dat = load_fractions(\"Data/Datasets/Cell Lines/CIBERSORTx_TOPOII_Results.csv\")\n",
    "dat_OCIAML3 = dat[54:60]\n",
    "dat_OCIAML3.X = (dat_OCIAML3.X.transpose() / dat_OCIAML3.X.sum(axis=1)).transpose()\n",
    "dat_OCIAML3.obs['Treatment'] = [x[2] for x in dat_OCIAML3.obs.index.str.split('_')]\n",
    "dat_OCIAML3.obs['Treatment'] = dat_OCIAML3.obs['Treatment'].str.replace('VP16','Etoposide').str.replace('CTR', 'Control')"
   ]
  },
  {
   "cell_type": "code",
   "execution_count": 195,
   "metadata": {},
   "outputs": [],
   "source": [
    "newdat = dat_OCIAML3.to_df()\n",
    "newdat['PC2'] = (dat_OCIAML3.to_df() * PC2_loadings).sum(axis=1)\n",
    "dat_OCIAML3 = ad.AnnData(newdat, dat_OCIAML3.obs)\n",
    "del(newdat)"
   ]
  },
  {
   "cell_type": "code",
   "execution_count": 196,
   "metadata": {},
   "outputs": [
    {
     "name": "stderr",
     "output_type": "stream",
     "text": [
      "Trying to set attribute `.obs` of view, copying.\n",
      "... storing 'GMP-like-Abs.Category' as categorical\n",
      "Trying to set attribute `.obs` of view, copying.\n",
      "... storing 'LSPC-Cycle-Abs.Category' as categorical\n",
      "Trying to set attribute `.obs` of view, copying.\n",
      "... storing 'LSPC-Primed-Abs.Category' as categorical\n",
      "Trying to set attribute `.obs` of view, copying.\n",
      "... storing 'LSPC-Quiescent-Abs.Category' as categorical\n",
      "Trying to set attribute `.obs` of view, copying.\n",
      "... storing 'Mono-like-Abs.Category' as categorical\n",
      "Trying to set attribute `.obs` of view, copying.\n",
      "... storing 'ProMono-like-Abs.Category' as categorical\n",
      "Trying to set attribute `.obs` of view, copying.\n",
      "... storing 'cDC-like-Abs.Category' as categorical\n",
      "Trying to set attribute `.obs` of view, copying.\n",
      "... storing 'GMP-like-Rel.Category' as categorical\n",
      "Trying to set attribute `.obs` of view, copying.\n",
      "... storing 'LSPC-Cycle-Rel.Category' as categorical\n",
      "Trying to set attribute `.obs` of view, copying.\n",
      "... storing 'LSPC-Primed-Rel.Category' as categorical\n",
      "Trying to set attribute `.obs` of view, copying.\n",
      "... storing 'LSPC-Quiescent-Rel.Category' as categorical\n",
      "Trying to set attribute `.obs` of view, copying.\n",
      "... storing 'Mono-like-Rel.Category' as categorical\n",
      "Trying to set attribute `.obs` of view, copying.\n",
      "... storing 'ProMono-like-Rel.Category' as categorical\n",
      "Trying to set attribute `.obs` of view, copying.\n",
      "... storing 'cDC-like-Rel.Category' as categorical\n",
      "Trying to set attribute `.obs` of view, copying.\n",
      "... storing 'Treatment' as categorical\n"
     ]
    }
   ],
   "source": [
    "df = get_scores(df, dat_OCIAML3, classification = 'Treatment', cluster_A = 'Etoposide', cluster_B = 'Control', cohort = 'OCI-AML3', drug = 'Etoposide', target = 'TOPO II')"
   ]
  },
  {
   "cell_type": "code",
   "execution_count": 197,
   "metadata": {},
   "outputs": [
    {
     "name": "stderr",
     "output_type": "stream",
     "text": [
      "Trying to set attribute `.obs` of view, copying.\n"
     ]
    }
   ],
   "source": [
    "dat = load_fractions(\"Data/Datasets/Cell Lines/CIBERSORTx_TOPOII_Results.csv\")\n",
    "dat_THP1 = dat[60:]\n",
    "dat_THP1.X = (dat_THP1.X.transpose() / dat_THP1.X.sum(axis=1)).transpose()\n",
    "dat_THP1.obs['Treatment'] = [x[2] for x in dat_THP1.obs.index.str.split('_')]\n",
    "dat_THP1.obs['Treatment'] = dat_THP1.obs['Treatment'].str.replace('VP16','Etoposide').str.replace('CTR', 'Control')"
   ]
  },
  {
   "cell_type": "code",
   "execution_count": 198,
   "metadata": {},
   "outputs": [],
   "source": [
    "newdat = dat_THP1.to_df()\n",
    "newdat['PC2'] = (dat_THP1.to_df() * PC2_loadings).sum(axis=1)\n",
    "dat_THP1 = ad.AnnData(newdat, dat_THP1.obs)\n",
    "del(newdat)"
   ]
  },
  {
   "cell_type": "code",
   "execution_count": 199,
   "metadata": {},
   "outputs": [
    {
     "name": "stderr",
     "output_type": "stream",
     "text": [
      "Trying to set attribute `.obs` of view, copying.\n",
      "... storing 'GMP-like-Abs.Category' as categorical\n",
      "Trying to set attribute `.obs` of view, copying.\n",
      "... storing 'LSPC-Cycle-Abs.Category' as categorical\n",
      "Trying to set attribute `.obs` of view, copying.\n",
      "... storing 'LSPC-Primed-Abs.Category' as categorical\n",
      "Trying to set attribute `.obs` of view, copying.\n",
      "... storing 'LSPC-Quiescent-Abs.Category' as categorical\n",
      "Trying to set attribute `.obs` of view, copying.\n",
      "... storing 'Mono-like-Abs.Category' as categorical\n",
      "Trying to set attribute `.obs` of view, copying.\n",
      "... storing 'ProMono-like-Abs.Category' as categorical\n",
      "Trying to set attribute `.obs` of view, copying.\n",
      "... storing 'cDC-like-Abs.Category' as categorical\n",
      "Trying to set attribute `.obs` of view, copying.\n",
      "... storing 'GMP-like-Rel.Category' as categorical\n",
      "Trying to set attribute `.obs` of view, copying.\n",
      "... storing 'LSPC-Cycle-Rel.Category' as categorical\n",
      "Trying to set attribute `.obs` of view, copying.\n",
      "... storing 'LSPC-Primed-Rel.Category' as categorical\n",
      "Trying to set attribute `.obs` of view, copying.\n",
      "... storing 'LSPC-Quiescent-Rel.Category' as categorical\n",
      "Trying to set attribute `.obs` of view, copying.\n",
      "... storing 'Mono-like-Rel.Category' as categorical\n",
      "Trying to set attribute `.obs` of view, copying.\n",
      "... storing 'ProMono-like-Rel.Category' as categorical\n",
      "Trying to set attribute `.obs` of view, copying.\n",
      "... storing 'cDC-like-Rel.Category' as categorical\n",
      "Trying to set attribute `.obs` of view, copying.\n",
      "... storing 'Treatment' as categorical\n"
     ]
    }
   ],
   "source": [
    "df = get_scores(df, dat_THP1, classification = 'Treatment', cluster_A = 'Etoposide', cluster_B = 'Control', cohort = 'THP-1', drug = 'Etoposide', target = 'TOPO II')"
   ]
  },
  {
   "cell_type": "markdown",
   "metadata": {},
   "source": [
    "***"
   ]
  },
  {
   "cell_type": "markdown",
   "metadata": {},
   "source": [
    "# Summarize "
   ]
  },
  {
   "cell_type": "code",
   "execution_count": 200,
   "metadata": {},
   "outputs": [],
   "source": [
    "df['CellType'] = df['names'].astype('category').cat.set_categories(['LSPC-Quiescent', 'LSPC-Primed', 'LSPC-Cycle', 'GMP-like', 'ProMono-like', 'Mono-like', 'cDC-like', 'PC2'])"
   ]
  },
  {
   "cell_type": "code",
   "execution_count": 201,
   "metadata": {},
   "outputs": [],
   "source": [
    "df['logPval_dir'] = np.where(df['scores'] < 0, np.log(df['pvals']), -np.log(df['pvals']))\n",
    "df['Treatment'] = np.where(df['Cohort']==\"Primary\", df['Drug'], df['Drug'] + \" [\" + df['Cohort'].str.replace('Primary ', '') + \"]\")"
   ]
  },
  {
   "cell_type": "code",
   "execution_count": 202,
   "metadata": {},
   "outputs": [],
   "source": [
    "pd.set_option('display.max_rows', 1500)\n",
    "df.CellType = df.names"
   ]
  },
  {
   "cell_type": "code",
   "execution_count": 203,
   "metadata": {},
   "outputs": [],
   "source": [
    "df.to_csv('C:/Users/Hp/Desktop/AML-drug-response/CIBERSORTx/Drug_Cell_Line_pvalues.csv')\n",
    "df.to_csv('C:/Users/Hp/Desktop/AML-drug-response/Complex Heatmap/Data/Drug_Cell_Line_pvalues.csv')\n",
    "df.to_csv('C:/Users/Hp/Desktop/AML-drug-response/Complex Heatmap/UMAP/Drug_Cell_Line_pvalues.csv')\n",
    "df.to_csv('C:/Users/Hp/Desktop/AML-drug-response/Stouffer Method/Drug_Cell_Line_pvalues.csv')"
   ]
  }
 ],
 "metadata": {
  "kernelspec": {
   "display_name": "Python [conda env:root] *",
   "language": "python",
   "name": "conda-root-py"
  },
  "language_info": {
   "codemirror_mode": {
    "name": "ipython",
    "version": 3
   },
   "file_extension": ".py",
   "mimetype": "text/x-python",
   "name": "python",
   "nbconvert_exporter": "python",
   "pygments_lexer": "ipython3",
   "version": "3.7.6"
  }
 },
 "nbformat": 4,
 "nbformat_minor": 4
}
