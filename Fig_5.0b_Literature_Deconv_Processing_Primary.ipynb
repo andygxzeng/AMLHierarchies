{
 "cells": [
  {
   "cell_type": "markdown",
   "metadata": {},
   "source": [
    "# CIBERSORTx Results Analysis Primary "
   ]
  },
  {
   "cell_type": "code",
   "execution_count": 187,
   "metadata": {},
   "outputs": [],
   "source": [
    "import numpy as np\n",
    "import pandas as pd\n",
    "import scanpy as sc\n",
    "import anndata as ad\n",
    "import seaborn as sns\n",
    "import matplotlib.pyplot as plt"
   ]
  },
  {
   "cell_type": "code",
   "execution_count": 188,
   "metadata": {},
   "outputs": [],
   "source": [
    "def load_fractions(dem_path):\n",
    "    # load CIBERSORT output\n",
    "    dat = sc.read_csv(dem_path, first_column_names=True)\n",
    "    dat = dat[:,~dat.var_names.isin(['P-value', 'Correlation', 'RMSE', 'Absolute score (sig.score)'])]\n",
    "    dat.obs.index.rename('Sample', inplace=True)\n",
    "\n",
    "    # Absolute Scores\n",
    "    absolute_scores = dat.to_df()\n",
    "    absolute_scores.columns = absolute_scores.columns+'-Absolute'\n",
    "    dat.obs = dat.obs.merge(absolute_scores, how = 'left', left_index=True, right_index=True)\n",
    "    \n",
    "    # Relative Scores (tumor only)\n",
    "    relative_scores = dat.to_df()\n",
    "    relative_scores = relative_scores.iloc[:,~relative_scores.columns.isin(['B', 'Plasma', 'T', 'CTL', 'NK', 'cDC', 'Monocyte', 'lateEry'])]\n",
    "    relative_scores = (relative_scores.transpose() / relative_scores.sum(axis=1).transpose()).transpose()\n",
    "    relative_scores.columns = relative_scores.columns+'-Relative'\n",
    "    dat.obs = dat.obs.merge(relative_scores, how = 'left', left_index=True, right_index=True)\n",
    "    \n",
    "    return dat"
   ]
  },
  {
   "cell_type": "code",
   "execution_count": 190,
   "metadata": {},
   "outputs": [],
   "source": [
    "PC2_loadings = hcat.varm['PCs'][:,1]\n",
    "PC2_loadings = np.array([-0.20023263, -0.08772767, -0.27906924, -0.5126374, 0.7101968, 0.04527085, 0.32419923])"
   ]
  },
  {
   "cell_type": "markdown",
   "metadata": {},
   "source": [
    "## Loading Prediction Output"
   ]
  },
  {
   "cell_type": "code",
   "execution_count": 191,
   "metadata": {},
   "outputs": [],
   "source": [
    "def get_ranklist(dat, classification, cluster_A, cluster_B, test='wilcoxon'):\n",
    "    \n",
    "    adata = dat[dat.obs[classification].isin([cluster_A, cluster_B])]\n",
    "\n",
    "    sc.tl.rank_genes_groups(adata, classification, method = test, n_genes=20000)\n",
    "    sam_cat_DE_df = pd.concat(\n",
    "            [pd.DataFrame(adata.uns['rank_genes_groups']['names']),\n",
    "             pd.DataFrame(adata.uns['rank_genes_groups']['scores']),\n",
    "             pd.DataFrame(adata.uns['rank_genes_groups']['logfoldchanges']),\n",
    "             pd.DataFrame(adata.uns['rank_genes_groups']['pvals'])],\n",
    "        keys = ['names','scores','logfoldchanges', 'pvals'],axis=1)\n",
    "\n",
    "    sam_cat_DE_df.columns = sam_cat_DE_df.columns.swaplevel(0, 1)\n",
    "    sam_cat_DE_df.sort_index(axis=1,level=0,inplace=True)\n",
    "    sam_cat_DE_df = sam_cat_DE_df[cluster_A][['names', 'scores', 'logfoldchanges', 'pvals']]\n",
    "\n",
    "    return(sam_cat_DE_df)"
   ]
  },
  {
   "cell_type": "code",
   "execution_count": 192,
   "metadata": {},
   "outputs": [],
   "source": [
    "def get_scores(df, dat, classification, cluster_A, cluster_B, cohort, drug, target):\n",
    "    # Absolute Scores\n",
    "        \n",
    "    ## Wilcox\n",
    "    temp = get_ranklist(dat, classification, cluster_A, cluster_B, test='wilcoxon')\n",
    "    temp['Cohort'] = cohort\n",
    "    temp['Drug'] = drug\n",
    "    temp['Target'] = target\n",
    "    temp['Test'] = 'wilcox'\n",
    "    temp['CellType'] = temp['names']\n",
    "    temp['logPval_dir'] = np.where(temp['scores'] < 0, np.log(temp['pvals']), -np.log(temp['pvals']))\n",
    "    temp['Treatment'] = np.where(temp['Cohort']==\"Primary\", temp['Drug'], temp['Drug'] + \" [\" + temp['Cohort'].str.replace('Primary ', '') + \"]\")\n",
    "    df = df.append(temp)\n",
    "    \n",
    "    return(df)"
   ]
  },
  {
   "cell_type": "markdown",
   "metadata": {},
   "source": [
    "# Run on Each Dataset"
   ]
  },
  {
   "cell_type": "code",
   "execution_count": 193,
   "metadata": {},
   "outputs": [],
   "source": [
    "df = pd.DataFrame()"
   ]
  },
  {
   "cell_type": "markdown",
   "metadata": {},
   "source": [
    "## AlCAr"
   ]
  },
  {
   "cell_type": "code",
   "execution_count": 194,
   "metadata": {},
   "outputs": [],
   "source": [
    "dat = load_fractions(\"Data/Datasets/Primary/CIBERSORTx_Results_AlCAr_Pyrimidine.csv\")\n",
    "dat.X = (dat.X.transpose() / dat.X.sum(axis=1)).transpose()\n",
    "dat.obs['Treatment'] = [x[1] for x in dat.obs.index.str.split('_')]\n",
    "dat.obs['Treatment'] = dat.obs['Treatment'].str.replace('[0-9]','').str.replace('ctrl', 'Control')"
   ]
  },
  {
   "cell_type": "code",
   "execution_count": 195,
   "metadata": {},
   "outputs": [
    {
     "name": "stderr",
     "output_type": "stream",
     "text": [
      "C:\\Users\\Hp\\Anaconda3\\envs\\single_cell\\lib\\site-packages\\anndata\\utils.py:141: UserWarning: X converted to numpy array with dtype float64\n",
      "  warnings.warn(f\"{name} converted to numpy array with dtype {arr.dtype}\")\n"
     ]
    }
   ],
   "source": [
    "newdat = dat.to_df()\n",
    "newdat['PC2'] = (dat.to_df() * PC2_loadings).sum(axis=1)\n",
    "dat = ad.AnnData(newdat, dat.obs)\n",
    "del(newdat)"
   ]
  },
  {
   "cell_type": "code",
   "execution_count": 196,
   "metadata": {},
   "outputs": [
    {
     "name": "stderr",
     "output_type": "stream",
     "text": [
      "C:\\Users\\Hp\\Anaconda3\\envs\\single_cell\\lib\\site-packages\\anndata\\_core\\anndata.py:1207: ImplicitModificationWarning: Initializing view as actual.\n",
      "  warnings.warn(\n",
      "Trying to set attribute `.obs` of view, copying.\n",
      "... storing 'Treatment' as categorical\n"
     ]
    }
   ],
   "source": [
    "df = get_scores(df, dat, 'Treatment', 'AlCAr', 'Control', 'Primary', 'AlCAr', 'Pyrimidine Synthesis')"
   ]
  },
  {
   "cell_type": "markdown",
   "metadata": {},
   "source": [
    "## 5-Aza BAY1436032 IDH"
   ]
  },
  {
   "cell_type": "code",
   "execution_count": 197,
   "metadata": {},
   "outputs": [],
   "source": [
    "dat = load_fractions(\"Data/Datasets/Primary/CIBERSORTx_Results_Aza_IDH_IDH1mut_AML.csv\")\n",
    "dat.X = (dat.X.transpose() / dat.X.sum(axis=1)).transpose()\n",
    "dat.obs['Treatment'] = [x[-2] for x in dat.obs.index.str.split('_')]\n",
    "dat.obs['Treatment'] = np.where(dat.obs['Treatment'] == \"AZA-PRL\", \"5-Aza + BAY1436032\", dat.obs['Treatment'])\n",
    "dat.obs['Treatment'] = dat.obs['Treatment'].str.replace(\"Azacitidine\", \"5-Aza\").str.replace(\"PRL\", \"5-Aza + BAY1436032\")"
   ]
  },
  {
   "cell_type": "code",
   "execution_count": 198,
   "metadata": {},
   "outputs": [
    {
     "name": "stderr",
     "output_type": "stream",
     "text": [
      "C:\\Users\\Hp\\Anaconda3\\envs\\single_cell\\lib\\site-packages\\anndata\\utils.py:141: UserWarning: X converted to numpy array with dtype float64\n",
      "  warnings.warn(f\"{name} converted to numpy array with dtype {arr.dtype}\")\n"
     ]
    }
   ],
   "source": [
    "newdat = dat.to_df()\n",
    "newdat['PC2'] = (dat.to_df() * PC2_loadings).sum(axis=1)\n",
    "dat = ad.AnnData(newdat, dat.obs)\n",
    "del(newdat)"
   ]
  },
  {
   "cell_type": "code",
   "execution_count": 199,
   "metadata": {},
   "outputs": [
    {
     "name": "stderr",
     "output_type": "stream",
     "text": [
      "C:\\Users\\Hp\\Anaconda3\\envs\\single_cell\\lib\\site-packages\\anndata\\_core\\anndata.py:1207: ImplicitModificationWarning: Initializing view as actual.\n",
      "  warnings.warn(\n",
      "Trying to set attribute `.obs` of view, copying.\n",
      "... storing 'Treatment' as categorical\n"
     ]
    }
   ],
   "source": [
    "df = get_scores(df, dat, 'Treatment', 'BAY1436032', 'Control', 'Primary IDH1mut', 'BAY1436032', 'IDH')"
   ]
  },
  {
   "cell_type": "code",
   "execution_count": 200,
   "metadata": {},
   "outputs": [
    {
     "name": "stderr",
     "output_type": "stream",
     "text": [
      "C:\\Users\\Hp\\Anaconda3\\envs\\single_cell\\lib\\site-packages\\anndata\\_core\\anndata.py:1207: ImplicitModificationWarning: Initializing view as actual.\n",
      "  warnings.warn(\n",
      "Trying to set attribute `.obs` of view, copying.\n",
      "... storing 'Treatment' as categorical\n"
     ]
    }
   ],
   "source": [
    "df = get_scores(df, dat, 'Treatment', '5-Aza', 'Control', 'Primary IDH1mut', '5-Aza', 'HMA')"
   ]
  },
  {
   "cell_type": "code",
   "execution_count": 201,
   "metadata": {},
   "outputs": [
    {
     "name": "stderr",
     "output_type": "stream",
     "text": [
      "C:\\Users\\Hp\\Anaconda3\\envs\\single_cell\\lib\\site-packages\\anndata\\_core\\anndata.py:1207: ImplicitModificationWarning: Initializing view as actual.\n",
      "  warnings.warn(\n",
      "Trying to set attribute `.obs` of view, copying.\n",
      "... storing 'Treatment' as categorical\n"
     ]
    }
   ],
   "source": [
    "df = get_scores(df, dat, 'Treatment', '5-Aza + BAY1436032', 'Control', 'Primary IDH1mut', '5-Aza + BAY1436032', 'HMA + IDH')"
   ]
  },
  {
   "cell_type": "markdown",
   "metadata": {},
   "source": [
    "## BCL6 Fx1"
   ]
  },
  {
   "cell_type": "code",
   "execution_count": 202,
   "metadata": {},
   "outputs": [],
   "source": [
    "dat = load_fractions(\"Data/Datasets/Primary/CIBERSORTx_Results_BCL6_TP53mut_AML.csv\")\n",
    "dat.X = (dat.X.transpose() / dat.X.sum(axis=1)).transpose()\n",
    "dat.obs['Treatment'] = [x[-2] for x in dat.obs.index.str.split('.')]\n",
    "dat.obs['Treatment'] = dat.obs['Treatment'].str.replace('DMSO', 'Control')"
   ]
  },
  {
   "cell_type": "code",
   "execution_count": 203,
   "metadata": {},
   "outputs": [
    {
     "name": "stderr",
     "output_type": "stream",
     "text": [
      "C:\\Users\\Hp\\Anaconda3\\envs\\single_cell\\lib\\site-packages\\anndata\\utils.py:141: UserWarning: X converted to numpy array with dtype float64\n",
      "  warnings.warn(f\"{name} converted to numpy array with dtype {arr.dtype}\")\n"
     ]
    }
   ],
   "source": [
    "newdat = dat.to_df()\n",
    "newdat['PC2'] = (dat.to_df() * PC2_loadings).sum(axis=1)\n",
    "dat = ad.AnnData(newdat, dat.obs)\n",
    "del(newdat)"
   ]
  },
  {
   "cell_type": "code",
   "execution_count": 204,
   "metadata": {},
   "outputs": [
    {
     "name": "stderr",
     "output_type": "stream",
     "text": [
      "C:\\Users\\Hp\\Anaconda3\\envs\\single_cell\\lib\\site-packages\\anndata\\_core\\anndata.py:1207: ImplicitModificationWarning: Initializing view as actual.\n",
      "  warnings.warn(\n",
      "Trying to set attribute `.obs` of view, copying.\n",
      "... storing 'Treatment' as categorical\n"
     ]
    }
   ],
   "source": [
    "df = get_scores(df, dat, 'Treatment', 'Fx1', 'Control', 'Primary TP53mut', 'Fx1', 'BCL6')"
   ]
  },
  {
   "cell_type": "markdown",
   "metadata": {},
   "source": [
    "## BET CDK9 JQ1 CDKI-73"
   ]
  },
  {
   "cell_type": "code",
   "execution_count": 205,
   "metadata": {},
   "outputs": [],
   "source": [
    "dat = load_fractions(\"Data/Datasets/Primary/CIBERSORTx_Results_BET_CDK9.csv\")\n",
    "dat.X = (dat.X.transpose() / dat.X.sum(axis=1)).transpose()\n",
    "dat.obs['Treatment'] = [x[-1] for x in dat.obs.index.str.split('_')]\n",
    "dat.obs['Treatment'] = dat.obs['Treatment'].str.replace('ctl', 'Control').str.replace('CDKi', 'CDKI-73').str.replace('comb', 'JQ1 + CDKI-73')"
   ]
  },
  {
   "cell_type": "code",
   "execution_count": 206,
   "metadata": {},
   "outputs": [
    {
     "name": "stderr",
     "output_type": "stream",
     "text": [
      "C:\\Users\\Hp\\Anaconda3\\envs\\single_cell\\lib\\site-packages\\anndata\\utils.py:141: UserWarning: X converted to numpy array with dtype float64\n",
      "  warnings.warn(f\"{name} converted to numpy array with dtype {arr.dtype}\")\n"
     ]
    }
   ],
   "source": [
    "newdat = dat.to_df()\n",
    "newdat['PC2'] = (dat.to_df() * PC2_loadings).sum(axis=1)\n",
    "dat = ad.AnnData(newdat, dat.obs)\n",
    "del(newdat)"
   ]
  },
  {
   "cell_type": "code",
   "execution_count": 207,
   "metadata": {},
   "outputs": [
    {
     "name": "stderr",
     "output_type": "stream",
     "text": [
      "C:\\Users\\Hp\\Anaconda3\\envs\\single_cell\\lib\\site-packages\\anndata\\_core\\anndata.py:1207: ImplicitModificationWarning: Initializing view as actual.\n",
      "  warnings.warn(\n",
      "Trying to set attribute `.obs` of view, copying.\n",
      "... storing 'Treatment' as categorical\n",
      "C:\\Users\\Hp\\Anaconda3\\envs\\single_cell\\lib\\site-packages\\scanpy\\tools\\_rank_genes_groups.py:407: RuntimeWarning: invalid value encountered in log2\n",
      "  self.stats[group_name, 'logfoldchanges'] = np.log2(\n"
     ]
    }
   ],
   "source": [
    "df = get_scores(df, dat, 'Treatment', 'JQ1', 'Control', 'Primary MLL-r', 'JQ1', 'BET')"
   ]
  },
  {
   "cell_type": "code",
   "execution_count": 208,
   "metadata": {},
   "outputs": [
    {
     "name": "stderr",
     "output_type": "stream",
     "text": [
      "C:\\Users\\Hp\\Anaconda3\\envs\\single_cell\\lib\\site-packages\\anndata\\_core\\anndata.py:1207: ImplicitModificationWarning: Initializing view as actual.\n",
      "  warnings.warn(\n",
      "Trying to set attribute `.obs` of view, copying.\n",
      "... storing 'Treatment' as categorical\n"
     ]
    }
   ],
   "source": [
    "df = get_scores(df, dat, 'Treatment', 'CDKI-73', 'Control', 'Primary MLL-r', 'CDKI-73', 'CDK9')"
   ]
  },
  {
   "cell_type": "code",
   "execution_count": 209,
   "metadata": {},
   "outputs": [
    {
     "name": "stderr",
     "output_type": "stream",
     "text": [
      "C:\\Users\\Hp\\Anaconda3\\envs\\single_cell\\lib\\site-packages\\anndata\\_core\\anndata.py:1207: ImplicitModificationWarning: Initializing view as actual.\n",
      "  warnings.warn(\n",
      "Trying to set attribute `.obs` of view, copying.\n",
      "... storing 'Treatment' as categorical\n"
     ]
    }
   ],
   "source": [
    "df = get_scores(df, dat, 'Treatment', 'JQ1 + CDKI-73', 'Control', 'Primary MLL-r', 'JQ1 + CDKI-73', 'BET + CDK9')"
   ]
  },
  {
   "cell_type": "markdown",
   "metadata": {},
   "source": [
    "## HMA LSD1 5-Aza GSK2879552"
   ]
  },
  {
   "cell_type": "code",
   "execution_count": 210,
   "metadata": {},
   "outputs": [],
   "source": [
    "dat = load_fractions(\"Data/Datasets/Primary/CIBERSORTx_Results_5aza_LSD1.csv\")\n",
    "dat.X = (dat.X.transpose() / dat.X.sum(axis=1)).transpose()\n",
    "dat.obs['Treatment'] = [x[-1] for x in dat.obs.index.str.split('_')]\n",
    "dat.obs['Treatment'] = dat.obs['Treatment'].str.replace('[0-9]','')\n",
    "dat.obs['Treatment'] = dat.obs['Treatment'].str.replace('DMSO', 'Control').str.replace(\"Aza\", \"5-Aza\").str.replace(\"LSDi\", \"GSK2879552\").str.replace(\"GSK2879552plus5-Aza\", \"5-Aza + GSK2879552\")"
   ]
  },
  {
   "cell_type": "code",
   "execution_count": 211,
   "metadata": {},
   "outputs": [
    {
     "name": "stderr",
     "output_type": "stream",
     "text": [
      "C:\\Users\\Hp\\Anaconda3\\envs\\single_cell\\lib\\site-packages\\anndata\\utils.py:141: UserWarning: X converted to numpy array with dtype float64\n",
      "  warnings.warn(f\"{name} converted to numpy array with dtype {arr.dtype}\")\n"
     ]
    }
   ],
   "source": [
    "newdat = dat.to_df()\n",
    "newdat['PC2'] = (dat.to_df() * PC2_loadings).sum(axis=1)\n",
    "dat = ad.AnnData(newdat, dat.obs)\n",
    "del(newdat)"
   ]
  },
  {
   "cell_type": "code",
   "execution_count": 212,
   "metadata": {},
   "outputs": [
    {
     "name": "stderr",
     "output_type": "stream",
     "text": [
      "C:\\Users\\Hp\\Anaconda3\\envs\\single_cell\\lib\\site-packages\\anndata\\_core\\anndata.py:1207: ImplicitModificationWarning: Initializing view as actual.\n",
      "  warnings.warn(\n",
      "Trying to set attribute `.obs` of view, copying.\n",
      "... storing 'Treatment' as categorical\n"
     ]
    }
   ],
   "source": [
    "df = get_scores(df, dat, 'Treatment', '5-Aza', 'Control', 'Primary TET2mut', '5-Aza', 'HMA')"
   ]
  },
  {
   "cell_type": "code",
   "execution_count": 213,
   "metadata": {},
   "outputs": [
    {
     "name": "stderr",
     "output_type": "stream",
     "text": [
      "C:\\Users\\Hp\\Anaconda3\\envs\\single_cell\\lib\\site-packages\\anndata\\_core\\anndata.py:1207: ImplicitModificationWarning: Initializing view as actual.\n",
      "  warnings.warn(\n",
      "Trying to set attribute `.obs` of view, copying.\n",
      "... storing 'Treatment' as categorical\n",
      "C:\\Users\\Hp\\Anaconda3\\envs\\single_cell\\lib\\site-packages\\scanpy\\tools\\_rank_genes_groups.py:407: RuntimeWarning: invalid value encountered in log2\n",
      "  self.stats[group_name, 'logfoldchanges'] = np.log2(\n"
     ]
    }
   ],
   "source": [
    "df = get_scores(df, dat, 'Treatment', 'GSK2879552', 'Control', 'Primary TET2mut', 'GSK2879552', 'LSD1')"
   ]
  },
  {
   "cell_type": "code",
   "execution_count": 214,
   "metadata": {},
   "outputs": [
    {
     "name": "stderr",
     "output_type": "stream",
     "text": [
      "C:\\Users\\Hp\\Anaconda3\\envs\\single_cell\\lib\\site-packages\\anndata\\_core\\anndata.py:1207: ImplicitModificationWarning: Initializing view as actual.\n",
      "  warnings.warn(\n",
      "Trying to set attribute `.obs` of view, copying.\n",
      "... storing 'Treatment' as categorical\n",
      "C:\\Users\\Hp\\Anaconda3\\envs\\single_cell\\lib\\site-packages\\scanpy\\tools\\_rank_genes_groups.py:407: RuntimeWarning: invalid value encountered in log2\n",
      "  self.stats[group_name, 'logfoldchanges'] = np.log2(\n"
     ]
    }
   ],
   "source": [
    "df = get_scores(df, dat, 'Treatment', '5-Aza + GSK2879552', 'Control', 'Primary TET2mut', '5-Aza + GSK2879552', 'HMA + LSD1')"
   ]
  },
  {
   "cell_type": "markdown",
   "metadata": {},
   "source": [
    "## HMA FLT3 5-Aza Crenolanib"
   ]
  },
  {
   "cell_type": "code",
   "execution_count": 215,
   "metadata": {},
   "outputs": [],
   "source": [
    "dat = load_fractions(\"Data/Datasets/Primary/CIBERSORTx_Results_Crenolanib_Aza_PDX.csv\")\n",
    "dat.X = (dat.X.transpose() / dat.X.sum(axis=1)).transpose()\n",
    "dat.obs['Treatment'] = [x[-2] for x in dat.obs.index.str.split('_')]\n",
    "dat.obs['Treatment'] = dat.obs['Treatment'].str.replace('DMSO', 'Control').str.replace(\"AZA\", \"5-Aza\").str.replace(\"Creno\", \"Crenolanib\").str.replace(\"+\", \" + \")"
   ]
  },
  {
   "cell_type": "code",
   "execution_count": 216,
   "metadata": {},
   "outputs": [
    {
     "name": "stderr",
     "output_type": "stream",
     "text": [
      "C:\\Users\\Hp\\Anaconda3\\envs\\single_cell\\lib\\site-packages\\anndata\\utils.py:141: UserWarning: X converted to numpy array with dtype float64\n",
      "  warnings.warn(f\"{name} converted to numpy array with dtype {arr.dtype}\")\n"
     ]
    }
   ],
   "source": [
    "newdat = dat.to_df()\n",
    "newdat['PC2'] = (dat.to_df() * PC2_loadings).sum(axis=1)\n",
    "dat = ad.AnnData(newdat, dat.obs)\n",
    "del(newdat)"
   ]
  },
  {
   "cell_type": "code",
   "execution_count": 217,
   "metadata": {},
   "outputs": [
    {
     "name": "stderr",
     "output_type": "stream",
     "text": [
      "C:\\Users\\Hp\\Anaconda3\\envs\\single_cell\\lib\\site-packages\\anndata\\_core\\anndata.py:1207: ImplicitModificationWarning: Initializing view as actual.\n",
      "  warnings.warn(\n",
      "Trying to set attribute `.obs` of view, copying.\n",
      "... storing 'Treatment' as categorical\n"
     ]
    }
   ],
   "source": [
    "df = get_scores(df, dat, 'Treatment', '5-Aza', 'Control', 'Primary FLT3-ITDmut', '5-Aza', 'HMA')"
   ]
  },
  {
   "cell_type": "code",
   "execution_count": 218,
   "metadata": {},
   "outputs": [
    {
     "name": "stderr",
     "output_type": "stream",
     "text": [
      "C:\\Users\\Hp\\Anaconda3\\envs\\single_cell\\lib\\site-packages\\anndata\\_core\\anndata.py:1207: ImplicitModificationWarning: Initializing view as actual.\n",
      "  warnings.warn(\n",
      "Trying to set attribute `.obs` of view, copying.\n",
      "... storing 'Treatment' as categorical\n"
     ]
    }
   ],
   "source": [
    "df = get_scores(df, dat, 'Treatment', 'Crenolanib', 'Control', 'Primary FLT3-ITDmut', 'Crenolanib', 'FLT3')"
   ]
  },
  {
   "cell_type": "code",
   "execution_count": 219,
   "metadata": {},
   "outputs": [
    {
     "name": "stderr",
     "output_type": "stream",
     "text": [
      "C:\\Users\\Hp\\Anaconda3\\envs\\single_cell\\lib\\site-packages\\anndata\\_core\\anndata.py:1207: ImplicitModificationWarning: Initializing view as actual.\n",
      "  warnings.warn(\n",
      "Trying to set attribute `.obs` of view, copying.\n",
      "... storing 'Treatment' as categorical\n"
     ]
    }
   ],
   "source": [
    "df = get_scores(df, dat, 'Treatment', '5-Aza + Crenolanib', 'Control', 'Primary FLT3-ITDmut', '5-Aza + Crenolanib', 'HMA + FLT3')"
   ]
  },
  {
   "cell_type": "markdown",
   "metadata": {},
   "source": [
    "## TRC105 CD105"
   ]
  },
  {
   "cell_type": "code",
   "execution_count": 220,
   "metadata": {},
   "outputs": [],
   "source": [
    "dat = load_fractions(\"Data/Datasets/Primary/CIBERSORTx_Results_TRC105_Xeno.csv\")\n",
    "dat.X = (dat.X.transpose() / dat.X.sum(axis=1)).transpose()\n",
    "dat.obs['Treatment'] = [x[0] for x in dat.obs.index.str.split('_')]\n",
    "dat.obs['Treatment'] = dat.obs['Treatment'].str.replace('IgG', 'Control')"
   ]
  },
  {
   "cell_type": "code",
   "execution_count": 221,
   "metadata": {},
   "outputs": [
    {
     "name": "stderr",
     "output_type": "stream",
     "text": [
      "C:\\Users\\Hp\\Anaconda3\\envs\\single_cell\\lib\\site-packages\\anndata\\utils.py:141: UserWarning: X converted to numpy array with dtype float64\n",
      "  warnings.warn(f\"{name} converted to numpy array with dtype {arr.dtype}\")\n"
     ]
    }
   ],
   "source": [
    "newdat = dat.to_df()\n",
    "newdat['PC2'] = (dat.to_df() * PC2_loadings).sum(axis=1)\n",
    "dat = ad.AnnData(newdat, dat.obs)\n",
    "del(newdat)"
   ]
  },
  {
   "cell_type": "code",
   "execution_count": 222,
   "metadata": {},
   "outputs": [
    {
     "name": "stderr",
     "output_type": "stream",
     "text": [
      "C:\\Users\\Hp\\Anaconda3\\envs\\single_cell\\lib\\site-packages\\anndata\\_core\\anndata.py:1207: ImplicitModificationWarning: Initializing view as actual.\n",
      "  warnings.warn(\n",
      "Trying to set attribute `.obs` of view, copying.\n",
      "... storing 'Treatment' as categorical\n",
      "C:\\Users\\Hp\\Anaconda3\\envs\\single_cell\\lib\\site-packages\\scanpy\\tools\\_rank_genes_groups.py:407: RuntimeWarning: invalid value encountered in log2\n",
      "  self.stats[group_name, 'logfoldchanges'] = np.log2(\n"
     ]
    }
   ],
   "source": [
    "df = get_scores(df, dat, 'Treatment', 'TRC105', 'Control', 'Primary', 'TRC105', 'CD105')"
   ]
  },
  {
   "cell_type": "markdown",
   "metadata": {},
   "source": [
    "## XPO1 KPT"
   ]
  },
  {
   "cell_type": "code",
   "execution_count": 223,
   "metadata": {},
   "outputs": [],
   "source": [
    "dat = load_fractions(\"Data/Datasets/Primary/CIBERSORTx_Results_XPO1_KPT.csv\")\n",
    "dat.X = (dat.X.transpose() / dat.X.sum(axis=1)).transpose()\n",
    "dat.obs['Treatment'] = [x[-1] for x in dat.obs.index.str.split('_')]\n",
    "dat.obs['Treatment'] = np.where(dat.obs['Treatment'] == 'KPT', 'Selinexor', 'DMSO')\n",
    "dat.obs['Treatment'] = dat.obs['Treatment'].str.replace('DMSO', 'Control')"
   ]
  },
  {
   "cell_type": "code",
   "execution_count": 224,
   "metadata": {},
   "outputs": [
    {
     "name": "stderr",
     "output_type": "stream",
     "text": [
      "C:\\Users\\Hp\\Anaconda3\\envs\\single_cell\\lib\\site-packages\\anndata\\utils.py:141: UserWarning: X converted to numpy array with dtype float64\n",
      "  warnings.warn(f\"{name} converted to numpy array with dtype {arr.dtype}\")\n"
     ]
    }
   ],
   "source": [
    "newdat = dat.to_df()\n",
    "newdat['PC2'] = (dat.to_df() * PC2_loadings).sum(axis=1)\n",
    "dat = ad.AnnData(newdat, dat.obs)\n",
    "del(newdat)"
   ]
  },
  {
   "cell_type": "code",
   "execution_count": 225,
   "metadata": {},
   "outputs": [
    {
     "name": "stderr",
     "output_type": "stream",
     "text": [
      "C:\\Users\\Hp\\Anaconda3\\envs\\single_cell\\lib\\site-packages\\anndata\\_core\\anndata.py:1207: ImplicitModificationWarning: Initializing view as actual.\n",
      "  warnings.warn(\n",
      "Trying to set attribute `.obs` of view, copying.\n",
      "... storing 'Treatment' as categorical\n"
     ]
    }
   ],
   "source": [
    "df = get_scores(df, dat, 'Treatment', 'Selinexor', 'Control', 'Primary', 'KPT330', 'XPO1')"
   ]
  },
  {
   "cell_type": "markdown",
   "metadata": {},
   "source": [
    "## HDAC/NAMPT AR-42 KPT-9274"
   ]
  },
  {
   "cell_type": "code",
   "execution_count": 226,
   "metadata": {},
   "outputs": [],
   "source": [
    "dat = load_fractions(\"Data/Datasets/Primary/CIBERSORTx_HDAC8_NAMPT_Results.csv\")\n",
    "dat.X = (dat.X.transpose() / dat.X.sum(axis=1)).transpose()\n",
    "dat.obs['Treatment'] = [x[0] for x in dat.obs.index.str.split('_')]\n",
    "dat.obs['Treatment'] = dat.obs['Treatment'].str.replace('DMSO', 'Control')"
   ]
  },
  {
   "cell_type": "code",
   "execution_count": 227,
   "metadata": {},
   "outputs": [
    {
     "name": "stderr",
     "output_type": "stream",
     "text": [
      "C:\\Users\\Hp\\Anaconda3\\envs\\single_cell\\lib\\site-packages\\anndata\\utils.py:141: UserWarning: X converted to numpy array with dtype float64\n",
      "  warnings.warn(f\"{name} converted to numpy array with dtype {arr.dtype}\")\n"
     ]
    }
   ],
   "source": [
    "newdat = dat.to_df()\n",
    "newdat['PC2'] = (dat.to_df() * PC2_loadings).sum(axis=1)\n",
    "dat = ad.AnnData(newdat, dat.obs)\n",
    "del(newdat)"
   ]
  },
  {
   "cell_type": "code",
   "execution_count": 228,
   "metadata": {},
   "outputs": [
    {
     "name": "stderr",
     "output_type": "stream",
     "text": [
      "C:\\Users\\Hp\\Anaconda3\\envs\\single_cell\\lib\\site-packages\\anndata\\_core\\anndata.py:1207: ImplicitModificationWarning: Initializing view as actual.\n",
      "  warnings.warn(\n",
      "Trying to set attribute `.obs` of view, copying.\n",
      "... storing 'Treatment' as categorical\n"
     ]
    }
   ],
   "source": [
    "df = get_scores(df, dat, classification = 'Treatment', cluster_A = 'AR-42', cluster_B = 'Control', cohort = 'Primary', drug = 'AR-42', target = 'HDAC8')"
   ]
  },
  {
   "cell_type": "code",
   "execution_count": 229,
   "metadata": {},
   "outputs": [
    {
     "name": "stderr",
     "output_type": "stream",
     "text": [
      "C:\\Users\\Hp\\Anaconda3\\envs\\single_cell\\lib\\site-packages\\anndata\\_core\\anndata.py:1207: ImplicitModificationWarning: Initializing view as actual.\n",
      "  warnings.warn(\n",
      "Trying to set attribute `.obs` of view, copying.\n",
      "... storing 'Treatment' as categorical\n"
     ]
    }
   ],
   "source": [
    "df = get_scores(df, dat, classification = 'Treatment', cluster_A = 'KPT-9274', cluster_B = 'Control', cohort = 'Primary', drug = 'KPT-9274', target = 'NAMPT')"
   ]
  },
  {
   "cell_type": "code",
   "execution_count": 230,
   "metadata": {},
   "outputs": [
    {
     "name": "stderr",
     "output_type": "stream",
     "text": [
      "C:\\Users\\Hp\\Anaconda3\\envs\\single_cell\\lib\\site-packages\\anndata\\_core\\anndata.py:1207: ImplicitModificationWarning: Initializing view as actual.\n",
      "  warnings.warn(\n",
      "Trying to set attribute `.obs` of view, copying.\n",
      "... storing 'Treatment' as categorical\n"
     ]
    }
   ],
   "source": [
    "df = get_scores(df, dat, classification = 'Treatment', cluster_A = 'AR-42+KPT-9274', cluster_B = 'Control', cohort = 'Primary', drug = 'AR-42+KPT-9274', target = 'HDAC8 + NAMPT')"
   ]
  },
  {
   "cell_type": "markdown",
   "metadata": {},
   "source": [
    "# Export Dataframe "
   ]
  },
  {
   "cell_type": "code",
   "execution_count": 231,
   "metadata": {},
   "outputs": [],
   "source": [
    "df.to_csv('C:/Users/Hp/Desktop/AML-drug-response/Complex Heatmap/Data/Drug_Primary_pvalues.csv')"
   ]
  },
  {
   "cell_type": "code",
   "execution_count": 232,
   "metadata": {},
   "outputs": [],
   "source": [
    "df.to_csv('C:/Users/Hp/Desktop/AML-drug-response/Complex Heatmap/UMAP/Drug_Primary_pvalues.csv')"
   ]
  }
 ],
 "metadata": {
  "kernelspec": {
   "display_name": "Python [conda env:root] *",
   "language": "python",
   "name": "conda-root-py"
  },
  "language_info": {
   "codemirror_mode": {
    "name": "ipython",
    "version": 3
   },
   "file_extension": ".py",
   "mimetype": "text/x-python",
   "name": "python",
   "nbconvert_exporter": "python",
   "pygments_lexer": "ipython3",
   "version": "3.7.6"
  }
 },
 "nbformat": 4,
 "nbformat_minor": 4
}
